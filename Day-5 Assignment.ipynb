{
 "cells": [
  {
   "cell_type": "markdown",
   "metadata": {},
   "source": [
    "#### Day-4 Assignment"
   ]
  },
  {
   "cell_type": "markdown",
   "metadata": {},
   "source": [
    "##### 1. What is Plotly ?"
   ]
  },
  {
   "cell_type": "markdown",
   "metadata": {},
   "source": [
    "- Plotly's Python graphing library makes interactive, publication-quality graphs online. \n",
    "  Ex:How to make line plots, scatter plots, area charts, bar charts, error bars, box plots, histograms, heatmaps, subplots,   \n",
    "  multiple-axes, polar charts, and bubble charts.\n",
    "- The plotly Python package exists to create, manipulate and render graphical figures (i.e. charts, plots, maps and diagrams)  \n",
    "  represented by data structures also referred to as figure\n",
    "- Plotly is a company that builds a ton of great open-source visualization, exploration and data infrastructure tools.\n",
    "- Today, plotly is being used by over 50 million people worldwide, and they’ve developed a number of tools and libraries that \n",
    "  are now industry standard\n",
    "- plotly package is the high-level plotly.express module, also known as Plotly Express, which consists of Python functions \n",
    "  which return fully-populated plotly.graph_objects.Figure objects\n",
    "- Plotly for Python is free and open-source software, licensed under the MIT license. It costs nothing to install and use."
   ]
  },
  {
   "cell_type": "markdown",
   "metadata": {},
   "source": [
    "##### 2. Where it is used ?"
   ]
  },
  {
   "cell_type": "markdown",
   "metadata": {},
   "source": [
    "- Built on top of the Plotly JavaScript library (plotly. js), plotly enables Python users to create beautiful interactive web-based visualizations that can be displayed in Jupyter notebooks, saved to standalone HTML files, or served as part of pure Python-built web applications using Dash\n",
    "- Plotly provides online graphing, analytics, and statistics tools for individuals and collaboration, as well as scientific graphing libraries for Python, R, MATLAB, Perl, Julia, Arduino, and REST.\n",
    "- Dash is the best way to build analytical apps in Python using Plotly figures\n",
    "- only a few lines of codes are necessary to create aesthetically pleasing, interactive plots. The interactivity also offers a number of advantages over static matplotlib plots.\n",
    "- Saves time when initially exploring your dataset. Makes it easy to modify and export your plot\n",
    "- Plotly Express is a great option for exploring pandas dataframes. It is a high-level wrapper included in the most recent version of plotly\n",
    "- By using plotly online, your data visualizations are automatically uploaded so that you can access them through the online interface, regardless of how you create them"
   ]
  },
  {
   "cell_type": "code",
   "execution_count": 69,
   "metadata": {},
   "outputs": [],
   "source": [
    "# Import Libraries\n",
    "import numpy as np\n",
    "import pandas as pd\n",
    "import seaborn as sns\n",
    "\n",
    "import matplotlib as mpl\n",
    "import matplotlib.pyplot as plt\n",
    "%matplotlib inline\n",
    "\n",
    "import warnings\n",
    "warnings.filterwarnings('ignore')"
   ]
  },
  {
   "cell_type": "code",
   "execution_count": 80,
   "metadata": {},
   "outputs": [],
   "source": [
    "import plotly.express as px\n",
    "df = pd.read_csv('Automobile_data.csv')"
   ]
  },
  {
   "cell_type": "code",
   "execution_count": 81,
   "metadata": {},
   "outputs": [
    {
     "data": {
      "text/html": [
       "<div>\n",
       "<style scoped>\n",
       "    .dataframe tbody tr th:only-of-type {\n",
       "        vertical-align: middle;\n",
       "    }\n",
       "\n",
       "    .dataframe tbody tr th {\n",
       "        vertical-align: top;\n",
       "    }\n",
       "\n",
       "    .dataframe thead th {\n",
       "        text-align: right;\n",
       "    }\n",
       "</style>\n",
       "<table border=\"1\" class=\"dataframe\">\n",
       "  <thead>\n",
       "    <tr style=\"text-align: right;\">\n",
       "      <th></th>\n",
       "      <th>symboling</th>\n",
       "      <th>normalized-losses</th>\n",
       "      <th>make</th>\n",
       "      <th>fuel-type</th>\n",
       "      <th>aspiration</th>\n",
       "      <th>num-of-doors</th>\n",
       "      <th>body-style</th>\n",
       "      <th>drive-wheels</th>\n",
       "      <th>engine-location</th>\n",
       "      <th>wheel-base</th>\n",
       "      <th>...</th>\n",
       "      <th>fuel-system</th>\n",
       "      <th>bore</th>\n",
       "      <th>stroke</th>\n",
       "      <th>compression-ratio</th>\n",
       "      <th>horsepower</th>\n",
       "      <th>peak-rpm</th>\n",
       "      <th>city-mpg</th>\n",
       "      <th>highway-mpg</th>\n",
       "      <th>price</th>\n",
       "      <th>Unit</th>\n",
       "    </tr>\n",
       "  </thead>\n",
       "  <tbody>\n",
       "    <tr>\n",
       "      <th>0</th>\n",
       "      <td>3</td>\n",
       "      <td>?</td>\n",
       "      <td>alfa-romero</td>\n",
       "      <td>gas</td>\n",
       "      <td>std</td>\n",
       "      <td>two</td>\n",
       "      <td>convertible</td>\n",
       "      <td>rwd</td>\n",
       "      <td>front</td>\n",
       "      <td>88.6</td>\n",
       "      <td>...</td>\n",
       "      <td>mpfi</td>\n",
       "      <td>3.47</td>\n",
       "      <td>2.68</td>\n",
       "      <td>9.0</td>\n",
       "      <td>111</td>\n",
       "      <td>5000</td>\n",
       "      <td>21</td>\n",
       "      <td>27</td>\n",
       "      <td>13495</td>\n",
       "      <td>1</td>\n",
       "    </tr>\n",
       "    <tr>\n",
       "      <th>1</th>\n",
       "      <td>3</td>\n",
       "      <td>?</td>\n",
       "      <td>alfa-romero</td>\n",
       "      <td>gas</td>\n",
       "      <td>std</td>\n",
       "      <td>two</td>\n",
       "      <td>convertible</td>\n",
       "      <td>rwd</td>\n",
       "      <td>front</td>\n",
       "      <td>88.6</td>\n",
       "      <td>...</td>\n",
       "      <td>mpfi</td>\n",
       "      <td>3.47</td>\n",
       "      <td>2.68</td>\n",
       "      <td>9.0</td>\n",
       "      <td>111</td>\n",
       "      <td>5000</td>\n",
       "      <td>21</td>\n",
       "      <td>27</td>\n",
       "      <td>16500</td>\n",
       "      <td>1</td>\n",
       "    </tr>\n",
       "    <tr>\n",
       "      <th>2</th>\n",
       "      <td>1</td>\n",
       "      <td>?</td>\n",
       "      <td>alfa-romero</td>\n",
       "      <td>gas</td>\n",
       "      <td>std</td>\n",
       "      <td>two</td>\n",
       "      <td>hatchback</td>\n",
       "      <td>rwd</td>\n",
       "      <td>front</td>\n",
       "      <td>94.5</td>\n",
       "      <td>...</td>\n",
       "      <td>mpfi</td>\n",
       "      <td>2.68</td>\n",
       "      <td>3.47</td>\n",
       "      <td>9.0</td>\n",
       "      <td>154</td>\n",
       "      <td>5000</td>\n",
       "      <td>19</td>\n",
       "      <td>26</td>\n",
       "      <td>16500</td>\n",
       "      <td>1</td>\n",
       "    </tr>\n",
       "    <tr>\n",
       "      <th>3</th>\n",
       "      <td>2</td>\n",
       "      <td>164</td>\n",
       "      <td>audi</td>\n",
       "      <td>gas</td>\n",
       "      <td>std</td>\n",
       "      <td>four</td>\n",
       "      <td>sedan</td>\n",
       "      <td>fwd</td>\n",
       "      <td>front</td>\n",
       "      <td>99.8</td>\n",
       "      <td>...</td>\n",
       "      <td>mpfi</td>\n",
       "      <td>3.19</td>\n",
       "      <td>3.4</td>\n",
       "      <td>10.0</td>\n",
       "      <td>102</td>\n",
       "      <td>5500</td>\n",
       "      <td>24</td>\n",
       "      <td>30</td>\n",
       "      <td>13950</td>\n",
       "      <td>1</td>\n",
       "    </tr>\n",
       "    <tr>\n",
       "      <th>4</th>\n",
       "      <td>2</td>\n",
       "      <td>164</td>\n",
       "      <td>audi</td>\n",
       "      <td>gas</td>\n",
       "      <td>std</td>\n",
       "      <td>four</td>\n",
       "      <td>sedan</td>\n",
       "      <td>4wd</td>\n",
       "      <td>front</td>\n",
       "      <td>99.4</td>\n",
       "      <td>...</td>\n",
       "      <td>mpfi</td>\n",
       "      <td>3.19</td>\n",
       "      <td>3.4</td>\n",
       "      <td>8.0</td>\n",
       "      <td>115</td>\n",
       "      <td>5500</td>\n",
       "      <td>18</td>\n",
       "      <td>22</td>\n",
       "      <td>17450</td>\n",
       "      <td>1</td>\n",
       "    </tr>\n",
       "  </tbody>\n",
       "</table>\n",
       "<p>5 rows × 27 columns</p>\n",
       "</div>"
      ],
      "text/plain": [
       "   symboling normalized-losses         make fuel-type aspiration num-of-doors  \\\n",
       "0          3                 ?  alfa-romero       gas        std          two   \n",
       "1          3                 ?  alfa-romero       gas        std          two   \n",
       "2          1                 ?  alfa-romero       gas        std          two   \n",
       "3          2               164         audi       gas        std         four   \n",
       "4          2               164         audi       gas        std         four   \n",
       "\n",
       "    body-style drive-wheels engine-location  wheel-base  ...  fuel-system  \\\n",
       "0  convertible          rwd           front        88.6  ...         mpfi   \n",
       "1  convertible          rwd           front        88.6  ...         mpfi   \n",
       "2    hatchback          rwd           front        94.5  ...         mpfi   \n",
       "3        sedan          fwd           front        99.8  ...         mpfi   \n",
       "4        sedan          4wd           front        99.4  ...         mpfi   \n",
       "\n",
       "   bore  stroke  compression-ratio horsepower peak-rpm  city-mpg highway-mpg  \\\n",
       "0  3.47    2.68                9.0        111     5000        21          27   \n",
       "1  3.47    2.68                9.0        111     5000        21          27   \n",
       "2  2.68    3.47                9.0        154     5000        19          26   \n",
       "3  3.19     3.4               10.0        102     5500        24          30   \n",
       "4  3.19     3.4                8.0        115     5500        18          22   \n",
       "\n",
       "   price Unit  \n",
       "0  13495    1  \n",
       "1  16500    1  \n",
       "2  16500    1  \n",
       "3  13950    1  \n",
       "4  17450    1  \n",
       "\n",
       "[5 rows x 27 columns]"
      ]
     },
     "execution_count": 81,
     "metadata": {},
     "output_type": "execute_result"
    }
   ],
   "source": [
    "df.head()"
   ]
  },
  {
   "cell_type": "code",
   "execution_count": 72,
   "metadata": {},
   "outputs": [
    {
     "data": {
      "text/plain": [
       "toyota           32\n",
       "nissan           18\n",
       "mazda            17\n",
       "honda            13\n",
       "volkswagen       12\n",
       "volvo            11\n",
       "dodge             9\n",
       "mercedes-benz     8\n",
       "bmw               8\n",
       "plymouth          7\n",
       "audi              7\n",
       "saab              6\n",
       "porsche           5\n",
       "isuzu             4\n",
       "chevrolet         3\n",
       "alfa-romero       3\n",
       "jaguar            3\n",
       "renault           2\n",
       "mercury           1\n",
       "Name: make, dtype: int64"
      ]
     },
     "execution_count": 72,
     "metadata": {},
     "output_type": "execute_result"
    }
   ],
   "source": [
    "df.make.value_counts()"
   ]
  },
  {
   "cell_type": "code",
   "execution_count": 79,
   "metadata": {},
   "outputs": [
    {
     "data": {
      "text/html": [
       "<div>\n",
       "<style scoped>\n",
       "    .dataframe tbody tr th:only-of-type {\n",
       "        vertical-align: middle;\n",
       "    }\n",
       "\n",
       "    .dataframe tbody tr th {\n",
       "        vertical-align: top;\n",
       "    }\n",
       "\n",
       "    .dataframe thead th {\n",
       "        text-align: right;\n",
       "    }\n",
       "</style>\n",
       "<table border=\"1\" class=\"dataframe\">\n",
       "  <thead>\n",
       "    <tr style=\"text-align: right;\">\n",
       "      <th></th>\n",
       "      <th>symboling</th>\n",
       "      <th>normalized-losses</th>\n",
       "      <th>make</th>\n",
       "      <th>fuel-type</th>\n",
       "      <th>aspiration</th>\n",
       "      <th>num-of-doors</th>\n",
       "      <th>body-style</th>\n",
       "      <th>drive-wheels</th>\n",
       "      <th>engine-location</th>\n",
       "      <th>wheel-base</th>\n",
       "      <th>...</th>\n",
       "      <th>fuel-system</th>\n",
       "      <th>bore</th>\n",
       "      <th>stroke</th>\n",
       "      <th>compression-ratio</th>\n",
       "      <th>horsepower</th>\n",
       "      <th>peak-rpm</th>\n",
       "      <th>city-mpg</th>\n",
       "      <th>highway-mpg</th>\n",
       "      <th>price</th>\n",
       "      <th>Unit</th>\n",
       "    </tr>\n",
       "  </thead>\n",
       "  <tbody>\n",
       "    <tr>\n",
       "      <th>30</th>\n",
       "      <td>2</td>\n",
       "      <td>137</td>\n",
       "      <td>honda</td>\n",
       "      <td>gas</td>\n",
       "      <td>std</td>\n",
       "      <td>two</td>\n",
       "      <td>hatchback</td>\n",
       "      <td>fwd</td>\n",
       "      <td>front</td>\n",
       "      <td>86.6</td>\n",
       "      <td>...</td>\n",
       "      <td>1bbl</td>\n",
       "      <td>2.91</td>\n",
       "      <td>3.41</td>\n",
       "      <td>9.6</td>\n",
       "      <td>58</td>\n",
       "      <td>4800</td>\n",
       "      <td>49</td>\n",
       "      <td>54</td>\n",
       "      <td>6479</td>\n",
       "      <td>1</td>\n",
       "    </tr>\n",
       "    <tr>\n",
       "      <th>31</th>\n",
       "      <td>2</td>\n",
       "      <td>137</td>\n",
       "      <td>honda</td>\n",
       "      <td>gas</td>\n",
       "      <td>std</td>\n",
       "      <td>two</td>\n",
       "      <td>hatchback</td>\n",
       "      <td>fwd</td>\n",
       "      <td>front</td>\n",
       "      <td>86.6</td>\n",
       "      <td>...</td>\n",
       "      <td>1bbl</td>\n",
       "      <td>2.91</td>\n",
       "      <td>3.41</td>\n",
       "      <td>9.2</td>\n",
       "      <td>76</td>\n",
       "      <td>6000</td>\n",
       "      <td>31</td>\n",
       "      <td>38</td>\n",
       "      <td>6855</td>\n",
       "      <td>1</td>\n",
       "    </tr>\n",
       "    <tr>\n",
       "      <th>32</th>\n",
       "      <td>1</td>\n",
       "      <td>101</td>\n",
       "      <td>honda</td>\n",
       "      <td>gas</td>\n",
       "      <td>std</td>\n",
       "      <td>two</td>\n",
       "      <td>hatchback</td>\n",
       "      <td>fwd</td>\n",
       "      <td>front</td>\n",
       "      <td>93.7</td>\n",
       "      <td>...</td>\n",
       "      <td>1bbl</td>\n",
       "      <td>2.91</td>\n",
       "      <td>3.07</td>\n",
       "      <td>10.1</td>\n",
       "      <td>60</td>\n",
       "      <td>5500</td>\n",
       "      <td>38</td>\n",
       "      <td>42</td>\n",
       "      <td>5399</td>\n",
       "      <td>1</td>\n",
       "    </tr>\n",
       "    <tr>\n",
       "      <th>33</th>\n",
       "      <td>1</td>\n",
       "      <td>101</td>\n",
       "      <td>honda</td>\n",
       "      <td>gas</td>\n",
       "      <td>std</td>\n",
       "      <td>two</td>\n",
       "      <td>hatchback</td>\n",
       "      <td>fwd</td>\n",
       "      <td>front</td>\n",
       "      <td>93.7</td>\n",
       "      <td>...</td>\n",
       "      <td>1bbl</td>\n",
       "      <td>2.91</td>\n",
       "      <td>3.41</td>\n",
       "      <td>9.2</td>\n",
       "      <td>76</td>\n",
       "      <td>6000</td>\n",
       "      <td>30</td>\n",
       "      <td>34</td>\n",
       "      <td>6529</td>\n",
       "      <td>1</td>\n",
       "    </tr>\n",
       "    <tr>\n",
       "      <th>34</th>\n",
       "      <td>1</td>\n",
       "      <td>101</td>\n",
       "      <td>honda</td>\n",
       "      <td>gas</td>\n",
       "      <td>std</td>\n",
       "      <td>two</td>\n",
       "      <td>hatchback</td>\n",
       "      <td>fwd</td>\n",
       "      <td>front</td>\n",
       "      <td>93.7</td>\n",
       "      <td>...</td>\n",
       "      <td>1bbl</td>\n",
       "      <td>2.91</td>\n",
       "      <td>3.41</td>\n",
       "      <td>9.2</td>\n",
       "      <td>76</td>\n",
       "      <td>6000</td>\n",
       "      <td>30</td>\n",
       "      <td>34</td>\n",
       "      <td>7129</td>\n",
       "      <td>1</td>\n",
       "    </tr>\n",
       "    <tr>\n",
       "      <th>...</th>\n",
       "      <td>...</td>\n",
       "      <td>...</td>\n",
       "      <td>...</td>\n",
       "      <td>...</td>\n",
       "      <td>...</td>\n",
       "      <td>...</td>\n",
       "      <td>...</td>\n",
       "      <td>...</td>\n",
       "      <td>...</td>\n",
       "      <td>...</td>\n",
       "      <td>...</td>\n",
       "      <td>...</td>\n",
       "      <td>...</td>\n",
       "      <td>...</td>\n",
       "      <td>...</td>\n",
       "      <td>...</td>\n",
       "      <td>...</td>\n",
       "      <td>...</td>\n",
       "      <td>...</td>\n",
       "      <td>...</td>\n",
       "      <td>...</td>\n",
       "    </tr>\n",
       "    <tr>\n",
       "      <th>164</th>\n",
       "      <td>-1</td>\n",
       "      <td>95</td>\n",
       "      <td>volvo</td>\n",
       "      <td>gas</td>\n",
       "      <td>std</td>\n",
       "      <td>four</td>\n",
       "      <td>sedan</td>\n",
       "      <td>rwd</td>\n",
       "      <td>front</td>\n",
       "      <td>109.1</td>\n",
       "      <td>...</td>\n",
       "      <td>mpfi</td>\n",
       "      <td>3.78</td>\n",
       "      <td>3.15</td>\n",
       "      <td>9.5</td>\n",
       "      <td>114</td>\n",
       "      <td>5400</td>\n",
       "      <td>23</td>\n",
       "      <td>28</td>\n",
       "      <td>16845</td>\n",
       "      <td>1</td>\n",
       "    </tr>\n",
       "    <tr>\n",
       "      <th>165</th>\n",
       "      <td>-1</td>\n",
       "      <td>95</td>\n",
       "      <td>volvo</td>\n",
       "      <td>gas</td>\n",
       "      <td>turbo</td>\n",
       "      <td>four</td>\n",
       "      <td>sedan</td>\n",
       "      <td>rwd</td>\n",
       "      <td>front</td>\n",
       "      <td>109.1</td>\n",
       "      <td>...</td>\n",
       "      <td>mpfi</td>\n",
       "      <td>3.78</td>\n",
       "      <td>3.15</td>\n",
       "      <td>8.7</td>\n",
       "      <td>160</td>\n",
       "      <td>5300</td>\n",
       "      <td>19</td>\n",
       "      <td>25</td>\n",
       "      <td>19045</td>\n",
       "      <td>1</td>\n",
       "    </tr>\n",
       "    <tr>\n",
       "      <th>166</th>\n",
       "      <td>-1</td>\n",
       "      <td>95</td>\n",
       "      <td>volvo</td>\n",
       "      <td>gas</td>\n",
       "      <td>std</td>\n",
       "      <td>four</td>\n",
       "      <td>sedan</td>\n",
       "      <td>rwd</td>\n",
       "      <td>front</td>\n",
       "      <td>109.1</td>\n",
       "      <td>...</td>\n",
       "      <td>mpfi</td>\n",
       "      <td>3.58</td>\n",
       "      <td>2.87</td>\n",
       "      <td>8.8</td>\n",
       "      <td>134</td>\n",
       "      <td>5500</td>\n",
       "      <td>18</td>\n",
       "      <td>23</td>\n",
       "      <td>21485</td>\n",
       "      <td>1</td>\n",
       "    </tr>\n",
       "    <tr>\n",
       "      <th>167</th>\n",
       "      <td>-1</td>\n",
       "      <td>95</td>\n",
       "      <td>volvo</td>\n",
       "      <td>diesel</td>\n",
       "      <td>turbo</td>\n",
       "      <td>four</td>\n",
       "      <td>sedan</td>\n",
       "      <td>rwd</td>\n",
       "      <td>front</td>\n",
       "      <td>109.1</td>\n",
       "      <td>...</td>\n",
       "      <td>idi</td>\n",
       "      <td>3.01</td>\n",
       "      <td>3.4</td>\n",
       "      <td>23.0</td>\n",
       "      <td>106</td>\n",
       "      <td>4800</td>\n",
       "      <td>26</td>\n",
       "      <td>27</td>\n",
       "      <td>22470</td>\n",
       "      <td>1</td>\n",
       "    </tr>\n",
       "    <tr>\n",
       "      <th>168</th>\n",
       "      <td>-1</td>\n",
       "      <td>95</td>\n",
       "      <td>volvo</td>\n",
       "      <td>gas</td>\n",
       "      <td>turbo</td>\n",
       "      <td>four</td>\n",
       "      <td>sedan</td>\n",
       "      <td>rwd</td>\n",
       "      <td>front</td>\n",
       "      <td>109.1</td>\n",
       "      <td>...</td>\n",
       "      <td>mpfi</td>\n",
       "      <td>3.78</td>\n",
       "      <td>3.15</td>\n",
       "      <td>9.5</td>\n",
       "      <td>114</td>\n",
       "      <td>5400</td>\n",
       "      <td>19</td>\n",
       "      <td>25</td>\n",
       "      <td>22625</td>\n",
       "      <td>1</td>\n",
       "    </tr>\n",
       "  </tbody>\n",
       "</table>\n",
       "<p>103 rows × 27 columns</p>\n",
       "</div>"
      ],
      "text/plain": [
       "     symboling normalized-losses   make fuel-type aspiration num-of-doors  \\\n",
       "30           2               137  honda       gas        std          two   \n",
       "31           2               137  honda       gas        std          two   \n",
       "32           1               101  honda       gas        std          two   \n",
       "33           1               101  honda       gas        std          two   \n",
       "34           1               101  honda       gas        std          two   \n",
       "..         ...               ...    ...       ...        ...          ...   \n",
       "164         -1                95  volvo       gas        std         four   \n",
       "165         -1                95  volvo       gas      turbo         four   \n",
       "166         -1                95  volvo       gas        std         four   \n",
       "167         -1                95  volvo    diesel      turbo         four   \n",
       "168         -1                95  volvo       gas      turbo         four   \n",
       "\n",
       "    body-style drive-wheels engine-location  wheel-base  ...  fuel-system  \\\n",
       "30   hatchback          fwd           front        86.6  ...         1bbl   \n",
       "31   hatchback          fwd           front        86.6  ...         1bbl   \n",
       "32   hatchback          fwd           front        93.7  ...         1bbl   \n",
       "33   hatchback          fwd           front        93.7  ...         1bbl   \n",
       "34   hatchback          fwd           front        93.7  ...         1bbl   \n",
       "..         ...          ...             ...         ...  ...          ...   \n",
       "164      sedan          rwd           front       109.1  ...         mpfi   \n",
       "165      sedan          rwd           front       109.1  ...         mpfi   \n",
       "166      sedan          rwd           front       109.1  ...         mpfi   \n",
       "167      sedan          rwd           front       109.1  ...          idi   \n",
       "168      sedan          rwd           front       109.1  ...         mpfi   \n",
       "\n",
       "     bore  stroke  compression-ratio horsepower peak-rpm  city-mpg  \\\n",
       "30   2.91    3.41                9.6         58     4800        49   \n",
       "31   2.91    3.41                9.2         76     6000        31   \n",
       "32   2.91    3.07               10.1         60     5500        38   \n",
       "33   2.91    3.41                9.2         76     6000        30   \n",
       "34   2.91    3.41                9.2         76     6000        30   \n",
       "..    ...     ...                ...        ...      ...       ...   \n",
       "164  3.78    3.15                9.5        114     5400        23   \n",
       "165  3.78    3.15                8.7        160     5300        19   \n",
       "166  3.58    2.87                8.8        134     5500        18   \n",
       "167  3.01     3.4               23.0        106     4800        26   \n",
       "168  3.78    3.15                9.5        114     5400        19   \n",
       "\n",
       "    highway-mpg  price Unit  \n",
       "30           54   6479    1  \n",
       "31           38   6855    1  \n",
       "32           42   5399    1  \n",
       "33           34   6529    1  \n",
       "34           34   7129    1  \n",
       "..          ...    ...  ...  \n",
       "164          28  16845    1  \n",
       "165          25  19045    1  \n",
       "166          23  21485    1  \n",
       "167          27  22470    1  \n",
       "168          25  22625    1  \n",
       "\n",
       "[103 rows x 27 columns]"
      ]
     },
     "execution_count": 79,
     "metadata": {},
     "output_type": "execute_result"
    }
   ],
   "source": [
    "df1=df[df['make'].isin(['toyota','nissan','mazda','honda','volkswagen','volvo'])]\n",
    "df1"
   ]
  },
  {
   "cell_type": "markdown",
   "metadata": {},
   "source": [
    "##### 3. plot a Pie Chart of Indian Car companies market share % values :. max ( 6 Companies market share )"
   ]
  },
  {
   "cell_type": "code",
   "execution_count": 82,
   "metadata": {},
   "outputs": [
    {
     "data": {
      "application/vnd.plotly.v1+json": {
       "config": {
        "plotlyServerURL": "https://plot.ly"
       },
       "data": [
        {
         "domain": {
          "x": [
           0,
           1
          ],
          "y": [
           0,
           1
          ]
         },
         "hovertemplate": "make=%{label}<br>Unit=%{value}<extra></extra>",
         "labels": [
          "honda",
          "honda",
          "honda",
          "honda",
          "honda",
          "honda",
          "honda",
          "honda",
          "honda",
          "honda",
          "honda",
          "honda",
          "honda",
          "mazda",
          "mazda",
          "mazda",
          "mazda",
          "mazda",
          "mazda",
          "mazda",
          "mazda",
          "mazda",
          "mazda",
          "mazda",
          "mazda",
          "mazda",
          "mazda",
          "mazda",
          "mazda",
          "mazda",
          "nissan",
          "nissan",
          "nissan",
          "nissan",
          "nissan",
          "nissan",
          "nissan",
          "nissan",
          "nissan",
          "nissan",
          "nissan",
          "nissan",
          "nissan",
          "nissan",
          "nissan",
          "nissan",
          "nissan",
          "nissan",
          "toyota",
          "toyota",
          "toyota",
          "toyota",
          "toyota",
          "toyota",
          "toyota",
          "toyota",
          "toyota",
          "toyota",
          "toyota",
          "toyota",
          "toyota",
          "toyota",
          "toyota",
          "toyota",
          "toyota",
          "toyota",
          "toyota",
          "toyota",
          "toyota",
          "toyota",
          "toyota",
          "toyota",
          "toyota",
          "toyota",
          "toyota",
          "toyota",
          "toyota",
          "toyota",
          "toyota",
          "toyota",
          "volkswagen",
          "volkswagen",
          "volkswagen",
          "volkswagen",
          "volkswagen",
          "volkswagen",
          "volkswagen",
          "volkswagen",
          "volkswagen",
          "volkswagen",
          "volkswagen",
          "volkswagen",
          "volvo",
          "volvo",
          "volvo",
          "volvo",
          "volvo",
          "volvo",
          "volvo",
          "volvo",
          "volvo",
          "volvo",
          "volvo"
         ],
         "legendgroup": "",
         "name": "",
         "showlegend": true,
         "type": "pie",
         "values": [
          1,
          1,
          1,
          1,
          1,
          1,
          1,
          1,
          1,
          1,
          1,
          1,
          1,
          1,
          1,
          1,
          1,
          1,
          1,
          1,
          1,
          1,
          1,
          1,
          1,
          1,
          1,
          1,
          1,
          1,
          1,
          1,
          1,
          1,
          1,
          1,
          1,
          1,
          1,
          1,
          1,
          1,
          1,
          1,
          1,
          1,
          1,
          1,
          1,
          1,
          1,
          1,
          1,
          1,
          1,
          1,
          1,
          1,
          1,
          1,
          1,
          1,
          1,
          1,
          1,
          1,
          1,
          1,
          1,
          1,
          1,
          1,
          1,
          1,
          1,
          1,
          1,
          1,
          1,
          1,
          1,
          1,
          1,
          1,
          1,
          1,
          1,
          1,
          1,
          1,
          1,
          1,
          1,
          1,
          1,
          1,
          1,
          1,
          1,
          1,
          1,
          1,
          1
         ]
        }
       ],
       "layout": {
        "legend": {
         "tracegroupgap": 0
        },
        "piecolorway": [
         "rgb(103,0,31)",
         "rgb(178,24,43)",
         "rgb(214,96,77)",
         "rgb(244,165,130)",
         "rgb(253,219,199)",
         "rgb(247,247,247)",
         "rgb(209,229,240)",
         "rgb(146,197,222)",
         "rgb(67,147,195)",
         "rgb(33,102,172)",
         "rgb(5,48,97)"
        ],
        "template": {
         "data": {
          "bar": [
           {
            "error_x": {
             "color": "#2a3f5f"
            },
            "error_y": {
             "color": "#2a3f5f"
            },
            "marker": {
             "line": {
              "color": "#E5ECF6",
              "width": 0.5
             },
             "pattern": {
              "fillmode": "overlay",
              "size": 10,
              "solidity": 0.2
             }
            },
            "type": "bar"
           }
          ],
          "barpolar": [
           {
            "marker": {
             "line": {
              "color": "#E5ECF6",
              "width": 0.5
             },
             "pattern": {
              "fillmode": "overlay",
              "size": 10,
              "solidity": 0.2
             }
            },
            "type": "barpolar"
           }
          ],
          "carpet": [
           {
            "aaxis": {
             "endlinecolor": "#2a3f5f",
             "gridcolor": "white",
             "linecolor": "white",
             "minorgridcolor": "white",
             "startlinecolor": "#2a3f5f"
            },
            "baxis": {
             "endlinecolor": "#2a3f5f",
             "gridcolor": "white",
             "linecolor": "white",
             "minorgridcolor": "white",
             "startlinecolor": "#2a3f5f"
            },
            "type": "carpet"
           }
          ],
          "choropleth": [
           {
            "colorbar": {
             "outlinewidth": 0,
             "ticks": ""
            },
            "type": "choropleth"
           }
          ],
          "contour": [
           {
            "colorbar": {
             "outlinewidth": 0,
             "ticks": ""
            },
            "colorscale": [
             [
              0,
              "#0d0887"
             ],
             [
              0.1111111111111111,
              "#46039f"
             ],
             [
              0.2222222222222222,
              "#7201a8"
             ],
             [
              0.3333333333333333,
              "#9c179e"
             ],
             [
              0.4444444444444444,
              "#bd3786"
             ],
             [
              0.5555555555555556,
              "#d8576b"
             ],
             [
              0.6666666666666666,
              "#ed7953"
             ],
             [
              0.7777777777777778,
              "#fb9f3a"
             ],
             [
              0.8888888888888888,
              "#fdca26"
             ],
             [
              1,
              "#f0f921"
             ]
            ],
            "type": "contour"
           }
          ],
          "contourcarpet": [
           {
            "colorbar": {
             "outlinewidth": 0,
             "ticks": ""
            },
            "type": "contourcarpet"
           }
          ],
          "heatmap": [
           {
            "colorbar": {
             "outlinewidth": 0,
             "ticks": ""
            },
            "colorscale": [
             [
              0,
              "#0d0887"
             ],
             [
              0.1111111111111111,
              "#46039f"
             ],
             [
              0.2222222222222222,
              "#7201a8"
             ],
             [
              0.3333333333333333,
              "#9c179e"
             ],
             [
              0.4444444444444444,
              "#bd3786"
             ],
             [
              0.5555555555555556,
              "#d8576b"
             ],
             [
              0.6666666666666666,
              "#ed7953"
             ],
             [
              0.7777777777777778,
              "#fb9f3a"
             ],
             [
              0.8888888888888888,
              "#fdca26"
             ],
             [
              1,
              "#f0f921"
             ]
            ],
            "type": "heatmap"
           }
          ],
          "heatmapgl": [
           {
            "colorbar": {
             "outlinewidth": 0,
             "ticks": ""
            },
            "colorscale": [
             [
              0,
              "#0d0887"
             ],
             [
              0.1111111111111111,
              "#46039f"
             ],
             [
              0.2222222222222222,
              "#7201a8"
             ],
             [
              0.3333333333333333,
              "#9c179e"
             ],
             [
              0.4444444444444444,
              "#bd3786"
             ],
             [
              0.5555555555555556,
              "#d8576b"
             ],
             [
              0.6666666666666666,
              "#ed7953"
             ],
             [
              0.7777777777777778,
              "#fb9f3a"
             ],
             [
              0.8888888888888888,
              "#fdca26"
             ],
             [
              1,
              "#f0f921"
             ]
            ],
            "type": "heatmapgl"
           }
          ],
          "histogram": [
           {
            "marker": {
             "pattern": {
              "fillmode": "overlay",
              "size": 10,
              "solidity": 0.2
             }
            },
            "type": "histogram"
           }
          ],
          "histogram2d": [
           {
            "colorbar": {
             "outlinewidth": 0,
             "ticks": ""
            },
            "colorscale": [
             [
              0,
              "#0d0887"
             ],
             [
              0.1111111111111111,
              "#46039f"
             ],
             [
              0.2222222222222222,
              "#7201a8"
             ],
             [
              0.3333333333333333,
              "#9c179e"
             ],
             [
              0.4444444444444444,
              "#bd3786"
             ],
             [
              0.5555555555555556,
              "#d8576b"
             ],
             [
              0.6666666666666666,
              "#ed7953"
             ],
             [
              0.7777777777777778,
              "#fb9f3a"
             ],
             [
              0.8888888888888888,
              "#fdca26"
             ],
             [
              1,
              "#f0f921"
             ]
            ],
            "type": "histogram2d"
           }
          ],
          "histogram2dcontour": [
           {
            "colorbar": {
             "outlinewidth": 0,
             "ticks": ""
            },
            "colorscale": [
             [
              0,
              "#0d0887"
             ],
             [
              0.1111111111111111,
              "#46039f"
             ],
             [
              0.2222222222222222,
              "#7201a8"
             ],
             [
              0.3333333333333333,
              "#9c179e"
             ],
             [
              0.4444444444444444,
              "#bd3786"
             ],
             [
              0.5555555555555556,
              "#d8576b"
             ],
             [
              0.6666666666666666,
              "#ed7953"
             ],
             [
              0.7777777777777778,
              "#fb9f3a"
             ],
             [
              0.8888888888888888,
              "#fdca26"
             ],
             [
              1,
              "#f0f921"
             ]
            ],
            "type": "histogram2dcontour"
           }
          ],
          "mesh3d": [
           {
            "colorbar": {
             "outlinewidth": 0,
             "ticks": ""
            },
            "type": "mesh3d"
           }
          ],
          "parcoords": [
           {
            "line": {
             "colorbar": {
              "outlinewidth": 0,
              "ticks": ""
             }
            },
            "type": "parcoords"
           }
          ],
          "pie": [
           {
            "automargin": true,
            "type": "pie"
           }
          ],
          "scatter": [
           {
            "marker": {
             "colorbar": {
              "outlinewidth": 0,
              "ticks": ""
             }
            },
            "type": "scatter"
           }
          ],
          "scatter3d": [
           {
            "line": {
             "colorbar": {
              "outlinewidth": 0,
              "ticks": ""
             }
            },
            "marker": {
             "colorbar": {
              "outlinewidth": 0,
              "ticks": ""
             }
            },
            "type": "scatter3d"
           }
          ],
          "scattercarpet": [
           {
            "marker": {
             "colorbar": {
              "outlinewidth": 0,
              "ticks": ""
             }
            },
            "type": "scattercarpet"
           }
          ],
          "scattergeo": [
           {
            "marker": {
             "colorbar": {
              "outlinewidth": 0,
              "ticks": ""
             }
            },
            "type": "scattergeo"
           }
          ],
          "scattergl": [
           {
            "marker": {
             "colorbar": {
              "outlinewidth": 0,
              "ticks": ""
             }
            },
            "type": "scattergl"
           }
          ],
          "scattermapbox": [
           {
            "marker": {
             "colorbar": {
              "outlinewidth": 0,
              "ticks": ""
             }
            },
            "type": "scattermapbox"
           }
          ],
          "scatterpolar": [
           {
            "marker": {
             "colorbar": {
              "outlinewidth": 0,
              "ticks": ""
             }
            },
            "type": "scatterpolar"
           }
          ],
          "scatterpolargl": [
           {
            "marker": {
             "colorbar": {
              "outlinewidth": 0,
              "ticks": ""
             }
            },
            "type": "scatterpolargl"
           }
          ],
          "scatterternary": [
           {
            "marker": {
             "colorbar": {
              "outlinewidth": 0,
              "ticks": ""
             }
            },
            "type": "scatterternary"
           }
          ],
          "surface": [
           {
            "colorbar": {
             "outlinewidth": 0,
             "ticks": ""
            },
            "colorscale": [
             [
              0,
              "#0d0887"
             ],
             [
              0.1111111111111111,
              "#46039f"
             ],
             [
              0.2222222222222222,
              "#7201a8"
             ],
             [
              0.3333333333333333,
              "#9c179e"
             ],
             [
              0.4444444444444444,
              "#bd3786"
             ],
             [
              0.5555555555555556,
              "#d8576b"
             ],
             [
              0.6666666666666666,
              "#ed7953"
             ],
             [
              0.7777777777777778,
              "#fb9f3a"
             ],
             [
              0.8888888888888888,
              "#fdca26"
             ],
             [
              1,
              "#f0f921"
             ]
            ],
            "type": "surface"
           }
          ],
          "table": [
           {
            "cells": {
             "fill": {
              "color": "#EBF0F8"
             },
             "line": {
              "color": "white"
             }
            },
            "header": {
             "fill": {
              "color": "#C8D4E3"
             },
             "line": {
              "color": "white"
             }
            },
            "type": "table"
           }
          ]
         },
         "layout": {
          "annotationdefaults": {
           "arrowcolor": "#2a3f5f",
           "arrowhead": 0,
           "arrowwidth": 1
          },
          "autotypenumbers": "strict",
          "coloraxis": {
           "colorbar": {
            "outlinewidth": 0,
            "ticks": ""
           }
          },
          "colorscale": {
           "diverging": [
            [
             0,
             "#8e0152"
            ],
            [
             0.1,
             "#c51b7d"
            ],
            [
             0.2,
             "#de77ae"
            ],
            [
             0.3,
             "#f1b6da"
            ],
            [
             0.4,
             "#fde0ef"
            ],
            [
             0.5,
             "#f7f7f7"
            ],
            [
             0.6,
             "#e6f5d0"
            ],
            [
             0.7,
             "#b8e186"
            ],
            [
             0.8,
             "#7fbc41"
            ],
            [
             0.9,
             "#4d9221"
            ],
            [
             1,
             "#276419"
            ]
           ],
           "sequential": [
            [
             0,
             "#0d0887"
            ],
            [
             0.1111111111111111,
             "#46039f"
            ],
            [
             0.2222222222222222,
             "#7201a8"
            ],
            [
             0.3333333333333333,
             "#9c179e"
            ],
            [
             0.4444444444444444,
             "#bd3786"
            ],
            [
             0.5555555555555556,
             "#d8576b"
            ],
            [
             0.6666666666666666,
             "#ed7953"
            ],
            [
             0.7777777777777778,
             "#fb9f3a"
            ],
            [
             0.8888888888888888,
             "#fdca26"
            ],
            [
             1,
             "#f0f921"
            ]
           ],
           "sequentialminus": [
            [
             0,
             "#0d0887"
            ],
            [
             0.1111111111111111,
             "#46039f"
            ],
            [
             0.2222222222222222,
             "#7201a8"
            ],
            [
             0.3333333333333333,
             "#9c179e"
            ],
            [
             0.4444444444444444,
             "#bd3786"
            ],
            [
             0.5555555555555556,
             "#d8576b"
            ],
            [
             0.6666666666666666,
             "#ed7953"
            ],
            [
             0.7777777777777778,
             "#fb9f3a"
            ],
            [
             0.8888888888888888,
             "#fdca26"
            ],
            [
             1,
             "#f0f921"
            ]
           ]
          },
          "colorway": [
           "#636efa",
           "#EF553B",
           "#00cc96",
           "#ab63fa",
           "#FFA15A",
           "#19d3f3",
           "#FF6692",
           "#B6E880",
           "#FF97FF",
           "#FECB52"
          ],
          "font": {
           "color": "#2a3f5f"
          },
          "geo": {
           "bgcolor": "white",
           "lakecolor": "white",
           "landcolor": "#E5ECF6",
           "showlakes": true,
           "showland": true,
           "subunitcolor": "white"
          },
          "hoverlabel": {
           "align": "left"
          },
          "hovermode": "closest",
          "mapbox": {
           "style": "light"
          },
          "paper_bgcolor": "white",
          "plot_bgcolor": "#E5ECF6",
          "polar": {
           "angularaxis": {
            "gridcolor": "white",
            "linecolor": "white",
            "ticks": ""
           },
           "bgcolor": "#E5ECF6",
           "radialaxis": {
            "gridcolor": "white",
            "linecolor": "white",
            "ticks": ""
           }
          },
          "scene": {
           "xaxis": {
            "backgroundcolor": "#E5ECF6",
            "gridcolor": "white",
            "gridwidth": 2,
            "linecolor": "white",
            "showbackground": true,
            "ticks": "",
            "zerolinecolor": "white"
           },
           "yaxis": {
            "backgroundcolor": "#E5ECF6",
            "gridcolor": "white",
            "gridwidth": 2,
            "linecolor": "white",
            "showbackground": true,
            "ticks": "",
            "zerolinecolor": "white"
           },
           "zaxis": {
            "backgroundcolor": "#E5ECF6",
            "gridcolor": "white",
            "gridwidth": 2,
            "linecolor": "white",
            "showbackground": true,
            "ticks": "",
            "zerolinecolor": "white"
           }
          },
          "shapedefaults": {
           "line": {
            "color": "#2a3f5f"
           }
          },
          "ternary": {
           "aaxis": {
            "gridcolor": "white",
            "linecolor": "white",
            "ticks": ""
           },
           "baxis": {
            "gridcolor": "white",
            "linecolor": "white",
            "ticks": ""
           },
           "bgcolor": "#E5ECF6",
           "caxis": {
            "gridcolor": "white",
            "linecolor": "white",
            "ticks": ""
           }
          },
          "title": {
           "x": 0.05
          },
          "xaxis": {
           "automargin": true,
           "gridcolor": "white",
           "linecolor": "white",
           "ticks": "",
           "title": {
            "standoff": 15
           },
           "zerolinecolor": "white",
           "zerolinewidth": 2
          },
          "yaxis": {
           "automargin": true,
           "gridcolor": "white",
           "linecolor": "white",
           "ticks": "",
           "title": {
            "standoff": 15
           },
           "zerolinecolor": "white",
           "zerolinewidth": 2
          }
         }
        },
        "title": {
         "text": "Indian Car Companies Market Share"
        }
       }
      },
      "text/html": [
       "<div>                            <div id=\"02d3ec76-b4f8-40ac-be98-b97eda7a6181\" class=\"plotly-graph-div\" style=\"height:525px; width:100%;\"></div>            <script type=\"text/javascript\">                require([\"plotly\"], function(Plotly) {                    window.PLOTLYENV=window.PLOTLYENV || {};                                    if (document.getElementById(\"02d3ec76-b4f8-40ac-be98-b97eda7a6181\")) {                    Plotly.newPlot(                        \"02d3ec76-b4f8-40ac-be98-b97eda7a6181\",                        [{\"domain\":{\"x\":[0.0,1.0],\"y\":[0.0,1.0]},\"hovertemplate\":\"make=%{label}<br>Unit=%{value}<extra></extra>\",\"labels\":[\"honda\",\"honda\",\"honda\",\"honda\",\"honda\",\"honda\",\"honda\",\"honda\",\"honda\",\"honda\",\"honda\",\"honda\",\"honda\",\"mazda\",\"mazda\",\"mazda\",\"mazda\",\"mazda\",\"mazda\",\"mazda\",\"mazda\",\"mazda\",\"mazda\",\"mazda\",\"mazda\",\"mazda\",\"mazda\",\"mazda\",\"mazda\",\"mazda\",\"nissan\",\"nissan\",\"nissan\",\"nissan\",\"nissan\",\"nissan\",\"nissan\",\"nissan\",\"nissan\",\"nissan\",\"nissan\",\"nissan\",\"nissan\",\"nissan\",\"nissan\",\"nissan\",\"nissan\",\"nissan\",\"toyota\",\"toyota\",\"toyota\",\"toyota\",\"toyota\",\"toyota\",\"toyota\",\"toyota\",\"toyota\",\"toyota\",\"toyota\",\"toyota\",\"toyota\",\"toyota\",\"toyota\",\"toyota\",\"toyota\",\"toyota\",\"toyota\",\"toyota\",\"toyota\",\"toyota\",\"toyota\",\"toyota\",\"toyota\",\"toyota\",\"toyota\",\"toyota\",\"toyota\",\"toyota\",\"toyota\",\"toyota\",\"volkswagen\",\"volkswagen\",\"volkswagen\",\"volkswagen\",\"volkswagen\",\"volkswagen\",\"volkswagen\",\"volkswagen\",\"volkswagen\",\"volkswagen\",\"volkswagen\",\"volkswagen\",\"volvo\",\"volvo\",\"volvo\",\"volvo\",\"volvo\",\"volvo\",\"volvo\",\"volvo\",\"volvo\",\"volvo\",\"volvo\"],\"legendgroup\":\"\",\"name\":\"\",\"showlegend\":true,\"type\":\"pie\",\"values\":[1,1,1,1,1,1,1,1,1,1,1,1,1,1,1,1,1,1,1,1,1,1,1,1,1,1,1,1,1,1,1,1,1,1,1,1,1,1,1,1,1,1,1,1,1,1,1,1,1,1,1,1,1,1,1,1,1,1,1,1,1,1,1,1,1,1,1,1,1,1,1,1,1,1,1,1,1,1,1,1,1,1,1,1,1,1,1,1,1,1,1,1,1,1,1,1,1,1,1,1,1,1,1]}],                        {\"legend\":{\"tracegroupgap\":0},\"piecolorway\":[\"rgb(103,0,31)\",\"rgb(178,24,43)\",\"rgb(214,96,77)\",\"rgb(244,165,130)\",\"rgb(253,219,199)\",\"rgb(247,247,247)\",\"rgb(209,229,240)\",\"rgb(146,197,222)\",\"rgb(67,147,195)\",\"rgb(33,102,172)\",\"rgb(5,48,97)\"],\"template\":{\"data\":{\"bar\":[{\"error_x\":{\"color\":\"#2a3f5f\"},\"error_y\":{\"color\":\"#2a3f5f\"},\"marker\":{\"line\":{\"color\":\"#E5ECF6\",\"width\":0.5},\"pattern\":{\"fillmode\":\"overlay\",\"size\":10,\"solidity\":0.2}},\"type\":\"bar\"}],\"barpolar\":[{\"marker\":{\"line\":{\"color\":\"#E5ECF6\",\"width\":0.5},\"pattern\":{\"fillmode\":\"overlay\",\"size\":10,\"solidity\":0.2}},\"type\":\"barpolar\"}],\"carpet\":[{\"aaxis\":{\"endlinecolor\":\"#2a3f5f\",\"gridcolor\":\"white\",\"linecolor\":\"white\",\"minorgridcolor\":\"white\",\"startlinecolor\":\"#2a3f5f\"},\"baxis\":{\"endlinecolor\":\"#2a3f5f\",\"gridcolor\":\"white\",\"linecolor\":\"white\",\"minorgridcolor\":\"white\",\"startlinecolor\":\"#2a3f5f\"},\"type\":\"carpet\"}],\"choropleth\":[{\"colorbar\":{\"outlinewidth\":0,\"ticks\":\"\"},\"type\":\"choropleth\"}],\"contour\":[{\"colorbar\":{\"outlinewidth\":0,\"ticks\":\"\"},\"colorscale\":[[0.0,\"#0d0887\"],[0.1111111111111111,\"#46039f\"],[0.2222222222222222,\"#7201a8\"],[0.3333333333333333,\"#9c179e\"],[0.4444444444444444,\"#bd3786\"],[0.5555555555555556,\"#d8576b\"],[0.6666666666666666,\"#ed7953\"],[0.7777777777777778,\"#fb9f3a\"],[0.8888888888888888,\"#fdca26\"],[1.0,\"#f0f921\"]],\"type\":\"contour\"}],\"contourcarpet\":[{\"colorbar\":{\"outlinewidth\":0,\"ticks\":\"\"},\"type\":\"contourcarpet\"}],\"heatmap\":[{\"colorbar\":{\"outlinewidth\":0,\"ticks\":\"\"},\"colorscale\":[[0.0,\"#0d0887\"],[0.1111111111111111,\"#46039f\"],[0.2222222222222222,\"#7201a8\"],[0.3333333333333333,\"#9c179e\"],[0.4444444444444444,\"#bd3786\"],[0.5555555555555556,\"#d8576b\"],[0.6666666666666666,\"#ed7953\"],[0.7777777777777778,\"#fb9f3a\"],[0.8888888888888888,\"#fdca26\"],[1.0,\"#f0f921\"]],\"type\":\"heatmap\"}],\"heatmapgl\":[{\"colorbar\":{\"outlinewidth\":0,\"ticks\":\"\"},\"colorscale\":[[0.0,\"#0d0887\"],[0.1111111111111111,\"#46039f\"],[0.2222222222222222,\"#7201a8\"],[0.3333333333333333,\"#9c179e\"],[0.4444444444444444,\"#bd3786\"],[0.5555555555555556,\"#d8576b\"],[0.6666666666666666,\"#ed7953\"],[0.7777777777777778,\"#fb9f3a\"],[0.8888888888888888,\"#fdca26\"],[1.0,\"#f0f921\"]],\"type\":\"heatmapgl\"}],\"histogram\":[{\"marker\":{\"pattern\":{\"fillmode\":\"overlay\",\"size\":10,\"solidity\":0.2}},\"type\":\"histogram\"}],\"histogram2d\":[{\"colorbar\":{\"outlinewidth\":0,\"ticks\":\"\"},\"colorscale\":[[0.0,\"#0d0887\"],[0.1111111111111111,\"#46039f\"],[0.2222222222222222,\"#7201a8\"],[0.3333333333333333,\"#9c179e\"],[0.4444444444444444,\"#bd3786\"],[0.5555555555555556,\"#d8576b\"],[0.6666666666666666,\"#ed7953\"],[0.7777777777777778,\"#fb9f3a\"],[0.8888888888888888,\"#fdca26\"],[1.0,\"#f0f921\"]],\"type\":\"histogram2d\"}],\"histogram2dcontour\":[{\"colorbar\":{\"outlinewidth\":0,\"ticks\":\"\"},\"colorscale\":[[0.0,\"#0d0887\"],[0.1111111111111111,\"#46039f\"],[0.2222222222222222,\"#7201a8\"],[0.3333333333333333,\"#9c179e\"],[0.4444444444444444,\"#bd3786\"],[0.5555555555555556,\"#d8576b\"],[0.6666666666666666,\"#ed7953\"],[0.7777777777777778,\"#fb9f3a\"],[0.8888888888888888,\"#fdca26\"],[1.0,\"#f0f921\"]],\"type\":\"histogram2dcontour\"}],\"mesh3d\":[{\"colorbar\":{\"outlinewidth\":0,\"ticks\":\"\"},\"type\":\"mesh3d\"}],\"parcoords\":[{\"line\":{\"colorbar\":{\"outlinewidth\":0,\"ticks\":\"\"}},\"type\":\"parcoords\"}],\"pie\":[{\"automargin\":true,\"type\":\"pie\"}],\"scatter\":[{\"marker\":{\"colorbar\":{\"outlinewidth\":0,\"ticks\":\"\"}},\"type\":\"scatter\"}],\"scatter3d\":[{\"line\":{\"colorbar\":{\"outlinewidth\":0,\"ticks\":\"\"}},\"marker\":{\"colorbar\":{\"outlinewidth\":0,\"ticks\":\"\"}},\"type\":\"scatter3d\"}],\"scattercarpet\":[{\"marker\":{\"colorbar\":{\"outlinewidth\":0,\"ticks\":\"\"}},\"type\":\"scattercarpet\"}],\"scattergeo\":[{\"marker\":{\"colorbar\":{\"outlinewidth\":0,\"ticks\":\"\"}},\"type\":\"scattergeo\"}],\"scattergl\":[{\"marker\":{\"colorbar\":{\"outlinewidth\":0,\"ticks\":\"\"}},\"type\":\"scattergl\"}],\"scattermapbox\":[{\"marker\":{\"colorbar\":{\"outlinewidth\":0,\"ticks\":\"\"}},\"type\":\"scattermapbox\"}],\"scatterpolar\":[{\"marker\":{\"colorbar\":{\"outlinewidth\":0,\"ticks\":\"\"}},\"type\":\"scatterpolar\"}],\"scatterpolargl\":[{\"marker\":{\"colorbar\":{\"outlinewidth\":0,\"ticks\":\"\"}},\"type\":\"scatterpolargl\"}],\"scatterternary\":[{\"marker\":{\"colorbar\":{\"outlinewidth\":0,\"ticks\":\"\"}},\"type\":\"scatterternary\"}],\"surface\":[{\"colorbar\":{\"outlinewidth\":0,\"ticks\":\"\"},\"colorscale\":[[0.0,\"#0d0887\"],[0.1111111111111111,\"#46039f\"],[0.2222222222222222,\"#7201a8\"],[0.3333333333333333,\"#9c179e\"],[0.4444444444444444,\"#bd3786\"],[0.5555555555555556,\"#d8576b\"],[0.6666666666666666,\"#ed7953\"],[0.7777777777777778,\"#fb9f3a\"],[0.8888888888888888,\"#fdca26\"],[1.0,\"#f0f921\"]],\"type\":\"surface\"}],\"table\":[{\"cells\":{\"fill\":{\"color\":\"#EBF0F8\"},\"line\":{\"color\":\"white\"}},\"header\":{\"fill\":{\"color\":\"#C8D4E3\"},\"line\":{\"color\":\"white\"}},\"type\":\"table\"}]},\"layout\":{\"annotationdefaults\":{\"arrowcolor\":\"#2a3f5f\",\"arrowhead\":0,\"arrowwidth\":1},\"autotypenumbers\":\"strict\",\"coloraxis\":{\"colorbar\":{\"outlinewidth\":0,\"ticks\":\"\"}},\"colorscale\":{\"diverging\":[[0,\"#8e0152\"],[0.1,\"#c51b7d\"],[0.2,\"#de77ae\"],[0.3,\"#f1b6da\"],[0.4,\"#fde0ef\"],[0.5,\"#f7f7f7\"],[0.6,\"#e6f5d0\"],[0.7,\"#b8e186\"],[0.8,\"#7fbc41\"],[0.9,\"#4d9221\"],[1,\"#276419\"]],\"sequential\":[[0.0,\"#0d0887\"],[0.1111111111111111,\"#46039f\"],[0.2222222222222222,\"#7201a8\"],[0.3333333333333333,\"#9c179e\"],[0.4444444444444444,\"#bd3786\"],[0.5555555555555556,\"#d8576b\"],[0.6666666666666666,\"#ed7953\"],[0.7777777777777778,\"#fb9f3a\"],[0.8888888888888888,\"#fdca26\"],[1.0,\"#f0f921\"]],\"sequentialminus\":[[0.0,\"#0d0887\"],[0.1111111111111111,\"#46039f\"],[0.2222222222222222,\"#7201a8\"],[0.3333333333333333,\"#9c179e\"],[0.4444444444444444,\"#bd3786\"],[0.5555555555555556,\"#d8576b\"],[0.6666666666666666,\"#ed7953\"],[0.7777777777777778,\"#fb9f3a\"],[0.8888888888888888,\"#fdca26\"],[1.0,\"#f0f921\"]]},\"colorway\":[\"#636efa\",\"#EF553B\",\"#00cc96\",\"#ab63fa\",\"#FFA15A\",\"#19d3f3\",\"#FF6692\",\"#B6E880\",\"#FF97FF\",\"#FECB52\"],\"font\":{\"color\":\"#2a3f5f\"},\"geo\":{\"bgcolor\":\"white\",\"lakecolor\":\"white\",\"landcolor\":\"#E5ECF6\",\"showlakes\":true,\"showland\":true,\"subunitcolor\":\"white\"},\"hoverlabel\":{\"align\":\"left\"},\"hovermode\":\"closest\",\"mapbox\":{\"style\":\"light\"},\"paper_bgcolor\":\"white\",\"plot_bgcolor\":\"#E5ECF6\",\"polar\":{\"angularaxis\":{\"gridcolor\":\"white\",\"linecolor\":\"white\",\"ticks\":\"\"},\"bgcolor\":\"#E5ECF6\",\"radialaxis\":{\"gridcolor\":\"white\",\"linecolor\":\"white\",\"ticks\":\"\"}},\"scene\":{\"xaxis\":{\"backgroundcolor\":\"#E5ECF6\",\"gridcolor\":\"white\",\"gridwidth\":2,\"linecolor\":\"white\",\"showbackground\":true,\"ticks\":\"\",\"zerolinecolor\":\"white\"},\"yaxis\":{\"backgroundcolor\":\"#E5ECF6\",\"gridcolor\":\"white\",\"gridwidth\":2,\"linecolor\":\"white\",\"showbackground\":true,\"ticks\":\"\",\"zerolinecolor\":\"white\"},\"zaxis\":{\"backgroundcolor\":\"#E5ECF6\",\"gridcolor\":\"white\",\"gridwidth\":2,\"linecolor\":\"white\",\"showbackground\":true,\"ticks\":\"\",\"zerolinecolor\":\"white\"}},\"shapedefaults\":{\"line\":{\"color\":\"#2a3f5f\"}},\"ternary\":{\"aaxis\":{\"gridcolor\":\"white\",\"linecolor\":\"white\",\"ticks\":\"\"},\"baxis\":{\"gridcolor\":\"white\",\"linecolor\":\"white\",\"ticks\":\"\"},\"bgcolor\":\"#E5ECF6\",\"caxis\":{\"gridcolor\":\"white\",\"linecolor\":\"white\",\"ticks\":\"\"}},\"title\":{\"x\":0.05},\"xaxis\":{\"automargin\":true,\"gridcolor\":\"white\",\"linecolor\":\"white\",\"ticks\":\"\",\"title\":{\"standoff\":15},\"zerolinecolor\":\"white\",\"zerolinewidth\":2},\"yaxis\":{\"automargin\":true,\"gridcolor\":\"white\",\"linecolor\":\"white\",\"ticks\":\"\",\"title\":{\"standoff\":15},\"zerolinecolor\":\"white\",\"zerolinewidth\":2}}},\"title\":{\"text\":\"Indian Car Companies Market Share\"}},                        {\"responsive\": true}                    ).then(function(){\n",
       "                            \n",
       "var gd = document.getElementById('02d3ec76-b4f8-40ac-be98-b97eda7a6181');\n",
       "var x = new MutationObserver(function (mutations, observer) {{\n",
       "        var display = window.getComputedStyle(gd).display;\n",
       "        if (!display || display === 'none') {{\n",
       "            console.log([gd, 'removed!']);\n",
       "            Plotly.purge(gd);\n",
       "            observer.disconnect();\n",
       "        }}\n",
       "}});\n",
       "\n",
       "// Listen for the removal of the full notebook cells\n",
       "var notebookContainer = gd.closest('#notebook-container');\n",
       "if (notebookContainer) {{\n",
       "    x.observe(notebookContainer, {childList: true});\n",
       "}}\n",
       "\n",
       "// Listen for the clearing of the current output cell\n",
       "var outputEl = gd.closest('.output');\n",
       "if (outputEl) {{\n",
       "    x.observe(outputEl, {childList: true});\n",
       "}}\n",
       "\n",
       "                        })                };                });            </script>        </div>"
      ]
     },
     "metadata": {},
     "output_type": "display_data"
    }
   ],
   "source": [
    "fig = px.pie(df1, values='Unit', names='make', color_discrete_sequence=px.colors.sequential.RdBu,\n",
    "             title='Indian Car Companies Market Share')\n",
    "fig.show()"
   ]
  },
  {
   "cell_type": "markdown",
   "metadata": {},
   "source": [
    "##### 4. Plot a Bar Chart with India's covid-19 Active cases ( Max 10 States )"
   ]
  },
  {
   "cell_type": "code",
   "execution_count": 135,
   "metadata": {},
   "outputs": [
    {
     "data": {
      "text/html": [
       "<div>\n",
       "<style scoped>\n",
       "    .dataframe tbody tr th:only-of-type {\n",
       "        vertical-align: middle;\n",
       "    }\n",
       "\n",
       "    .dataframe tbody tr th {\n",
       "        vertical-align: top;\n",
       "    }\n",
       "\n",
       "    .dataframe thead th {\n",
       "        text-align: right;\n",
       "    }\n",
       "</style>\n",
       "<table border=\"1\" class=\"dataframe\">\n",
       "  <thead>\n",
       "    <tr style=\"text-align: right;\">\n",
       "      <th></th>\n",
       "      <th>State_Count</th>\n",
       "      <th>Date</th>\n",
       "      <th>State</th>\n",
       "      <th>Active</th>\n",
       "      <th>Deceased</th>\n",
       "      <th>Recovered</th>\n",
       "      <th>State_Name</th>\n",
       "    </tr>\n",
       "  </thead>\n",
       "  <tbody>\n",
       "    <tr>\n",
       "      <th>0</th>\n",
       "      <td>1</td>\n",
       "      <td>1-Apr-20</td>\n",
       "      <td>AN</td>\n",
       "      <td>0</td>\n",
       "      <td>0</td>\n",
       "      <td>0</td>\n",
       "      <td>Andaman and Nicobar Islands</td>\n",
       "    </tr>\n",
       "    <tr>\n",
       "      <th>1</th>\n",
       "      <td>1</td>\n",
       "      <td>1-Apr-20</td>\n",
       "      <td>AP</td>\n",
       "      <td>67</td>\n",
       "      <td>0</td>\n",
       "      <td>1</td>\n",
       "      <td>Andhra Pradesh</td>\n",
       "    </tr>\n",
       "    <tr>\n",
       "      <th>2</th>\n",
       "      <td>1</td>\n",
       "      <td>1-Apr-21</td>\n",
       "      <td>AR</td>\n",
       "      <td>0</td>\n",
       "      <td>0</td>\n",
       "      <td>0</td>\n",
       "      <td>Arunachal Pradesh</td>\n",
       "    </tr>\n",
       "    <tr>\n",
       "      <th>3</th>\n",
       "      <td>1</td>\n",
       "      <td>1-Jan-20</td>\n",
       "      <td>AS</td>\n",
       "      <td>15</td>\n",
       "      <td>0</td>\n",
       "      <td>0</td>\n",
       "      <td>Assam</td>\n",
       "    </tr>\n",
       "    <tr>\n",
       "      <th>4</th>\n",
       "      <td>1</td>\n",
       "      <td>1-Jan-21</td>\n",
       "      <td>BR</td>\n",
       "      <td>3</td>\n",
       "      <td>0</td>\n",
       "      <td>0</td>\n",
       "      <td>Bihar</td>\n",
       "    </tr>\n",
       "  </tbody>\n",
       "</table>\n",
       "</div>"
      ],
      "text/plain": [
       "   State_Count      Date State  Active  Deceased  Recovered  \\\n",
       "0            1  1-Apr-20    AN       0         0          0   \n",
       "1            1  1-Apr-20    AP      67         0          1   \n",
       "2            1  1-Apr-21    AR       0         0          0   \n",
       "3            1  1-Jan-20    AS      15         0          0   \n",
       "4            1  1-Jan-21    BR       3         0          0   \n",
       "\n",
       "                    State_Name  \n",
       "0  Andaman and Nicobar Islands  \n",
       "1               Andhra Pradesh  \n",
       "2            Arunachal Pradesh  \n",
       "3                        Assam  \n",
       "4                        Bihar  "
      ]
     },
     "execution_count": 135,
     "metadata": {},
     "output_type": "execute_result"
    }
   ],
   "source": [
    "covid_df = pd.read_csv('state_level_daily.csv')\n",
    "covid_df.head()"
   ]
  },
  {
   "cell_type": "code",
   "execution_count": 136,
   "metadata": {},
   "outputs": [
    {
     "data": {
      "text/html": [
       "<div>\n",
       "<style scoped>\n",
       "    .dataframe tbody tr th:only-of-type {\n",
       "        vertical-align: middle;\n",
       "    }\n",
       "\n",
       "    .dataframe tbody tr th {\n",
       "        vertical-align: top;\n",
       "    }\n",
       "\n",
       "    .dataframe thead th {\n",
       "        text-align: right;\n",
       "    }\n",
       "</style>\n",
       "<table border=\"1\" class=\"dataframe\">\n",
       "  <thead>\n",
       "    <tr style=\"text-align: right;\">\n",
       "      <th></th>\n",
       "      <th>State_Count</th>\n",
       "      <th>Active</th>\n",
       "      <th>Deceased</th>\n",
       "      <th>Recovered</th>\n",
       "    </tr>\n",
       "  </thead>\n",
       "  <tbody>\n",
       "    <tr>\n",
       "      <th>count</th>\n",
       "      <td>5694.0</td>\n",
       "      <td>5694.000000</td>\n",
       "      <td>5694.000000</td>\n",
       "      <td>5694.000000</td>\n",
       "    </tr>\n",
       "    <tr>\n",
       "      <th>mean</th>\n",
       "      <td>1.0</td>\n",
       "      <td>709.546716</td>\n",
       "      <td>14.589919</td>\n",
       "      <td>481.645241</td>\n",
       "    </tr>\n",
       "    <tr>\n",
       "      <th>std</th>\n",
       "      <td>0.0</td>\n",
       "      <td>3569.190577</td>\n",
       "      <td>72.889425</td>\n",
       "      <td>2605.743880</td>\n",
       "    </tr>\n",
       "    <tr>\n",
       "      <th>min</th>\n",
       "      <td>1.0</td>\n",
       "      <td>-1295.000000</td>\n",
       "      <td>-3.000000</td>\n",
       "      <td>-19.000000</td>\n",
       "    </tr>\n",
       "    <tr>\n",
       "      <th>25%</th>\n",
       "      <td>1.0</td>\n",
       "      <td>0.000000</td>\n",
       "      <td>0.000000</td>\n",
       "      <td>0.000000</td>\n",
       "    </tr>\n",
       "    <tr>\n",
       "      <th>50%</th>\n",
       "      <td>1.0</td>\n",
       "      <td>20.000000</td>\n",
       "      <td>0.000000</td>\n",
       "      <td>5.000000</td>\n",
       "    </tr>\n",
       "    <tr>\n",
       "      <th>75%</th>\n",
       "      <td>1.0</td>\n",
       "      <td>212.000000</td>\n",
       "      <td>3.000000</td>\n",
       "      <td>116.750000</td>\n",
       "    </tr>\n",
       "    <tr>\n",
       "      <th>max</th>\n",
       "      <td>1.0</td>\n",
       "      <td>62170.000000</td>\n",
       "      <td>2004.000000</td>\n",
       "      <td>51368.000000</td>\n",
       "    </tr>\n",
       "  </tbody>\n",
       "</table>\n",
       "</div>"
      ],
      "text/plain": [
       "       State_Count        Active     Deceased     Recovered\n",
       "count       5694.0   5694.000000  5694.000000   5694.000000\n",
       "mean           1.0    709.546716    14.589919    481.645241\n",
       "std            0.0   3569.190577    72.889425   2605.743880\n",
       "min            1.0  -1295.000000    -3.000000    -19.000000\n",
       "25%            1.0      0.000000     0.000000      0.000000\n",
       "50%            1.0     20.000000     0.000000      5.000000\n",
       "75%            1.0    212.000000     3.000000    116.750000\n",
       "max            1.0  62170.000000  2004.000000  51368.000000"
      ]
     },
     "execution_count": 136,
     "metadata": {},
     "output_type": "execute_result"
    }
   ],
   "source": [
    "covid_df.describe()"
   ]
  },
  {
   "cell_type": "code",
   "execution_count": 137,
   "metadata": {},
   "outputs": [
    {
     "data": {
      "text/html": [
       "<div>\n",
       "<style scoped>\n",
       "    .dataframe tbody tr th:only-of-type {\n",
       "        vertical-align: middle;\n",
       "    }\n",
       "\n",
       "    .dataframe tbody tr th {\n",
       "        vertical-align: top;\n",
       "    }\n",
       "\n",
       "    .dataframe thead th {\n",
       "        text-align: right;\n",
       "    }\n",
       "</style>\n",
       "<table border=\"1\" class=\"dataframe\">\n",
       "  <thead>\n",
       "    <tr style=\"text-align: right;\">\n",
       "      <th></th>\n",
       "      <th>State_Count</th>\n",
       "      <th>Date</th>\n",
       "      <th>State</th>\n",
       "      <th>Active</th>\n",
       "      <th>Deceased</th>\n",
       "      <th>Recovered</th>\n",
       "      <th>State_Name</th>\n",
       "    </tr>\n",
       "  </thead>\n",
       "  <tbody>\n",
       "    <tr>\n",
       "      <th>1</th>\n",
       "      <td>1</td>\n",
       "      <td>1-Apr-20</td>\n",
       "      <td>AP</td>\n",
       "      <td>67</td>\n",
       "      <td>0</td>\n",
       "      <td>1</td>\n",
       "      <td>Andhra Pradesh</td>\n",
       "    </tr>\n",
       "    <tr>\n",
       "      <th>6</th>\n",
       "      <td>1</td>\n",
       "      <td>1-Apr-20</td>\n",
       "      <td>CT</td>\n",
       "      <td>0</td>\n",
       "      <td>0</td>\n",
       "      <td>0</td>\n",
       "      <td>Chhattisgarh</td>\n",
       "    </tr>\n",
       "    <tr>\n",
       "      <th>8</th>\n",
       "      <td>1</td>\n",
       "      <td>1-Apr-20</td>\n",
       "      <td>DL</td>\n",
       "      <td>32</td>\n",
       "      <td>0</td>\n",
       "      <td>0</td>\n",
       "      <td>Delhi</td>\n",
       "    </tr>\n",
       "    <tr>\n",
       "      <th>11</th>\n",
       "      <td>1</td>\n",
       "      <td>1-Sep-20</td>\n",
       "      <td>GJ</td>\n",
       "      <td>13</td>\n",
       "      <td>0</td>\n",
       "      <td>0</td>\n",
       "      <td>Gujarat</td>\n",
       "    </tr>\n",
       "    <tr>\n",
       "      <th>14</th>\n",
       "      <td>1</td>\n",
       "      <td>1-Oct-20</td>\n",
       "      <td>JH</td>\n",
       "      <td>0</td>\n",
       "      <td>0</td>\n",
       "      <td>0</td>\n",
       "      <td>Jharkhand</td>\n",
       "    </tr>\n",
       "    <tr>\n",
       "      <th>...</th>\n",
       "      <td>...</td>\n",
       "      <td>...</td>\n",
       "      <td>...</td>\n",
       "      <td>...</td>\n",
       "      <td>...</td>\n",
       "      <td>...</td>\n",
       "      <td>...</td>\n",
       "    </tr>\n",
       "    <tr>\n",
       "      <th>5671</th>\n",
       "      <td>1</td>\n",
       "      <td>31-May-20</td>\n",
       "      <td>KA</td>\n",
       "      <td>299</td>\n",
       "      <td>2</td>\n",
       "      <td>221</td>\n",
       "      <td>Karnataka</td>\n",
       "    </tr>\n",
       "    <tr>\n",
       "      <th>5672</th>\n",
       "      <td>1</td>\n",
       "      <td>31-May-20</td>\n",
       "      <td>KL</td>\n",
       "      <td>61</td>\n",
       "      <td>0</td>\n",
       "      <td>15</td>\n",
       "      <td>Kerala</td>\n",
       "    </tr>\n",
       "    <tr>\n",
       "      <th>5675</th>\n",
       "      <td>1</td>\n",
       "      <td>31-May-20</td>\n",
       "      <td>MH</td>\n",
       "      <td>2487</td>\n",
       "      <td>89</td>\n",
       "      <td>1248</td>\n",
       "      <td>Maharashtra</td>\n",
       "    </tr>\n",
       "    <tr>\n",
       "      <th>5681</th>\n",
       "      <td>1</td>\n",
       "      <td>31-May-20</td>\n",
       "      <td>OR</td>\n",
       "      <td>129</td>\n",
       "      <td>0</td>\n",
       "      <td>76</td>\n",
       "      <td>Odisha</td>\n",
       "    </tr>\n",
       "    <tr>\n",
       "      <th>5693</th>\n",
       "      <td>1</td>\n",
       "      <td>28-Feb-21</td>\n",
       "      <td>WB</td>\n",
       "      <td>371</td>\n",
       "      <td>8</td>\n",
       "      <td>187</td>\n",
       "      <td>West Bengal</td>\n",
       "    </tr>\n",
       "  </tbody>\n",
       "</table>\n",
       "<p>1460 rows × 7 columns</p>\n",
       "</div>"
      ],
      "text/plain": [
       "      State_Count       Date State  Active  Deceased  Recovered  \\\n",
       "1               1   1-Apr-20    AP      67         0          1   \n",
       "6               1   1-Apr-20    CT       0         0          0   \n",
       "8               1   1-Apr-20    DL      32         0          0   \n",
       "11              1   1-Sep-20    GJ      13         0          0   \n",
       "14              1   1-Oct-20    JH       0         0          0   \n",
       "...           ...        ...   ...     ...       ...        ...   \n",
       "5671            1  31-May-20    KA     299         2        221   \n",
       "5672            1  31-May-20    KL      61         0         15   \n",
       "5675            1  31-May-20    MH    2487        89       1248   \n",
       "5681            1  31-May-20    OR     129         0         76   \n",
       "5693            1  28-Feb-21    WB     371         8        187   \n",
       "\n",
       "          State_Name  \n",
       "1     Andhra Pradesh  \n",
       "6       Chhattisgarh  \n",
       "8              Delhi  \n",
       "11           Gujarat  \n",
       "14         Jharkhand  \n",
       "...              ...  \n",
       "5671       Karnataka  \n",
       "5672          Kerala  \n",
       "5675     Maharashtra  \n",
       "5681          Odisha  \n",
       "5693     West Bengal  \n",
       "\n",
       "[1460 rows x 7 columns]"
      ]
     },
     "execution_count": 137,
     "metadata": {},
     "output_type": "execute_result"
    }
   ],
   "source": [
    "covid_df1=covid_df[covid_df['State_Name'].isin(['Kerala','Karnataka','Jharkhand','Maharashtra','West Bengal','Chhattisgarh',\n",
    "                                               'Odisha','Andhra Pradesh','Delhi','Gujarat'])]\n",
    "covid_df1"
   ]
  },
  {
   "cell_type": "markdown",
   "metadata": {},
   "source": [
    "##### Bar Chart with India's covid-19 Active cases ( Max 10 States )"
   ]
  },
  {
   "cell_type": "code",
   "execution_count": 138,
   "metadata": {},
   "outputs": [
    {
     "data": {
      "application/vnd.plotly.v1+json": {
       "config": {
        "plotlyServerURL": "https://plot.ly"
       },
       "data": [
        {
         "alignmentgroup": "True",
         "hovertemplate": "State_Name=%{x}<br>Active=%{y}<extra></extra>",
         "legendgroup": "Andhra Pradesh",
         "marker": {
          "color": "#636efa",
          "pattern": {
           "shape": ""
          }
         },
         "name": "Andhra Pradesh",
         "offsetgroup": "Andhra Pradesh",
         "orientation": "v",
         "showlegend": true,
         "textposition": "auto",
         "type": "bar",
         "x": [
          "Andhra Pradesh",
          "Andhra Pradesh",
          "Andhra Pradesh",
          "Andhra Pradesh",
          "Andhra Pradesh",
          "Andhra Pradesh",
          "Andhra Pradesh",
          "Andhra Pradesh",
          "Andhra Pradesh",
          "Andhra Pradesh",
          "Andhra Pradesh",
          "Andhra Pradesh",
          "Andhra Pradesh",
          "Andhra Pradesh",
          "Andhra Pradesh",
          "Andhra Pradesh",
          "Andhra Pradesh",
          "Andhra Pradesh",
          "Andhra Pradesh",
          "Andhra Pradesh",
          "Andhra Pradesh",
          "Andhra Pradesh",
          "Andhra Pradesh",
          "Andhra Pradesh",
          "Andhra Pradesh",
          "Andhra Pradesh",
          "Andhra Pradesh",
          "Andhra Pradesh",
          "Andhra Pradesh",
          "Andhra Pradesh",
          "Andhra Pradesh",
          "Andhra Pradesh",
          "Andhra Pradesh",
          "Andhra Pradesh",
          "Andhra Pradesh",
          "Andhra Pradesh",
          "Andhra Pradesh",
          "Andhra Pradesh",
          "Andhra Pradesh",
          "Andhra Pradesh",
          "Andhra Pradesh",
          "Andhra Pradesh",
          "Andhra Pradesh",
          "Andhra Pradesh",
          "Andhra Pradesh",
          "Andhra Pradesh",
          "Andhra Pradesh",
          "Andhra Pradesh",
          "Andhra Pradesh",
          "Andhra Pradesh",
          "Andhra Pradesh",
          "Andhra Pradesh",
          "Andhra Pradesh",
          "Andhra Pradesh",
          "Andhra Pradesh",
          "Andhra Pradesh",
          "Andhra Pradesh",
          "Andhra Pradesh",
          "Andhra Pradesh",
          "Andhra Pradesh",
          "Andhra Pradesh",
          "Andhra Pradesh",
          "Andhra Pradesh",
          "Andhra Pradesh",
          "Andhra Pradesh",
          "Andhra Pradesh",
          "Andhra Pradesh",
          "Andhra Pradesh",
          "Andhra Pradesh",
          "Andhra Pradesh",
          "Andhra Pradesh",
          "Andhra Pradesh",
          "Andhra Pradesh",
          "Andhra Pradesh",
          "Andhra Pradesh",
          "Andhra Pradesh",
          "Andhra Pradesh",
          "Andhra Pradesh",
          "Andhra Pradesh",
          "Andhra Pradesh",
          "Andhra Pradesh",
          "Andhra Pradesh",
          "Andhra Pradesh",
          "Andhra Pradesh",
          "Andhra Pradesh",
          "Andhra Pradesh",
          "Andhra Pradesh",
          "Andhra Pradesh",
          "Andhra Pradesh",
          "Andhra Pradesh",
          "Andhra Pradesh",
          "Andhra Pradesh",
          "Andhra Pradesh",
          "Andhra Pradesh",
          "Andhra Pradesh",
          "Andhra Pradesh",
          "Andhra Pradesh",
          "Andhra Pradesh",
          "Andhra Pradesh",
          "Andhra Pradesh",
          "Andhra Pradesh",
          "Andhra Pradesh",
          "Andhra Pradesh",
          "Andhra Pradesh",
          "Andhra Pradesh",
          "Andhra Pradesh",
          "Andhra Pradesh",
          "Andhra Pradesh",
          "Andhra Pradesh",
          "Andhra Pradesh",
          "Andhra Pradesh",
          "Andhra Pradesh",
          "Andhra Pradesh",
          "Andhra Pradesh",
          "Andhra Pradesh",
          "Andhra Pradesh",
          "Andhra Pradesh",
          "Andhra Pradesh",
          "Andhra Pradesh",
          "Andhra Pradesh",
          "Andhra Pradesh",
          "Andhra Pradesh",
          "Andhra Pradesh",
          "Andhra Pradesh",
          "Andhra Pradesh",
          "Andhra Pradesh",
          "Andhra Pradesh",
          "Andhra Pradesh",
          "Andhra Pradesh",
          "Andhra Pradesh",
          "Andhra Pradesh",
          "Andhra Pradesh",
          "Andhra Pradesh",
          "Andhra Pradesh",
          "Andhra Pradesh",
          "Andhra Pradesh",
          "Andhra Pradesh",
          "Andhra Pradesh",
          "Andhra Pradesh",
          "Andhra Pradesh",
          "Andhra Pradesh",
          "Andhra Pradesh",
          "Andhra Pradesh",
          "Andhra Pradesh",
          "Andhra Pradesh",
          "Andhra Pradesh"
         ],
         "xaxis": "x",
         "y": [
          67,
          9276,
          657,
          105,
          60,
          38,
          8555,
          845,
          115,
          62,
          15,
          7822,
          837,
          180,
          58,
          28,
          9747,
          765,
          141,
          67,
          64,
          10128,
          998,
          138,
          67,
          47,
          10328,
          1322,
          210,
          60,
          11,
          1178,
          199,
          56,
          34,
          1062,
          154,
          54,
          15,
          1555,
          69,
          43,
          18,
          1608,
          365,
          50,
          24,
          1813,
          182,
          38,
          15,
          1933,
          207,
          71,
          19,
          1935,
          222,
          48,
          45,
          1916,
          294,
          1,
          68,
          41,
          2432,
          304,
          0,
          102,
          9,
          2593,
          264,
          0,
          48,
          38,
          2602,
          351,
          0,
          25,
          31,
          3963,
          425,
          0,
          52,
          44,
          5041,
          465,
          2,
          57,
          75,
          4074,
          491,
          0,
          71,
          35,
          4944,
          477,
          2,
          45,
          56,
          6045,
          443,
          1,
          62,
          80,
          7998,
          462,
          1,
          47,
          62,
          8147,
          497,
          1,
          66,
          61,
          7813,
          553,
          2,
          106,
          81,
          7627,
          605,
          1,
          97,
          80,
          6051,
          796,
          2,
          134,
          82,
          7948,
          813,
          6,
          128,
          73,
          10093,
          793,
          2,
          85,
          71,
          10167,
          704,
          2,
          131,
          10376,
          21,
          110
         ],
         "yaxis": "y"
        },
        {
         "alignmentgroup": "True",
         "hovertemplate": "State_Name=%{x}<br>Active=%{y}<extra></extra>",
         "legendgroup": "Chhattisgarh",
         "marker": {
          "color": "#EF553B",
          "pattern": {
           "shape": ""
          }
         },
         "name": "Chhattisgarh",
         "offsetgroup": "Chhattisgarh",
         "orientation": "v",
         "showlegend": true,
         "textposition": "auto",
         "type": "bar",
         "x": [
          "Chhattisgarh",
          "Chhattisgarh",
          "Chhattisgarh",
          "Chhattisgarh",
          "Chhattisgarh",
          "Chhattisgarh",
          "Chhattisgarh",
          "Chhattisgarh",
          "Chhattisgarh",
          "Chhattisgarh",
          "Chhattisgarh",
          "Chhattisgarh",
          "Chhattisgarh",
          "Chhattisgarh",
          "Chhattisgarh",
          "Chhattisgarh",
          "Chhattisgarh",
          "Chhattisgarh",
          "Chhattisgarh",
          "Chhattisgarh",
          "Chhattisgarh",
          "Chhattisgarh",
          "Chhattisgarh",
          "Chhattisgarh",
          "Chhattisgarh",
          "Chhattisgarh",
          "Chhattisgarh",
          "Chhattisgarh",
          "Chhattisgarh",
          "Chhattisgarh",
          "Chhattisgarh",
          "Chhattisgarh",
          "Chhattisgarh",
          "Chhattisgarh",
          "Chhattisgarh",
          "Chhattisgarh",
          "Chhattisgarh",
          "Chhattisgarh",
          "Chhattisgarh",
          "Chhattisgarh",
          "Chhattisgarh",
          "Chhattisgarh",
          "Chhattisgarh",
          "Chhattisgarh",
          "Chhattisgarh",
          "Chhattisgarh",
          "Chhattisgarh",
          "Chhattisgarh",
          "Chhattisgarh",
          "Chhattisgarh",
          "Chhattisgarh",
          "Chhattisgarh",
          "Chhattisgarh",
          "Chhattisgarh",
          "Chhattisgarh",
          "Chhattisgarh",
          "Chhattisgarh",
          "Chhattisgarh",
          "Chhattisgarh",
          "Chhattisgarh",
          "Chhattisgarh",
          "Chhattisgarh",
          "Chhattisgarh",
          "Chhattisgarh",
          "Chhattisgarh",
          "Chhattisgarh",
          "Chhattisgarh",
          "Chhattisgarh",
          "Chhattisgarh",
          "Chhattisgarh",
          "Chhattisgarh",
          "Chhattisgarh",
          "Chhattisgarh",
          "Chhattisgarh",
          "Chhattisgarh",
          "Chhattisgarh",
          "Chhattisgarh",
          "Chhattisgarh",
          "Chhattisgarh",
          "Chhattisgarh",
          "Chhattisgarh",
          "Chhattisgarh",
          "Chhattisgarh",
          "Chhattisgarh",
          "Chhattisgarh",
          "Chhattisgarh",
          "Chhattisgarh",
          "Chhattisgarh",
          "Chhattisgarh",
          "Chhattisgarh",
          "Chhattisgarh",
          "Chhattisgarh",
          "Chhattisgarh",
          "Chhattisgarh",
          "Chhattisgarh",
          "Chhattisgarh",
          "Chhattisgarh",
          "Chhattisgarh",
          "Chhattisgarh",
          "Chhattisgarh",
          "Chhattisgarh",
          "Chhattisgarh",
          "Chhattisgarh",
          "Chhattisgarh",
          "Chhattisgarh",
          "Chhattisgarh",
          "Chhattisgarh",
          "Chhattisgarh",
          "Chhattisgarh",
          "Chhattisgarh",
          "Chhattisgarh",
          "Chhattisgarh",
          "Chhattisgarh",
          "Chhattisgarh",
          "Chhattisgarh",
          "Chhattisgarh",
          "Chhattisgarh",
          "Chhattisgarh",
          "Chhattisgarh",
          "Chhattisgarh",
          "Chhattisgarh",
          "Chhattisgarh",
          "Chhattisgarh",
          "Chhattisgarh",
          "Chhattisgarh",
          "Chhattisgarh",
          "Chhattisgarh",
          "Chhattisgarh",
          "Chhattisgarh",
          "Chhattisgarh",
          "Chhattisgarh",
          "Chhattisgarh",
          "Chhattisgarh",
          "Chhattisgarh",
          "Chhattisgarh",
          "Chhattisgarh",
          "Chhattisgarh",
          "Chhattisgarh",
          "Chhattisgarh",
          "Chhattisgarh",
          "Chhattisgarh",
          "Chhattisgarh",
          "Chhattisgarh",
          "Chhattisgarh",
          "Chhattisgarh",
          "Chhattisgarh"
         ],
         "xaxis": "x",
         "y": [
          0,
          235,
          82,
          49,
          3,
          0,
          181,
          73,
          15,
          0,
          0,
          212,
          52,
          64,
          14,
          1,
          382,
          96,
          147,
          1,
          0,
          295,
          46,
          90,
          1,
          0,
          523,
          98,
          60,
          0,
          0,
          110,
          150,
          0,
          0,
          111,
          124,
          0,
          8,
          140,
          14,
          0,
          0,
          166,
          51,
          0,
          7,
          65,
          136,
          0,
          6,
          184,
          47,
          0,
          0,
          184,
          105,
          0,
          2,
          114,
          121,
          0,
          1,
          0,
          177,
          44,
          0,
          6,
          3,
          198,
          69,
          0,
          1,
          0,
          249,
          80,
          0,
          18,
          0,
          243,
          82,
          0,
          10,
          0,
          161,
          72,
          1,
          5,
          0,
          191,
          116,
          0,
          14,
          0,
          133,
          121,
          0,
          14,
          0,
          268,
          47,
          0,
          44,
          0,
          371,
          83,
          0,
          42,
          0,
          449,
          34,
          0,
          38,
          1,
          363,
          37,
          2,
          40,
          0,
          431,
          89,
          3,
          68,
          0,
          367,
          65,
          0,
          4,
          1,
          306,
          84,
          1,
          34,
          0,
          314,
          101,
          0,
          17,
          2,
          256,
          63,
          1,
          32,
          336,
          1,
          51
         ],
         "yaxis": "y"
        },
        {
         "alignmentgroup": "True",
         "hovertemplate": "State_Name=%{x}<br>Active=%{y}<extra></extra>",
         "legendgroup": "Delhi",
         "marker": {
          "color": "#00cc96",
          "pattern": {
           "shape": ""
          }
         },
         "name": "Delhi",
         "offsetgroup": "Delhi",
         "orientation": "v",
         "showlegend": true,
         "textposition": "auto",
         "type": "bar",
         "x": [
          "Delhi",
          "Delhi",
          "Delhi",
          "Delhi",
          "Delhi",
          "Delhi",
          "Delhi",
          "Delhi",
          "Delhi",
          "Delhi",
          "Delhi",
          "Delhi",
          "Delhi",
          "Delhi",
          "Delhi",
          "Delhi",
          "Delhi",
          "Delhi",
          "Delhi",
          "Delhi",
          "Delhi",
          "Delhi",
          "Delhi",
          "Delhi",
          "Delhi",
          "Delhi",
          "Delhi",
          "Delhi",
          "Delhi",
          "Delhi",
          "Delhi",
          "Delhi",
          "Delhi",
          "Delhi",
          "Delhi",
          "Delhi",
          "Delhi",
          "Delhi",
          "Delhi",
          "Delhi",
          "Delhi",
          "Delhi",
          "Delhi",
          "Delhi",
          "Delhi",
          "Delhi",
          "Delhi",
          "Delhi",
          "Delhi",
          "Delhi",
          "Delhi",
          "Delhi",
          "Delhi",
          "Delhi",
          "Delhi",
          "Delhi",
          "Delhi",
          "Delhi",
          "Delhi",
          "Delhi",
          "Delhi",
          "Delhi",
          "Delhi",
          "Delhi",
          "Delhi",
          "Delhi",
          "Delhi",
          "Delhi",
          "Delhi",
          "Delhi",
          "Delhi",
          "Delhi",
          "Delhi",
          "Delhi",
          "Delhi",
          "Delhi",
          "Delhi",
          "Delhi",
          "Delhi",
          "Delhi",
          "Delhi",
          "Delhi",
          "Delhi",
          "Delhi",
          "Delhi",
          "Delhi",
          "Delhi",
          "Delhi",
          "Delhi",
          "Delhi",
          "Delhi",
          "Delhi",
          "Delhi",
          "Delhi",
          "Delhi",
          "Delhi",
          "Delhi",
          "Delhi",
          "Delhi",
          "Delhi",
          "Delhi",
          "Delhi",
          "Delhi",
          "Delhi",
          "Delhi",
          "Delhi",
          "Delhi",
          "Delhi",
          "Delhi",
          "Delhi",
          "Delhi",
          "Delhi",
          "Delhi",
          "Delhi",
          "Delhi",
          "Delhi",
          "Delhi",
          "Delhi",
          "Delhi",
          "Delhi",
          "Delhi",
          "Delhi",
          "Delhi",
          "Delhi",
          "Delhi",
          "Delhi",
          "Delhi",
          "Delhi",
          "Delhi",
          "Delhi",
          "Delhi",
          "Delhi",
          "Delhi",
          "Delhi",
          "Delhi",
          "Delhi",
          "Delhi",
          "Delhi",
          "Delhi",
          "Delhi",
          "Delhi",
          "Delhi",
          "Delhi",
          "Delhi",
          "Delhi",
          "Delhi"
         ],
         "xaxis": "x",
         "y": [
          32,
          1118,
          2442,
          990,
          223,
          141,
          961,
          2373,
          1298,
          384,
          93,
          805,
          2520,
          1513,
          427,
          59,
          674,
          2505,
          1359,
          349,
          58,
          1076,
          2244,
          1330,
          206,
          22,
          1299,
          1379,
          1320,
          428,
          51,
          2008,
          1282,
          448,
          93,
          2033,
          1007,
          338,
          51,
          2187,
          1366,
          224,
          183,
          2089,
          1501,
          381,
          166,
          1781,
          1877,
          310,
          85,
          1573,
          2137,
          406,
          356,
          1246,
          2134,
          359,
          51,
          1606,
          2224,
          7,
          472,
          17,
          1647,
          1647,
          0,
          425,
          62,
          1652,
          1859,
          0,
          438,
          67,
          1462,
          2414,
          1,
          422,
          186,
          1475,
          2877,
          2,
          299,
          110,
          1211,
          3137,
          4,
          500,
          78,
          954,
          3630,
          6,
          534,
          75,
          1349,
          3000,
          7,
          571,
          92,
          1227,
          2909,
          0,
          660,
          128,
          1041,
          3947,
          3,
          591,
          138,
          1025,
          3788,
          0,
          508,
          111,
          1142,
          3390,
          5,
          635,
          293,
          1075,
          3460,
          1,
          412,
          190,
          613,
          2948,
          4,
          792,
          206,
          1056,
          2889,
          9,
          1024,
          125,
          1035,
          2084,
          23,
          1105,
          76,
          1093,
          2199,
          25,
          1163,
          1195,
          23,
          1295
         ],
         "yaxis": "y"
        },
        {
         "alignmentgroup": "True",
         "hovertemplate": "State_Name=%{x}<br>Active=%{y}<extra></extra>",
         "legendgroup": "Gujarat",
         "marker": {
          "color": "#ab63fa",
          "pattern": {
           "shape": ""
          }
         },
         "name": "Gujarat",
         "offsetgroup": "Gujarat",
         "orientation": "v",
         "showlegend": true,
         "textposition": "auto",
         "type": "bar",
         "x": [
          "Gujarat",
          "Gujarat",
          "Gujarat",
          "Gujarat",
          "Gujarat",
          "Gujarat",
          "Gujarat",
          "Gujarat",
          "Gujarat",
          "Gujarat",
          "Gujarat",
          "Gujarat",
          "Gujarat",
          "Gujarat",
          "Gujarat",
          "Gujarat",
          "Gujarat",
          "Gujarat",
          "Gujarat",
          "Gujarat",
          "Gujarat",
          "Gujarat",
          "Gujarat",
          "Gujarat",
          "Gujarat",
          "Gujarat",
          "Gujarat",
          "Gujarat",
          "Gujarat",
          "Gujarat",
          "Gujarat",
          "Gujarat",
          "Gujarat",
          "Gujarat",
          "Gujarat",
          "Gujarat",
          "Gujarat",
          "Gujarat",
          "Gujarat",
          "Gujarat",
          "Gujarat",
          "Gujarat",
          "Gujarat",
          "Gujarat",
          "Gujarat",
          "Gujarat",
          "Gujarat",
          "Gujarat",
          "Gujarat",
          "Gujarat",
          "Gujarat",
          "Gujarat",
          "Gujarat",
          "Gujarat",
          "Gujarat",
          "Gujarat",
          "Gujarat",
          "Gujarat",
          "Gujarat",
          "Gujarat",
          "Gujarat",
          "Gujarat",
          "Gujarat",
          "Gujarat",
          "Gujarat",
          "Gujarat",
          "Gujarat",
          "Gujarat",
          "Gujarat",
          "Gujarat",
          "Gujarat",
          "Gujarat",
          "Gujarat",
          "Gujarat",
          "Gujarat",
          "Gujarat",
          "Gujarat",
          "Gujarat",
          "Gujarat",
          "Gujarat",
          "Gujarat",
          "Gujarat",
          "Gujarat",
          "Gujarat",
          "Gujarat",
          "Gujarat",
          "Gujarat",
          "Gujarat",
          "Gujarat",
          "Gujarat",
          "Gujarat",
          "Gujarat",
          "Gujarat",
          "Gujarat",
          "Gujarat",
          "Gujarat",
          "Gujarat",
          "Gujarat",
          "Gujarat",
          "Gujarat",
          "Gujarat",
          "Gujarat",
          "Gujarat",
          "Gujarat",
          "Gujarat",
          "Gujarat",
          "Gujarat",
          "Gujarat",
          "Gujarat",
          "Gujarat",
          "Gujarat",
          "Gujarat",
          "Gujarat",
          "Gujarat",
          "Gujarat",
          "Gujarat",
          "Gujarat",
          "Gujarat",
          "Gujarat",
          "Gujarat",
          "Gujarat",
          "Gujarat",
          "Gujarat",
          "Gujarat",
          "Gujarat",
          "Gujarat",
          "Gujarat",
          "Gujarat",
          "Gujarat",
          "Gujarat",
          "Gujarat",
          "Gujarat",
          "Gujarat",
          "Gujarat",
          "Gujarat",
          "Gujarat",
          "Gujarat",
          "Gujarat",
          "Gujarat",
          "Gujarat",
          "Gujarat",
          "Gujarat",
          "Gujarat",
          "Gujarat",
          "Gujarat",
          "Gujarat"
         ],
         "xaxis": "x",
         "y": [
          13,
          1136,
          675,
          423,
          326,
          1,
          1101,
          681,
          415,
          333,
          7,
          1009,
          687,
          485,
          374,
          13,
          1020,
          712,
          492,
          376,
          20,
          1073,
          725,
          510,
          441,
          18,
          1034,
          735,
          498,
          380,
          29,
          778,
          480,
          388,
          11,
          783,
          477,
          390,
          76,
          861,
          470,
          394,
          116,
          875,
          510,
          398,
          90,
          872,
          513,
          347,
          48,
          879,
          495,
          362,
          56,
          902,
          517,
          364,
          78,
          915,
          511,
          0,
          324,
          116,
          925,
          514,
          0,
          340,
          163,
          919,
          524,
          0,
          1057,
          170,
          949,
          520,
          0,
          391,
          277,
          960,
          510,
          0,
          366,
          367,
          965,
          540,
          2,
          395,
          196,
          998,
          539,
          5,
          398,
          239,
          1026,
          580,
          7,
          371,
          229,
          1020,
          563,
          4,
          363,
          217,
          1078,
          549,
          12,
          396,
          191,
          1068,
          572,
          4,
          394,
          256,
          1081,
          577,
          4,
          405,
          230,
          1110,
          580,
          5,
          361,
          247,
          1052,
          615,
          4,
          376,
          226,
          1108,
          624,
          8,
          367,
          308,
          1144,
          626,
          8,
          372,
          313,
          1159,
          620,
          7,
          412,
          1153,
          4,
          438
         ],
         "yaxis": "y"
        },
        {
         "alignmentgroup": "True",
         "hovertemplate": "State_Name=%{x}<br>Active=%{y}<extra></extra>",
         "legendgroup": "Jharkhand",
         "marker": {
          "color": "#FFA15A",
          "pattern": {
           "shape": ""
          }
         },
         "name": "Jharkhand",
         "offsetgroup": "Jharkhand",
         "orientation": "v",
         "showlegend": true,
         "textposition": "auto",
         "type": "bar",
         "x": [
          "Jharkhand",
          "Jharkhand",
          "Jharkhand",
          "Jharkhand",
          "Jharkhand",
          "Jharkhand",
          "Jharkhand",
          "Jharkhand",
          "Jharkhand",
          "Jharkhand",
          "Jharkhand",
          "Jharkhand",
          "Jharkhand",
          "Jharkhand",
          "Jharkhand",
          "Jharkhand",
          "Jharkhand",
          "Jharkhand",
          "Jharkhand",
          "Jharkhand",
          "Jharkhand",
          "Jharkhand",
          "Jharkhand",
          "Jharkhand",
          "Jharkhand",
          "Jharkhand",
          "Jharkhand",
          "Jharkhand",
          "Jharkhand",
          "Jharkhand",
          "Jharkhand",
          "Jharkhand",
          "Jharkhand",
          "Jharkhand",
          "Jharkhand",
          "Jharkhand",
          "Jharkhand",
          "Jharkhand",
          "Jharkhand",
          "Jharkhand",
          "Jharkhand",
          "Jharkhand",
          "Jharkhand",
          "Jharkhand",
          "Jharkhand",
          "Jharkhand",
          "Jharkhand",
          "Jharkhand",
          "Jharkhand",
          "Jharkhand",
          "Jharkhand",
          "Jharkhand",
          "Jharkhand",
          "Jharkhand",
          "Jharkhand",
          "Jharkhand",
          "Jharkhand",
          "Jharkhand",
          "Jharkhand",
          "Jharkhand",
          "Jharkhand",
          "Jharkhand",
          "Jharkhand",
          "Jharkhand",
          "Jharkhand",
          "Jharkhand",
          "Jharkhand",
          "Jharkhand",
          "Jharkhand",
          "Jharkhand",
          "Jharkhand",
          "Jharkhand",
          "Jharkhand",
          "Jharkhand",
          "Jharkhand",
          "Jharkhand",
          "Jharkhand",
          "Jharkhand",
          "Jharkhand",
          "Jharkhand",
          "Jharkhand",
          "Jharkhand",
          "Jharkhand",
          "Jharkhand",
          "Jharkhand",
          "Jharkhand",
          "Jharkhand",
          "Jharkhand",
          "Jharkhand",
          "Jharkhand",
          "Jharkhand",
          "Jharkhand",
          "Jharkhand",
          "Jharkhand",
          "Jharkhand",
          "Jharkhand",
          "Jharkhand",
          "Jharkhand",
          "Jharkhand",
          "Jharkhand",
          "Jharkhand",
          "Jharkhand",
          "Jharkhand",
          "Jharkhand",
          "Jharkhand",
          "Jharkhand",
          "Jharkhand",
          "Jharkhand",
          "Jharkhand",
          "Jharkhand",
          "Jharkhand",
          "Jharkhand",
          "Jharkhand",
          "Jharkhand",
          "Jharkhand",
          "Jharkhand",
          "Jharkhand",
          "Jharkhand",
          "Jharkhand",
          "Jharkhand",
          "Jharkhand",
          "Jharkhand",
          "Jharkhand",
          "Jharkhand",
          "Jharkhand",
          "Jharkhand",
          "Jharkhand",
          "Jharkhand",
          "Jharkhand",
          "Jharkhand",
          "Jharkhand",
          "Jharkhand",
          "Jharkhand",
          "Jharkhand",
          "Jharkhand",
          "Jharkhand",
          "Jharkhand",
          "Jharkhand",
          "Jharkhand",
          "Jharkhand",
          "Jharkhand",
          "Jharkhand",
          "Jharkhand",
          "Jharkhand",
          "Jharkhand",
          "Jharkhand"
         ],
         "xaxis": "x",
         "y": [
          0,
          790,
          35,
          26,
          3,
          1,
          455,
          60,
          61,
          2,
          0,
          941,
          112,
          42,
          0,
          0,
          570,
          42,
          63,
          0,
          1,
          978,
          68,
          95,
          10,
          1,
          708,
          47,
          106,
          2,
          0,
          164,
          75,
          5,
          0,
          116,
          187,
          22,
          9,
          134,
          126,
          2,
          1,
          250,
          135,
          1,
          3,
          145,
          48,
          4,
          2,
          97,
          57,
          11,
          5,
          203,
          55,
          5,
          3,
          262,
          52,
          0,
          26,
          1,
          337,
          30,
          0,
          8,
          1,
          221,
          46,
          0,
          6,
          3,
          313,
          57,
          0,
          6,
          1,
          289,
          23,
          0,
          5,
          8,
          167,
          42,
          0,
          20,
          5,
          225,
          63,
          0,
          42,
          0,
          418,
          74,
          0,
          13,
          0,
          487,
          42,
          0,
          20,
          7,
          482,
          53,
          0,
          27,
          6,
          400,
          26,
          0,
          20,
          8,
          277,
          44,
          0,
          35,
          15,
          508,
          31,
          0,
          21,
          21,
          454,
          45,
          0,
          7,
          2,
          760,
          25,
          0,
          6,
          2,
          331,
          62,
          0,
          82,
          3,
          505,
          64,
          0,
          73,
          915,
          1,
          41
         ],
         "yaxis": "y"
        },
        {
         "alignmentgroup": "True",
         "hovertemplate": "State_Name=%{x}<br>Active=%{y}<extra></extra>",
         "legendgroup": "Karnataka",
         "marker": {
          "color": "#19d3f3",
          "pattern": {
           "shape": ""
          }
         },
         "name": "Karnataka",
         "offsetgroup": "Karnataka",
         "orientation": "v",
         "showlegend": true,
         "textposition": "auto",
         "type": "bar",
         "x": [
          "Karnataka",
          "Karnataka",
          "Karnataka",
          "Karnataka",
          "Karnataka",
          "Karnataka",
          "Karnataka",
          "Karnataka",
          "Karnataka",
          "Karnataka",
          "Karnataka",
          "Karnataka",
          "Karnataka",
          "Karnataka",
          "Karnataka",
          "Karnataka",
          "Karnataka",
          "Karnataka",
          "Karnataka",
          "Karnataka",
          "Karnataka",
          "Karnataka",
          "Karnataka",
          "Karnataka",
          "Karnataka",
          "Karnataka",
          "Karnataka",
          "Karnataka",
          "Karnataka",
          "Karnataka",
          "Karnataka",
          "Karnataka",
          "Karnataka",
          "Karnataka",
          "Karnataka",
          "Karnataka",
          "Karnataka",
          "Karnataka",
          "Karnataka",
          "Karnataka",
          "Karnataka",
          "Karnataka",
          "Karnataka",
          "Karnataka",
          "Karnataka",
          "Karnataka",
          "Karnataka",
          "Karnataka",
          "Karnataka",
          "Karnataka",
          "Karnataka",
          "Karnataka",
          "Karnataka",
          "Karnataka",
          "Karnataka",
          "Karnataka",
          "Karnataka",
          "Karnataka",
          "Karnataka",
          "Karnataka",
          "Karnataka",
          "Karnataka",
          "Karnataka",
          "Karnataka",
          "Karnataka",
          "Karnataka",
          "Karnataka",
          "Karnataka",
          "Karnataka",
          "Karnataka",
          "Karnataka",
          "Karnataka",
          "Karnataka",
          "Karnataka",
          "Karnataka",
          "Karnataka",
          "Karnataka",
          "Karnataka",
          "Karnataka",
          "Karnataka",
          "Karnataka",
          "Karnataka",
          "Karnataka",
          "Karnataka",
          "Karnataka",
          "Karnataka",
          "Karnataka",
          "Karnataka",
          "Karnataka",
          "Karnataka",
          "Karnataka",
          "Karnataka",
          "Karnataka",
          "Karnataka",
          "Karnataka",
          "Karnataka",
          "Karnataka",
          "Karnataka",
          "Karnataka",
          "Karnataka",
          "Karnataka",
          "Karnataka",
          "Karnataka",
          "Karnataka",
          "Karnataka",
          "Karnataka",
          "Karnataka",
          "Karnataka",
          "Karnataka",
          "Karnataka",
          "Karnataka",
          "Karnataka",
          "Karnataka",
          "Karnataka",
          "Karnataka",
          "Karnataka",
          "Karnataka",
          "Karnataka",
          "Karnataka",
          "Karnataka",
          "Karnataka",
          "Karnataka",
          "Karnataka",
          "Karnataka",
          "Karnataka",
          "Karnataka",
          "Karnataka",
          "Karnataka",
          "Karnataka",
          "Karnataka",
          "Karnataka",
          "Karnataka",
          "Karnataka",
          "Karnataka",
          "Karnataka",
          "Karnataka",
          "Karnataka",
          "Karnataka",
          "Karnataka",
          "Karnataka",
          "Karnataka",
          "Karnataka",
          "Karnataka",
          "Karnataka",
          "Karnataka",
          "Karnataka"
         ],
         "xaxis": "x",
         "y": [
          9,
          5172,
          1272,
          187,
          24,
          14,
          5532,
          1502,
          388,
          12,
          4,
          4752,
          1694,
          267,
          13,
          16,
          6259,
          1839,
          257,
          37,
          7,
          5619,
          1925,
          515,
          22,
          12,
          6805,
          1843,
          378,
          20,
          12,
          1498,
          239,
          12,
          6,
          2062,
          308,
          48,
          16,
          2228,
          161,
          41,
          10,
          2313,
          120,
          54,
          8,
          2798,
          204,
          14,
          17,
          2627,
          271,
          63,
          15,
          2738,
          308,
          34,
          13,
          2496,
          176,
          6,
          28,
          19,
          3176,
          213,
          0,
          69,
          36,
          4169,
          317,
          1,
          36,
          44,
          3693,
          204,
          2,
          55,
          25,
          4537,
          210,
          5,
          99,
          6,
          4120,
          337,
          1,
          149,
          18,
          3648,
          416,
          0,
          67,
          10,
          3649,
          453,
          5,
          143,
          9,
          4764,
          249,
          6,
          138,
          18,
          5030,
          322,
          7,
          216,
          29,
          5007,
          397,
          8,
          130,
          26,
          5072,
          442,
          10,
          93,
          3,
          5199,
          445,
          4,
          101,
          9,
          5324,
          918,
          9,
          135,
          11,
          5536,
          1267,
          17,
          115,
          12,
          5503,
          1105,
          2,
          248,
          30,
          6128,
          947,
          5,
          141,
          5483,
          13,
          299
         ],
         "yaxis": "y"
        },
        {
         "alignmentgroup": "True",
         "hovertemplate": "State_Name=%{x}<br>Active=%{y}<extra></extra>",
         "legendgroup": "Kerala",
         "marker": {
          "color": "#FF6692",
          "pattern": {
           "shape": ""
          }
         },
         "name": "Kerala",
         "offsetgroup": "Kerala",
         "orientation": "v",
         "showlegend": true,
         "textposition": "auto",
         "type": "bar",
         "x": [
          "Kerala",
          "Kerala",
          "Kerala",
          "Kerala",
          "Kerala",
          "Kerala",
          "Kerala",
          "Kerala",
          "Kerala",
          "Kerala",
          "Kerala",
          "Kerala",
          "Kerala",
          "Kerala",
          "Kerala",
          "Kerala",
          "Kerala",
          "Kerala",
          "Kerala",
          "Kerala",
          "Kerala",
          "Kerala",
          "Kerala",
          "Kerala",
          "Kerala",
          "Kerala",
          "Kerala",
          "Kerala",
          "Kerala",
          "Kerala",
          "Kerala",
          "Kerala",
          "Kerala",
          "Kerala",
          "Kerala",
          "Kerala",
          "Kerala",
          "Kerala",
          "Kerala",
          "Kerala",
          "Kerala",
          "Kerala",
          "Kerala",
          "Kerala",
          "Kerala",
          "Kerala",
          "Kerala",
          "Kerala",
          "Kerala",
          "Kerala",
          "Kerala",
          "Kerala",
          "Kerala",
          "Kerala",
          "Kerala",
          "Kerala",
          "Kerala",
          "Kerala",
          "Kerala",
          "Kerala",
          "Kerala",
          "Kerala",
          "Kerala",
          "Kerala",
          "Kerala",
          "Kerala",
          "Kerala",
          "Kerala",
          "Kerala",
          "Kerala",
          "Kerala",
          "Kerala",
          "Kerala",
          "Kerala",
          "Kerala",
          "Kerala",
          "Kerala",
          "Kerala",
          "Kerala",
          "Kerala",
          "Kerala",
          "Kerala",
          "Kerala",
          "Kerala",
          "Kerala",
          "Kerala",
          "Kerala",
          "Kerala",
          "Kerala",
          "Kerala",
          "Kerala",
          "Kerala",
          "Kerala",
          "Kerala",
          "Kerala",
          "Kerala",
          "Kerala",
          "Kerala",
          "Kerala",
          "Kerala",
          "Kerala",
          "Kerala",
          "Kerala",
          "Kerala",
          "Kerala",
          "Kerala",
          "Kerala",
          "Kerala",
          "Kerala",
          "Kerala",
          "Kerala",
          "Kerala",
          "Kerala",
          "Kerala",
          "Kerala",
          "Kerala",
          "Kerala",
          "Kerala",
          "Kerala",
          "Kerala",
          "Kerala",
          "Kerala",
          "Kerala",
          "Kerala",
          "Kerala",
          "Kerala",
          "Kerala",
          "Kerala",
          "Kerala",
          "Kerala",
          "Kerala",
          "Kerala",
          "Kerala",
          "Kerala",
          "Kerala",
          "Kerala",
          "Kerala",
          "Kerala",
          "Kerala",
          "Kerala",
          "Kerala",
          "Kerala",
          "Kerala",
          "Kerala",
          "Kerala",
          "Kerala"
         ],
         "xaxis": "x",
         "y": [
          24,
          1129,
          151,
          57,
          0,
          21,
          1169,
          160,
          86,
          2,
          9,
          961,
          211,
          82,
          0,
          11,
          1083,
          240,
          94,
          0,
          8,
          1195,
          225,
          111,
          3,
          13,
          1298,
          193,
          108,
          0,
          9,
          272,
          107,
          0,
          9,
          301,
          91,
          1,
          12,
          339,
          91,
          2,
          7,
          416,
          65,
          7,
          10,
          488,
          83,
          7,
          2,
          435,
          78,
          5,
          3,
          449,
          85,
          10,
          8,
          608,
          54,
          19,
          26,
          1,
          623,
          82,
          5,
          16,
          7,
          722,
          79,
          3,
          11,
          1,
          791,
          75,
          0,
          14,
          4,
          593,
          97,
          0,
          29,
          2,
          821,
          118,
          1,
          12,
          6,
          794,
          127,
          12,
          24,
          19,
          720,
          133,
          12,
          24,
          11,
          1038,
          138,
          15,
          42,
          10,
          1078,
          141,
          28,
          62,
          3,
          885,
          152,
          14,
          53,
          7,
          1103,
          123,
          9,
          49,
          11,
          927,
          150,
          19,
          67,
          13,
          702,
          195,
          39,
          40,
          4,
          1167,
          118,
          6,
          85,
          10,
          903,
          122,
          20,
          62,
          2,
          506,
          131,
          32,
          58,
          1310,
          7,
          61
         ],
         "yaxis": "y"
        },
        {
         "alignmentgroup": "True",
         "hovertemplate": "State_Name=%{x}<br>Active=%{y}<extra></extra>",
         "legendgroup": "Maharashtra",
         "marker": {
          "color": "#B6E880",
          "pattern": {
           "shape": ""
          }
         },
         "name": "Maharashtra",
         "offsetgroup": "Maharashtra",
         "orientation": "v",
         "showlegend": true,
         "textposition": "auto",
         "type": "bar",
         "x": [
          "Maharashtra",
          "Maharashtra",
          "Maharashtra",
          "Maharashtra",
          "Maharashtra",
          "Maharashtra",
          "Maharashtra",
          "Maharashtra",
          "Maharashtra",
          "Maharashtra",
          "Maharashtra",
          "Maharashtra",
          "Maharashtra",
          "Maharashtra",
          "Maharashtra",
          "Maharashtra",
          "Maharashtra",
          "Maharashtra",
          "Maharashtra",
          "Maharashtra",
          "Maharashtra",
          "Maharashtra",
          "Maharashtra",
          "Maharashtra",
          "Maharashtra",
          "Maharashtra",
          "Maharashtra",
          "Maharashtra",
          "Maharashtra",
          "Maharashtra",
          "Maharashtra",
          "Maharashtra",
          "Maharashtra",
          "Maharashtra",
          "Maharashtra",
          "Maharashtra",
          "Maharashtra",
          "Maharashtra",
          "Maharashtra",
          "Maharashtra",
          "Maharashtra",
          "Maharashtra",
          "Maharashtra",
          "Maharashtra",
          "Maharashtra",
          "Maharashtra",
          "Maharashtra",
          "Maharashtra",
          "Maharashtra",
          "Maharashtra",
          "Maharashtra",
          "Maharashtra",
          "Maharashtra",
          "Maharashtra",
          "Maharashtra",
          "Maharashtra",
          "Maharashtra",
          "Maharashtra",
          "Maharashtra",
          "Maharashtra",
          "Maharashtra",
          "Maharashtra",
          "Maharashtra",
          "Maharashtra",
          "Maharashtra",
          "Maharashtra",
          "Maharashtra",
          "Maharashtra",
          "Maharashtra",
          "Maharashtra",
          "Maharashtra",
          "Maharashtra",
          "Maharashtra",
          "Maharashtra",
          "Maharashtra",
          "Maharashtra",
          "Maharashtra",
          "Maharashtra",
          "Maharashtra",
          "Maharashtra",
          "Maharashtra",
          "Maharashtra",
          "Maharashtra",
          "Maharashtra",
          "Maharashtra",
          "Maharashtra",
          "Maharashtra",
          "Maharashtra",
          "Maharashtra",
          "Maharashtra",
          "Maharashtra",
          "Maharashtra",
          "Maharashtra",
          "Maharashtra",
          "Maharashtra",
          "Maharashtra",
          "Maharashtra",
          "Maharashtra",
          "Maharashtra",
          "Maharashtra",
          "Maharashtra",
          "Maharashtra",
          "Maharashtra",
          "Maharashtra",
          "Maharashtra",
          "Maharashtra",
          "Maharashtra",
          "Maharashtra",
          "Maharashtra",
          "Maharashtra",
          "Maharashtra",
          "Maharashtra",
          "Maharashtra",
          "Maharashtra",
          "Maharashtra",
          "Maharashtra",
          "Maharashtra",
          "Maharashtra",
          "Maharashtra",
          "Maharashtra",
          "Maharashtra",
          "Maharashtra",
          "Maharashtra",
          "Maharashtra",
          "Maharashtra",
          "Maharashtra",
          "Maharashtra",
          "Maharashtra",
          "Maharashtra",
          "Maharashtra",
          "Maharashtra",
          "Maharashtra",
          "Maharashtra",
          "Maharashtra",
          "Maharashtra",
          "Maharashtra",
          "Maharashtra",
          "Maharashtra",
          "Maharashtra",
          "Maharashtra",
          "Maharashtra",
          "Maharashtra",
          "Maharashtra",
          "Maharashtra",
          "Maharashtra",
          "Maharashtra"
         ],
         "xaxis": "x",
         "y": [
          33,
          9601,
          5537,
          2358,
          1008,
          88,
          9509,
          6328,
          2287,
          790,
          64,
          8968,
          6364,
          2560,
          678,
          148,
          7760,
          7074,
          2933,
          1567,
          112,
          10309,
          6555,
          2436,
          984,
          121,
          11514,
          5368,
          2739,
          1233,
          150,
          5134,
          3007,
          1216,
          117,
          6603,
          2554,
          1089,
          229,
          6875,
          2258,
          1165,
          210,
          7862,
          3254,
          1943,
          187,
          8139,
          3607,
          1230,
          221,
          7827,
          3493,
          1026,
          352,
          6497,
          3427,
          1495,
          346,
          6741,
          3390,
          14,
          1602,
          236,
          7975,
          2786,
          18,
          1576,
          285,
          8641,
          2701,
          6,
          1606,
          120,
          8308,
          3307,
          3,
          2347,
          327,
          8348,
          3752,
          3,
          2005,
          552,
          9518,
          3827,
          4,
          2078,
          466,
          8240,
          3874,
          4,
          2161,
          552,
          8336,
          3870,
          12,
          2345,
          431,
          10576,
          3721,
          10,
          2940,
          778,
          9895,
          3214,
          23,
          2608,
          390,
          9615,
          3889,
          10,
          3041,
          811,
          9251,
          4842,
          15,
          2436,
          440,
          9431,
          5024,
          3,
          2091,
          522,
          7924,
          6368,
          31,
          2190,
          728,
          7717,
          5493,
          30,
          2598,
          597,
          9211,
          5257,
          17,
          2682,
          583,
          11147,
          4878,
          17,
          2940,
          10320,
          82,
          2487
         ],
         "yaxis": "y"
        },
        {
         "alignmentgroup": "True",
         "hovertemplate": "State_Name=%{x}<br>Active=%{y}<extra></extra>",
         "legendgroup": "Odisha",
         "marker": {
          "color": "#FF97FF",
          "pattern": {
           "shape": ""
          }
         },
         "name": "Odisha",
         "offsetgroup": "Odisha",
         "orientation": "v",
         "showlegend": true,
         "textposition": "auto",
         "type": "bar",
         "x": [
          "Odisha",
          "Odisha",
          "Odisha",
          "Odisha",
          "Odisha",
          "Odisha",
          "Odisha",
          "Odisha",
          "Odisha",
          "Odisha",
          "Odisha",
          "Odisha",
          "Odisha",
          "Odisha",
          "Odisha",
          "Odisha",
          "Odisha",
          "Odisha",
          "Odisha",
          "Odisha",
          "Odisha",
          "Odisha",
          "Odisha",
          "Odisha",
          "Odisha",
          "Odisha",
          "Odisha",
          "Odisha",
          "Odisha",
          "Odisha",
          "Odisha",
          "Odisha",
          "Odisha",
          "Odisha",
          "Odisha",
          "Odisha",
          "Odisha",
          "Odisha",
          "Odisha",
          "Odisha",
          "Odisha",
          "Odisha",
          "Odisha",
          "Odisha",
          "Odisha",
          "Odisha",
          "Odisha",
          "Odisha",
          "Odisha",
          "Odisha",
          "Odisha",
          "Odisha",
          "Odisha",
          "Odisha",
          "Odisha",
          "Odisha",
          "Odisha",
          "Odisha",
          "Odisha",
          "Odisha",
          "Odisha",
          "Odisha",
          "Odisha",
          "Odisha",
          "Odisha",
          "Odisha",
          "Odisha",
          "Odisha",
          "Odisha",
          "Odisha",
          "Odisha",
          "Odisha",
          "Odisha",
          "Odisha",
          "Odisha",
          "Odisha",
          "Odisha",
          "Odisha",
          "Odisha",
          "Odisha",
          "Odisha",
          "Odisha",
          "Odisha",
          "Odisha",
          "Odisha",
          "Odisha",
          "Odisha",
          "Odisha",
          "Odisha",
          "Odisha",
          "Odisha",
          "Odisha",
          "Odisha",
          "Odisha",
          "Odisha",
          "Odisha",
          "Odisha",
          "Odisha",
          "Odisha",
          "Odisha",
          "Odisha",
          "Odisha",
          "Odisha",
          "Odisha",
          "Odisha",
          "Odisha",
          "Odisha",
          "Odisha",
          "Odisha",
          "Odisha",
          "Odisha",
          "Odisha",
          "Odisha",
          "Odisha",
          "Odisha",
          "Odisha",
          "Odisha",
          "Odisha",
          "Odisha",
          "Odisha",
          "Odisha",
          "Odisha",
          "Odisha",
          "Odisha",
          "Odisha",
          "Odisha",
          "Odisha",
          "Odisha",
          "Odisha",
          "Odisha",
          "Odisha",
          "Odisha",
          "Odisha",
          "Odisha",
          "Odisha",
          "Odisha",
          "Odisha",
          "Odisha",
          "Odisha",
          "Odisha",
          "Odisha",
          "Odisha",
          "Odisha",
          "Odisha",
          "Odisha",
          "Odisha"
         ],
         "xaxis": "x",
         "y": [
          1,
          1602,
          251,
          156,
          11,
          0,
          1434,
          229,
          141,
          6,
          15,
          1384,
          561,
          143,
          2,
          1,
          1384,
          495,
          90,
          7,
          18,
          1337,
          469,
          130,
          8,
          1,
          1699,
          456,
          173,
          28,
          2,
          571,
          75,
          14,
          0,
          527,
          138,
          51,
          6,
          577,
          146,
          82,
          2,
          755,
          110,
          25,
          4,
          570,
          136,
          38,
          0,
          595,
          112,
          22,
          1,
          616,
          225,
          101,
          5,
          543,
          186,
          0,
          134,
          0,
          618,
          146,
          0,
          65,
          0,
          494,
          108,
          1,
          0,
          0,
          718,
          175,
          0,
          91,
          1,
          591,
          174,
          1,
          48,
          0,
          736,
          165,
          0,
          102,
          13,
          673,
          179,
          0,
          74,
          5,
          647,
          304,
          0,
          51,
          4,
          1078,
          143,
          0,
          86,
          6,
          1264,
          167,
          0,
          80,
          5,
          1594,
          282,
          0,
          67,
          6,
          1320,
          210,
          0,
          102,
          3,
          1376,
          218,
          1,
          79,
          15,
          1503,
          170,
          0,
          76,
          0,
          1215,
          264,
          0,
          67,
          7,
          1068,
          245,
          0,
          63,
          18,
          1203,
          206,
          0,
          96,
          1499,
          1,
          129
         ],
         "yaxis": "y"
        },
        {
         "alignmentgroup": "True",
         "hovertemplate": "State_Name=%{x}<br>Active=%{y}<extra></extra>",
         "legendgroup": "West Bengal",
         "marker": {
          "color": "#FECB52",
          "pattern": {
           "shape": ""
          }
         },
         "name": "West Bengal",
         "offsetgroup": "West Bengal",
         "orientation": "v",
         "showlegend": true,
         "textposition": "auto",
         "type": "bar",
         "x": [
          "West Bengal",
          "West Bengal",
          "West Bengal",
          "West Bengal",
          "West Bengal",
          "West Bengal",
          "West Bengal",
          "West Bengal",
          "West Bengal",
          "West Bengal",
          "West Bengal",
          "West Bengal",
          "West Bengal",
          "West Bengal",
          "West Bengal",
          "West Bengal",
          "West Bengal",
          "West Bengal",
          "West Bengal",
          "West Bengal",
          "West Bengal",
          "West Bengal",
          "West Bengal",
          "West Bengal",
          "West Bengal",
          "West Bengal",
          "West Bengal",
          "West Bengal",
          "West Bengal",
          "West Bengal",
          "West Bengal",
          "West Bengal",
          "West Bengal",
          "West Bengal",
          "West Bengal",
          "West Bengal",
          "West Bengal",
          "West Bengal",
          "West Bengal",
          "West Bengal",
          "West Bengal",
          "West Bengal",
          "West Bengal",
          "West Bengal",
          "West Bengal",
          "West Bengal",
          "West Bengal",
          "West Bengal",
          "West Bengal",
          "West Bengal",
          "West Bengal",
          "West Bengal",
          "West Bengal",
          "West Bengal",
          "West Bengal",
          "West Bengal",
          "West Bengal",
          "West Bengal",
          "West Bengal",
          "West Bengal",
          "West Bengal",
          "West Bengal",
          "West Bengal",
          "West Bengal",
          "West Bengal",
          "West Bengal",
          "West Bengal",
          "West Bengal",
          "West Bengal",
          "West Bengal",
          "West Bengal",
          "West Bengal",
          "West Bengal",
          "West Bengal",
          "West Bengal",
          "West Bengal",
          "West Bengal",
          "West Bengal",
          "West Bengal",
          "West Bengal",
          "West Bengal",
          "West Bengal",
          "West Bengal",
          "West Bengal",
          "West Bengal",
          "West Bengal",
          "West Bengal",
          "West Bengal",
          "West Bengal",
          "West Bengal",
          "West Bengal",
          "West Bengal",
          "West Bengal",
          "West Bengal",
          "West Bengal",
          "West Bengal",
          "West Bengal",
          "West Bengal",
          "West Bengal",
          "West Bengal",
          "West Bengal",
          "West Bengal",
          "West Bengal",
          "West Bengal",
          "West Bengal",
          "West Bengal",
          "West Bengal",
          "West Bengal",
          "West Bengal",
          "West Bengal",
          "West Bengal",
          "West Bengal",
          "West Bengal",
          "West Bengal",
          "West Bengal",
          "West Bengal",
          "West Bengal",
          "West Bengal",
          "West Bengal",
          "West Bengal",
          "West Bengal",
          "West Bengal",
          "West Bengal",
          "West Bengal",
          "West Bengal",
          "West Bengal",
          "West Bengal",
          "West Bengal",
          "West Bengal",
          "West Bengal",
          "West Bengal",
          "West Bengal",
          "West Bengal",
          "West Bengal",
          "West Bengal",
          "West Bengal",
          "West Bengal",
          "West Bengal",
          "West Bengal",
          "West Bengal",
          "West Bengal",
          "West Bengal",
          "West Bengal",
          "West Bengal",
          "West Bengal",
          "West Bengal"
         ],
         "xaxis": "x",
         "y": [
          0,
          2589,
          611,
          271,
          37,
          16,
          2739,
          649,
          396,
          127,
          0,
          2716,
          669,
          340,
          276,
          0,
          2752,
          743,
          368,
          61,
          27,
          2816,
          895,
          427,
          85,
          0,
          2954,
          861,
          435,
          112,
          11,
          850,
          449,
          92,
          8,
          986,
          426,
          130,
          4,
          1088,
          372,
          108,
          13,
          1198,
          343,
          153,
          10,
          1344,
          440,
          124,
          8,
          1560,
          476,
          110,
          18,
          1435,
          454,
          117,
          38,
          1390,
          389,
          0,
          87,
          23,
          1589,
          407,
          0,
          84,
          18,
          1690,
          415,
          0,
          115,
          24,
          1894,
          391,
          1,
          101,
          32,
          2198,
          435,
          0,
          147,
          23,
          2278,
          355,
          0,
          137,
          29,
          2282,
          441,
          1,
          142,
          53,
          2261,
          414,
          2,
          94,
          31,
          2291,
          413,
          3,
          135,
          33,
          2436,
          370,
          0,
          127,
          58,
          2216,
          445,
          2,
          208,
          57,
          2404,
          475,
          0,
          149,
          40,
          2341,
          542,
          1,
          193,
          38,
          2112,
          521,
          5,
          183,
          48,
          2134,
          572,
          3,
          344,
          28,
          2294,
          624,
          3,
          277,
          33,
          2434,
          652,
          1,
          317,
          2496,
          15,
          371
         ],
         "yaxis": "y"
        }
       ],
       "layout": {
        "barmode": "relative",
        "legend": {
         "title": {
          "text": "State_Name"
         },
         "tracegroupgap": 0
        },
        "margin": {
         "t": 60
        },
        "template": {
         "data": {
          "bar": [
           {
            "error_x": {
             "color": "#2a3f5f"
            },
            "error_y": {
             "color": "#2a3f5f"
            },
            "marker": {
             "line": {
              "color": "#E5ECF6",
              "width": 0.5
             },
             "pattern": {
              "fillmode": "overlay",
              "size": 10,
              "solidity": 0.2
             }
            },
            "type": "bar"
           }
          ],
          "barpolar": [
           {
            "marker": {
             "line": {
              "color": "#E5ECF6",
              "width": 0.5
             },
             "pattern": {
              "fillmode": "overlay",
              "size": 10,
              "solidity": 0.2
             }
            },
            "type": "barpolar"
           }
          ],
          "carpet": [
           {
            "aaxis": {
             "endlinecolor": "#2a3f5f",
             "gridcolor": "white",
             "linecolor": "white",
             "minorgridcolor": "white",
             "startlinecolor": "#2a3f5f"
            },
            "baxis": {
             "endlinecolor": "#2a3f5f",
             "gridcolor": "white",
             "linecolor": "white",
             "minorgridcolor": "white",
             "startlinecolor": "#2a3f5f"
            },
            "type": "carpet"
           }
          ],
          "choropleth": [
           {
            "colorbar": {
             "outlinewidth": 0,
             "ticks": ""
            },
            "type": "choropleth"
           }
          ],
          "contour": [
           {
            "colorbar": {
             "outlinewidth": 0,
             "ticks": ""
            },
            "colorscale": [
             [
              0,
              "#0d0887"
             ],
             [
              0.1111111111111111,
              "#46039f"
             ],
             [
              0.2222222222222222,
              "#7201a8"
             ],
             [
              0.3333333333333333,
              "#9c179e"
             ],
             [
              0.4444444444444444,
              "#bd3786"
             ],
             [
              0.5555555555555556,
              "#d8576b"
             ],
             [
              0.6666666666666666,
              "#ed7953"
             ],
             [
              0.7777777777777778,
              "#fb9f3a"
             ],
             [
              0.8888888888888888,
              "#fdca26"
             ],
             [
              1,
              "#f0f921"
             ]
            ],
            "type": "contour"
           }
          ],
          "contourcarpet": [
           {
            "colorbar": {
             "outlinewidth": 0,
             "ticks": ""
            },
            "type": "contourcarpet"
           }
          ],
          "heatmap": [
           {
            "colorbar": {
             "outlinewidth": 0,
             "ticks": ""
            },
            "colorscale": [
             [
              0,
              "#0d0887"
             ],
             [
              0.1111111111111111,
              "#46039f"
             ],
             [
              0.2222222222222222,
              "#7201a8"
             ],
             [
              0.3333333333333333,
              "#9c179e"
             ],
             [
              0.4444444444444444,
              "#bd3786"
             ],
             [
              0.5555555555555556,
              "#d8576b"
             ],
             [
              0.6666666666666666,
              "#ed7953"
             ],
             [
              0.7777777777777778,
              "#fb9f3a"
             ],
             [
              0.8888888888888888,
              "#fdca26"
             ],
             [
              1,
              "#f0f921"
             ]
            ],
            "type": "heatmap"
           }
          ],
          "heatmapgl": [
           {
            "colorbar": {
             "outlinewidth": 0,
             "ticks": ""
            },
            "colorscale": [
             [
              0,
              "#0d0887"
             ],
             [
              0.1111111111111111,
              "#46039f"
             ],
             [
              0.2222222222222222,
              "#7201a8"
             ],
             [
              0.3333333333333333,
              "#9c179e"
             ],
             [
              0.4444444444444444,
              "#bd3786"
             ],
             [
              0.5555555555555556,
              "#d8576b"
             ],
             [
              0.6666666666666666,
              "#ed7953"
             ],
             [
              0.7777777777777778,
              "#fb9f3a"
             ],
             [
              0.8888888888888888,
              "#fdca26"
             ],
             [
              1,
              "#f0f921"
             ]
            ],
            "type": "heatmapgl"
           }
          ],
          "histogram": [
           {
            "marker": {
             "pattern": {
              "fillmode": "overlay",
              "size": 10,
              "solidity": 0.2
             }
            },
            "type": "histogram"
           }
          ],
          "histogram2d": [
           {
            "colorbar": {
             "outlinewidth": 0,
             "ticks": ""
            },
            "colorscale": [
             [
              0,
              "#0d0887"
             ],
             [
              0.1111111111111111,
              "#46039f"
             ],
             [
              0.2222222222222222,
              "#7201a8"
             ],
             [
              0.3333333333333333,
              "#9c179e"
             ],
             [
              0.4444444444444444,
              "#bd3786"
             ],
             [
              0.5555555555555556,
              "#d8576b"
             ],
             [
              0.6666666666666666,
              "#ed7953"
             ],
             [
              0.7777777777777778,
              "#fb9f3a"
             ],
             [
              0.8888888888888888,
              "#fdca26"
             ],
             [
              1,
              "#f0f921"
             ]
            ],
            "type": "histogram2d"
           }
          ],
          "histogram2dcontour": [
           {
            "colorbar": {
             "outlinewidth": 0,
             "ticks": ""
            },
            "colorscale": [
             [
              0,
              "#0d0887"
             ],
             [
              0.1111111111111111,
              "#46039f"
             ],
             [
              0.2222222222222222,
              "#7201a8"
             ],
             [
              0.3333333333333333,
              "#9c179e"
             ],
             [
              0.4444444444444444,
              "#bd3786"
             ],
             [
              0.5555555555555556,
              "#d8576b"
             ],
             [
              0.6666666666666666,
              "#ed7953"
             ],
             [
              0.7777777777777778,
              "#fb9f3a"
             ],
             [
              0.8888888888888888,
              "#fdca26"
             ],
             [
              1,
              "#f0f921"
             ]
            ],
            "type": "histogram2dcontour"
           }
          ],
          "mesh3d": [
           {
            "colorbar": {
             "outlinewidth": 0,
             "ticks": ""
            },
            "type": "mesh3d"
           }
          ],
          "parcoords": [
           {
            "line": {
             "colorbar": {
              "outlinewidth": 0,
              "ticks": ""
             }
            },
            "type": "parcoords"
           }
          ],
          "pie": [
           {
            "automargin": true,
            "type": "pie"
           }
          ],
          "scatter": [
           {
            "marker": {
             "colorbar": {
              "outlinewidth": 0,
              "ticks": ""
             }
            },
            "type": "scatter"
           }
          ],
          "scatter3d": [
           {
            "line": {
             "colorbar": {
              "outlinewidth": 0,
              "ticks": ""
             }
            },
            "marker": {
             "colorbar": {
              "outlinewidth": 0,
              "ticks": ""
             }
            },
            "type": "scatter3d"
           }
          ],
          "scattercarpet": [
           {
            "marker": {
             "colorbar": {
              "outlinewidth": 0,
              "ticks": ""
             }
            },
            "type": "scattercarpet"
           }
          ],
          "scattergeo": [
           {
            "marker": {
             "colorbar": {
              "outlinewidth": 0,
              "ticks": ""
             }
            },
            "type": "scattergeo"
           }
          ],
          "scattergl": [
           {
            "marker": {
             "colorbar": {
              "outlinewidth": 0,
              "ticks": ""
             }
            },
            "type": "scattergl"
           }
          ],
          "scattermapbox": [
           {
            "marker": {
             "colorbar": {
              "outlinewidth": 0,
              "ticks": ""
             }
            },
            "type": "scattermapbox"
           }
          ],
          "scatterpolar": [
           {
            "marker": {
             "colorbar": {
              "outlinewidth": 0,
              "ticks": ""
             }
            },
            "type": "scatterpolar"
           }
          ],
          "scatterpolargl": [
           {
            "marker": {
             "colorbar": {
              "outlinewidth": 0,
              "ticks": ""
             }
            },
            "type": "scatterpolargl"
           }
          ],
          "scatterternary": [
           {
            "marker": {
             "colorbar": {
              "outlinewidth": 0,
              "ticks": ""
             }
            },
            "type": "scatterternary"
           }
          ],
          "surface": [
           {
            "colorbar": {
             "outlinewidth": 0,
             "ticks": ""
            },
            "colorscale": [
             [
              0,
              "#0d0887"
             ],
             [
              0.1111111111111111,
              "#46039f"
             ],
             [
              0.2222222222222222,
              "#7201a8"
             ],
             [
              0.3333333333333333,
              "#9c179e"
             ],
             [
              0.4444444444444444,
              "#bd3786"
             ],
             [
              0.5555555555555556,
              "#d8576b"
             ],
             [
              0.6666666666666666,
              "#ed7953"
             ],
             [
              0.7777777777777778,
              "#fb9f3a"
             ],
             [
              0.8888888888888888,
              "#fdca26"
             ],
             [
              1,
              "#f0f921"
             ]
            ],
            "type": "surface"
           }
          ],
          "table": [
           {
            "cells": {
             "fill": {
              "color": "#EBF0F8"
             },
             "line": {
              "color": "white"
             }
            },
            "header": {
             "fill": {
              "color": "#C8D4E3"
             },
             "line": {
              "color": "white"
             }
            },
            "type": "table"
           }
          ]
         },
         "layout": {
          "annotationdefaults": {
           "arrowcolor": "#2a3f5f",
           "arrowhead": 0,
           "arrowwidth": 1
          },
          "autotypenumbers": "strict",
          "coloraxis": {
           "colorbar": {
            "outlinewidth": 0,
            "ticks": ""
           }
          },
          "colorscale": {
           "diverging": [
            [
             0,
             "#8e0152"
            ],
            [
             0.1,
             "#c51b7d"
            ],
            [
             0.2,
             "#de77ae"
            ],
            [
             0.3,
             "#f1b6da"
            ],
            [
             0.4,
             "#fde0ef"
            ],
            [
             0.5,
             "#f7f7f7"
            ],
            [
             0.6,
             "#e6f5d0"
            ],
            [
             0.7,
             "#b8e186"
            ],
            [
             0.8,
             "#7fbc41"
            ],
            [
             0.9,
             "#4d9221"
            ],
            [
             1,
             "#276419"
            ]
           ],
           "sequential": [
            [
             0,
             "#0d0887"
            ],
            [
             0.1111111111111111,
             "#46039f"
            ],
            [
             0.2222222222222222,
             "#7201a8"
            ],
            [
             0.3333333333333333,
             "#9c179e"
            ],
            [
             0.4444444444444444,
             "#bd3786"
            ],
            [
             0.5555555555555556,
             "#d8576b"
            ],
            [
             0.6666666666666666,
             "#ed7953"
            ],
            [
             0.7777777777777778,
             "#fb9f3a"
            ],
            [
             0.8888888888888888,
             "#fdca26"
            ],
            [
             1,
             "#f0f921"
            ]
           ],
           "sequentialminus": [
            [
             0,
             "#0d0887"
            ],
            [
             0.1111111111111111,
             "#46039f"
            ],
            [
             0.2222222222222222,
             "#7201a8"
            ],
            [
             0.3333333333333333,
             "#9c179e"
            ],
            [
             0.4444444444444444,
             "#bd3786"
            ],
            [
             0.5555555555555556,
             "#d8576b"
            ],
            [
             0.6666666666666666,
             "#ed7953"
            ],
            [
             0.7777777777777778,
             "#fb9f3a"
            ],
            [
             0.8888888888888888,
             "#fdca26"
            ],
            [
             1,
             "#f0f921"
            ]
           ]
          },
          "colorway": [
           "#636efa",
           "#EF553B",
           "#00cc96",
           "#ab63fa",
           "#FFA15A",
           "#19d3f3",
           "#FF6692",
           "#B6E880",
           "#FF97FF",
           "#FECB52"
          ],
          "font": {
           "color": "#2a3f5f"
          },
          "geo": {
           "bgcolor": "white",
           "lakecolor": "white",
           "landcolor": "#E5ECF6",
           "showlakes": true,
           "showland": true,
           "subunitcolor": "white"
          },
          "hoverlabel": {
           "align": "left"
          },
          "hovermode": "closest",
          "mapbox": {
           "style": "light"
          },
          "paper_bgcolor": "white",
          "plot_bgcolor": "#E5ECF6",
          "polar": {
           "angularaxis": {
            "gridcolor": "white",
            "linecolor": "white",
            "ticks": ""
           },
           "bgcolor": "#E5ECF6",
           "radialaxis": {
            "gridcolor": "white",
            "linecolor": "white",
            "ticks": ""
           }
          },
          "scene": {
           "xaxis": {
            "backgroundcolor": "#E5ECF6",
            "gridcolor": "white",
            "gridwidth": 2,
            "linecolor": "white",
            "showbackground": true,
            "ticks": "",
            "zerolinecolor": "white"
           },
           "yaxis": {
            "backgroundcolor": "#E5ECF6",
            "gridcolor": "white",
            "gridwidth": 2,
            "linecolor": "white",
            "showbackground": true,
            "ticks": "",
            "zerolinecolor": "white"
           },
           "zaxis": {
            "backgroundcolor": "#E5ECF6",
            "gridcolor": "white",
            "gridwidth": 2,
            "linecolor": "white",
            "showbackground": true,
            "ticks": "",
            "zerolinecolor": "white"
           }
          },
          "shapedefaults": {
           "line": {
            "color": "#2a3f5f"
           }
          },
          "ternary": {
           "aaxis": {
            "gridcolor": "white",
            "linecolor": "white",
            "ticks": ""
           },
           "baxis": {
            "gridcolor": "white",
            "linecolor": "white",
            "ticks": ""
           },
           "bgcolor": "#E5ECF6",
           "caxis": {
            "gridcolor": "white",
            "linecolor": "white",
            "ticks": ""
           }
          },
          "title": {
           "x": 0.05
          },
          "xaxis": {
           "automargin": true,
           "gridcolor": "white",
           "linecolor": "white",
           "ticks": "",
           "title": {
            "standoff": 15
           },
           "zerolinecolor": "white",
           "zerolinewidth": 2
          },
          "yaxis": {
           "automargin": true,
           "gridcolor": "white",
           "linecolor": "white",
           "ticks": "",
           "title": {
            "standoff": 15
           },
           "zerolinecolor": "white",
           "zerolinewidth": 2
          }
         }
        },
        "title": {
         "text": "Active COVID-19 cases by State"
        },
        "xaxis": {
         "anchor": "y",
         "categoryarray": [
          "Andhra Pradesh",
          "Chhattisgarh",
          "Delhi",
          "Gujarat",
          "Jharkhand",
          "Karnataka",
          "Kerala",
          "Maharashtra",
          "Odisha",
          "West Bengal"
         ],
         "categoryorder": "array",
         "domain": [
          0,
          1
         ],
         "title": {
          "text": "State_Name"
         }
        },
        "yaxis": {
         "anchor": "x",
         "domain": [
          0,
          1
         ],
         "title": {
          "text": "Active"
         }
        }
       }
      },
      "text/html": [
       "<div>                            <div id=\"2b28e5b8-84b1-46ba-a7eb-e78a92885819\" class=\"plotly-graph-div\" style=\"height:525px; width:100%;\"></div>            <script type=\"text/javascript\">                require([\"plotly\"], function(Plotly) {                    window.PLOTLYENV=window.PLOTLYENV || {};                                    if (document.getElementById(\"2b28e5b8-84b1-46ba-a7eb-e78a92885819\")) {                    Plotly.newPlot(                        \"2b28e5b8-84b1-46ba-a7eb-e78a92885819\",                        [{\"alignmentgroup\":\"True\",\"hovertemplate\":\"State_Name=%{x}<br>Active=%{y}<extra></extra>\",\"legendgroup\":\"Andhra Pradesh\",\"marker\":{\"color\":\"#636efa\",\"pattern\":{\"shape\":\"\"}},\"name\":\"Andhra Pradesh\",\"offsetgroup\":\"Andhra Pradesh\",\"orientation\":\"v\",\"showlegend\":true,\"textposition\":\"auto\",\"type\":\"bar\",\"x\":[\"Andhra Pradesh\",\"Andhra Pradesh\",\"Andhra Pradesh\",\"Andhra Pradesh\",\"Andhra Pradesh\",\"Andhra Pradesh\",\"Andhra Pradesh\",\"Andhra Pradesh\",\"Andhra Pradesh\",\"Andhra Pradesh\",\"Andhra Pradesh\",\"Andhra Pradesh\",\"Andhra Pradesh\",\"Andhra Pradesh\",\"Andhra Pradesh\",\"Andhra Pradesh\",\"Andhra Pradesh\",\"Andhra Pradesh\",\"Andhra Pradesh\",\"Andhra Pradesh\",\"Andhra Pradesh\",\"Andhra Pradesh\",\"Andhra Pradesh\",\"Andhra Pradesh\",\"Andhra Pradesh\",\"Andhra Pradesh\",\"Andhra Pradesh\",\"Andhra Pradesh\",\"Andhra Pradesh\",\"Andhra Pradesh\",\"Andhra Pradesh\",\"Andhra Pradesh\",\"Andhra Pradesh\",\"Andhra Pradesh\",\"Andhra Pradesh\",\"Andhra Pradesh\",\"Andhra Pradesh\",\"Andhra Pradesh\",\"Andhra Pradesh\",\"Andhra Pradesh\",\"Andhra Pradesh\",\"Andhra Pradesh\",\"Andhra Pradesh\",\"Andhra Pradesh\",\"Andhra Pradesh\",\"Andhra Pradesh\",\"Andhra Pradesh\",\"Andhra Pradesh\",\"Andhra Pradesh\",\"Andhra Pradesh\",\"Andhra Pradesh\",\"Andhra Pradesh\",\"Andhra Pradesh\",\"Andhra Pradesh\",\"Andhra Pradesh\",\"Andhra Pradesh\",\"Andhra Pradesh\",\"Andhra Pradesh\",\"Andhra Pradesh\",\"Andhra Pradesh\",\"Andhra Pradesh\",\"Andhra Pradesh\",\"Andhra Pradesh\",\"Andhra Pradesh\",\"Andhra Pradesh\",\"Andhra Pradesh\",\"Andhra Pradesh\",\"Andhra Pradesh\",\"Andhra Pradesh\",\"Andhra Pradesh\",\"Andhra Pradesh\",\"Andhra Pradesh\",\"Andhra Pradesh\",\"Andhra Pradesh\",\"Andhra Pradesh\",\"Andhra Pradesh\",\"Andhra Pradesh\",\"Andhra Pradesh\",\"Andhra Pradesh\",\"Andhra Pradesh\",\"Andhra Pradesh\",\"Andhra Pradesh\",\"Andhra Pradesh\",\"Andhra Pradesh\",\"Andhra Pradesh\",\"Andhra Pradesh\",\"Andhra Pradesh\",\"Andhra Pradesh\",\"Andhra Pradesh\",\"Andhra Pradesh\",\"Andhra Pradesh\",\"Andhra Pradesh\",\"Andhra Pradesh\",\"Andhra Pradesh\",\"Andhra Pradesh\",\"Andhra Pradesh\",\"Andhra Pradesh\",\"Andhra Pradesh\",\"Andhra Pradesh\",\"Andhra Pradesh\",\"Andhra Pradesh\",\"Andhra Pradesh\",\"Andhra Pradesh\",\"Andhra Pradesh\",\"Andhra Pradesh\",\"Andhra Pradesh\",\"Andhra Pradesh\",\"Andhra Pradesh\",\"Andhra Pradesh\",\"Andhra Pradesh\",\"Andhra Pradesh\",\"Andhra Pradesh\",\"Andhra Pradesh\",\"Andhra Pradesh\",\"Andhra Pradesh\",\"Andhra Pradesh\",\"Andhra Pradesh\",\"Andhra Pradesh\",\"Andhra Pradesh\",\"Andhra Pradesh\",\"Andhra Pradesh\",\"Andhra Pradesh\",\"Andhra Pradesh\",\"Andhra Pradesh\",\"Andhra Pradesh\",\"Andhra Pradesh\",\"Andhra Pradesh\",\"Andhra Pradesh\",\"Andhra Pradesh\",\"Andhra Pradesh\",\"Andhra Pradesh\",\"Andhra Pradesh\",\"Andhra Pradesh\",\"Andhra Pradesh\",\"Andhra Pradesh\",\"Andhra Pradesh\",\"Andhra Pradesh\",\"Andhra Pradesh\",\"Andhra Pradesh\",\"Andhra Pradesh\",\"Andhra Pradesh\",\"Andhra Pradesh\",\"Andhra Pradesh\",\"Andhra Pradesh\",\"Andhra Pradesh\",\"Andhra Pradesh\"],\"xaxis\":\"x\",\"y\":[67,9276,657,105,60,38,8555,845,115,62,15,7822,837,180,58,28,9747,765,141,67,64,10128,998,138,67,47,10328,1322,210,60,11,1178,199,56,34,1062,154,54,15,1555,69,43,18,1608,365,50,24,1813,182,38,15,1933,207,71,19,1935,222,48,45,1916,294,1,68,41,2432,304,0,102,9,2593,264,0,48,38,2602,351,0,25,31,3963,425,0,52,44,5041,465,2,57,75,4074,491,0,71,35,4944,477,2,45,56,6045,443,1,62,80,7998,462,1,47,62,8147,497,1,66,61,7813,553,2,106,81,7627,605,1,97,80,6051,796,2,134,82,7948,813,6,128,73,10093,793,2,85,71,10167,704,2,131,10376,21,110],\"yaxis\":\"y\"},{\"alignmentgroup\":\"True\",\"hovertemplate\":\"State_Name=%{x}<br>Active=%{y}<extra></extra>\",\"legendgroup\":\"Chhattisgarh\",\"marker\":{\"color\":\"#EF553B\",\"pattern\":{\"shape\":\"\"}},\"name\":\"Chhattisgarh\",\"offsetgroup\":\"Chhattisgarh\",\"orientation\":\"v\",\"showlegend\":true,\"textposition\":\"auto\",\"type\":\"bar\",\"x\":[\"Chhattisgarh\",\"Chhattisgarh\",\"Chhattisgarh\",\"Chhattisgarh\",\"Chhattisgarh\",\"Chhattisgarh\",\"Chhattisgarh\",\"Chhattisgarh\",\"Chhattisgarh\",\"Chhattisgarh\",\"Chhattisgarh\",\"Chhattisgarh\",\"Chhattisgarh\",\"Chhattisgarh\",\"Chhattisgarh\",\"Chhattisgarh\",\"Chhattisgarh\",\"Chhattisgarh\",\"Chhattisgarh\",\"Chhattisgarh\",\"Chhattisgarh\",\"Chhattisgarh\",\"Chhattisgarh\",\"Chhattisgarh\",\"Chhattisgarh\",\"Chhattisgarh\",\"Chhattisgarh\",\"Chhattisgarh\",\"Chhattisgarh\",\"Chhattisgarh\",\"Chhattisgarh\",\"Chhattisgarh\",\"Chhattisgarh\",\"Chhattisgarh\",\"Chhattisgarh\",\"Chhattisgarh\",\"Chhattisgarh\",\"Chhattisgarh\",\"Chhattisgarh\",\"Chhattisgarh\",\"Chhattisgarh\",\"Chhattisgarh\",\"Chhattisgarh\",\"Chhattisgarh\",\"Chhattisgarh\",\"Chhattisgarh\",\"Chhattisgarh\",\"Chhattisgarh\",\"Chhattisgarh\",\"Chhattisgarh\",\"Chhattisgarh\",\"Chhattisgarh\",\"Chhattisgarh\",\"Chhattisgarh\",\"Chhattisgarh\",\"Chhattisgarh\",\"Chhattisgarh\",\"Chhattisgarh\",\"Chhattisgarh\",\"Chhattisgarh\",\"Chhattisgarh\",\"Chhattisgarh\",\"Chhattisgarh\",\"Chhattisgarh\",\"Chhattisgarh\",\"Chhattisgarh\",\"Chhattisgarh\",\"Chhattisgarh\",\"Chhattisgarh\",\"Chhattisgarh\",\"Chhattisgarh\",\"Chhattisgarh\",\"Chhattisgarh\",\"Chhattisgarh\",\"Chhattisgarh\",\"Chhattisgarh\",\"Chhattisgarh\",\"Chhattisgarh\",\"Chhattisgarh\",\"Chhattisgarh\",\"Chhattisgarh\",\"Chhattisgarh\",\"Chhattisgarh\",\"Chhattisgarh\",\"Chhattisgarh\",\"Chhattisgarh\",\"Chhattisgarh\",\"Chhattisgarh\",\"Chhattisgarh\",\"Chhattisgarh\",\"Chhattisgarh\",\"Chhattisgarh\",\"Chhattisgarh\",\"Chhattisgarh\",\"Chhattisgarh\",\"Chhattisgarh\",\"Chhattisgarh\",\"Chhattisgarh\",\"Chhattisgarh\",\"Chhattisgarh\",\"Chhattisgarh\",\"Chhattisgarh\",\"Chhattisgarh\",\"Chhattisgarh\",\"Chhattisgarh\",\"Chhattisgarh\",\"Chhattisgarh\",\"Chhattisgarh\",\"Chhattisgarh\",\"Chhattisgarh\",\"Chhattisgarh\",\"Chhattisgarh\",\"Chhattisgarh\",\"Chhattisgarh\",\"Chhattisgarh\",\"Chhattisgarh\",\"Chhattisgarh\",\"Chhattisgarh\",\"Chhattisgarh\",\"Chhattisgarh\",\"Chhattisgarh\",\"Chhattisgarh\",\"Chhattisgarh\",\"Chhattisgarh\",\"Chhattisgarh\",\"Chhattisgarh\",\"Chhattisgarh\",\"Chhattisgarh\",\"Chhattisgarh\",\"Chhattisgarh\",\"Chhattisgarh\",\"Chhattisgarh\",\"Chhattisgarh\",\"Chhattisgarh\",\"Chhattisgarh\",\"Chhattisgarh\",\"Chhattisgarh\",\"Chhattisgarh\",\"Chhattisgarh\",\"Chhattisgarh\",\"Chhattisgarh\",\"Chhattisgarh\",\"Chhattisgarh\",\"Chhattisgarh\",\"Chhattisgarh\",\"Chhattisgarh\"],\"xaxis\":\"x\",\"y\":[0,235,82,49,3,0,181,73,15,0,0,212,52,64,14,1,382,96,147,1,0,295,46,90,1,0,523,98,60,0,0,110,150,0,0,111,124,0,8,140,14,0,0,166,51,0,7,65,136,0,6,184,47,0,0,184,105,0,2,114,121,0,1,0,177,44,0,6,3,198,69,0,1,0,249,80,0,18,0,243,82,0,10,0,161,72,1,5,0,191,116,0,14,0,133,121,0,14,0,268,47,0,44,0,371,83,0,42,0,449,34,0,38,1,363,37,2,40,0,431,89,3,68,0,367,65,0,4,1,306,84,1,34,0,314,101,0,17,2,256,63,1,32,336,1,51],\"yaxis\":\"y\"},{\"alignmentgroup\":\"True\",\"hovertemplate\":\"State_Name=%{x}<br>Active=%{y}<extra></extra>\",\"legendgroup\":\"Delhi\",\"marker\":{\"color\":\"#00cc96\",\"pattern\":{\"shape\":\"\"}},\"name\":\"Delhi\",\"offsetgroup\":\"Delhi\",\"orientation\":\"v\",\"showlegend\":true,\"textposition\":\"auto\",\"type\":\"bar\",\"x\":[\"Delhi\",\"Delhi\",\"Delhi\",\"Delhi\",\"Delhi\",\"Delhi\",\"Delhi\",\"Delhi\",\"Delhi\",\"Delhi\",\"Delhi\",\"Delhi\",\"Delhi\",\"Delhi\",\"Delhi\",\"Delhi\",\"Delhi\",\"Delhi\",\"Delhi\",\"Delhi\",\"Delhi\",\"Delhi\",\"Delhi\",\"Delhi\",\"Delhi\",\"Delhi\",\"Delhi\",\"Delhi\",\"Delhi\",\"Delhi\",\"Delhi\",\"Delhi\",\"Delhi\",\"Delhi\",\"Delhi\",\"Delhi\",\"Delhi\",\"Delhi\",\"Delhi\",\"Delhi\",\"Delhi\",\"Delhi\",\"Delhi\",\"Delhi\",\"Delhi\",\"Delhi\",\"Delhi\",\"Delhi\",\"Delhi\",\"Delhi\",\"Delhi\",\"Delhi\",\"Delhi\",\"Delhi\",\"Delhi\",\"Delhi\",\"Delhi\",\"Delhi\",\"Delhi\",\"Delhi\",\"Delhi\",\"Delhi\",\"Delhi\",\"Delhi\",\"Delhi\",\"Delhi\",\"Delhi\",\"Delhi\",\"Delhi\",\"Delhi\",\"Delhi\",\"Delhi\",\"Delhi\",\"Delhi\",\"Delhi\",\"Delhi\",\"Delhi\",\"Delhi\",\"Delhi\",\"Delhi\",\"Delhi\",\"Delhi\",\"Delhi\",\"Delhi\",\"Delhi\",\"Delhi\",\"Delhi\",\"Delhi\",\"Delhi\",\"Delhi\",\"Delhi\",\"Delhi\",\"Delhi\",\"Delhi\",\"Delhi\",\"Delhi\",\"Delhi\",\"Delhi\",\"Delhi\",\"Delhi\",\"Delhi\",\"Delhi\",\"Delhi\",\"Delhi\",\"Delhi\",\"Delhi\",\"Delhi\",\"Delhi\",\"Delhi\",\"Delhi\",\"Delhi\",\"Delhi\",\"Delhi\",\"Delhi\",\"Delhi\",\"Delhi\",\"Delhi\",\"Delhi\",\"Delhi\",\"Delhi\",\"Delhi\",\"Delhi\",\"Delhi\",\"Delhi\",\"Delhi\",\"Delhi\",\"Delhi\",\"Delhi\",\"Delhi\",\"Delhi\",\"Delhi\",\"Delhi\",\"Delhi\",\"Delhi\",\"Delhi\",\"Delhi\",\"Delhi\",\"Delhi\",\"Delhi\",\"Delhi\",\"Delhi\",\"Delhi\",\"Delhi\",\"Delhi\",\"Delhi\",\"Delhi\"],\"xaxis\":\"x\",\"y\":[32,1118,2442,990,223,141,961,2373,1298,384,93,805,2520,1513,427,59,674,2505,1359,349,58,1076,2244,1330,206,22,1299,1379,1320,428,51,2008,1282,448,93,2033,1007,338,51,2187,1366,224,183,2089,1501,381,166,1781,1877,310,85,1573,2137,406,356,1246,2134,359,51,1606,2224,7,472,17,1647,1647,0,425,62,1652,1859,0,438,67,1462,2414,1,422,186,1475,2877,2,299,110,1211,3137,4,500,78,954,3630,6,534,75,1349,3000,7,571,92,1227,2909,0,660,128,1041,3947,3,591,138,1025,3788,0,508,111,1142,3390,5,635,293,1075,3460,1,412,190,613,2948,4,792,206,1056,2889,9,1024,125,1035,2084,23,1105,76,1093,2199,25,1163,1195,23,1295],\"yaxis\":\"y\"},{\"alignmentgroup\":\"True\",\"hovertemplate\":\"State_Name=%{x}<br>Active=%{y}<extra></extra>\",\"legendgroup\":\"Gujarat\",\"marker\":{\"color\":\"#ab63fa\",\"pattern\":{\"shape\":\"\"}},\"name\":\"Gujarat\",\"offsetgroup\":\"Gujarat\",\"orientation\":\"v\",\"showlegend\":true,\"textposition\":\"auto\",\"type\":\"bar\",\"x\":[\"Gujarat\",\"Gujarat\",\"Gujarat\",\"Gujarat\",\"Gujarat\",\"Gujarat\",\"Gujarat\",\"Gujarat\",\"Gujarat\",\"Gujarat\",\"Gujarat\",\"Gujarat\",\"Gujarat\",\"Gujarat\",\"Gujarat\",\"Gujarat\",\"Gujarat\",\"Gujarat\",\"Gujarat\",\"Gujarat\",\"Gujarat\",\"Gujarat\",\"Gujarat\",\"Gujarat\",\"Gujarat\",\"Gujarat\",\"Gujarat\",\"Gujarat\",\"Gujarat\",\"Gujarat\",\"Gujarat\",\"Gujarat\",\"Gujarat\",\"Gujarat\",\"Gujarat\",\"Gujarat\",\"Gujarat\",\"Gujarat\",\"Gujarat\",\"Gujarat\",\"Gujarat\",\"Gujarat\",\"Gujarat\",\"Gujarat\",\"Gujarat\",\"Gujarat\",\"Gujarat\",\"Gujarat\",\"Gujarat\",\"Gujarat\",\"Gujarat\",\"Gujarat\",\"Gujarat\",\"Gujarat\",\"Gujarat\",\"Gujarat\",\"Gujarat\",\"Gujarat\",\"Gujarat\",\"Gujarat\",\"Gujarat\",\"Gujarat\",\"Gujarat\",\"Gujarat\",\"Gujarat\",\"Gujarat\",\"Gujarat\",\"Gujarat\",\"Gujarat\",\"Gujarat\",\"Gujarat\",\"Gujarat\",\"Gujarat\",\"Gujarat\",\"Gujarat\",\"Gujarat\",\"Gujarat\",\"Gujarat\",\"Gujarat\",\"Gujarat\",\"Gujarat\",\"Gujarat\",\"Gujarat\",\"Gujarat\",\"Gujarat\",\"Gujarat\",\"Gujarat\",\"Gujarat\",\"Gujarat\",\"Gujarat\",\"Gujarat\",\"Gujarat\",\"Gujarat\",\"Gujarat\",\"Gujarat\",\"Gujarat\",\"Gujarat\",\"Gujarat\",\"Gujarat\",\"Gujarat\",\"Gujarat\",\"Gujarat\",\"Gujarat\",\"Gujarat\",\"Gujarat\",\"Gujarat\",\"Gujarat\",\"Gujarat\",\"Gujarat\",\"Gujarat\",\"Gujarat\",\"Gujarat\",\"Gujarat\",\"Gujarat\",\"Gujarat\",\"Gujarat\",\"Gujarat\",\"Gujarat\",\"Gujarat\",\"Gujarat\",\"Gujarat\",\"Gujarat\",\"Gujarat\",\"Gujarat\",\"Gujarat\",\"Gujarat\",\"Gujarat\",\"Gujarat\",\"Gujarat\",\"Gujarat\",\"Gujarat\",\"Gujarat\",\"Gujarat\",\"Gujarat\",\"Gujarat\",\"Gujarat\",\"Gujarat\",\"Gujarat\",\"Gujarat\",\"Gujarat\",\"Gujarat\",\"Gujarat\",\"Gujarat\",\"Gujarat\",\"Gujarat\",\"Gujarat\"],\"xaxis\":\"x\",\"y\":[13,1136,675,423,326,1,1101,681,415,333,7,1009,687,485,374,13,1020,712,492,376,20,1073,725,510,441,18,1034,735,498,380,29,778,480,388,11,783,477,390,76,861,470,394,116,875,510,398,90,872,513,347,48,879,495,362,56,902,517,364,78,915,511,0,324,116,925,514,0,340,163,919,524,0,1057,170,949,520,0,391,277,960,510,0,366,367,965,540,2,395,196,998,539,5,398,239,1026,580,7,371,229,1020,563,4,363,217,1078,549,12,396,191,1068,572,4,394,256,1081,577,4,405,230,1110,580,5,361,247,1052,615,4,376,226,1108,624,8,367,308,1144,626,8,372,313,1159,620,7,412,1153,4,438],\"yaxis\":\"y\"},{\"alignmentgroup\":\"True\",\"hovertemplate\":\"State_Name=%{x}<br>Active=%{y}<extra></extra>\",\"legendgroup\":\"Jharkhand\",\"marker\":{\"color\":\"#FFA15A\",\"pattern\":{\"shape\":\"\"}},\"name\":\"Jharkhand\",\"offsetgroup\":\"Jharkhand\",\"orientation\":\"v\",\"showlegend\":true,\"textposition\":\"auto\",\"type\":\"bar\",\"x\":[\"Jharkhand\",\"Jharkhand\",\"Jharkhand\",\"Jharkhand\",\"Jharkhand\",\"Jharkhand\",\"Jharkhand\",\"Jharkhand\",\"Jharkhand\",\"Jharkhand\",\"Jharkhand\",\"Jharkhand\",\"Jharkhand\",\"Jharkhand\",\"Jharkhand\",\"Jharkhand\",\"Jharkhand\",\"Jharkhand\",\"Jharkhand\",\"Jharkhand\",\"Jharkhand\",\"Jharkhand\",\"Jharkhand\",\"Jharkhand\",\"Jharkhand\",\"Jharkhand\",\"Jharkhand\",\"Jharkhand\",\"Jharkhand\",\"Jharkhand\",\"Jharkhand\",\"Jharkhand\",\"Jharkhand\",\"Jharkhand\",\"Jharkhand\",\"Jharkhand\",\"Jharkhand\",\"Jharkhand\",\"Jharkhand\",\"Jharkhand\",\"Jharkhand\",\"Jharkhand\",\"Jharkhand\",\"Jharkhand\",\"Jharkhand\",\"Jharkhand\",\"Jharkhand\",\"Jharkhand\",\"Jharkhand\",\"Jharkhand\",\"Jharkhand\",\"Jharkhand\",\"Jharkhand\",\"Jharkhand\",\"Jharkhand\",\"Jharkhand\",\"Jharkhand\",\"Jharkhand\",\"Jharkhand\",\"Jharkhand\",\"Jharkhand\",\"Jharkhand\",\"Jharkhand\",\"Jharkhand\",\"Jharkhand\",\"Jharkhand\",\"Jharkhand\",\"Jharkhand\",\"Jharkhand\",\"Jharkhand\",\"Jharkhand\",\"Jharkhand\",\"Jharkhand\",\"Jharkhand\",\"Jharkhand\",\"Jharkhand\",\"Jharkhand\",\"Jharkhand\",\"Jharkhand\",\"Jharkhand\",\"Jharkhand\",\"Jharkhand\",\"Jharkhand\",\"Jharkhand\",\"Jharkhand\",\"Jharkhand\",\"Jharkhand\",\"Jharkhand\",\"Jharkhand\",\"Jharkhand\",\"Jharkhand\",\"Jharkhand\",\"Jharkhand\",\"Jharkhand\",\"Jharkhand\",\"Jharkhand\",\"Jharkhand\",\"Jharkhand\",\"Jharkhand\",\"Jharkhand\",\"Jharkhand\",\"Jharkhand\",\"Jharkhand\",\"Jharkhand\",\"Jharkhand\",\"Jharkhand\",\"Jharkhand\",\"Jharkhand\",\"Jharkhand\",\"Jharkhand\",\"Jharkhand\",\"Jharkhand\",\"Jharkhand\",\"Jharkhand\",\"Jharkhand\",\"Jharkhand\",\"Jharkhand\",\"Jharkhand\",\"Jharkhand\",\"Jharkhand\",\"Jharkhand\",\"Jharkhand\",\"Jharkhand\",\"Jharkhand\",\"Jharkhand\",\"Jharkhand\",\"Jharkhand\",\"Jharkhand\",\"Jharkhand\",\"Jharkhand\",\"Jharkhand\",\"Jharkhand\",\"Jharkhand\",\"Jharkhand\",\"Jharkhand\",\"Jharkhand\",\"Jharkhand\",\"Jharkhand\",\"Jharkhand\",\"Jharkhand\",\"Jharkhand\",\"Jharkhand\",\"Jharkhand\",\"Jharkhand\",\"Jharkhand\",\"Jharkhand\"],\"xaxis\":\"x\",\"y\":[0,790,35,26,3,1,455,60,61,2,0,941,112,42,0,0,570,42,63,0,1,978,68,95,10,1,708,47,106,2,0,164,75,5,0,116,187,22,9,134,126,2,1,250,135,1,3,145,48,4,2,97,57,11,5,203,55,5,3,262,52,0,26,1,337,30,0,8,1,221,46,0,6,3,313,57,0,6,1,289,23,0,5,8,167,42,0,20,5,225,63,0,42,0,418,74,0,13,0,487,42,0,20,7,482,53,0,27,6,400,26,0,20,8,277,44,0,35,15,508,31,0,21,21,454,45,0,7,2,760,25,0,6,2,331,62,0,82,3,505,64,0,73,915,1,41],\"yaxis\":\"y\"},{\"alignmentgroup\":\"True\",\"hovertemplate\":\"State_Name=%{x}<br>Active=%{y}<extra></extra>\",\"legendgroup\":\"Karnataka\",\"marker\":{\"color\":\"#19d3f3\",\"pattern\":{\"shape\":\"\"}},\"name\":\"Karnataka\",\"offsetgroup\":\"Karnataka\",\"orientation\":\"v\",\"showlegend\":true,\"textposition\":\"auto\",\"type\":\"bar\",\"x\":[\"Karnataka\",\"Karnataka\",\"Karnataka\",\"Karnataka\",\"Karnataka\",\"Karnataka\",\"Karnataka\",\"Karnataka\",\"Karnataka\",\"Karnataka\",\"Karnataka\",\"Karnataka\",\"Karnataka\",\"Karnataka\",\"Karnataka\",\"Karnataka\",\"Karnataka\",\"Karnataka\",\"Karnataka\",\"Karnataka\",\"Karnataka\",\"Karnataka\",\"Karnataka\",\"Karnataka\",\"Karnataka\",\"Karnataka\",\"Karnataka\",\"Karnataka\",\"Karnataka\",\"Karnataka\",\"Karnataka\",\"Karnataka\",\"Karnataka\",\"Karnataka\",\"Karnataka\",\"Karnataka\",\"Karnataka\",\"Karnataka\",\"Karnataka\",\"Karnataka\",\"Karnataka\",\"Karnataka\",\"Karnataka\",\"Karnataka\",\"Karnataka\",\"Karnataka\",\"Karnataka\",\"Karnataka\",\"Karnataka\",\"Karnataka\",\"Karnataka\",\"Karnataka\",\"Karnataka\",\"Karnataka\",\"Karnataka\",\"Karnataka\",\"Karnataka\",\"Karnataka\",\"Karnataka\",\"Karnataka\",\"Karnataka\",\"Karnataka\",\"Karnataka\",\"Karnataka\",\"Karnataka\",\"Karnataka\",\"Karnataka\",\"Karnataka\",\"Karnataka\",\"Karnataka\",\"Karnataka\",\"Karnataka\",\"Karnataka\",\"Karnataka\",\"Karnataka\",\"Karnataka\",\"Karnataka\",\"Karnataka\",\"Karnataka\",\"Karnataka\",\"Karnataka\",\"Karnataka\",\"Karnataka\",\"Karnataka\",\"Karnataka\",\"Karnataka\",\"Karnataka\",\"Karnataka\",\"Karnataka\",\"Karnataka\",\"Karnataka\",\"Karnataka\",\"Karnataka\",\"Karnataka\",\"Karnataka\",\"Karnataka\",\"Karnataka\",\"Karnataka\",\"Karnataka\",\"Karnataka\",\"Karnataka\",\"Karnataka\",\"Karnataka\",\"Karnataka\",\"Karnataka\",\"Karnataka\",\"Karnataka\",\"Karnataka\",\"Karnataka\",\"Karnataka\",\"Karnataka\",\"Karnataka\",\"Karnataka\",\"Karnataka\",\"Karnataka\",\"Karnataka\",\"Karnataka\",\"Karnataka\",\"Karnataka\",\"Karnataka\",\"Karnataka\",\"Karnataka\",\"Karnataka\",\"Karnataka\",\"Karnataka\",\"Karnataka\",\"Karnataka\",\"Karnataka\",\"Karnataka\",\"Karnataka\",\"Karnataka\",\"Karnataka\",\"Karnataka\",\"Karnataka\",\"Karnataka\",\"Karnataka\",\"Karnataka\",\"Karnataka\",\"Karnataka\",\"Karnataka\",\"Karnataka\",\"Karnataka\",\"Karnataka\",\"Karnataka\",\"Karnataka\",\"Karnataka\"],\"xaxis\":\"x\",\"y\":[9,5172,1272,187,24,14,5532,1502,388,12,4,4752,1694,267,13,16,6259,1839,257,37,7,5619,1925,515,22,12,6805,1843,378,20,12,1498,239,12,6,2062,308,48,16,2228,161,41,10,2313,120,54,8,2798,204,14,17,2627,271,63,15,2738,308,34,13,2496,176,6,28,19,3176,213,0,69,36,4169,317,1,36,44,3693,204,2,55,25,4537,210,5,99,6,4120,337,1,149,18,3648,416,0,67,10,3649,453,5,143,9,4764,249,6,138,18,5030,322,7,216,29,5007,397,8,130,26,5072,442,10,93,3,5199,445,4,101,9,5324,918,9,135,11,5536,1267,17,115,12,5503,1105,2,248,30,6128,947,5,141,5483,13,299],\"yaxis\":\"y\"},{\"alignmentgroup\":\"True\",\"hovertemplate\":\"State_Name=%{x}<br>Active=%{y}<extra></extra>\",\"legendgroup\":\"Kerala\",\"marker\":{\"color\":\"#FF6692\",\"pattern\":{\"shape\":\"\"}},\"name\":\"Kerala\",\"offsetgroup\":\"Kerala\",\"orientation\":\"v\",\"showlegend\":true,\"textposition\":\"auto\",\"type\":\"bar\",\"x\":[\"Kerala\",\"Kerala\",\"Kerala\",\"Kerala\",\"Kerala\",\"Kerala\",\"Kerala\",\"Kerala\",\"Kerala\",\"Kerala\",\"Kerala\",\"Kerala\",\"Kerala\",\"Kerala\",\"Kerala\",\"Kerala\",\"Kerala\",\"Kerala\",\"Kerala\",\"Kerala\",\"Kerala\",\"Kerala\",\"Kerala\",\"Kerala\",\"Kerala\",\"Kerala\",\"Kerala\",\"Kerala\",\"Kerala\",\"Kerala\",\"Kerala\",\"Kerala\",\"Kerala\",\"Kerala\",\"Kerala\",\"Kerala\",\"Kerala\",\"Kerala\",\"Kerala\",\"Kerala\",\"Kerala\",\"Kerala\",\"Kerala\",\"Kerala\",\"Kerala\",\"Kerala\",\"Kerala\",\"Kerala\",\"Kerala\",\"Kerala\",\"Kerala\",\"Kerala\",\"Kerala\",\"Kerala\",\"Kerala\",\"Kerala\",\"Kerala\",\"Kerala\",\"Kerala\",\"Kerala\",\"Kerala\",\"Kerala\",\"Kerala\",\"Kerala\",\"Kerala\",\"Kerala\",\"Kerala\",\"Kerala\",\"Kerala\",\"Kerala\",\"Kerala\",\"Kerala\",\"Kerala\",\"Kerala\",\"Kerala\",\"Kerala\",\"Kerala\",\"Kerala\",\"Kerala\",\"Kerala\",\"Kerala\",\"Kerala\",\"Kerala\",\"Kerala\",\"Kerala\",\"Kerala\",\"Kerala\",\"Kerala\",\"Kerala\",\"Kerala\",\"Kerala\",\"Kerala\",\"Kerala\",\"Kerala\",\"Kerala\",\"Kerala\",\"Kerala\",\"Kerala\",\"Kerala\",\"Kerala\",\"Kerala\",\"Kerala\",\"Kerala\",\"Kerala\",\"Kerala\",\"Kerala\",\"Kerala\",\"Kerala\",\"Kerala\",\"Kerala\",\"Kerala\",\"Kerala\",\"Kerala\",\"Kerala\",\"Kerala\",\"Kerala\",\"Kerala\",\"Kerala\",\"Kerala\",\"Kerala\",\"Kerala\",\"Kerala\",\"Kerala\",\"Kerala\",\"Kerala\",\"Kerala\",\"Kerala\",\"Kerala\",\"Kerala\",\"Kerala\",\"Kerala\",\"Kerala\",\"Kerala\",\"Kerala\",\"Kerala\",\"Kerala\",\"Kerala\",\"Kerala\",\"Kerala\",\"Kerala\",\"Kerala\",\"Kerala\",\"Kerala\",\"Kerala\",\"Kerala\",\"Kerala\"],\"xaxis\":\"x\",\"y\":[24,1129,151,57,0,21,1169,160,86,2,9,961,211,82,0,11,1083,240,94,0,8,1195,225,111,3,13,1298,193,108,0,9,272,107,0,9,301,91,1,12,339,91,2,7,416,65,7,10,488,83,7,2,435,78,5,3,449,85,10,8,608,54,19,26,1,623,82,5,16,7,722,79,3,11,1,791,75,0,14,4,593,97,0,29,2,821,118,1,12,6,794,127,12,24,19,720,133,12,24,11,1038,138,15,42,10,1078,141,28,62,3,885,152,14,53,7,1103,123,9,49,11,927,150,19,67,13,702,195,39,40,4,1167,118,6,85,10,903,122,20,62,2,506,131,32,58,1310,7,61],\"yaxis\":\"y\"},{\"alignmentgroup\":\"True\",\"hovertemplate\":\"State_Name=%{x}<br>Active=%{y}<extra></extra>\",\"legendgroup\":\"Maharashtra\",\"marker\":{\"color\":\"#B6E880\",\"pattern\":{\"shape\":\"\"}},\"name\":\"Maharashtra\",\"offsetgroup\":\"Maharashtra\",\"orientation\":\"v\",\"showlegend\":true,\"textposition\":\"auto\",\"type\":\"bar\",\"x\":[\"Maharashtra\",\"Maharashtra\",\"Maharashtra\",\"Maharashtra\",\"Maharashtra\",\"Maharashtra\",\"Maharashtra\",\"Maharashtra\",\"Maharashtra\",\"Maharashtra\",\"Maharashtra\",\"Maharashtra\",\"Maharashtra\",\"Maharashtra\",\"Maharashtra\",\"Maharashtra\",\"Maharashtra\",\"Maharashtra\",\"Maharashtra\",\"Maharashtra\",\"Maharashtra\",\"Maharashtra\",\"Maharashtra\",\"Maharashtra\",\"Maharashtra\",\"Maharashtra\",\"Maharashtra\",\"Maharashtra\",\"Maharashtra\",\"Maharashtra\",\"Maharashtra\",\"Maharashtra\",\"Maharashtra\",\"Maharashtra\",\"Maharashtra\",\"Maharashtra\",\"Maharashtra\",\"Maharashtra\",\"Maharashtra\",\"Maharashtra\",\"Maharashtra\",\"Maharashtra\",\"Maharashtra\",\"Maharashtra\",\"Maharashtra\",\"Maharashtra\",\"Maharashtra\",\"Maharashtra\",\"Maharashtra\",\"Maharashtra\",\"Maharashtra\",\"Maharashtra\",\"Maharashtra\",\"Maharashtra\",\"Maharashtra\",\"Maharashtra\",\"Maharashtra\",\"Maharashtra\",\"Maharashtra\",\"Maharashtra\",\"Maharashtra\",\"Maharashtra\",\"Maharashtra\",\"Maharashtra\",\"Maharashtra\",\"Maharashtra\",\"Maharashtra\",\"Maharashtra\",\"Maharashtra\",\"Maharashtra\",\"Maharashtra\",\"Maharashtra\",\"Maharashtra\",\"Maharashtra\",\"Maharashtra\",\"Maharashtra\",\"Maharashtra\",\"Maharashtra\",\"Maharashtra\",\"Maharashtra\",\"Maharashtra\",\"Maharashtra\",\"Maharashtra\",\"Maharashtra\",\"Maharashtra\",\"Maharashtra\",\"Maharashtra\",\"Maharashtra\",\"Maharashtra\",\"Maharashtra\",\"Maharashtra\",\"Maharashtra\",\"Maharashtra\",\"Maharashtra\",\"Maharashtra\",\"Maharashtra\",\"Maharashtra\",\"Maharashtra\",\"Maharashtra\",\"Maharashtra\",\"Maharashtra\",\"Maharashtra\",\"Maharashtra\",\"Maharashtra\",\"Maharashtra\",\"Maharashtra\",\"Maharashtra\",\"Maharashtra\",\"Maharashtra\",\"Maharashtra\",\"Maharashtra\",\"Maharashtra\",\"Maharashtra\",\"Maharashtra\",\"Maharashtra\",\"Maharashtra\",\"Maharashtra\",\"Maharashtra\",\"Maharashtra\",\"Maharashtra\",\"Maharashtra\",\"Maharashtra\",\"Maharashtra\",\"Maharashtra\",\"Maharashtra\",\"Maharashtra\",\"Maharashtra\",\"Maharashtra\",\"Maharashtra\",\"Maharashtra\",\"Maharashtra\",\"Maharashtra\",\"Maharashtra\",\"Maharashtra\",\"Maharashtra\",\"Maharashtra\",\"Maharashtra\",\"Maharashtra\",\"Maharashtra\",\"Maharashtra\",\"Maharashtra\",\"Maharashtra\",\"Maharashtra\",\"Maharashtra\",\"Maharashtra\",\"Maharashtra\"],\"xaxis\":\"x\",\"y\":[33,9601,5537,2358,1008,88,9509,6328,2287,790,64,8968,6364,2560,678,148,7760,7074,2933,1567,112,10309,6555,2436,984,121,11514,5368,2739,1233,150,5134,3007,1216,117,6603,2554,1089,229,6875,2258,1165,210,7862,3254,1943,187,8139,3607,1230,221,7827,3493,1026,352,6497,3427,1495,346,6741,3390,14,1602,236,7975,2786,18,1576,285,8641,2701,6,1606,120,8308,3307,3,2347,327,8348,3752,3,2005,552,9518,3827,4,2078,466,8240,3874,4,2161,552,8336,3870,12,2345,431,10576,3721,10,2940,778,9895,3214,23,2608,390,9615,3889,10,3041,811,9251,4842,15,2436,440,9431,5024,3,2091,522,7924,6368,31,2190,728,7717,5493,30,2598,597,9211,5257,17,2682,583,11147,4878,17,2940,10320,82,2487],\"yaxis\":\"y\"},{\"alignmentgroup\":\"True\",\"hovertemplate\":\"State_Name=%{x}<br>Active=%{y}<extra></extra>\",\"legendgroup\":\"Odisha\",\"marker\":{\"color\":\"#FF97FF\",\"pattern\":{\"shape\":\"\"}},\"name\":\"Odisha\",\"offsetgroup\":\"Odisha\",\"orientation\":\"v\",\"showlegend\":true,\"textposition\":\"auto\",\"type\":\"bar\",\"x\":[\"Odisha\",\"Odisha\",\"Odisha\",\"Odisha\",\"Odisha\",\"Odisha\",\"Odisha\",\"Odisha\",\"Odisha\",\"Odisha\",\"Odisha\",\"Odisha\",\"Odisha\",\"Odisha\",\"Odisha\",\"Odisha\",\"Odisha\",\"Odisha\",\"Odisha\",\"Odisha\",\"Odisha\",\"Odisha\",\"Odisha\",\"Odisha\",\"Odisha\",\"Odisha\",\"Odisha\",\"Odisha\",\"Odisha\",\"Odisha\",\"Odisha\",\"Odisha\",\"Odisha\",\"Odisha\",\"Odisha\",\"Odisha\",\"Odisha\",\"Odisha\",\"Odisha\",\"Odisha\",\"Odisha\",\"Odisha\",\"Odisha\",\"Odisha\",\"Odisha\",\"Odisha\",\"Odisha\",\"Odisha\",\"Odisha\",\"Odisha\",\"Odisha\",\"Odisha\",\"Odisha\",\"Odisha\",\"Odisha\",\"Odisha\",\"Odisha\",\"Odisha\",\"Odisha\",\"Odisha\",\"Odisha\",\"Odisha\",\"Odisha\",\"Odisha\",\"Odisha\",\"Odisha\",\"Odisha\",\"Odisha\",\"Odisha\",\"Odisha\",\"Odisha\",\"Odisha\",\"Odisha\",\"Odisha\",\"Odisha\",\"Odisha\",\"Odisha\",\"Odisha\",\"Odisha\",\"Odisha\",\"Odisha\",\"Odisha\",\"Odisha\",\"Odisha\",\"Odisha\",\"Odisha\",\"Odisha\",\"Odisha\",\"Odisha\",\"Odisha\",\"Odisha\",\"Odisha\",\"Odisha\",\"Odisha\",\"Odisha\",\"Odisha\",\"Odisha\",\"Odisha\",\"Odisha\",\"Odisha\",\"Odisha\",\"Odisha\",\"Odisha\",\"Odisha\",\"Odisha\",\"Odisha\",\"Odisha\",\"Odisha\",\"Odisha\",\"Odisha\",\"Odisha\",\"Odisha\",\"Odisha\",\"Odisha\",\"Odisha\",\"Odisha\",\"Odisha\",\"Odisha\",\"Odisha\",\"Odisha\",\"Odisha\",\"Odisha\",\"Odisha\",\"Odisha\",\"Odisha\",\"Odisha\",\"Odisha\",\"Odisha\",\"Odisha\",\"Odisha\",\"Odisha\",\"Odisha\",\"Odisha\",\"Odisha\",\"Odisha\",\"Odisha\",\"Odisha\",\"Odisha\",\"Odisha\",\"Odisha\",\"Odisha\",\"Odisha\",\"Odisha\",\"Odisha\",\"Odisha\",\"Odisha\"],\"xaxis\":\"x\",\"y\":[1,1602,251,156,11,0,1434,229,141,6,15,1384,561,143,2,1,1384,495,90,7,18,1337,469,130,8,1,1699,456,173,28,2,571,75,14,0,527,138,51,6,577,146,82,2,755,110,25,4,570,136,38,0,595,112,22,1,616,225,101,5,543,186,0,134,0,618,146,0,65,0,494,108,1,0,0,718,175,0,91,1,591,174,1,48,0,736,165,0,102,13,673,179,0,74,5,647,304,0,51,4,1078,143,0,86,6,1264,167,0,80,5,1594,282,0,67,6,1320,210,0,102,3,1376,218,1,79,15,1503,170,0,76,0,1215,264,0,67,7,1068,245,0,63,18,1203,206,0,96,1499,1,129],\"yaxis\":\"y\"},{\"alignmentgroup\":\"True\",\"hovertemplate\":\"State_Name=%{x}<br>Active=%{y}<extra></extra>\",\"legendgroup\":\"West Bengal\",\"marker\":{\"color\":\"#FECB52\",\"pattern\":{\"shape\":\"\"}},\"name\":\"West Bengal\",\"offsetgroup\":\"West Bengal\",\"orientation\":\"v\",\"showlegend\":true,\"textposition\":\"auto\",\"type\":\"bar\",\"x\":[\"West Bengal\",\"West Bengal\",\"West Bengal\",\"West Bengal\",\"West Bengal\",\"West Bengal\",\"West Bengal\",\"West Bengal\",\"West Bengal\",\"West Bengal\",\"West Bengal\",\"West Bengal\",\"West Bengal\",\"West Bengal\",\"West Bengal\",\"West Bengal\",\"West Bengal\",\"West Bengal\",\"West Bengal\",\"West Bengal\",\"West Bengal\",\"West Bengal\",\"West Bengal\",\"West Bengal\",\"West Bengal\",\"West Bengal\",\"West Bengal\",\"West Bengal\",\"West Bengal\",\"West Bengal\",\"West Bengal\",\"West Bengal\",\"West Bengal\",\"West Bengal\",\"West Bengal\",\"West Bengal\",\"West Bengal\",\"West Bengal\",\"West Bengal\",\"West Bengal\",\"West Bengal\",\"West Bengal\",\"West Bengal\",\"West Bengal\",\"West Bengal\",\"West Bengal\",\"West Bengal\",\"West Bengal\",\"West Bengal\",\"West Bengal\",\"West Bengal\",\"West Bengal\",\"West Bengal\",\"West Bengal\",\"West Bengal\",\"West Bengal\",\"West Bengal\",\"West Bengal\",\"West Bengal\",\"West Bengal\",\"West Bengal\",\"West Bengal\",\"West Bengal\",\"West Bengal\",\"West Bengal\",\"West Bengal\",\"West Bengal\",\"West Bengal\",\"West Bengal\",\"West Bengal\",\"West Bengal\",\"West Bengal\",\"West Bengal\",\"West Bengal\",\"West Bengal\",\"West Bengal\",\"West Bengal\",\"West Bengal\",\"West Bengal\",\"West Bengal\",\"West Bengal\",\"West Bengal\",\"West Bengal\",\"West Bengal\",\"West Bengal\",\"West Bengal\",\"West Bengal\",\"West Bengal\",\"West Bengal\",\"West Bengal\",\"West Bengal\",\"West Bengal\",\"West Bengal\",\"West Bengal\",\"West Bengal\",\"West Bengal\",\"West Bengal\",\"West Bengal\",\"West Bengal\",\"West Bengal\",\"West Bengal\",\"West Bengal\",\"West Bengal\",\"West Bengal\",\"West Bengal\",\"West Bengal\",\"West Bengal\",\"West Bengal\",\"West Bengal\",\"West Bengal\",\"West Bengal\",\"West Bengal\",\"West Bengal\",\"West Bengal\",\"West Bengal\",\"West Bengal\",\"West Bengal\",\"West Bengal\",\"West Bengal\",\"West Bengal\",\"West Bengal\",\"West Bengal\",\"West Bengal\",\"West Bengal\",\"West Bengal\",\"West Bengal\",\"West Bengal\",\"West Bengal\",\"West Bengal\",\"West Bengal\",\"West Bengal\",\"West Bengal\",\"West Bengal\",\"West Bengal\",\"West Bengal\",\"West Bengal\",\"West Bengal\",\"West Bengal\",\"West Bengal\",\"West Bengal\",\"West Bengal\",\"West Bengal\",\"West Bengal\",\"West Bengal\",\"West Bengal\",\"West Bengal\"],\"xaxis\":\"x\",\"y\":[0,2589,611,271,37,16,2739,649,396,127,0,2716,669,340,276,0,2752,743,368,61,27,2816,895,427,85,0,2954,861,435,112,11,850,449,92,8,986,426,130,4,1088,372,108,13,1198,343,153,10,1344,440,124,8,1560,476,110,18,1435,454,117,38,1390,389,0,87,23,1589,407,0,84,18,1690,415,0,115,24,1894,391,1,101,32,2198,435,0,147,23,2278,355,0,137,29,2282,441,1,142,53,2261,414,2,94,31,2291,413,3,135,33,2436,370,0,127,58,2216,445,2,208,57,2404,475,0,149,40,2341,542,1,193,38,2112,521,5,183,48,2134,572,3,344,28,2294,624,3,277,33,2434,652,1,317,2496,15,371],\"yaxis\":\"y\"}],                        {\"barmode\":\"relative\",\"legend\":{\"title\":{\"text\":\"State_Name\"},\"tracegroupgap\":0},\"margin\":{\"t\":60},\"template\":{\"data\":{\"bar\":[{\"error_x\":{\"color\":\"#2a3f5f\"},\"error_y\":{\"color\":\"#2a3f5f\"},\"marker\":{\"line\":{\"color\":\"#E5ECF6\",\"width\":0.5},\"pattern\":{\"fillmode\":\"overlay\",\"size\":10,\"solidity\":0.2}},\"type\":\"bar\"}],\"barpolar\":[{\"marker\":{\"line\":{\"color\":\"#E5ECF6\",\"width\":0.5},\"pattern\":{\"fillmode\":\"overlay\",\"size\":10,\"solidity\":0.2}},\"type\":\"barpolar\"}],\"carpet\":[{\"aaxis\":{\"endlinecolor\":\"#2a3f5f\",\"gridcolor\":\"white\",\"linecolor\":\"white\",\"minorgridcolor\":\"white\",\"startlinecolor\":\"#2a3f5f\"},\"baxis\":{\"endlinecolor\":\"#2a3f5f\",\"gridcolor\":\"white\",\"linecolor\":\"white\",\"minorgridcolor\":\"white\",\"startlinecolor\":\"#2a3f5f\"},\"type\":\"carpet\"}],\"choropleth\":[{\"colorbar\":{\"outlinewidth\":0,\"ticks\":\"\"},\"type\":\"choropleth\"}],\"contour\":[{\"colorbar\":{\"outlinewidth\":0,\"ticks\":\"\"},\"colorscale\":[[0.0,\"#0d0887\"],[0.1111111111111111,\"#46039f\"],[0.2222222222222222,\"#7201a8\"],[0.3333333333333333,\"#9c179e\"],[0.4444444444444444,\"#bd3786\"],[0.5555555555555556,\"#d8576b\"],[0.6666666666666666,\"#ed7953\"],[0.7777777777777778,\"#fb9f3a\"],[0.8888888888888888,\"#fdca26\"],[1.0,\"#f0f921\"]],\"type\":\"contour\"}],\"contourcarpet\":[{\"colorbar\":{\"outlinewidth\":0,\"ticks\":\"\"},\"type\":\"contourcarpet\"}],\"heatmap\":[{\"colorbar\":{\"outlinewidth\":0,\"ticks\":\"\"},\"colorscale\":[[0.0,\"#0d0887\"],[0.1111111111111111,\"#46039f\"],[0.2222222222222222,\"#7201a8\"],[0.3333333333333333,\"#9c179e\"],[0.4444444444444444,\"#bd3786\"],[0.5555555555555556,\"#d8576b\"],[0.6666666666666666,\"#ed7953\"],[0.7777777777777778,\"#fb9f3a\"],[0.8888888888888888,\"#fdca26\"],[1.0,\"#f0f921\"]],\"type\":\"heatmap\"}],\"heatmapgl\":[{\"colorbar\":{\"outlinewidth\":0,\"ticks\":\"\"},\"colorscale\":[[0.0,\"#0d0887\"],[0.1111111111111111,\"#46039f\"],[0.2222222222222222,\"#7201a8\"],[0.3333333333333333,\"#9c179e\"],[0.4444444444444444,\"#bd3786\"],[0.5555555555555556,\"#d8576b\"],[0.6666666666666666,\"#ed7953\"],[0.7777777777777778,\"#fb9f3a\"],[0.8888888888888888,\"#fdca26\"],[1.0,\"#f0f921\"]],\"type\":\"heatmapgl\"}],\"histogram\":[{\"marker\":{\"pattern\":{\"fillmode\":\"overlay\",\"size\":10,\"solidity\":0.2}},\"type\":\"histogram\"}],\"histogram2d\":[{\"colorbar\":{\"outlinewidth\":0,\"ticks\":\"\"},\"colorscale\":[[0.0,\"#0d0887\"],[0.1111111111111111,\"#46039f\"],[0.2222222222222222,\"#7201a8\"],[0.3333333333333333,\"#9c179e\"],[0.4444444444444444,\"#bd3786\"],[0.5555555555555556,\"#d8576b\"],[0.6666666666666666,\"#ed7953\"],[0.7777777777777778,\"#fb9f3a\"],[0.8888888888888888,\"#fdca26\"],[1.0,\"#f0f921\"]],\"type\":\"histogram2d\"}],\"histogram2dcontour\":[{\"colorbar\":{\"outlinewidth\":0,\"ticks\":\"\"},\"colorscale\":[[0.0,\"#0d0887\"],[0.1111111111111111,\"#46039f\"],[0.2222222222222222,\"#7201a8\"],[0.3333333333333333,\"#9c179e\"],[0.4444444444444444,\"#bd3786\"],[0.5555555555555556,\"#d8576b\"],[0.6666666666666666,\"#ed7953\"],[0.7777777777777778,\"#fb9f3a\"],[0.8888888888888888,\"#fdca26\"],[1.0,\"#f0f921\"]],\"type\":\"histogram2dcontour\"}],\"mesh3d\":[{\"colorbar\":{\"outlinewidth\":0,\"ticks\":\"\"},\"type\":\"mesh3d\"}],\"parcoords\":[{\"line\":{\"colorbar\":{\"outlinewidth\":0,\"ticks\":\"\"}},\"type\":\"parcoords\"}],\"pie\":[{\"automargin\":true,\"type\":\"pie\"}],\"scatter\":[{\"marker\":{\"colorbar\":{\"outlinewidth\":0,\"ticks\":\"\"}},\"type\":\"scatter\"}],\"scatter3d\":[{\"line\":{\"colorbar\":{\"outlinewidth\":0,\"ticks\":\"\"}},\"marker\":{\"colorbar\":{\"outlinewidth\":0,\"ticks\":\"\"}},\"type\":\"scatter3d\"}],\"scattercarpet\":[{\"marker\":{\"colorbar\":{\"outlinewidth\":0,\"ticks\":\"\"}},\"type\":\"scattercarpet\"}],\"scattergeo\":[{\"marker\":{\"colorbar\":{\"outlinewidth\":0,\"ticks\":\"\"}},\"type\":\"scattergeo\"}],\"scattergl\":[{\"marker\":{\"colorbar\":{\"outlinewidth\":0,\"ticks\":\"\"}},\"type\":\"scattergl\"}],\"scattermapbox\":[{\"marker\":{\"colorbar\":{\"outlinewidth\":0,\"ticks\":\"\"}},\"type\":\"scattermapbox\"}],\"scatterpolar\":[{\"marker\":{\"colorbar\":{\"outlinewidth\":0,\"ticks\":\"\"}},\"type\":\"scatterpolar\"}],\"scatterpolargl\":[{\"marker\":{\"colorbar\":{\"outlinewidth\":0,\"ticks\":\"\"}},\"type\":\"scatterpolargl\"}],\"scatterternary\":[{\"marker\":{\"colorbar\":{\"outlinewidth\":0,\"ticks\":\"\"}},\"type\":\"scatterternary\"}],\"surface\":[{\"colorbar\":{\"outlinewidth\":0,\"ticks\":\"\"},\"colorscale\":[[0.0,\"#0d0887\"],[0.1111111111111111,\"#46039f\"],[0.2222222222222222,\"#7201a8\"],[0.3333333333333333,\"#9c179e\"],[0.4444444444444444,\"#bd3786\"],[0.5555555555555556,\"#d8576b\"],[0.6666666666666666,\"#ed7953\"],[0.7777777777777778,\"#fb9f3a\"],[0.8888888888888888,\"#fdca26\"],[1.0,\"#f0f921\"]],\"type\":\"surface\"}],\"table\":[{\"cells\":{\"fill\":{\"color\":\"#EBF0F8\"},\"line\":{\"color\":\"white\"}},\"header\":{\"fill\":{\"color\":\"#C8D4E3\"},\"line\":{\"color\":\"white\"}},\"type\":\"table\"}]},\"layout\":{\"annotationdefaults\":{\"arrowcolor\":\"#2a3f5f\",\"arrowhead\":0,\"arrowwidth\":1},\"autotypenumbers\":\"strict\",\"coloraxis\":{\"colorbar\":{\"outlinewidth\":0,\"ticks\":\"\"}},\"colorscale\":{\"diverging\":[[0,\"#8e0152\"],[0.1,\"#c51b7d\"],[0.2,\"#de77ae\"],[0.3,\"#f1b6da\"],[0.4,\"#fde0ef\"],[0.5,\"#f7f7f7\"],[0.6,\"#e6f5d0\"],[0.7,\"#b8e186\"],[0.8,\"#7fbc41\"],[0.9,\"#4d9221\"],[1,\"#276419\"]],\"sequential\":[[0.0,\"#0d0887\"],[0.1111111111111111,\"#46039f\"],[0.2222222222222222,\"#7201a8\"],[0.3333333333333333,\"#9c179e\"],[0.4444444444444444,\"#bd3786\"],[0.5555555555555556,\"#d8576b\"],[0.6666666666666666,\"#ed7953\"],[0.7777777777777778,\"#fb9f3a\"],[0.8888888888888888,\"#fdca26\"],[1.0,\"#f0f921\"]],\"sequentialminus\":[[0.0,\"#0d0887\"],[0.1111111111111111,\"#46039f\"],[0.2222222222222222,\"#7201a8\"],[0.3333333333333333,\"#9c179e\"],[0.4444444444444444,\"#bd3786\"],[0.5555555555555556,\"#d8576b\"],[0.6666666666666666,\"#ed7953\"],[0.7777777777777778,\"#fb9f3a\"],[0.8888888888888888,\"#fdca26\"],[1.0,\"#f0f921\"]]},\"colorway\":[\"#636efa\",\"#EF553B\",\"#00cc96\",\"#ab63fa\",\"#FFA15A\",\"#19d3f3\",\"#FF6692\",\"#B6E880\",\"#FF97FF\",\"#FECB52\"],\"font\":{\"color\":\"#2a3f5f\"},\"geo\":{\"bgcolor\":\"white\",\"lakecolor\":\"white\",\"landcolor\":\"#E5ECF6\",\"showlakes\":true,\"showland\":true,\"subunitcolor\":\"white\"},\"hoverlabel\":{\"align\":\"left\"},\"hovermode\":\"closest\",\"mapbox\":{\"style\":\"light\"},\"paper_bgcolor\":\"white\",\"plot_bgcolor\":\"#E5ECF6\",\"polar\":{\"angularaxis\":{\"gridcolor\":\"white\",\"linecolor\":\"white\",\"ticks\":\"\"},\"bgcolor\":\"#E5ECF6\",\"radialaxis\":{\"gridcolor\":\"white\",\"linecolor\":\"white\",\"ticks\":\"\"}},\"scene\":{\"xaxis\":{\"backgroundcolor\":\"#E5ECF6\",\"gridcolor\":\"white\",\"gridwidth\":2,\"linecolor\":\"white\",\"showbackground\":true,\"ticks\":\"\",\"zerolinecolor\":\"white\"},\"yaxis\":{\"backgroundcolor\":\"#E5ECF6\",\"gridcolor\":\"white\",\"gridwidth\":2,\"linecolor\":\"white\",\"showbackground\":true,\"ticks\":\"\",\"zerolinecolor\":\"white\"},\"zaxis\":{\"backgroundcolor\":\"#E5ECF6\",\"gridcolor\":\"white\",\"gridwidth\":2,\"linecolor\":\"white\",\"showbackground\":true,\"ticks\":\"\",\"zerolinecolor\":\"white\"}},\"shapedefaults\":{\"line\":{\"color\":\"#2a3f5f\"}},\"ternary\":{\"aaxis\":{\"gridcolor\":\"white\",\"linecolor\":\"white\",\"ticks\":\"\"},\"baxis\":{\"gridcolor\":\"white\",\"linecolor\":\"white\",\"ticks\":\"\"},\"bgcolor\":\"#E5ECF6\",\"caxis\":{\"gridcolor\":\"white\",\"linecolor\":\"white\",\"ticks\":\"\"}},\"title\":{\"x\":0.05},\"xaxis\":{\"automargin\":true,\"gridcolor\":\"white\",\"linecolor\":\"white\",\"ticks\":\"\",\"title\":{\"standoff\":15},\"zerolinecolor\":\"white\",\"zerolinewidth\":2},\"yaxis\":{\"automargin\":true,\"gridcolor\":\"white\",\"linecolor\":\"white\",\"ticks\":\"\",\"title\":{\"standoff\":15},\"zerolinecolor\":\"white\",\"zerolinewidth\":2}}},\"title\":{\"text\":\"Active COVID-19 cases by State\"},\"xaxis\":{\"anchor\":\"y\",\"categoryarray\":[\"Andhra Pradesh\",\"Chhattisgarh\",\"Delhi\",\"Gujarat\",\"Jharkhand\",\"Karnataka\",\"Kerala\",\"Maharashtra\",\"Odisha\",\"West Bengal\"],\"categoryorder\":\"array\",\"domain\":[0.0,1.0],\"title\":{\"text\":\"State_Name\"}},\"yaxis\":{\"anchor\":\"x\",\"domain\":[0.0,1.0],\"title\":{\"text\":\"Active\"}}},                        {\"responsive\": true}                    ).then(function(){\n",
       "                            \n",
       "var gd = document.getElementById('2b28e5b8-84b1-46ba-a7eb-e78a92885819');\n",
       "var x = new MutationObserver(function (mutations, observer) {{\n",
       "        var display = window.getComputedStyle(gd).display;\n",
       "        if (!display || display === 'none') {{\n",
       "            console.log([gd, 'removed!']);\n",
       "            Plotly.purge(gd);\n",
       "            observer.disconnect();\n",
       "        }}\n",
       "}});\n",
       "\n",
       "// Listen for the removal of the full notebook cells\n",
       "var notebookContainer = gd.closest('#notebook-container');\n",
       "if (notebookContainer) {{\n",
       "    x.observe(notebookContainer, {childList: true});\n",
       "}}\n",
       "\n",
       "// Listen for the clearing of the current output cell\n",
       "var outputEl = gd.closest('.output');\n",
       "if (outputEl) {{\n",
       "    x.observe(outputEl, {childList: true});\n",
       "}}\n",
       "\n",
       "                        })                };                });            </script>        </div>"
      ]
     },
     "metadata": {},
     "output_type": "display_data"
    }
   ],
   "source": [
    "fig = px.bar(covid_df1, x='State_Name', y='Active', labels={'x':'State_Name'},\n",
    "             color=\"State_Name\", color_continuous_scale=px.colors.sequential.Brwnyl)\n",
    "fig.update_layout(title_text='Active COVID-19 cases by State')\n",
    "fig.show()"
   ]
  },
  {
   "cell_type": "markdown",
   "metadata": {},
   "source": [
    "##### 5. Plot a Line Chat with India's active covid-19 case recovery (maximum 12 Months)"
   ]
  },
  {
   "cell_type": "code",
   "execution_count": 142,
   "metadata": {},
   "outputs": [
    {
     "data": {
      "application/vnd.plotly.v1+json": {
       "config": {
        "plotlyServerURL": "https://plot.ly"
       },
       "data": [
        {
         "hovertemplate": "Date=%{x}<br>Recovered=%{y}<extra></extra>",
         "legendgroup": "1-Apr-20",
         "line": {
          "color": "#649d66",
          "dash": "solid"
         },
         "mode": "lines",
         "name": "1-Apr-20",
         "showlegend": true,
         "type": "scattergl",
         "x": [
          "1-Apr-20",
          "1-Apr-20",
          "1-Apr-20",
          "1-Apr-20",
          "1-Apr-20",
          "1-Apr-20",
          "1-Apr-20"
         ],
         "xaxis": "x",
         "y": [
          1,
          0,
          0,
          1,
          0,
          1,
          0
         ],
         "yaxis": "y"
        },
        {
         "hovertemplate": "Date=%{x}<br>Recovered=%{y}<extra></extra>",
         "legendgroup": "1-Sep-20",
         "line": {
          "color": "#649d66",
          "dash": "solid"
         },
         "mode": "lines",
         "name": "1-Sep-20",
         "showlegend": true,
         "type": "scattergl",
         "x": [
          "1-Sep-20"
         ],
         "xaxis": "x",
         "y": [
          0
         ],
         "yaxis": "y"
        },
        {
         "hovertemplate": "Date=%{x}<br>Recovered=%{y}<extra></extra>",
         "legendgroup": "1-Oct-20",
         "line": {
          "color": "#649d66",
          "dash": "solid"
         },
         "mode": "lines",
         "name": "1-Oct-20",
         "showlegend": true,
         "type": "scattergl",
         "x": [
          "1-Oct-20"
         ],
         "xaxis": "x",
         "y": [
          0
         ],
         "yaxis": "y"
        },
        {
         "hovertemplate": "Date=%{x}<br>Recovered=%{y}<extra></extra>",
         "legendgroup": "1-Nov-20",
         "line": {
          "color": "#649d66",
          "dash": "solid"
         },
         "mode": "lines",
         "name": "1-Nov-20",
         "showlegend": true,
         "type": "scattergl",
         "x": [
          "1-Nov-20"
         ],
         "xaxis": "x",
         "y": [
          2
         ],
         "yaxis": "y"
        },
        {
         "hovertemplate": "Date=%{x}<br>Recovered=%{y}<extra></extra>",
         "legendgroup": "1-Aug-20",
         "line": {
          "color": "#649d66",
          "dash": "solid"
         },
         "mode": "lines",
         "name": "1-Aug-20",
         "showlegend": true,
         "type": "scattergl",
         "x": [
          "1-Aug-20",
          "1-Aug-20",
          "1-Aug-20",
          "1-Aug-20",
          "1-Aug-20",
          "1-Aug-20",
          "1-Aug-20",
          "1-Aug-20",
          "1-Aug-20",
          "1-Aug-20"
         ],
         "xaxis": "x",
         "y": [
          12750,
          380,
          1201,
          875,
          170,
          3860,
          752,
          10725,
          756,
          2143
         ],
         "yaxis": "y"
        },
        {
         "hovertemplate": "Date=%{x}<br>Recovered=%{y}<extra></extra>",
         "legendgroup": "1-Jul-20",
         "line": {
          "color": "#649d66",
          "dash": "solid"
         },
         "mode": "lines",
         "name": "1-Jul-20",
         "showlegend": true,
         "type": "scattergl",
         "x": [
          "1-Jul-20",
          "1-Jul-20",
          "1-Jul-20",
          "1-Jul-20",
          "1-Jul-20",
          "1-Jul-20",
          "1-Jul-20",
          "1-Jul-20",
          "1-Jul-20",
          "1-Jul-20"
         ],
         "xaxis": "x",
         "y": [
          477,
          53,
          1644,
          368,
          47,
          145,
          132,
          2243,
          164,
          398
         ],
         "yaxis": "y"
        },
        {
         "hovertemplate": "Date=%{x}<br>Recovered=%{y}<extra></extra>",
         "legendgroup": "1-Jun-20",
         "line": {
          "color": "#649d66",
          "dash": "solid"
         },
         "mode": "lines",
         "name": "1-Jun-20",
         "showlegend": true,
         "type": "scattergl",
         "x": [
          "1-Jun-20",
          "1-Jun-20",
          "1-Jun-20",
          "1-Jun-20",
          "1-Jun-20",
          "1-Jun-20",
          "1-Jun-20",
          "1-Jun-20",
          "1-Jun-20",
          "1-Jun-20"
         ],
         "xaxis": "x",
         "y": [
          34,
          7,
          268,
          861,
          40,
          100,
          18,
          779,
          119,
          149
         ],
         "yaxis": "y"
        },
        {
         "hovertemplate": "Date=%{x}<br>Recovered=%{y}<extra></extra>",
         "legendgroup": "1-May-20",
         "line": {
          "color": "#649d66",
          "dash": "solid"
         },
         "mode": "lines",
         "name": "1-May-20",
         "showlegend": true,
         "type": "scattergl",
         "x": [
          "1-May-20",
          "1-May-20",
          "1-May-20",
          "1-May-20",
          "1-May-20",
          "1-May-20",
          "1-May-20",
          "1-May-20",
          "1-May-20",
          "1-May-20"
         ],
         "xaxis": "x",
         "y": [
          82,
          0,
          73,
          123,
          2,
          22,
          9,
          106,
          14,
          15
         ],
         "yaxis": "y"
        },
        {
         "hovertemplate": "Date=%{x}<br>Recovered=%{y}<extra></extra>",
         "legendgroup": "2-Apr-20",
         "line": {
          "color": "#649d66",
          "dash": "solid"
         },
         "mode": "lines",
         "name": "2-Apr-20",
         "showlegend": true,
         "type": "scattergl",
         "x": [
          "2-Apr-20",
          "2-Apr-20",
          "2-Apr-20",
          "2-Apr-20",
          "2-Apr-20",
          "2-Apr-20",
          "2-Apr-20",
          "2-Apr-20",
          "2-Apr-20",
          "2-Apr-20"
         ],
         "xaxis": "x",
         "y": [
          0,
          1,
          2,
          5,
          0,
          2,
          2,
          3,
          0,
          0
         ],
         "yaxis": "y"
        },
        {
         "hovertemplate": "Date=%{x}<br>Recovered=%{y}<extra></extra>",
         "legendgroup": "2-Aug-20",
         "line": {
          "color": "#649d66",
          "dash": "solid"
         },
         "mode": "lines",
         "name": "2-Aug-20",
         "showlegend": true,
         "type": "scattergl",
         "x": [
          "2-Aug-20",
          "2-Aug-20",
          "2-Aug-20",
          "2-Aug-20",
          "2-Aug-20",
          "2-Aug-20",
          "2-Aug-20"
         ],
         "xaxis": "x",
         "y": [
          6272,
          381,
          805,
          4077,
          688,
          9926,
          681
         ],
         "yaxis": "y"
        },
        {
         "hovertemplate": "Date=%{x}<br>Recovered=%{y}<extra></extra>",
         "legendgroup": "2-Jan-21",
         "line": {
          "color": "#649d66",
          "dash": "solid"
         },
         "mode": "lines",
         "name": "2-Jan-21",
         "showlegend": true,
         "type": "scattergl",
         "x": [
          "2-Jan-21"
         ],
         "xaxis": "x",
         "y": [
          1186
         ],
         "yaxis": "y"
        },
        {
         "hovertemplate": "Date=%{x}<br>Recovered=%{y}<extra></extra>",
         "legendgroup": "2-Jun-21",
         "line": {
          "color": "#649d66",
          "dash": "solid"
         },
         "mode": "lines",
         "name": "2-Jun-21",
         "showlegend": true,
         "type": "scattergl",
         "x": [
          "2-Jun-21"
         ],
         "xaxis": "x",
         "y": [
          169
         ],
         "yaxis": "y"
        },
        {
         "hovertemplate": "Date=%{x}<br>Recovered=%{y}<extra></extra>",
         "legendgroup": "2-Mar-21",
         "line": {
          "color": "#649d66",
          "dash": "solid"
         },
         "mode": "lines",
         "name": "2-Mar-21",
         "showlegend": true,
         "type": "scattergl",
         "x": [
          "2-Mar-21"
         ],
         "xaxis": "x",
         "y": [
          2213
         ],
         "yaxis": "y"
        },
        {
         "hovertemplate": "Date=%{x}<br>Recovered=%{y}<extra></extra>",
         "legendgroup": "2-Jul-20",
         "line": {
          "color": "#649d66",
          "dash": "solid"
         },
         "mode": "lines",
         "name": "2-Jul-20",
         "showlegend": true,
         "type": "scattergl",
         "x": [
          "2-Jul-20",
          "2-Jul-20",
          "2-Jul-20",
          "2-Jul-20",
          "2-Jul-20",
          "2-Jul-20",
          "2-Jul-20",
          "2-Jul-20",
          "2-Jul-20",
          "2-Jul-20"
         ],
         "xaxis": "x",
         "y": [
          325,
          59,
          3015,
          563,
          57,
          271,
          202,
          8018,
          149,
          509
         ],
         "yaxis": "y"
        },
        {
         "hovertemplate": "Date=%{x}<br>Recovered=%{y}<extra></extra>",
         "legendgroup": "2-Jun-20",
         "line": {
          "color": "#649d66",
          "dash": "solid"
         },
         "mode": "lines",
         "name": "2-Jun-20",
         "showlegend": true,
         "type": "scattergl",
         "x": [
          "2-Jun-20",
          "2-Jun-20",
          "2-Jun-20",
          "2-Jun-20",
          "2-Jun-20",
          "2-Jun-20",
          "2-Jun-20",
          "2-Jun-20",
          "2-Jun-20",
          "2-Jun-20"
         ],
         "xaxis": "x",
         "y": [
          40,
          9,
          497,
          1114,
          0,
          75,
          19,
          1225,
          80,
          104
         ],
         "yaxis": "y"
        },
        {
         "hovertemplate": "Date=%{x}<br>Recovered=%{y}<extra></extra>",
         "legendgroup": "2-May-20",
         "line": {
          "color": "#649d66",
          "dash": "solid"
         },
         "mode": "lines",
         "name": "2-May-20",
         "showlegend": true,
         "type": "scattergl",
         "x": [
          "2-May-20",
          "2-May-20",
          "2-May-20",
          "2-May-20",
          "2-May-20",
          "2-May-20",
          "2-May-20",
          "2-May-20",
          "2-May-20",
          "2-May-20"
         ],
         "xaxis": "x",
         "y": [
          38,
          0,
          89,
          160,
          1,
          20,
          8,
          121,
          1,
          12
         ],
         "yaxis": "y"
        },
        {
         "hovertemplate": "Date=%{x}<br>Recovered=%{y}<extra></extra>",
         "legendgroup": "3-Apr-20",
         "line": {
          "color": "#649d66",
          "dash": "solid"
         },
         "mode": "lines",
         "name": "3-Apr-20",
         "showlegend": true,
         "type": "scattergl",
         "x": [
          "3-Apr-20",
          "3-Apr-20",
          "3-Apr-20",
          "3-Apr-20",
          "3-Apr-20",
          "3-Apr-20",
          "3-Apr-20",
          "3-Apr-20",
          "3-Apr-20",
          "3-Apr-20"
         ],
         "xaxis": "x",
         "y": [
          0,
          0,
          0,
          0,
          0,
          0,
          14,
          8,
          1,
          0
         ],
         "yaxis": "y"
        },
        {
         "hovertemplate": "Date=%{x}<br>Recovered=%{y}<extra></extra>",
         "legendgroup": "3-Aug-20",
         "line": {
          "color": "#649d66",
          "dash": "solid"
         },
         "mode": "lines",
         "name": "3-Aug-20",
         "showlegend": true,
         "type": "scattergl",
         "x": [
          "3-Aug-20",
          "3-Aug-20",
          "3-Aug-20",
          "3-Aug-20",
          "3-Aug-20",
          "3-Aug-20",
          "3-Aug-20",
          "3-Aug-20",
          "3-Aug-20",
          "3-Aug-20"
         ],
         "xaxis": "x",
         "y": [
          5786,
          265,
          937,
          974,
          112,
          4775,
          815,
          10221,
          1119,
          2088
         ],
         "yaxis": "y"
        },
        {
         "hovertemplate": "Date=%{x}<br>Recovered=%{y}<extra></extra>",
         "legendgroup": "3-Jul-20",
         "line": {
          "color": "#649d66",
          "dash": "solid"
         },
         "mode": "lines",
         "name": "3-Jul-20",
         "showlegend": true,
         "type": "scattergl",
         "x": [
          "3-Jul-20",
          "3-Jul-20",
          "3-Jul-20",
          "3-Jul-20",
          "3-Jul-20",
          "3-Jul-20",
          "3-Jul-20",
          "3-Jul-20",
          "3-Jul-20",
          "3-Jul-20"
         ],
         "xaxis": "x",
         "y": [
          319,
          52,
          2617,
          340,
          13,
          471,
          201,
          3515,
          203,
          534
         ],
         "yaxis": "y"
        },
        {
         "hovertemplate": "Date=%{x}<br>Recovered=%{y}<extra></extra>",
         "legendgroup": "3-Jun-20",
         "line": {
          "color": "#649d66",
          "dash": "solid"
         },
         "mode": "lines",
         "name": "3-Jun-20",
         "showlegend": true,
         "type": "scattergl",
         "x": [
          "3-Jun-20",
          "3-Jun-20",
          "3-Jun-20",
          "3-Jun-20",
          "3-Jun-20",
          "3-Jun-20",
          "3-Jun-20",
          "3-Jun-20",
          "3-Jun-20",
          "3-Jun-20"
         ],
         "xaxis": "x",
         "y": [
          50,
          40,
          299,
          318,
          1,
          111,
          24,
          996,
          91,
          170
         ],
         "yaxis": "y"
        },
        {
         "hovertemplate": "Date=%{x}<br>Recovered=%{y}<extra></extra>",
         "legendgroup": "3-May-20",
         "line": {
          "color": "#649d66",
          "dash": "solid"
         },
         "mode": "lines",
         "name": "3-May-20",
         "showlegend": true,
         "type": "scattergl",
         "x": [
          "3-May-20",
          "3-May-20",
          "3-May-20",
          "3-May-20",
          "3-May-20",
          "3-May-20",
          "3-May-20",
          "3-May-20",
          "3-May-20",
          "3-May-20"
         ],
         "xaxis": "x",
         "y": [
          47,
          0,
          106,
          146,
          5,
          22,
          1,
          115,
          4,
          -19
         ],
         "yaxis": "y"
        },
        {
         "hovertemplate": "Date=%{x}<br>Recovered=%{y}<extra></extra>",
         "legendgroup": "4-Apr-20",
         "line": {
          "color": "#649d66",
          "dash": "solid"
         },
         "mode": "lines",
         "name": "4-Apr-20",
         "showlegend": true,
         "type": "scattergl",
         "x": [
          "4-Apr-20",
          "4-Apr-20",
          "4-Apr-20",
          "4-Apr-20",
          "4-Apr-20",
          "4-Apr-20",
          "4-Apr-20",
          "4-Apr-20",
          "4-Apr-20",
          "4-Apr-20"
         ],
         "xaxis": "x",
         "y": [
          0,
          0,
          8,
          3,
          0,
          0,
          8,
          2,
          0,
          0
         ],
         "yaxis": "y"
        },
        {
         "hovertemplate": "Date=%{x}<br>Recovered=%{y}<extra></extra>",
         "legendgroup": "4-Aug-20",
         "line": {
          "color": "#649d66",
          "dash": "solid"
         },
         "mode": "lines",
         "name": "4-Aug-20",
         "showlegend": true,
         "type": "scattergl",
         "x": [
          "4-Aug-20",
          "4-Aug-20",
          "4-Aug-20",
          "4-Aug-20",
          "4-Aug-20",
          "4-Aug-20",
          "4-Aug-20",
          "4-Aug-20",
          "4-Aug-20",
          "4-Aug-20"
         ],
         "xaxis": "x",
         "y": [
          6953,
          357,
          972,
          898,
          405,
          6772,
          1021,
          12326,
          1409,
          2066
         ],
         "yaxis": "y"
        },
        {
         "hovertemplate": "Date=%{x}<br>Recovered=%{y}<extra></extra>",
         "legendgroup": "4-Jul-20",
         "line": {
          "color": "#649d66",
          "dash": "solid"
         },
         "mode": "lines",
         "name": "4-Jul-20",
         "showlegend": true,
         "type": "scattergl",
         "x": [
          "4-Jul-20",
          "4-Jul-20",
          "4-Jul-20",
          "4-Jul-20",
          "4-Jul-20",
          "4-Jul-20",
          "4-Jul-20",
          "4-Jul-20",
          "4-Jul-20",
          "4-Jul-20"
         ],
         "xaxis": "x",
         "y": [
          376,
          112,
          2632,
          473,
          34,
          439,
          209,
          3395,
          229,
          595
         ],
         "yaxis": "y"
        },
        {
         "hovertemplate": "Date=%{x}<br>Recovered=%{y}<extra></extra>",
         "legendgroup": "4-Jun-20",
         "line": {
          "color": "#649d66",
          "dash": "solid"
         },
         "mode": "lines",
         "name": "4-Jun-20",
         "showlegend": true,
         "type": "scattergl",
         "x": [
          "4-Jun-20",
          "4-Jun-20",
          "4-Jun-20",
          "4-Jun-20",
          "4-Jun-20",
          "4-Jun-20",
          "4-Jun-20",
          "4-Jun-20",
          "4-Jun-20",
          "4-Jun-20"
         ],
         "xaxis": "x",
         "y": [
          65,
          36,
          356,
          455,
          69,
          106,
          39,
          1352,
          65,
          188
         ],
         "yaxis": "y"
        },
        {
         "hovertemplate": "Date=%{x}<br>Recovered=%{y}<extra></extra>",
         "legendgroup": "4-May-20",
         "line": {
          "color": "#649d66",
          "dash": "solid"
         },
         "mode": "lines",
         "name": "4-May-20",
         "showlegend": true,
         "type": "scattergl",
         "x": [
          "4-May-20",
          "4-May-20",
          "4-May-20",
          "4-May-20",
          "4-May-20",
          "4-May-20",
          "4-May-20",
          "4-May-20",
          "4-May-20",
          "4-May-20"
         ],
         "xaxis": "x",
         "y": [
          36,
          0,
          69,
          153,
          0,
          28,
          61,
          350,
          0,
          86
         ],
         "yaxis": "y"
        },
        {
         "hovertemplate": "Date=%{x}<br>Recovered=%{y}<extra></extra>",
         "legendgroup": "5-Apr-20",
         "line": {
          "color": "#649d66",
          "dash": "solid"
         },
         "mode": "lines",
         "name": "5-Apr-20",
         "showlegend": true,
         "type": "scattergl",
         "x": [
          "5-Apr-20",
          "5-Apr-20",
          "5-Apr-20",
          "5-Apr-20",
          "5-Apr-20",
          "5-Apr-20",
          "5-Apr-20",
          "5-Apr-20",
          "5-Apr-20",
          "5-Apr-20"
         ],
         "xaxis": "x",
         "y": [
          3,
          5,
          0,
          8,
          0,
          1,
          6,
          4,
          0,
          7
         ],
         "yaxis": "y"
        },
        {
         "hovertemplate": "Date=%{x}<br>Recovered=%{y}<extra></extra>",
         "legendgroup": "5-Aug-20",
         "line": {
          "color": "#649d66",
          "dash": "solid"
         },
         "mode": "lines",
         "name": "5-Aug-20",
         "showlegend": true,
         "type": "scattergl",
         "x": [
          "5-Aug-20",
          "5-Aug-20",
          "5-Aug-20",
          "5-Aug-20",
          "5-Aug-20",
          "5-Aug-20",
          "5-Aug-20",
          "5-Aug-20",
          "5-Aug-20",
          "5-Aug-20"
         ],
         "xaxis": "x",
         "y": [
          8729,
          258,
          890,
          1046,
          627,
          5407,
          1234,
          6165,
          1255,
          2078
         ],
         "yaxis": "y"
        },
        {
         "hovertemplate": "Date=%{x}<br>Recovered=%{y}<extra></extra>",
         "legendgroup": "5-Jul-20",
         "line": {
          "color": "#649d66",
          "dash": "solid"
         },
         "mode": "lines",
         "name": "5-Jul-20",
         "showlegend": true,
         "type": "scattergl",
         "x": [
          "5-Jul-20",
          "5-Jul-20",
          "5-Jul-20",
          "5-Jul-20",
          "5-Jul-20",
          "5-Jul-20",
          "5-Jul-20",
          "5-Jul-20",
          "5-Jul-20",
          "5-Jul-20"
         ],
         "xaxis": "x",
         "y": [
          414,
          52,
          3083,
          486,
          10,
          603,
          126,
          3658,
          290,
          545
         ],
         "yaxis": "y"
        },
        {
         "hovertemplate": "Date=%{x}<br>Recovered=%{y}<extra></extra>",
         "legendgroup": "5-Jun-20",
         "line": {
          "color": "#649d66",
          "dash": "solid"
         },
         "mode": "lines",
         "name": "5-Jun-20",
         "showlegend": true,
         "type": "scattergl",
         "x": [
          "5-Jun-20",
          "5-Jun-20",
          "5-Jun-20",
          "5-Jun-20",
          "5-Jun-20",
          "5-Jun-20",
          "5-Jun-20",
          "5-Jun-20",
          "5-Jun-20",
          "5-Jun-20"
         ],
         "xaxis": "x",
         "y": [
          36,
          25,
          417,
          344,
          69,
          83,
          22,
          1466,
          123,
          144
         ],
         "yaxis": "y"
        },
        {
         "hovertemplate": "Date=%{x}<br>Recovered=%{y}<extra></extra>",
         "legendgroup": "5-May-20",
         "line": {
          "color": "#649d66",
          "dash": "solid"
         },
         "mode": "lines",
         "name": "5-May-20",
         "showlegend": true,
         "type": "scattergl",
         "x": [
          "5-May-20",
          "5-May-20",
          "5-May-20",
          "5-May-20",
          "5-May-20",
          "5-May-20",
          "5-May-20",
          "5-May-20",
          "5-May-20",
          "5-May-20"
         ],
         "xaxis": "x",
         "y": [
          65,
          0,
          37,
          186,
          6,
          10,
          0,
          354,
          0,
          46
         ],
         "yaxis": "y"
        },
        {
         "hovertemplate": "Date=%{x}<br>Recovered=%{y}<extra></extra>",
         "legendgroup": "6-Apr-20",
         "line": {
          "color": "#649d66",
          "dash": "solid"
         },
         "mode": "lines",
         "name": "6-Apr-20",
         "showlegend": true,
         "type": "scattergl",
         "x": [
          "6-Apr-20",
          "6-Apr-20",
          "6-Apr-20",
          "6-Apr-20",
          "6-Apr-20",
          "6-Apr-20",
          "6-Apr-20",
          "6-Apr-20",
          "6-Apr-20",
          "6-Apr-20"
         ],
         "xaxis": "x",
         "y": [
          0,
          0,
          0,
          1,
          0,
          8,
          3,
          14,
          0,
          0
         ],
         "yaxis": "y"
        },
        {
         "hovertemplate": "Date=%{x}<br>Recovered=%{y}<extra></extra>",
         "legendgroup": "6-Aug-20",
         "line": {
          "color": "#649d66",
          "dash": "solid"
         },
         "mode": "lines",
         "name": "6-Aug-20",
         "showlegend": true,
         "type": "scattergl",
         "x": [
          "6-Aug-20",
          "6-Aug-20",
          "6-Aug-20",
          "6-Aug-20",
          "6-Aug-20",
          "6-Aug-20",
          "6-Aug-20",
          "6-Aug-20",
          "6-Aug-20",
          "6-Aug-20"
         ],
         "xaxis": "x",
         "y": [
          8516,
          217,
          1008,
          917,
          768,
          5602,
          800,
          10854,
          1150,
          2061
         ],
         "yaxis": "y"
        },
        {
         "hovertemplate": "Date=%{x}<br>Recovered=%{y}<extra></extra>",
         "legendgroup": "6-Jul-20",
         "line": {
          "color": "#649d66",
          "dash": "solid"
         },
         "mode": "lines",
         "name": "6-Jul-20",
         "showlegend": true,
         "type": "scattergl",
         "x": [
          "6-Jul-20",
          "6-Jul-20",
          "6-Jul-20",
          "6-Jul-20",
          "6-Jul-20",
          "6-Jul-20",
          "6-Jul-20",
          "6-Jul-20",
          "6-Jul-20",
          "6-Jul-20"
         ],
         "xaxis": "x",
         "y": [
          498,
          66,
          749,
          423,
          23,
          680,
          167,
          3522,
          262,
          524
         ],
         "yaxis": "y"
        },
        {
         "hovertemplate": "Date=%{x}<br>Recovered=%{y}<extra></extra>",
         "legendgroup": "6-Jun-20",
         "line": {
          "color": "#649d66",
          "dash": "solid"
         },
         "mode": "lines",
         "name": "6-Jun-20",
         "showlegend": true,
         "type": "scattergl",
         "x": [
          "6-Jun-20",
          "6-Jun-20",
          "6-Jun-20",
          "6-Jun-20",
          "6-Jun-20",
          "6-Jun-20",
          "6-Jun-20",
          "6-Jun-20",
          "6-Jun-20",
          "6-Jun-20"
         ],
         "xaxis": "x",
         "y": [
          75,
          28,
          349,
          313,
          38,
          280,
          50,
          2243,
          112,
          207
         ],
         "yaxis": "y"
        },
        {
         "hovertemplate": "Date=%{x}<br>Recovered=%{y}<extra></extra>",
         "legendgroup": "6-May-20",
         "line": {
          "color": "#649d66",
          "dash": "solid"
         },
         "mode": "lines",
         "name": "6-May-20",
         "showlegend": true,
         "type": "scattergl",
         "x": [
          "6-May-20",
          "6-May-20",
          "6-May-20",
          "6-May-20",
          "6-May-20",
          "6-May-20",
          "6-May-20",
          "6-May-20",
          "6-May-20",
          "6-May-20"
         ],
         "xaxis": "x",
         "y": [
          140,
          0,
          74,
          119,
          4,
          23,
          7,
          275,
          1,
          1
         ],
         "yaxis": "y"
        },
        {
         "hovertemplate": "Date=%{x}<br>Recovered=%{y}<extra></extra>",
         "legendgroup": "7-Apr-20",
         "line": {
          "color": "#649d66",
          "dash": "solid"
         },
         "mode": "lines",
         "name": "7-Apr-20",
         "showlegend": true,
         "type": "scattergl",
         "x": [
          "7-Apr-20",
          "7-Apr-20",
          "7-Apr-20",
          "7-Apr-20",
          "7-Apr-20",
          "7-Apr-20",
          "7-Apr-20",
          "7-Apr-20",
          "7-Apr-20",
          "7-Apr-20"
         ],
         "xaxis": "x",
         "y": [
          0,
          1,
          4,
          3,
          0,
          5,
          12,
          9,
          0,
          3
         ],
         "yaxis": "y"
        },
        {
         "hovertemplate": "Date=%{x}<br>Recovered=%{y}<extra></extra>",
         "legendgroup": "7-Jul-20",
         "line": {
          "color": "#649d66",
          "dash": "solid"
         },
         "mode": "lines",
         "name": "7-Jul-20",
         "showlegend": true,
         "type": "scattergl",
         "x": [
          "7-Jul-20",
          "7-Jul-20",
          "7-Jul-20",
          "7-Jul-20",
          "7-Jul-20",
          "7-Jul-20",
          "7-Jul-20",
          "7-Jul-20",
          "7-Jul-20",
          "7-Jul-20"
         ],
         "xaxis": "x",
         "y": [
          825,
          84,
          2129,
          421,
          36,
          571,
          111,
          3296,
          217,
          555
         ],
         "yaxis": "y"
        },
        {
         "hovertemplate": "Date=%{x}<br>Recovered=%{y}<extra></extra>",
         "legendgroup": "7-Jun-20",
         "line": {
          "color": "#649d66",
          "dash": "solid"
         },
         "mode": "lines",
         "name": "7-Jun-20",
         "showlegend": true,
         "type": "scattergl",
         "x": [
          "7-Jun-20",
          "7-Jun-20",
          "7-Jun-20",
          "7-Jun-20",
          "7-Jun-20",
          "7-Jun-20",
          "7-Jun-20",
          "7-Jun-20",
          "7-Jun-20",
          "7-Jun-20"
         ],
         "xaxis": "x",
         "y": [
          29,
          7,
          335,
          319,
          17,
          159,
          41,
          1924,
          178,
          184
         ],
         "yaxis": "y"
        },
        {
         "hovertemplate": "Date=%{x}<br>Recovered=%{y}<extra></extra>",
         "legendgroup": "7-May-20",
         "line": {
          "color": "#649d66",
          "dash": "solid"
         },
         "mode": "lines",
         "name": "7-May-20",
         "showlegend": true,
         "type": "scattergl",
         "x": [
          "7-May-20",
          "7-May-20",
          "7-May-20",
          "7-May-20",
          "7-May-20",
          "7-May-20",
          "7-May-20",
          "7-May-20",
          "7-May-20",
          "7-May-20"
         ],
         "xaxis": "x",
         "y": [
          51,
          0,
          389,
          209,
          4,
          12,
          5,
          207,
          1,
          31
         ],
         "yaxis": "y"
        },
        {
         "hovertemplate": "Date=%{x}<br>Recovered=%{y}<extra></extra>",
         "legendgroup": "8-Apr-20",
         "line": {
          "color": "#649d66",
          "dash": "solid"
         },
         "mode": "lines",
         "name": "8-Apr-20",
         "showlegend": true,
         "type": "scattergl",
         "x": [
          "8-Apr-20",
          "8-Apr-20",
          "8-Apr-20",
          "8-Apr-20",
          "8-Apr-20",
          "8-Apr-20",
          "8-Apr-20",
          "8-Apr-20",
          "8-Apr-20",
          "8-Apr-20"
         ],
         "xaxis": "x",
         "y": [
          1,
          0,
          1,
          0,
          0,
          3,
          13,
          38,
          0,
          0
         ],
         "yaxis": "y"
        },
        {
         "hovertemplate": "Date=%{x}<br>Recovered=%{y}<extra></extra>",
         "legendgroup": "8-Jul-20",
         "line": {
          "color": "#649d66",
          "dash": "solid"
         },
         "mode": "lines",
         "name": "8-Jul-20",
         "showlegend": true,
         "type": "scattergl",
         "x": [
          "8-Jul-20",
          "8-Jul-20",
          "8-Jul-20",
          "8-Jul-20",
          "8-Jul-20",
          "8-Jul-20",
          "8-Jul-20",
          "8-Jul-20",
          "8-Jul-20",
          "8-Jul-20"
         ],
         "xaxis": "x",
         "y": [
          1356,
          107,
          3982,
          569,
          66,
          778,
          107,
          4634,
          303,
          501
         ],
         "yaxis": "y"
        },
        {
         "hovertemplate": "Date=%{x}<br>Recovered=%{y}<extra></extra>",
         "legendgroup": "8-Jun-20",
         "line": {
          "color": "#649d66",
          "dash": "solid"
         },
         "mode": "lines",
         "name": "8-Jun-20",
         "showlegend": true,
         "type": "scattergl",
         "x": [
          "8-Jun-20",
          "8-Jun-20",
          "8-Jun-20",
          "8-Jun-20",
          "8-Jun-20",
          "8-Jun-20",
          "8-Jun-20",
          "8-Jun-20",
          "8-Jun-20",
          "8-Jun-20"
         ],
         "xaxis": "x",
         "y": [
          42,
          69,
          358,
          321,
          29,
          309,
          11,
          1661,
          99,
          162
         ],
         "yaxis": "y"
        },
        {
         "hovertemplate": "Date=%{x}<br>Recovered=%{y}<extra></extra>",
         "legendgroup": "8-May-20",
         "line": {
          "color": "#649d66",
          "dash": "solid"
         },
         "mode": "lines",
         "name": "8-May-20",
         "showlegend": true,
         "type": "scattergl",
         "x": [
          "8-May-20",
          "8-May-20",
          "8-May-20",
          "8-May-20",
          "8-May-20",
          "8-May-20",
          "8-May-20",
          "8-May-20",
          "8-May-20",
          "8-May-20"
         ],
         "xaxis": "x",
         "y": [
          62,
          2,
          89,
          163,
          0,
          10,
          10,
          169,
          1,
          27
         ],
         "yaxis": "y"
        },
        {
         "hovertemplate": "Date=%{x}<br>Recovered=%{y}<extra></extra>",
         "legendgroup": "9-Apr-20",
         "line": {
          "color": "#649d66",
          "dash": "solid"
         },
         "mode": "lines",
         "name": "9-Apr-20",
         "showlegend": true,
         "type": "scattergl",
         "x": [
          "9-Apr-20",
          "9-Apr-20",
          "9-Apr-20",
          "9-Apr-20",
          "9-Apr-20",
          "9-Apr-20",
          "9-Apr-20",
          "9-Apr-20",
          "9-Apr-20",
          "9-Apr-20"
         ],
         "xaxis": "x",
         "y": [
          4,
          0,
          4,
          1,
          0,
          2,
          13,
          8,
          0,
          3
         ],
         "yaxis": "y"
        },
        {
         "hovertemplate": "Date=%{x}<br>Recovered=%{y}<extra></extra>",
         "legendgroup": "9-Jul-20",
         "line": {
          "color": "#649d66",
          "dash": "solid"
         },
         "mode": "lines",
         "name": "9-Jul-20",
         "showlegend": true,
         "type": "scattergl",
         "x": [
          "9-Jul-20",
          "9-Jul-20",
          "9-Jul-20",
          "9-Jul-20",
          "9-Jul-20",
          "9-Jul-20",
          "9-Jul-20",
          "9-Jul-20",
          "9-Jul-20",
          "9-Jul-20"
         ],
         "xaxis": "x",
         "y": [
          1053,
          68,
          4027,
          429,
          40,
          957,
          149,
          4067,
          401,
          535
         ],
         "yaxis": "y"
        },
        {
         "hovertemplate": "Date=%{x}<br>Recovered=%{y}<extra></extra>",
         "legendgroup": "9-Jun-20",
         "line": {
          "color": "#649d66",
          "dash": "solid"
         },
         "mode": "lines",
         "name": "9-Jun-20",
         "showlegend": true,
         "type": "scattergl",
         "x": [
          "9-Jun-20",
          "9-Jun-20",
          "9-Jun-20",
          "9-Jun-20",
          "9-Jun-20",
          "9-Jun-20",
          "9-Jun-20",
          "9-Jun-20",
          "9-Jun-20",
          "9-Jun-20"
         ],
         "xaxis": "x",
         "y": [
          48,
          12,
          504,
          409,
          40,
          164,
          34,
          1664,
          140,
          155
         ],
         "yaxis": "y"
        },
        {
         "hovertemplate": "Date=%{x}<br>Recovered=%{y}<extra></extra>",
         "legendgroup": "9-May-21",
         "line": {
          "color": "#649d66",
          "dash": "solid"
         },
         "mode": "lines",
         "name": "9-May-21",
         "showlegend": true,
         "type": "scattergl",
         "x": [
          "9-May-21",
          "9-May-21",
          "9-May-21",
          "9-May-21",
          "9-May-21",
          "9-May-21",
          "9-May-21",
          "9-May-21",
          "9-May-21",
          "9-May-21"
         ],
         "xaxis": "x",
         "y": [
          45,
          5,
          0,
          219,
          37,
          10,
          1,
          330,
          5,
          49
         ],
         "yaxis": "y"
        },
        {
         "hovertemplate": "Date=%{x}<br>Recovered=%{y}<extra></extra>",
         "legendgroup": "10-Apr-20",
         "line": {
          "color": "#649d66",
          "dash": "solid"
         },
         "mode": "lines",
         "name": "10-Apr-20",
         "showlegend": true,
         "type": "scattergl",
         "x": [
          "10-Apr-20",
          "10-Apr-20",
          "10-Apr-20",
          "10-Apr-20",
          "10-Apr-20",
          "10-Apr-20",
          "10-Apr-20",
          "10-Apr-20",
          "10-Apr-20",
          "10-Apr-20"
         ],
         "xaxis": "x",
         "y": [
          0,
          0,
          2,
          7,
          0,
          4,
          27,
          63,
          10,
          0
         ],
         "yaxis": "y"
        },
        {
         "hovertemplate": "Date=%{x}<br>Recovered=%{y}<extra></extra>",
         "legendgroup": "10-Jul-20",
         "line": {
          "color": "#649d66",
          "dash": "solid"
         },
         "mode": "lines",
         "name": "10-Jul-20",
         "showlegend": true,
         "type": "scattergl",
         "x": [
          "10-Jul-20",
          "10-Jul-20",
          "10-Jul-20",
          "10-Jul-20",
          "10-Jul-20",
          "10-Jul-20",
          "10-Jul-20",
          "10-Jul-20",
          "10-Jul-20",
          "10-Jul-20"
         ],
         "xaxis": "x",
         "y": [
          1040,
          125,
          2468,
          441,
          14,
          1003,
          112,
          5366,
          565,
          522
         ],
         "yaxis": "y"
        },
        {
         "hovertemplate": "Date=%{x}<br>Recovered=%{y}<extra></extra>",
         "legendgroup": "10-Jun-20",
         "line": {
          "color": "#649d66",
          "dash": "solid"
         },
         "mode": "lines",
         "name": "10-Jun-20",
         "showlegend": true,
         "type": "scattergl",
         "x": [
          "10-Jun-20",
          "10-Jun-20",
          "10-Jun-20",
          "10-Jun-20",
          "10-Jun-20",
          "10-Jun-20",
          "10-Jun-20",
          "10-Jun-20",
          "10-Jun-20",
          "10-Jun-20"
         ],
         "xaxis": "x",
         "y": [
          110,
          4,
          384,
          370,
          33,
          257,
          57,
          1877,
          149,
          159
         ],
         "yaxis": "y"
        },
        {
         "hovertemplate": "Date=%{x}<br>Recovered=%{y}<extra></extra>",
         "legendgroup": "10-May-20",
         "line": {
          "color": "#649d66",
          "dash": "solid"
         },
         "mode": "lines",
         "name": "10-May-20",
         "showlegend": true,
         "type": "scattergl",
         "x": [
          "10-May-20",
          "10-May-20",
          "10-May-20",
          "10-May-20",
          "10-May-20",
          "10-May-20",
          "10-May-20",
          "10-May-20",
          "10-May-20",
          "10-May-20"
         ],
         "xaxis": "x",
         "y": [
          38,
          6,
          49,
          454,
          0,
          36,
          4,
          399,
          0,
          45
         ],
         "yaxis": "y"
        },
        {
         "hovertemplate": "Date=%{x}<br>Recovered=%{y}<extra></extra>",
         "legendgroup": "11-Apr-20",
         "line": {
          "color": "#649d66",
          "dash": "solid"
         },
         "mode": "lines",
         "name": "11-Apr-20",
         "showlegend": true,
         "type": "scattergl",
         "x": [
          "11-Apr-20",
          "11-Apr-20",
          "11-Apr-20",
          "11-Apr-20",
          "11-Apr-20",
          "11-Apr-20",
          "11-Apr-20",
          "11-Apr-20",
          "11-Apr-20",
          "11-Apr-20"
         ],
         "xaxis": "x",
         "y": [
          0,
          0,
          0,
          11,
          0,
          5,
          19,
          20,
          0,
          0
         ],
         "yaxis": "y"
        },
        {
         "hovertemplate": "Date=%{x}<br>Recovered=%{y}<extra></extra>",
         "legendgroup": "11-Jul-20",
         "line": {
          "color": "#649d66",
          "dash": "solid"
         },
         "mode": "lines",
         "name": "11-Jul-20",
         "showlegend": true,
         "type": "scattergl",
         "x": [
          "11-Jul-20",
          "11-Jul-20",
          "11-Jul-20",
          "11-Jul-20",
          "11-Jul-20",
          "11-Jul-20",
          "11-Jul-20",
          "11-Jul-20",
          "11-Jul-20",
          "11-Jul-20"
         ],
         "xaxis": "x",
         "y": [
          1199,
          42,
          2998,
          502,
          32,
          880,
          143,
          4360,
          388,
          611
         ],
         "yaxis": "y"
        },
        {
         "hovertemplate": "Date=%{x}<br>Recovered=%{y}<extra></extra>",
         "legendgroup": "11-Jun-20",
         "line": {
          "color": "#649d66",
          "dash": "solid"
         },
         "mode": "lines",
         "name": "11-Jun-20",
         "showlegend": true,
         "type": "scattergl",
         "x": [
          "11-Jun-20",
          "11-Jun-20",
          "11-Jun-20",
          "11-Jun-20",
          "11-Jun-20",
          "11-Jun-20",
          "11-Jun-20",
          "11-Jun-20",
          "11-Jun-20",
          "11-Jun-20"
         ],
         "xaxis": "x",
         "y": [
          99,
          70,
          486,
          366,
          38,
          114,
          62,
          1562,
          72,
          209
         ],
         "yaxis": "y"
        },
        {
         "hovertemplate": "Date=%{x}<br>Recovered=%{y}<extra></extra>",
         "legendgroup": "11-May-20",
         "line": {
          "color": "#649d66",
          "dash": "solid"
         },
         "mode": "lines",
         "name": "11-May-20",
         "showlegend": true,
         "type": "scattergl",
         "x": [
          "11-May-20",
          "11-May-20",
          "11-May-20",
          "11-May-20",
          "11-May-20",
          "11-May-20",
          "11-May-20",
          "11-May-20",
          "11-May-20",
          "11-May-20"
         ],
         "xaxis": "x",
         "y": [
          73,
          4,
          60,
          235,
          0,
          4,
          0,
          587,
          17,
          82
         ],
         "yaxis": "y"
        },
        {
         "hovertemplate": "Date=%{x}<br>Recovered=%{y}<extra></extra>",
         "legendgroup": "12-Apr-20",
         "line": {
          "color": "#649d66",
          "dash": "solid"
         },
         "mode": "lines",
         "name": "12-Apr-20",
         "showlegend": true,
         "type": "scattergl",
         "x": [
          "12-Apr-20",
          "12-Apr-20",
          "12-Apr-20",
          "12-Apr-20",
          "12-Apr-20",
          "12-Apr-20",
          "12-Apr-20",
          "12-Apr-20",
          "12-Apr-20",
          "12-Apr-20"
         ],
         "xaxis": "x",
         "y": [
          2,
          1,
          1,
          0,
          0,
          15,
          36,
          9,
          0,
          3
         ],
         "yaxis": "y"
        },
        {
         "hovertemplate": "Date=%{x}<br>Recovered=%{y}<extra></extra>",
         "legendgroup": "12-Jul-20",
         "line": {
          "color": "#649d66",
          "dash": "solid"
         },
         "mode": "lines",
         "name": "12-Jul-20",
         "showlegend": true,
         "type": "scattergl",
         "x": [
          "12-Jul-20",
          "12-Jul-20",
          "12-Jul-20",
          "12-Jul-20",
          "12-Jul-20",
          "12-Jul-20",
          "12-Jul-20",
          "12-Jul-20",
          "12-Jul-20",
          "12-Jul-20"
         ],
         "xaxis": "x",
         "y": [
          1019,
          83,
          2276,
          513,
          52,
          693,
          132,
          3340,
          390,
          622
         ],
         "yaxis": "y"
        },
        {
         "hovertemplate": "Date=%{x}<br>Recovered=%{y}<extra></extra>",
         "legendgroup": "12-Jun-20",
         "line": {
          "color": "#649d66",
          "dash": "solid"
         },
         "mode": "lines",
         "name": "12-Jun-20",
         "showlegend": true,
         "type": "scattergl",
         "x": [
          "12-Jun-20",
          "12-Jun-20",
          "12-Jun-20",
          "12-Jun-20",
          "12-Jun-20",
          "12-Jun-20",
          "12-Jun-20",
          "12-Jun-20",
          "12-Jun-20",
          "12-Jun-20"
         ],
         "xaxis": "x",
         "y": [
          123,
          123,
          667,
          392,
          55,
          464,
          32,
          1718,
          120,
          218
         ],
         "yaxis": "y"
        },
        {
         "hovertemplate": "Date=%{x}<br>Recovered=%{y}<extra></extra>",
         "legendgroup": "12-May-20",
         "line": {
          "color": "#649d66",
          "dash": "solid"
         },
         "mode": "lines",
         "name": "12-May-20",
         "showlegend": true,
         "type": "scattergl",
         "x": [
          "12-May-20",
          "12-May-20",
          "12-May-20",
          "12-May-20",
          "12-May-20",
          "12-May-20",
          "12-May-20",
          "12-May-20",
          "12-May-20",
          "12-May-20"
         ],
         "xaxis": "x",
         "y": [
          58,
          1,
          383,
          466,
          1,
          7,
          0,
          339,
          31,
          113
         ],
         "yaxis": "y"
        },
        {
         "hovertemplate": "Date=%{x}<br>Recovered=%{y}<extra></extra>",
         "legendgroup": "13-Apr-20",
         "line": {
          "color": "#649d66",
          "dash": "solid"
         },
         "mode": "lines",
         "name": "13-Apr-20",
         "showlegend": true,
         "type": "scattergl",
         "x": [
          "13-Apr-20",
          "13-Apr-20",
          "13-Apr-20",
          "13-Apr-20",
          "13-Apr-20",
          "13-Apr-20",
          "13-Apr-20",
          "13-Apr-20",
          "13-Apr-20",
          "13-Apr-20"
         ],
         "xaxis": "x",
         "y": [
          0,
          0,
          3,
          10,
          0,
          6,
          19,
          12,
          6,
          10
         ],
         "yaxis": "y"
        },
        {
         "hovertemplate": "Date=%{x}<br>Recovered=%{y}<extra></extra>",
         "legendgroup": "13-Jul-20",
         "line": {
          "color": "#649d66",
          "dash": "solid"
         },
         "mode": "lines",
         "name": "13-Jul-20",
         "showlegend": true,
         "type": "scattergl",
         "x": [
          "13-Jul-20",
          "13-Jul-20",
          "13-Jul-20",
          "13-Jul-20",
          "13-Jul-20",
          "13-Jul-20",
          "13-Jul-20",
          "13-Jul-20",
          "13-Jul-20",
          "13-Jul-20"
         ],
         "xaxis": "x",
         "y": [
          1052,
          49,
          1344,
          608,
          43,
          838,
          162,
          4182,
          505,
          632
         ],
         "yaxis": "y"
        },
        {
         "hovertemplate": "Date=%{x}<br>Recovered=%{y}<extra></extra>",
         "legendgroup": "13-Jun-20",
         "line": {
          "color": "#649d66",
          "dash": "solid"
         },
         "mode": "lines",
         "name": "13-Jun-20",
         "showlegend": true,
         "type": "scattergl",
         "x": [
          "13-Jun-20",
          "13-Jun-20",
          "13-Jun-20",
          "13-Jun-20",
          "13-Jun-20",
          "13-Jun-20",
          "13-Jun-20",
          "13-Jun-20",
          "13-Jun-20",
          "13-Jun-20"
         ],
         "xaxis": "x",
         "y": [
          94,
          87,
          1547,
          390,
          131,
          208,
          46,
          1550,
          120,
          336
         ],
         "yaxis": "y"
        },
        {
         "hovertemplate": "Date=%{x}<br>Recovered=%{y}<extra></extra>",
         "legendgroup": "13-May-20",
         "line": {
          "color": "#649d66",
          "dash": "solid"
         },
         "mode": "lines",
         "name": "13-May-20",
         "showlegend": true,
         "type": "scattergl",
         "x": [
          "13-May-20",
          "13-May-20",
          "13-May-20",
          "13-May-20",
          "13-May-20",
          "13-May-20",
          "13-May-20",
          "13-May-20",
          "13-May-20",
          "13-May-20"
         ],
         "xaxis": "x",
         "y": [
          86,
          1,
          346,
          316,
          8,
          18,
          1,
          422,
          27,
          90
         ],
         "yaxis": "y"
        },
        {
         "hovertemplate": "Date=%{x}<br>Recovered=%{y}<extra></extra>",
         "legendgroup": "14-Apr-20",
         "line": {
          "color": "#649d66",
          "dash": "solid"
         },
         "mode": "lines",
         "name": "14-Apr-20",
         "showlegend": true,
         "type": "scattergl",
         "x": [
          "14-Apr-20",
          "14-Apr-20",
          "14-Apr-20",
          "14-Apr-20",
          "14-Apr-20",
          "14-Apr-20",
          "14-Apr-20",
          "14-Apr-20",
          "14-Apr-20",
          "14-Apr-20"
         ],
         "xaxis": "x",
         "y": [
          4,
          3,
          0,
          5,
          0,
          11,
          13,
          30,
          0,
          7
         ],
         "yaxis": "y"
        },
        {
         "hovertemplate": "Date=%{x}<br>Recovered=%{y}<extra></extra>",
         "legendgroup": "14-Jul-20",
         "line": {
          "color": "#649d66",
          "dash": "solid"
         },
         "mode": "lines",
         "name": "14-Jul-20",
         "showlegend": true,
         "type": "scattergl",
         "x": [
          "14-Jul-20",
          "14-Jul-20",
          "14-Jul-20",
          "14-Jul-20",
          "14-Jul-20",
          "14-Jul-20",
          "14-Jul-20",
          "14-Jul-20",
          "14-Jul-20",
          "14-Jul-20"
         ],
         "xaxis": "x",
         "y": [
          1003,
          73,
          1924,
          749,
          77,
          1142,
          181,
          4500,
          609,
          718
         ],
         "yaxis": "y"
        },
        {
         "hovertemplate": "Date=%{x}<br>Recovered=%{y}<extra></extra>",
         "legendgroup": "14-Jun-20",
         "line": {
          "color": "#649d66",
          "dash": "solid"
         },
         "mode": "lines",
         "name": "14-Jun-20",
         "showlegend": true,
         "type": "scattergl",
         "x": [
          "14-Jun-20",
          "14-Jun-20",
          "14-Jun-20",
          "14-Jun-20",
          "14-Jun-20",
          "14-Jun-20",
          "14-Jun-20",
          "14-Jun-20",
          "14-Jun-20",
          "14-Jun-20"
         ],
         "xaxis": "x",
         "y": [
          131,
          88,
          878,
          442,
          89,
          312,
          56,
          1632,
          114,
          518
         ],
         "yaxis": "y"
        },
        {
         "hovertemplate": "Date=%{x}<br>Recovered=%{y}<extra></extra>",
         "legendgroup": "14-Mar-20",
         "line": {
          "color": "#649d66",
          "dash": "solid"
         },
         "mode": "lines",
         "name": "14-Mar-20",
         "showlegend": true,
         "type": "scattergl",
         "x": [
          "14-Mar-20",
          "14-Mar-20",
          "14-Mar-20",
          "14-Mar-20",
          "14-Mar-20",
          "14-Mar-20",
          "14-Mar-20",
          "14-Mar-20",
          "14-Mar-20",
          "14-Mar-20"
         ],
         "xaxis": "x",
         "y": [
          0,
          0,
          1,
          0,
          0,
          0,
          3,
          0,
          0,
          0
         ],
         "yaxis": "y"
        },
        {
         "hovertemplate": "Date=%{x}<br>Recovered=%{y}<extra></extra>",
         "legendgroup": "14-May-20",
         "line": {
          "color": "#649d66",
          "dash": "solid"
         },
         "mode": "lines",
         "name": "14-May-20",
         "showlegend": true,
         "type": "scattergl",
         "x": [
          "14-May-20",
          "14-May-20",
          "14-May-20",
          "14-May-20",
          "14-May-20",
          "14-May-20",
          "14-May-20",
          "14-May-20",
          "14-May-20",
          "14-May-20"
         ],
         "xaxis": "x",
         "y": [
          50,
          1,
          187,
          191,
          0,
          9,
          3,
          542,
          15,
          66
         ],
         "yaxis": "y"
        },
        {
         "hovertemplate": "Date=%{x}<br>Recovered=%{y}<extra></extra>",
         "legendgroup": "15-Apr-20",
         "line": {
          "color": "#649d66",
          "dash": "solid"
         },
         "mode": "lines",
         "name": "15-Apr-20",
         "showlegend": true,
         "type": "scattergl",
         "x": [
          "15-Apr-20",
          "15-Apr-20",
          "15-Apr-20",
          "15-Apr-20",
          "15-Apr-20",
          "15-Apr-20",
          "15-Apr-20",
          "15-Apr-20",
          "15-Apr-20",
          "15-Apr-20"
         ],
         "xaxis": "x",
         "y": [
          4,
          4,
          10,
          5,
          0,
          9,
          7,
          36,
          1,
          1
         ],
         "yaxis": "y"
        },
        {
         "hovertemplate": "Date=%{x}<br>Recovered=%{y}<extra></extra>",
         "legendgroup": "15-Jul-20",
         "line": {
          "color": "#649d66",
          "dash": "solid"
         },
         "mode": "lines",
         "name": "15-Jul-20",
         "showlegend": true,
         "type": "scattergl",
         "x": [
          "15-Jul-20",
          "15-Jul-20",
          "15-Jul-20",
          "15-Jul-20",
          "15-Jul-20",
          "15-Jul-20",
          "15-Jul-20",
          "15-Jul-20",
          "15-Jul-20",
          "15-Jul-20"
         ],
         "xaxis": "x",
         "y": [
          911,
          49,
          2463,
          791,
          57,
          1076,
          196,
          3606,
          612,
          749
         ],
         "yaxis": "y"
        },
        {
         "hovertemplate": "Date=%{x}<br>Recovered=%{y}<extra></extra>",
         "legendgroup": "15-Jun-20",
         "line": {
          "color": "#649d66",
          "dash": "solid"
         },
         "mode": "lines",
         "name": "15-Jun-20",
         "showlegend": true,
         "type": "scattergl",
         "x": [
          "15-Jun-20",
          "15-Jun-20",
          "15-Jun-20",
          "15-Jun-20",
          "15-Jun-20",
          "15-Jun-20",
          "15-Jun-20",
          "15-Jun-20",
          "15-Jun-20",
          "15-Jun-20"
         ],
         "xaxis": "x",
         "y": [
          69,
          124,
          604,
          339,
          95,
          174,
          73,
          5071,
          146,
          434
         ],
         "yaxis": "y"
        },
        {
         "hovertemplate": "Date=%{x}<br>Recovered=%{y}<extra></extra>",
         "legendgroup": "15-Mar-20",
         "line": {
          "color": "#649d66",
          "dash": "solid"
         },
         "mode": "lines",
         "name": "15-Mar-20",
         "showlegend": true,
         "type": "scattergl",
         "x": [
          "15-Mar-20",
          "15-Mar-20",
          "15-Mar-20",
          "15-Mar-20",
          "15-Mar-20",
          "15-Mar-20",
          "15-Mar-20",
          "15-Mar-20",
          "15-Mar-20",
          "15-Mar-20"
         ],
         "xaxis": "x",
         "y": [
          0,
          0,
          1,
          0,
          0,
          0,
          0,
          0,
          0,
          0
         ],
         "yaxis": "y"
        },
        {
         "hovertemplate": "Date=%{x}<br>Recovered=%{y}<extra></extra>",
         "legendgroup": "15-May-20",
         "line": {
          "color": "#649d66",
          "dash": "solid"
         },
         "mode": "lines",
         "name": "15-May-20",
         "showlegend": true,
         "type": "scattergl",
         "x": [
          "15-May-20",
          "15-May-20",
          "15-May-20",
          "15-May-20",
          "15-May-20",
          "15-May-20",
          "15-May-20",
          "15-May-20",
          "15-May-20",
          "15-May-20"
         ],
         "xaxis": "x",
         "y": [
          60,
          0,
          473,
          282,
          10,
          20,
          0,
          475,
          8,
          61
         ],
         "yaxis": "y"
        },
        {
         "hovertemplate": "Date=%{x}<br>Recovered=%{y}<extra></extra>",
         "legendgroup": "16-Apr-20",
         "line": {
          "color": "#649d66",
          "dash": "solid"
         },
         "mode": "lines",
         "name": "16-Apr-20",
         "showlegend": true,
         "type": "scattergl",
         "x": [
          "16-Apr-20",
          "16-Apr-20",
          "16-Apr-20",
          "16-Apr-20",
          "16-Apr-20",
          "16-Apr-20",
          "16-Apr-20",
          "16-Apr-20",
          "16-Apr-20",
          "16-Apr-20"
         ],
         "xaxis": "x",
         "y": [
          0,
          6,
          11,
          9,
          0,
          2,
          27,
          5,
          0,
          5
         ],
         "yaxis": "y"
        },
        {
         "hovertemplate": "Date=%{x}<br>Recovered=%{y}<extra></extra>",
         "legendgroup": "16-Jul-20",
         "line": {
          "color": "#649d66",
          "dash": "solid"
         },
         "mode": "lines",
         "name": "16-Jul-20",
         "showlegend": true,
         "type": "scattergl",
         "x": [
          "16-Jul-20",
          "16-Jul-20",
          "16-Jul-20",
          "16-Jul-20",
          "16-Jul-20",
          "16-Jul-20",
          "16-Jul-20",
          "16-Jul-20",
          "16-Jul-20",
          "16-Jul-20"
         ],
         "xaxis": "x",
         "y": [
          1015,
          127,
          1994,
          828,
          28,
          1263,
          228,
          5527,
          401,
          735
         ],
         "yaxis": "y"
        },
        {
         "hovertemplate": "Date=%{x}<br>Recovered=%{y}<extra></extra>",
         "legendgroup": "16-Jun-20",
         "line": {
          "color": "#649d66",
          "dash": "solid"
         },
         "mode": "lines",
         "name": "16-Jun-20",
         "showlegend": true,
         "type": "scattergl",
         "x": [
          "16-Jun-20",
          "16-Jun-20",
          "16-Jun-20",
          "16-Jun-20",
          "16-Jun-20",
          "16-Jun-20",
          "16-Jun-20",
          "16-Jun-20",
          "16-Jun-20",
          "16-Jun-20"
         ],
         "xaxis": "x",
         "y": [
          128,
          91,
          73,
          418,
          121,
          322,
          60,
          1802,
          120,
          534
         ],
         "yaxis": "y"
        },
        {
         "hovertemplate": "Date=%{x}<br>Recovered=%{y}<extra></extra>",
         "legendgroup": "16-Mar-20",
         "line": {
          "color": "#649d66",
          "dash": "solid"
         },
         "mode": "lines",
         "name": "16-Mar-20",
         "showlegend": true,
         "type": "scattergl",
         "x": [
          "16-Mar-20",
          "16-Mar-20",
          "16-Mar-20",
          "16-Mar-20",
          "16-Mar-20",
          "16-Mar-20",
          "16-Mar-20",
          "16-Mar-20",
          "16-Mar-20",
          "16-Mar-20"
         ],
         "xaxis": "x",
         "y": [
          0,
          0,
          0,
          0,
          0,
          0,
          0,
          0,
          0,
          0
         ],
         "yaxis": "y"
        },
        {
         "hovertemplate": "Date=%{x}<br>Recovered=%{y}<extra></extra>",
         "legendgroup": "16-May-20",
         "line": {
          "color": "#649d66",
          "dash": "solid"
         },
         "mode": "lines",
         "name": "16-May-20",
         "showlegend": true,
         "type": "scattergl",
         "x": [
          "16-May-20",
          "16-May-20",
          "16-May-20",
          "16-May-20",
          "16-May-20",
          "16-May-20",
          "16-May-20",
          "16-May-20",
          "16-May-20",
          "16-May-20"
         ],
         "xaxis": "x",
         "y": [
          101,
          2,
          408,
          273,
          16,
          16,
          4,
          524,
          30,
          63
         ],
         "yaxis": "y"
        },
        {
         "hovertemplate": "Date=%{x}<br>Recovered=%{y}<extra></extra>",
         "legendgroup": "17-Apr-20",
         "line": {
          "color": "#649d66",
          "dash": "solid"
         },
         "mode": "lines",
         "name": "17-Apr-20",
         "showlegend": true,
         "type": "scattergl",
         "x": [
          "17-Apr-20",
          "17-Apr-20",
          "17-Apr-20",
          "17-Apr-20",
          "17-Apr-20",
          "17-Apr-20",
          "17-Apr-20",
          "17-Apr-20",
          "17-Apr-20",
          "17-Apr-20"
         ],
         "xaxis": "x",
         "y": [
          15,
          1,
          20,
          13,
          0,
          6,
          10,
          31,
          2,
          9
         ],
         "yaxis": "y"
        },
        {
         "hovertemplate": "Date=%{x}<br>Recovered=%{y}<extra></extra>",
         "legendgroup": "17-Jul-20",
         "line": {
          "color": "#649d66",
          "dash": "solid"
         },
         "mode": "lines",
         "name": "17-Jul-20",
         "showlegend": true,
         "type": "scattergl",
         "x": [
          "17-Jul-20",
          "17-Jul-20",
          "17-Jul-20",
          "17-Jul-20",
          "17-Jul-20",
          "17-Jul-20",
          "17-Jul-20",
          "17-Jul-20",
          "17-Jul-20",
          "17-Jul-20"
         ],
         "xaxis": "x",
         "y": [
          905,
          61,
          1608,
          770,
          64,
          1028,
          132,
          2217,
          453,
          838
         ],
         "yaxis": "y"
        },
        {
         "hovertemplate": "Date=%{x}<br>Recovered=%{y}<extra></extra>",
         "legendgroup": "17-Jun-20",
         "line": {
          "color": "#649d66",
          "dash": "solid"
         },
         "mode": "lines",
         "name": "17-Jun-20",
         "showlegend": true,
         "type": "scattergl",
         "x": [
          "17-Jun-20",
          "17-Jun-20",
          "17-Jun-20",
          "17-Jun-20",
          "17-Jun-20",
          "17-Jun-20",
          "17-Jun-20",
          "17-Jun-20",
          "17-Jun-20",
          "17-Jun-20"
         ],
         "xaxis": "x",
         "y": [
          128,
          165,
          957,
          348,
          30,
          348,
          90,
          1315,
          73,
          505
         ],
         "yaxis": "y"
        },
        {
         "hovertemplate": "Date=%{x}<br>Recovered=%{y}<extra></extra>",
         "legendgroup": "17-Mar-20",
         "line": {
          "color": "#649d66",
          "dash": "solid"
         },
         "mode": "lines",
         "name": "17-Mar-20",
         "showlegend": true,
         "type": "scattergl",
         "x": [
          "17-Mar-20",
          "17-Mar-20",
          "17-Mar-20",
          "17-Mar-20",
          "17-Mar-20",
          "17-Mar-20",
          "17-Mar-20",
          "17-Mar-20",
          "17-Mar-20",
          "17-Mar-20"
         ],
         "xaxis": "x",
         "y": [
          0,
          0,
          0,
          0,
          0,
          0,
          0,
          0,
          0,
          0
         ],
         "yaxis": "y"
        },
        {
         "hovertemplate": "Date=%{x}<br>Recovered=%{y}<extra></extra>",
         "legendgroup": "17-May-20",
         "line": {
          "color": "#649d66",
          "dash": "solid"
         },
         "mode": "lines",
         "name": "17-May-20",
         "showlegend": true,
         "type": "scattergl",
         "x": [
          "17-May-20",
          "17-May-20",
          "17-May-20",
          "17-May-20",
          "17-May-20",
          "17-May-20",
          "17-May-20",
          "17-May-20",
          "17-May-20",
          "17-May-20"
         ],
         "xaxis": "x",
         "y": [
          103,
          1,
          276,
          191,
          0,
          13,
          0,
          600,
          24,
          67
         ],
         "yaxis": "y"
        },
        {
         "hovertemplate": "Date=%{x}<br>Recovered=%{y}<extra></extra>",
         "legendgroup": "18-Apr-20",
         "line": {
          "color": "#649d66",
          "dash": "solid"
         },
         "mode": "lines",
         "name": "18-Apr-20",
         "showlegend": true,
         "type": "scattergl",
         "x": [
          "18-Apr-20",
          "18-Apr-20",
          "18-Apr-20",
          "18-Apr-20",
          "18-Apr-20",
          "18-Apr-20",
          "18-Apr-20",
          "18-Apr-20",
          "18-Apr-20",
          "18-Apr-20"
         ],
         "xaxis": "x",
         "y": [
          7,
          1,
          135,
          7,
          0,
          16,
          2,
          34,
          3,
          4
         ],
         "yaxis": "y"
        },
        {
         "hovertemplate": "Date=%{x}<br>Recovered=%{y}<extra></extra>",
         "legendgroup": "18-Jul-20",
         "line": {
          "color": "#649d66",
          "dash": "solid"
         },
         "mode": "lines",
         "name": "18-Jul-20",
         "showlegend": true,
         "type": "scattergl",
         "x": [
          "18-Jul-20",
          "18-Jul-20",
          "18-Jul-20",
          "18-Jul-20",
          "18-Jul-20",
          "18-Jul-20",
          "18-Jul-20",
          "18-Jul-20",
          "18-Jul-20",
          "18-Jul-20"
         ],
         "xaxis": "x",
         "y": [
          1465,
          146,
          1973,
          1062,
          79,
          1018,
          204,
          5306,
          607,
          1286
         ],
         "yaxis": "y"
        },
        {
         "hovertemplate": "Date=%{x}<br>Recovered=%{y}<extra></extra>",
         "legendgroup": "18-Jun-20",
         "line": {
          "color": "#649d66",
          "dash": "solid"
         },
         "mode": "lines",
         "name": "18-Jun-20",
         "showlegend": true,
         "type": "scattergl",
         "x": [
          "18-Jun-20",
          "18-Jun-20",
          "18-Jun-20",
          "18-Jun-20",
          "18-Jun-20",
          "18-Jun-20",
          "18-Jun-20",
          "18-Jun-20",
          "18-Jun-20",
          "18-Jun-20"
         ],
         "xaxis": "x",
         "y": [
          131,
          103,
          3884,
          389,
          47,
          176,
          89,
          1672,
          97,
          468
         ],
         "yaxis": "y"
        },
        {
         "hovertemplate": "Date=%{x}<br>Recovered=%{y}<extra></extra>",
         "legendgroup": "18-Mar-20",
         "line": {
          "color": "#649d66",
          "dash": "solid"
         },
         "mode": "lines",
         "name": "18-Mar-20",
         "showlegend": true,
         "type": "scattergl",
         "x": [
          "18-Mar-20",
          "18-Mar-20",
          "18-Mar-20",
          "18-Mar-20",
          "18-Mar-20",
          "18-Mar-20",
          "18-Mar-20",
          "18-Mar-20",
          "18-Mar-20",
          "18-Mar-20"
         ],
         "xaxis": "x",
         "y": [
          0,
          0,
          0,
          0,
          0,
          0,
          0,
          0,
          0,
          0
         ],
         "yaxis": "y"
        },
        {
         "hovertemplate": "Date=%{x}<br>Recovered=%{y}<extra></extra>",
         "legendgroup": "18-May-20",
         "line": {
          "color": "#649d66",
          "dash": "solid"
         },
         "mode": "lines",
         "name": "18-May-20",
         "showlegend": true,
         "type": "scattergl",
         "x": [
          "18-May-20",
          "18-May-20",
          "18-May-20",
          "18-May-20",
          "18-May-20",
          "18-May-20",
          "18-May-20",
          "18-May-20",
          "18-May-20",
          "18-May-20"
         ],
         "xaxis": "x",
         "y": [
          96,
          0,
          283,
          305,
          14,
          21,
          0,
          749,
          57,
          47
         ],
         "yaxis": "y"
        },
        {
         "hovertemplate": "Date=%{x}<br>Recovered=%{y}<extra></extra>",
         "legendgroup": "19-Apr-20",
         "line": {
          "color": "#649d66",
          "dash": "solid"
         },
         "mode": "lines",
         "name": "19-Apr-20",
         "showlegend": true,
         "type": "scattergl",
         "x": [
          "19-Apr-20",
          "19-Apr-20",
          "19-Apr-20",
          "19-Apr-20",
          "19-Apr-20",
          "19-Apr-20",
          "19-Apr-20",
          "19-Apr-20",
          "19-Apr-20",
          "19-Apr-20"
         ],
         "xaxis": "x",
         "y": [
          23,
          0,
          83,
          12,
          0,
          7,
          13,
          142,
          0,
          7
         ],
         "yaxis": "y"
        },
        {
         "hovertemplate": "Date=%{x}<br>Recovered=%{y}<extra></extra>",
         "legendgroup": "19-Jul-20",
         "line": {
          "color": "#649d66",
          "dash": "solid"
         },
         "mode": "lines",
         "name": "19-Jul-20",
         "showlegend": true,
         "type": "scattergl",
         "x": [
          "19-Jul-20",
          "19-Jul-20",
          "19-Jul-20",
          "19-Jul-20",
          "19-Jul-20",
          "19-Jul-20",
          "19-Jul-20",
          "19-Jul-20",
          "19-Jul-20",
          "19-Jul-20"
         ],
         "xaxis": "x",
         "y": [
          1127,
          117,
          1860,
          877,
          62,
          1290,
          172,
          3906,
          516,
          1344
         ],
         "yaxis": "y"
        },
        {
         "hovertemplate": "Date=%{x}<br>Recovered=%{y}<extra></extra>",
         "legendgroup": "19-Jun-20",
         "line": {
          "color": "#649d66",
          "dash": "solid"
         },
         "mode": "lines",
         "name": "19-Jun-20",
         "showlegend": true,
         "type": "scattergl",
         "x": [
          "19-Jun-20",
          "19-Jun-20",
          "19-Jun-20",
          "19-Jun-20",
          "19-Jun-20",
          "19-Jun-20",
          "19-Jun-20",
          "19-Jun-20",
          "19-Jun-20",
          "19-Jun-20"
         ],
         "xaxis": "x",
         "y": [
          133,
          103,
          2228,
          340,
          137,
          230,
          96,
          1935,
          153,
          302
         ],
         "yaxis": "y"
        },
        {
         "hovertemplate": "Date=%{x}<br>Recovered=%{y}<extra></extra>",
         "legendgroup": "19-Mar-20",
         "line": {
          "color": "#649d66",
          "dash": "solid"
         },
         "mode": "lines",
         "name": "19-Mar-20",
         "showlegend": true,
         "type": "scattergl",
         "x": [
          "19-Mar-20",
          "19-Mar-20",
          "19-Mar-20",
          "19-Mar-20",
          "19-Mar-20",
          "19-Mar-20",
          "19-Mar-20",
          "19-Mar-20",
          "19-Mar-20",
          "19-Mar-20"
         ],
         "xaxis": "x",
         "y": [
          0,
          0,
          1,
          0,
          0,
          0,
          0,
          0,
          0,
          0
         ],
         "yaxis": "y"
        },
        {
         "hovertemplate": "Date=%{x}<br>Recovered=%{y}<extra></extra>",
         "legendgroup": "19-May-20",
         "line": {
          "color": "#649d66",
          "dash": "solid"
         },
         "mode": "lines",
         "name": "19-May-20",
         "showlegend": true,
         "type": "scattergl",
         "x": [
          "19-May-20",
          "19-May-20",
          "19-May-20",
          "19-May-20",
          "19-May-20",
          "19-May-20",
          "19-May-20",
          "19-May-20",
          "19-May-20",
          "19-May-20"
         ],
         "xaxis": "x",
         "y": [
          69,
          0,
          265,
          239,
          0,
          13,
          0,
          1202,
          30,
          68
         ],
         "yaxis": "y"
        },
        {
         "hovertemplate": "Date=%{x}<br>Recovered=%{y}<extra></extra>",
         "legendgroup": "20-Apr-20",
         "line": {
          "color": "#649d66",
          "dash": "solid"
         },
         "mode": "lines",
         "name": "20-Apr-20",
         "showlegend": true,
         "type": "scattergl",
         "x": [
          "20-Apr-20",
          "20-Apr-20",
          "20-Apr-20",
          "20-Apr-20",
          "20-Apr-20",
          "20-Apr-20",
          "20-Apr-20",
          "20-Apr-20",
          "20-Apr-20",
          "20-Apr-20"
         ],
         "xaxis": "x",
         "y": [
          27,
          0,
          141,
          26,
          4,
          1,
          21,
          65,
          0,
          4
         ],
         "yaxis": "y"
        },
        {
         "hovertemplate": "Date=%{x}<br>Recovered=%{y}<extra></extra>",
         "legendgroup": "20-Jul-20",
         "line": {
          "color": "#649d66",
          "dash": "solid"
         },
         "mode": "lines",
         "name": "20-Jul-20",
         "showlegend": true,
         "type": "scattergl",
         "x": [
          "20-Jul-20",
          "20-Jul-20",
          "20-Jul-20",
          "20-Jul-20",
          "20-Jul-20",
          "20-Jul-20",
          "20-Jul-20",
          "20-Jul-20",
          "20-Jul-20",
          "20-Jul-20"
         ],
         "xaxis": "x",
         "y": [
          1338,
          169,
          1784,
          777,
          117,
          730,
          245,
          5460,
          457,
          1535
         ],
         "yaxis": "y"
        },
        {
         "hovertemplate": "Date=%{x}<br>Recovered=%{y}<extra></extra>",
         "legendgroup": "20-Jun-20",
         "line": {
          "color": "#649d66",
          "dash": "solid"
         },
         "mode": "lines",
         "name": "20-Jun-20",
         "showlegend": true,
         "type": "scattergl",
         "x": [
          "20-Jun-20",
          "20-Jun-20",
          "20-Jun-20",
          "20-Jun-20",
          "20-Jun-20",
          "20-Jun-20",
          "20-Jun-20",
          "20-Jun-20",
          "20-Jun-20",
          "20-Jun-20"
         ],
         "xaxis": "x",
         "y": [
          206,
          63,
          7725,
          535,
          69,
          183,
          57,
          1380,
          237,
          562
         ],
         "yaxis": "y"
        },
        {
         "hovertemplate": "Date=%{x}<br>Recovered=%{y}<extra></extra>",
         "legendgroup": "20-Mar-20",
         "line": {
          "color": "#649d66",
          "dash": "solid"
         },
         "mode": "lines",
         "name": "20-Mar-20",
         "showlegend": true,
         "type": "scattergl",
         "x": [
          "20-Mar-20",
          "20-Mar-20",
          "20-Mar-20",
          "20-Mar-20",
          "20-Mar-20",
          "20-Mar-20",
          "20-Mar-20",
          "20-Mar-20",
          "20-Mar-20",
          "20-Mar-20"
         ],
         "xaxis": "x",
         "y": [
          0,
          0,
          2,
          0,
          0,
          1,
          0,
          0,
          0,
          0
         ],
         "yaxis": "y"
        },
        {
         "hovertemplate": "Date=%{x}<br>Recovered=%{y}<extra></extra>",
         "legendgroup": "20-May-20",
         "line": {
          "color": "#649d66",
          "dash": "solid"
         },
         "mode": "lines",
         "name": "20-May-20",
         "showlegend": true,
         "type": "scattergl",
         "x": [
          "20-May-20",
          "20-May-20",
          "20-May-20",
          "20-May-20",
          "20-May-20",
          "20-May-20",
          "20-May-20",
          "20-May-20",
          "20-May-20",
          "20-May-20"
         ],
         "xaxis": "x",
         "y": [
          43,
          0,
          442,
          176,
          2,
          13,
          5,
          679,
          36,
          62
         ],
         "yaxis": "y"
        },
        {
         "hovertemplate": "Date=%{x}<br>Recovered=%{y}<extra></extra>",
         "legendgroup": "21-Apr-20",
         "line": {
          "color": "#649d66",
          "dash": "solid"
         },
         "mode": "lines",
         "name": "21-Apr-20",
         "showlegend": true,
         "type": "scattergl",
         "x": [
          "21-Apr-20",
          "21-Apr-20",
          "21-Apr-20",
          "21-Apr-20",
          "21-Apr-20",
          "21-Apr-20",
          "21-Apr-20",
          "21-Apr-20",
          "21-Apr-20",
          "21-Apr-20"
         ],
         "xaxis": "x",
         "y": [
          4,
          0,
          180,
          8,
          0,
          17,
          16,
          150,
          6,
          7
         ],
         "yaxis": "y"
        },
        {
         "hovertemplate": "Date=%{x}<br>Recovered=%{y}<extra></extra>",
         "legendgroup": "21-Jul-20",
         "line": {
          "color": "#649d66",
          "dash": "solid"
         },
         "mode": "lines",
         "name": "21-Jul-20",
         "showlegend": true,
         "type": "scattergl",
         "x": [
          "21-Jul-20",
          "21-Jul-20",
          "21-Jul-20",
          "21-Jul-20",
          "21-Jul-20",
          "21-Jul-20",
          "21-Jul-20",
          "21-Jul-20",
          "21-Jul-20",
          "21-Jul-20"
         ],
         "xaxis": "x",
         "y": [
          1346,
          170,
          1200,
          744,
          107,
          1664,
          274,
          7188,
          400,
          1617
         ],
         "yaxis": "y"
        },
        {
         "hovertemplate": "Date=%{x}<br>Recovered=%{y}<extra></extra>",
         "legendgroup": "21-Jun-20",
         "line": {
          "color": "#649d66",
          "dash": "solid"
         },
         "mode": "lines",
         "name": "21-Jun-20",
         "showlegend": true,
         "type": "scattergl",
         "x": [
          "21-Jun-20",
          "21-Jun-20",
          "21-Jun-20",
          "21-Jun-20",
          "21-Jun-20",
          "21-Jun-20",
          "21-Jun-20",
          "21-Jun-20",
          "21-Jun-20",
          "21-Jun-20"
         ],
         "xaxis": "x",
         "y": [
          196,
          53,
          1719,
          655,
          2,
          226,
          93,
          1591,
          186,
          432
         ],
         "yaxis": "y"
        },
        {
         "hovertemplate": "Date=%{x}<br>Recovered=%{y}<extra></extra>",
         "legendgroup": "21-Mar-20",
         "line": {
          "color": "#649d66",
          "dash": "solid"
         },
         "mode": "lines",
         "name": "21-Mar-20",
         "showlegend": true,
         "type": "scattergl",
         "x": [
          "21-Mar-20",
          "21-Mar-20",
          "21-Mar-20",
          "21-Mar-20",
          "21-Mar-20",
          "21-Mar-20",
          "21-Mar-20",
          "21-Mar-20",
          "21-Mar-20",
          "21-Mar-20"
         ],
         "xaxis": "x",
         "y": [
          0,
          0,
          0,
          0,
          0,
          0,
          0,
          0,
          0,
          0
         ],
         "yaxis": "y"
        },
        {
         "hovertemplate": "Date=%{x}<br>Recovered=%{y}<extra></extra>",
         "legendgroup": "21-May-20",
         "line": {
          "color": "#649d66",
          "dash": "solid"
         },
         "mode": "lines",
         "name": "21-May-20",
         "showlegend": true,
         "type": "scattergl",
         "x": [
          "21-May-20",
          "21-May-20",
          "21-May-20",
          "21-May-20",
          "21-May-20",
          "21-May-20",
          "21-May-20",
          "21-May-20",
          "21-May-20",
          "21-May-20"
         ],
         "xaxis": "x",
         "y": [
          41,
          0,
          375,
          269,
          7,
          15,
          8,
          1408,
          50,
          57
         ],
         "yaxis": "y"
        },
        {
         "hovertemplate": "Date=%{x}<br>Recovered=%{y}<extra></extra>",
         "legendgroup": "22-Apr-20",
         "line": {
          "color": "#649d66",
          "dash": "solid"
         },
         "mode": "lines",
         "name": "22-Apr-20",
         "showlegend": true,
         "type": "scattergl",
         "x": [
          "22-Apr-20",
          "22-Apr-20",
          "22-Apr-20",
          "22-Apr-20",
          "22-Apr-20",
          "22-Apr-20",
          "22-Apr-20",
          "22-Apr-20",
          "22-Apr-20",
          "22-Apr-20"
         ],
         "xaxis": "x",
         "y": [
          24,
          3,
          113,
          40,
          0,
          2,
          1,
          67,
          2,
          0
         ],
         "yaxis": "y"
        },
        {
         "hovertemplate": "Date=%{x}<br>Recovered=%{y}<extra></extra>",
         "legendgroup": "22-Jul-20",
         "line": {
          "color": "#649d66",
          "dash": "solid"
         },
         "mode": "lines",
         "name": "22-Jul-20",
         "showlegend": true,
         "type": "scattergl",
         "x": [
          "22-Jul-20",
          "22-Jul-20",
          "22-Jul-20",
          "22-Jul-20",
          "22-Jul-20",
          "22-Jul-20",
          "22-Jul-20",
          "22-Jul-20",
          "22-Jul-20",
          "22-Jul-20"
         ],
         "xaxis": "x",
         "y": [
          6553,
          116,
          1532,
          837,
          106,
          1780,
          272,
          5552,
          440,
          1615
         ],
         "yaxis": "y"
        },
        {
         "hovertemplate": "Date=%{x}<br>Recovered=%{y}<extra></extra>",
         "legendgroup": "22-Jun-20",
         "line": {
          "color": "#649d66",
          "dash": "solid"
         },
         "mode": "lines",
         "name": "22-Jun-20",
         "showlegend": true,
         "type": "scattergl",
         "x": [
          "22-Jun-20",
          "22-Jun-20",
          "22-Jun-20",
          "22-Jun-20",
          "22-Jun-20",
          "22-Jun-20",
          "22-Jun-20",
          "22-Jun-20",
          "22-Jun-20",
          "22-Jun-20"
         ],
         "xaxis": "x",
         "y": [
          128,
          66,
          3589,
          560,
          63,
          111,
          88,
          1962,
          143,
          390
         ],
         "yaxis": "y"
        },
        {
         "hovertemplate": "Date=%{x}<br>Recovered=%{y}<extra></extra>",
         "legendgroup": "22-Mar-20",
         "line": {
          "color": "#649d66",
          "dash": "solid"
         },
         "mode": "lines",
         "name": "22-Mar-20",
         "showlegend": true,
         "type": "scattergl",
         "x": [
          "22-Mar-20",
          "22-Mar-20",
          "22-Mar-20",
          "22-Mar-20",
          "22-Mar-20",
          "22-Mar-20",
          "22-Mar-20",
          "22-Mar-20",
          "22-Mar-20",
          "22-Mar-20"
         ],
         "xaxis": "x",
         "y": [
          0,
          0,
          0,
          0,
          0,
          0,
          0,
          0,
          0,
          0
         ],
         "yaxis": "y"
        },
        {
         "hovertemplate": "Date=%{x}<br>Recovered=%{y}<extra></extra>",
         "legendgroup": "22-May-20",
         "line": {
          "color": "#649d66",
          "dash": "solid"
         },
         "mode": "lines",
         "name": "22-May-20",
         "showlegend": true,
         "type": "scattergl",
         "x": [
          "22-May-20",
          "22-May-20",
          "22-May-20",
          "22-May-20",
          "22-May-20",
          "22-May-20",
          "22-May-20",
          "22-May-20",
          "22-May-20",
          "22-May-20"
         ],
         "xaxis": "x",
         "y": [
          26,
          3,
          330,
          392,
          0,
          26,
          2,
          857,
          43,
          28
         ],
         "yaxis": "y"
        },
        {
         "hovertemplate": "Date=%{x}<br>Recovered=%{y}<extra></extra>",
         "legendgroup": "23-Apr-20",
         "line": {
          "color": "#649d66",
          "dash": "solid"
         },
         "mode": "lines",
         "name": "23-Apr-20",
         "showlegend": true,
         "type": "scattergl",
         "x": [
          "23-Apr-20",
          "23-Apr-20",
          "23-Apr-20",
          "23-Apr-20",
          "23-Apr-20",
          "23-Apr-20",
          "23-Apr-20",
          "23-Apr-20",
          "23-Apr-20",
          "23-Apr-20"
         ],
         "xaxis": "x",
         "y": [
          21,
          2,
          84,
          79,
          4,
          14,
          8,
          51,
          1,
          6
         ],
         "yaxis": "y"
        },
        {
         "hovertemplate": "Date=%{x}<br>Recovered=%{y}<extra></extra>",
         "legendgroup": "23-Jul-20",
         "line": {
          "color": "#649d66",
          "dash": "solid"
         },
         "mode": "lines",
         "name": "23-Jul-20",
         "showlegend": true,
         "type": "scattergl",
         "x": [
          "23-Jul-20",
          "23-Jul-20",
          "23-Jul-20",
          "23-Jul-20",
          "23-Jul-20",
          "23-Jul-20",
          "23-Jul-20",
          "23-Jul-20",
          "23-Jul-20",
          "23-Jul-20"
         ],
         "xaxis": "x",
         "y": [
          5428,
          157,
          1415,
          718,
          206,
          2071,
          432,
          6484,
          643,
          2006
         ],
         "yaxis": "y"
        },
        {
         "hovertemplate": "Date=%{x}<br>Recovered=%{y}<extra></extra>",
         "legendgroup": "23-Jun-20",
         "line": {
          "color": "#649d66",
          "dash": "solid"
         },
         "mode": "lines",
         "name": "23-Jun-20",
         "showlegend": true,
         "type": "scattergl",
         "x": [
          "23-Jun-20",
          "23-Jun-20",
          "23-Jun-20",
          "23-Jun-20",
          "23-Jun-20",
          "23-Jun-20",
          "23-Jun-20",
          "23-Jun-20",
          "23-Jun-20",
          "23-Jun-20"
         ],
         "xaxis": "x",
         "y": [
          157,
          40,
          2711,
          604,
          51,
          274,
          60,
          1925,
          125,
          531
         ],
         "yaxis": "y"
        },
        {
         "hovertemplate": "Date=%{x}<br>Recovered=%{y}<extra></extra>",
         "legendgroup": "23-Mar-20",
         "line": {
          "color": "#649d66",
          "dash": "solid"
         },
         "mode": "lines",
         "name": "23-Mar-20",
         "showlegend": true,
         "type": "scattergl",
         "x": [
          "23-Mar-20",
          "23-Mar-20",
          "23-Mar-20",
          "23-Mar-20",
          "23-Mar-20",
          "23-Mar-20",
          "23-Mar-20",
          "23-Mar-20",
          "23-Mar-20",
          "23-Mar-20"
         ],
         "xaxis": "x",
         "y": [
          0,
          0,
          0,
          0,
          0,
          1,
          0,
          0,
          0,
          0
         ],
         "yaxis": "y"
        },
        {
         "hovertemplate": "Date=%{x}<br>Recovered=%{y}<extra></extra>",
         "legendgroup": "23-May-20",
         "line": {
          "color": "#649d66",
          "dash": "solid"
         },
         "mode": "lines",
         "name": "23-May-20",
         "showlegend": true,
         "type": "scattergl",
         "x": [
          "23-May-20",
          "23-May-20",
          "23-May-20",
          "23-May-20",
          "23-May-20",
          "23-May-20",
          "23-May-20",
          "23-May-20",
          "23-May-20",
          "23-May-20"
         ],
         "xaxis": "x",
         "y": [
          48,
          2,
          370,
          289,
          5,
          11,
          3,
          821,
          61,
          60
         ],
         "yaxis": "y"
        },
        {
         "hovertemplate": "Date=%{x}<br>Recovered=%{y}<extra></extra>",
         "legendgroup": "24-Apr-20",
         "line": {
          "color": "#649d66",
          "dash": "solid"
         },
         "mode": "lines",
         "name": "24-Apr-20",
         "showlegend": true,
         "type": "scattergl",
         "x": [
          "24-Apr-20",
          "24-Apr-20",
          "24-Apr-20",
          "24-Apr-20",
          "24-Apr-20",
          "24-Apr-20",
          "24-Apr-20",
          "24-Apr-20",
          "24-Apr-20",
          "24-Apr-20"
         ],
         "xaxis": "x",
         "y": [
          4,
          0,
          49,
          7,
          0,
          7,
          15,
          117,
          0,
          24
         ],
         "yaxis": "y"
        },
        {
         "hovertemplate": "Date=%{x}<br>Recovered=%{y}<extra></extra>",
         "legendgroup": "24-Jul-20",
         "line": {
          "color": "#649d66",
          "dash": "solid"
         },
         "mode": "lines",
         "name": "24-Jul-20",
         "showlegend": true,
         "type": "scattergl",
         "x": [
          "24-Jul-20",
          "24-Jul-20",
          "24-Jul-20",
          "24-Jul-20",
          "24-Jul-20",
          "24-Jul-20",
          "24-Jul-20",
          "24-Jul-20",
          "24-Jul-20",
          "24-Jul-20"
         ],
         "xaxis": "x",
         "y": [
          2380,
          180,
          1866,
          872,
          100,
          2037,
          968,
          5714,
          808,
          1873
         ],
         "yaxis": "y"
        },
        {
         "hovertemplate": "Date=%{x}<br>Recovered=%{y}<extra></extra>",
         "legendgroup": "24-Jun-20",
         "line": {
          "color": "#649d66",
          "dash": "solid"
         },
         "mode": "lines",
         "name": "24-Jun-20",
         "showlegend": true,
         "type": "scattergl",
         "x": [
          "24-Jun-20",
          "24-Jun-20",
          "24-Jun-20",
          "24-Jun-20",
          "24-Jun-20",
          "24-Jun-20",
          "24-Jun-20",
          "24-Jun-20",
          "24-Jun-20",
          "24-Jun-20"
         ],
         "xaxis": "x",
         "y": [
          187,
          74,
          2124,
          575,
          55,
          149,
          81,
          4161,
          135,
          484
         ],
         "yaxis": "y"
        },
        {
         "hovertemplate": "Date=%{x}<br>Recovered=%{y}<extra></extra>",
         "legendgroup": "24-Mar-20",
         "line": {
          "color": "#649d66",
          "dash": "solid"
         },
         "mode": "lines",
         "name": "24-Mar-20",
         "showlegend": true,
         "type": "scattergl",
         "x": [
          "24-Mar-20",
          "24-Mar-20",
          "24-Mar-20",
          "24-Mar-20",
          "24-Mar-20",
          "24-Mar-20",
          "24-Mar-20",
          "24-Mar-20",
          "24-Mar-20",
          "24-Mar-20"
         ],
         "xaxis": "x",
         "y": [
          0,
          0,
          1,
          0,
          0,
          1,
          1,
          0,
          0,
          0
         ],
         "yaxis": "y"
        },
        {
         "hovertemplate": "Date=%{x}<br>Recovered=%{y}<extra></extra>",
         "legendgroup": "24-May-20",
         "line": {
          "color": "#649d66",
          "dash": "solid"
         },
         "mode": "lines",
         "name": "24-May-20",
         "showlegend": true,
         "type": "scattergl",
         "x": [
          "24-May-20",
          "24-May-20",
          "24-May-20",
          "24-May-20",
          "24-May-20",
          "24-May-20",
          "24-May-20",
          "24-May-20",
          "24-May-20",
          "24-May-20"
         ],
         "xaxis": "x",
         "y": [
          62,
          0,
          273,
          243,
          7,
          46,
          5,
          1196,
          53,
          58
         ],
         "yaxis": "y"
        },
        {
         "hovertemplate": "Date=%{x}<br>Recovered=%{y}<extra></extra>",
         "legendgroup": "25-Apr-20",
         "line": {
          "color": "#649d66",
          "dash": "solid"
         },
         "mode": "lines",
         "name": "25-Apr-20",
         "showlegend": true,
         "type": "scattergl",
         "x": [
          "25-Apr-20",
          "25-Apr-20",
          "25-Apr-20",
          "25-Apr-20",
          "25-Apr-20",
          "25-Apr-20",
          "25-Apr-20",
          "25-Apr-20",
          "25-Apr-20",
          "25-Apr-20"
         ],
         "xaxis": "x",
         "y": [
          26,
          2,
          12,
          17,
          0,
          6,
          7,
          119,
          1,
          0
         ],
         "yaxis": "y"
        },
        {
         "hovertemplate": "Date=%{x}<br>Recovered=%{y}<extra></extra>",
         "legendgroup": "25-Jul-20",
         "line": {
          "color": "#649d66",
          "dash": "solid"
         },
         "mode": "lines",
         "name": "25-Jul-20",
         "showlegend": true,
         "type": "scattergl",
         "x": [
          "25-Jul-20",
          "25-Jul-20",
          "25-Jul-20",
          "25-Jul-20",
          "25-Jul-20",
          "25-Jul-20",
          "25-Jul-20",
          "25-Jul-20",
          "25-Jul-20",
          "25-Jul-20"
         ],
         "xaxis": "x",
         "y": [
          3320,
          116,
          2137,
          782,
          167,
          2403,
          1049,
          7227,
          728,
          2125
         ],
         "yaxis": "y"
        },
        {
         "hovertemplate": "Date=%{x}<br>Recovered=%{y}<extra></extra>",
         "legendgroup": "25-Jun-20",
         "line": {
          "color": "#649d66",
          "dash": "solid"
         },
         "mode": "lines",
         "name": "25-Jun-20",
         "showlegend": true,
         "type": "scattergl",
         "x": [
          "25-Jun-20",
          "25-Jun-20",
          "25-Jun-20",
          "25-Jun-20",
          "25-Jun-20",
          "25-Jun-20",
          "25-Jun-20",
          "25-Jun-20",
          "25-Jun-20",
          "25-Jun-20"
         ],
         "xaxis": "x",
         "y": [
          209,
          128,
          3328,
          410,
          30,
          519,
          53,
          3661,
          168,
          488
         ],
         "yaxis": "y"
        },
        {
         "hovertemplate": "Date=%{x}<br>Recovered=%{y}<extra></extra>",
         "legendgroup": "25-Mar-20",
         "line": {
          "color": "#649d66",
          "dash": "solid"
         },
         "mode": "lines",
         "name": "25-Mar-20",
         "showlegend": true,
         "type": "scattergl",
         "x": [
          "25-Mar-20",
          "25-Mar-20",
          "25-Mar-20",
          "25-Mar-20",
          "25-Mar-20",
          "25-Mar-20",
          "25-Mar-20",
          "25-Mar-20",
          "25-Mar-20",
          "25-Mar-20"
         ],
         "xaxis": "x",
         "y": [
          1,
          0,
          0,
          0,
          0,
          0,
          0,
          1,
          0,
          0
         ],
         "yaxis": "y"
        },
        {
         "hovertemplate": "Date=%{x}<br>Recovered=%{y}<extra></extra>",
         "legendgroup": "25-May-20",
         "line": {
          "color": "#649d66",
          "dash": "solid"
         },
         "mode": "lines",
         "name": "25-May-20",
         "showlegend": true,
         "type": "scattergl",
         "x": [
          "25-May-20",
          "25-May-20",
          "25-May-20",
          "25-May-20",
          "25-May-20",
          "25-May-20",
          "25-May-20",
          "25-May-20",
          "25-May-20",
          "25-May-20"
         ],
         "xaxis": "x",
         "y": [
          51,
          3,
          231,
          224,
          0,
          51,
          12,
          1186,
          99,
          75
         ],
         "yaxis": "y"
        },
        {
         "hovertemplate": "Date=%{x}<br>Recovered=%{y}<extra></extra>",
         "legendgroup": "26-Apr-20",
         "line": {
          "color": "#649d66",
          "dash": "solid"
         },
         "mode": "lines",
         "name": "26-Apr-20",
         "showlegend": true,
         "type": "scattergl",
         "x": [
          "26-Apr-20",
          "26-Apr-20",
          "26-Apr-20",
          "26-Apr-20",
          "26-Apr-20",
          "26-Apr-20",
          "26-Apr-20",
          "26-Apr-20",
          "26-Apr-20",
          "26-Apr-20"
         ],
         "xaxis": "x",
         "y": [
          60,
          0,
          8,
          31,
          5,
          24,
          4,
          112,
          1,
          2
         ],
         "yaxis": "y"
        },
        {
         "hovertemplate": "Date=%{x}<br>Recovered=%{y}<extra></extra>",
         "legendgroup": "26-Jul-20",
         "line": {
          "color": "#649d66",
          "dash": "solid"
         },
         "mode": "lines",
         "name": "26-Jul-20",
         "showlegend": true,
         "type": "scattergl",
         "x": [
          "26-Jul-20",
          "26-Jul-20",
          "26-Jul-20",
          "26-Jul-20",
          "26-Jul-20",
          "26-Jul-20",
          "26-Jul-20",
          "26-Jul-20",
          "26-Jul-20",
          "26-Jul-20"
         ],
         "xaxis": "x",
         "y": [
          3046,
          261,
          1807,
          753,
          183,
          2088,
          689,
          6044,
          864,
          2097
         ],
         "yaxis": "y"
        },
        {
         "hovertemplate": "Date=%{x}<br>Recovered=%{y}<extra></extra>",
         "legendgroup": "26-Jun-20",
         "line": {
          "color": "#649d66",
          "dash": "solid"
         },
         "mode": "lines",
         "name": "26-Jun-20",
         "showlegend": true,
         "type": "scattergl",
         "x": [
          "26-Jun-20",
          "26-Jun-20",
          "26-Jun-20",
          "26-Jun-20",
          "26-Jun-20",
          "26-Jun-20",
          "26-Jun-20",
          "26-Jun-20",
          "26-Jun-20",
          "26-Jun-20"
         ],
         "xaxis": "x",
         "y": [
          208,
          156,
          2326,
          532,
          42,
          246,
          65,
          2362,
          131,
          345
         ],
         "yaxis": "y"
        },
        {
         "hovertemplate": "Date=%{x}<br>Recovered=%{y}<extra></extra>",
         "legendgroup": "26-Mar-20",
         "line": {
          "color": "#649d66",
          "dash": "solid"
         },
         "mode": "lines",
         "name": "26-Mar-20",
         "showlegend": true,
         "type": "scattergl",
         "x": [
          "26-Mar-20",
          "26-Mar-20",
          "26-Mar-20",
          "26-Mar-20",
          "26-Mar-20",
          "26-Mar-20",
          "26-Mar-20",
          "26-Mar-20",
          "26-Mar-20",
          "26-Mar-20"
         ],
         "xaxis": "x",
         "y": [
          0,
          0,
          0,
          0,
          0,
          0,
          7,
          0,
          0,
          0
         ],
         "yaxis": "y"
        },
        {
         "hovertemplate": "Date=%{x}<br>Recovered=%{y}<extra></extra>",
         "legendgroup": "26-May-20",
         "line": {
          "color": "#649d66",
          "dash": "solid"
         },
         "mode": "lines",
         "name": "26-May-20",
         "showlegend": true,
         "type": "scattergl",
         "x": [
          "26-May-20",
          "26-May-20",
          "26-May-20",
          "26-May-20",
          "26-May-20",
          "26-May-20",
          "26-May-20",
          "26-May-20",
          "26-May-20",
          "26-May-20"
         ],
         "xaxis": "x",
         "y": [
          125,
          12,
          183,
          501,
          5,
          59,
          10,
          1168,
          84,
          72
         ],
         "yaxis": "y"
        },
        {
         "hovertemplate": "Date=%{x}<br>Recovered=%{y}<extra></extra>",
         "legendgroup": "27-Apr-20",
         "line": {
          "color": "#649d66",
          "dash": "solid"
         },
         "mode": "lines",
         "name": "27-Apr-20",
         "showlegend": true,
         "type": "scattergl",
         "x": [
          "27-Apr-20",
          "27-Apr-20",
          "27-Apr-20",
          "27-Apr-20",
          "27-Apr-20",
          "27-Apr-20",
          "27-Apr-20",
          "27-Apr-20",
          "27-Apr-20",
          "27-Apr-20"
         ],
         "xaxis": "x",
         "y": [
          4,
          0,
          0,
          81,
          4,
          11,
          13,
          94,
          2,
          0
         ],
         "yaxis": "y"
        },
        {
         "hovertemplate": "Date=%{x}<br>Recovered=%{y}<extra></extra>",
         "legendgroup": "27-Jul-20",
         "line": {
          "color": "#649d66",
          "dash": "solid"
         },
         "mode": "lines",
         "name": "27-Jul-20",
         "showlegend": true,
         "type": "scattergl",
         "x": [
          "27-Jul-20",
          "27-Jul-20",
          "27-Jul-20",
          "27-Jul-20",
          "27-Jul-20",
          "27-Jul-20",
          "27-Jul-20",
          "27-Jul-20",
          "27-Jul-20",
          "27-Jul-20"
         ],
         "xaxis": "x",
         "y": [
          3257,
          228,
          1497,
          1015,
          101,
          1847,
          745,
          8706,
          581,
          2166
         ],
         "yaxis": "y"
        },
        {
         "hovertemplate": "Date=%{x}<br>Recovered=%{y}<extra></extra>",
         "legendgroup": "27-Jun-20",
         "line": {
          "color": "#649d66",
          "dash": "solid"
         },
         "mode": "lines",
         "name": "27-Jun-20",
         "showlegend": true,
         "type": "scattergl",
         "x": [
          "27-Jun-20",
          "27-Jun-20",
          "27-Jun-20",
          "27-Jun-20",
          "27-Jun-20",
          "27-Jun-20",
          "27-Jun-20",
          "27-Jun-20",
          "27-Jun-20",
          "27-Jun-20"
         ],
         "xaxis": "x",
         "y": [
          284,
          52,
          2210,
          379,
          77,
          371,
          102,
          4430,
          184,
          254
         ],
         "yaxis": "y"
        },
        {
         "hovertemplate": "Date=%{x}<br>Recovered=%{y}<extra></extra>",
         "legendgroup": "27-Mar-20",
         "line": {
          "color": "#649d66",
          "dash": "solid"
         },
         "mode": "lines",
         "name": "27-Mar-20",
         "showlegend": true,
         "type": "scattergl",
         "x": [
          "27-Mar-20",
          "27-Mar-20",
          "27-Mar-20",
          "27-Mar-20",
          "27-Mar-20",
          "27-Mar-20",
          "27-Mar-20",
          "27-Mar-20",
          "27-Mar-20",
          "27-Mar-20"
         ],
         "xaxis": "x",
         "y": [
          0,
          0,
          0,
          0,
          0,
          2,
          0,
          18,
          0,
          0
         ],
         "yaxis": "y"
        },
        {
         "hovertemplate": "Date=%{x}<br>Recovered=%{y}<extra></extra>",
         "legendgroup": "27-May-20",
         "line": {
          "color": "#649d66",
          "dash": "solid"
         },
         "mode": "lines",
         "name": "27-May-20",
         "showlegend": true,
         "type": "scattergl",
         "x": [
          "27-May-20",
          "27-May-20",
          "27-May-20",
          "27-May-20",
          "27-May-20",
          "27-May-20",
          "27-May-20",
          "27-May-20",
          "27-May-20",
          "27-May-20"
         ],
         "xaxis": "x",
         "y": [
          48,
          4,
          310,
          410,
          0,
          17,
          10,
          964,
          79,
          92
         ],
         "yaxis": "y"
        },
        {
         "hovertemplate": "Date=%{x}<br>Recovered=%{y}<extra></extra>",
         "legendgroup": "28-Apr-20",
         "line": {
          "color": "#649d66",
          "dash": "solid"
         },
         "mode": "lines",
         "name": "28-Apr-20",
         "showlegend": true,
         "type": "scattergl",
         "x": [
          "28-Apr-20",
          "28-Apr-20",
          "28-Apr-20",
          "28-Apr-20",
          "28-Apr-20",
          "28-Apr-20",
          "28-Apr-20",
          "28-Apr-20",
          "28-Apr-20",
          "28-Apr-20"
         ],
         "xaxis": "x",
         "y": [
          23,
          2,
          201,
          40,
          2,
          14,
          4,
          106,
          1,
          4
         ],
         "yaxis": "y"
        },
        {
         "hovertemplate": "Date=%{x}<br>Recovered=%{y}<extra></extra>",
         "legendgroup": "28-Jul-20",
         "line": {
          "color": "#649d66",
          "dash": "solid"
         },
         "mode": "lines",
         "name": "28-Jul-20",
         "showlegend": true,
         "type": "scattergl",
         "x": [
          "28-Jul-20",
          "28-Jul-20",
          "28-Jul-20",
          "28-Jul-20",
          "28-Jul-20",
          "28-Jul-20",
          "28-Jul-20",
          "28-Jul-20",
          "28-Jul-20",
          "28-Jul-20"
         ],
         "xaxis": "x",
         "y": [
          3064,
          267,
          1135,
          1032,
          179,
          2819,
          679,
          10333,
          687,
          2105
         ],
         "yaxis": "y"
        },
        {
         "hovertemplate": "Date=%{x}<br>Recovered=%{y}<extra></extra>",
         "legendgroup": "28-Jun-20",
         "line": {
          "color": "#649d66",
          "dash": "solid"
         },
         "mode": "lines",
         "name": "28-Jun-20",
         "showlegend": true,
         "type": "scattergl",
         "x": [
          "28-Jun-20",
          "28-Jun-20",
          "28-Jun-20",
          "28-Jun-20",
          "28-Jun-20",
          "28-Jun-20",
          "28-Jun-20",
          "28-Jun-20",
          "28-Jun-20",
          "28-Jun-20"
         ],
         "xaxis": "x",
         "y": [
          428,
          125,
          3306,
          391,
          69,
          220,
          42,
          2330,
          137,
          404
         ],
         "yaxis": "y"
        },
        {
         "hovertemplate": "Date=%{x}<br>Recovered=%{y}<extra></extra>",
         "legendgroup": "28-Mar-20",
         "line": {
          "color": "#649d66",
          "dash": "solid"
         },
         "mode": "lines",
         "name": "28-Mar-20",
         "showlegend": true,
         "type": "scattergl",
         "x": [
          "28-Mar-20",
          "28-Mar-20",
          "28-Mar-20",
          "28-Mar-20",
          "28-Mar-20",
          "28-Mar-20",
          "28-Mar-20",
          "28-Mar-20",
          "28-Mar-20",
          "28-Mar-20"
         ],
         "xaxis": "x",
         "y": [
          0,
          0,
          0,
          0,
          0,
          0,
          1,
          6,
          0,
          0
         ],
         "yaxis": "y"
        },
        {
         "hovertemplate": "Date=%{x}<br>Recovered=%{y}<extra></extra>",
         "legendgroup": "28-May-20",
         "line": {
          "color": "#649d66",
          "dash": "solid"
         },
         "mode": "lines",
         "name": "28-May-20",
         "showlegend": true,
         "type": "scattergl",
         "x": [
          "28-May-20",
          "28-May-20",
          "28-May-20",
          "28-May-20",
          "28-May-20",
          "28-May-20",
          "28-May-20",
          "28-May-20",
          "28-May-20",
          "28-May-20"
         ],
         "xaxis": "x",
         "y": [
          68,
          0,
          231,
          454,
          0,
          53,
          3,
          698,
          75,
          90
         ],
         "yaxis": "y"
        },
        {
         "hovertemplate": "Date=%{x}<br>Recovered=%{y}<extra></extra>",
         "legendgroup": "29-Apr-20",
         "line": {
          "color": "#649d66",
          "dash": "solid"
         },
         "mode": "lines",
         "name": "29-Apr-20",
         "showlegend": true,
         "type": "scattergl",
         "x": [
          "29-Apr-20",
          "29-Apr-20",
          "29-Apr-20",
          "29-Apr-20",
          "29-Apr-20",
          "29-Apr-20",
          "29-Apr-20",
          "29-Apr-20",
          "29-Apr-20",
          "29-Apr-20"
         ],
         "xaxis": "x",
         "y": [
          29,
          0,
          14,
          93,
          0,
          9,
          10,
          205,
          1,
          10
         ],
         "yaxis": "y"
        },
        {
         "hovertemplate": "Date=%{x}<br>Recovered=%{y}<extra></extra>",
         "legendgroup": "29-Jul-20",
         "line": {
          "color": "#649d66",
          "dash": "solid"
         },
         "mode": "lines",
         "name": "29-Jul-20",
         "showlegend": true,
         "type": "scattergl",
         "x": [
          "29-Jul-20",
          "29-Jul-20",
          "29-Jul-20",
          "29-Jul-20",
          "29-Jul-20",
          "29-Jul-20",
          "29-Jul-20",
          "29-Jul-20",
          "29-Jul-20",
          "29-Jul-20"
         ],
         "xaxis": "x",
         "y": [
          2784,
          197,
          1126,
          783,
          77,
          2397,
          641,
          7478,
          878,
          2094
         ],
         "yaxis": "y"
        },
        {
         "hovertemplate": "Date=%{x}<br>Recovered=%{y}<extra></extra>",
         "legendgroup": "29-Jun-20",
         "line": {
          "color": "#649d66",
          "dash": "solid"
         },
         "mode": "lines",
         "name": "29-Jun-20",
         "showlegend": true,
         "type": "scattergl",
         "x": [
          "29-Jun-20",
          "29-Jun-20",
          "29-Jun-20",
          "29-Jun-20",
          "29-Jun-20",
          "29-Jun-20",
          "29-Jun-20",
          "29-Jun-20",
          "29-Jun-20",
          "29-Jun-20"
         ],
         "xaxis": "x",
         "y": [
          324,
          88,
          3628,
          440,
          56,
          176,
          79,
          2385,
          203,
          526
         ],
         "yaxis": "y"
        },
        {
         "hovertemplate": "Date=%{x}<br>Recovered=%{y}<extra></extra>",
         "legendgroup": "29-Mar-20",
         "line": {
          "color": "#649d66",
          "dash": "solid"
         },
         "mode": "lines",
         "name": "29-Mar-20",
         "showlegend": true,
         "type": "scattergl",
         "x": [
          "29-Mar-20",
          "29-Mar-20",
          "29-Mar-20",
          "29-Mar-20",
          "29-Mar-20",
          "29-Mar-20",
          "29-Mar-20",
          "29-Mar-20",
          "29-Mar-20",
          "29-Mar-20"
         ],
         "xaxis": "x",
         "y": [
          0,
          0,
          0,
          1,
          0,
          0,
          4,
          0,
          0,
          0
         ],
         "yaxis": "y"
        },
        {
         "hovertemplate": "Date=%{x}<br>Recovered=%{y}<extra></extra>",
         "legendgroup": "29-May-20",
         "line": {
          "color": "#649d66",
          "dash": "solid"
         },
         "mode": "lines",
         "name": "29-May-20",
         "showlegend": true,
         "type": "scattergl",
         "x": [
          "29-May-20",
          "29-May-20",
          "29-May-20",
          "29-May-20",
          "29-May-20",
          "29-May-20",
          "29-May-20",
          "29-May-20",
          "29-May-20",
          "29-May-20"
         ],
         "xaxis": "x",
         "y": [
          101,
          17,
          351,
          608,
          63,
          60,
          10,
          8381,
          90,
          107
         ],
         "yaxis": "y"
        },
        {
         "hovertemplate": "Date=%{x}<br>Recovered=%{y}<extra></extra>",
         "legendgroup": "30-Apr-20",
         "line": {
          "color": "#649d66",
          "dash": "solid"
         },
         "mode": "lines",
         "name": "30-Apr-20",
         "showlegend": true,
         "type": "scattergl",
         "x": [
          "30-Apr-20",
          "30-Apr-20",
          "30-Apr-20",
          "30-Apr-20",
          "30-Apr-20",
          "30-Apr-20",
          "30-Apr-20",
          "30-Apr-20",
          "30-Apr-20",
          "30-Apr-20"
         ],
         "xaxis": "x",
         "y": [
          34,
          2,
          2,
          86,
          0,
          13,
          14,
          180,
          2,
          5
         ],
         "yaxis": "y"
        },
        {
         "hovertemplate": "Date=%{x}<br>Recovered=%{y}<extra></extra>",
         "legendgroup": "30-Jul-20",
         "line": {
          "color": "#649d66",
          "dash": "solid"
         },
         "mode": "lines",
         "name": "30-Jul-20",
         "showlegend": true,
         "type": "scattergl",
         "x": [
          "30-Jul-20",
          "30-Jul-20",
          "30-Jul-20",
          "30-Jul-20",
          "30-Jul-20",
          "30-Jul-20",
          "30-Jul-20",
          "30-Jul-20",
          "30-Jul-20",
          "30-Jul-20"
         ],
         "xaxis": "x",
         "y": [
          4618,
          285,
          1091,
          879,
          115,
          3793,
          794,
          8860,
          807,
          2140
         ],
         "yaxis": "y"
        },
        {
         "hovertemplate": "Date=%{x}<br>Recovered=%{y}<extra></extra>",
         "legendgroup": "30-Jun-20",
         "line": {
          "color": "#649d66",
          "dash": "solid"
         },
         "mode": "lines",
         "name": "30-Jun-20",
         "showlegend": true,
         "type": "scattergl",
         "x": [
          "30-Jun-20",
          "30-Jun-20",
          "30-Jun-20",
          "30-Jun-20",
          "30-Jun-20",
          "30-Jun-20",
          "30-Jun-20",
          "30-Jun-20",
          "30-Jun-20",
          "30-Jun-20"
         ],
         "xaxis": "x",
         "y": [
          279,
          100,
          2113,
          422,
          35,
          235,
          75,
          1951,
          243,
          411
         ],
         "yaxis": "y"
        },
        {
         "hovertemplate": "Date=%{x}<br>Recovered=%{y}<extra></extra>",
         "legendgroup": "30-Mar-20",
         "line": {
          "color": "#649d66",
          "dash": "solid"
         },
         "mode": "lines",
         "name": "30-Mar-20",
         "showlegend": true,
         "type": "scattergl",
         "x": [
          "30-Mar-20",
          "30-Mar-20",
          "30-Mar-20",
          "30-Mar-20",
          "30-Mar-20",
          "30-Mar-20",
          "30-Mar-20",
          "30-Mar-20",
          "30-Mar-20",
          "30-Mar-20"
         ],
         "xaxis": "x",
         "y": [
          0,
          0,
          0,
          2,
          0,
          1,
          4,
          14,
          0,
          0
         ],
         "yaxis": "y"
        },
        {
         "hovertemplate": "Date=%{x}<br>Recovered=%{y}<extra></extra>",
         "legendgroup": "30-May-20",
         "line": {
          "color": "#649d66",
          "dash": "solid"
         },
         "mode": "lines",
         "name": "30-May-20",
         "showlegend": true,
         "type": "scattergl",
         "x": [
          "30-May-20",
          "30-May-20",
          "30-May-20",
          "30-May-20",
          "30-May-20",
          "30-May-20",
          "30-May-20",
          "30-May-20",
          "30-May-20",
          "30-May-20"
         ],
         "xaxis": "x",
         "y": [
          55,
          2,
          229,
          621,
          40,
          103,
          10,
          1084,
          73,
          195
         ],
         "yaxis": "y"
        },
        {
         "hovertemplate": "Date=%{x}<br>Recovered=%{y}<extra></extra>",
         "legendgroup": "31-Jul-20",
         "line": {
          "color": "#649d66",
          "dash": "solid"
         },
         "mode": "lines",
         "name": "31-Jul-20",
         "showlegend": true,
         "type": "scattergl",
         "x": [
          "31-Jul-20",
          "31-Jul-20",
          "31-Jul-20",
          "31-Jul-20",
          "31-Jul-20",
          "31-Jul-20",
          "31-Jul-20",
          "31-Jul-20",
          "31-Jul-20",
          "31-Jul-20"
         ],
         "xaxis": "x",
         "y": [
          3840,
          309,
          1206,
          833,
          167,
          3094,
          864,
          7543,
          772,
          2118
         ],
         "yaxis": "y"
        },
        {
         "hovertemplate": "Date=%{x}<br>Recovered=%{y}<extra></extra>",
         "legendgroup": "31-Mar-20",
         "line": {
          "color": "#649d66",
          "dash": "solid"
         },
         "mode": "lines",
         "name": "31-Mar-20",
         "showlegend": true,
         "type": "scattergl",
         "x": [
          "31-Mar-20",
          "31-Mar-20",
          "31-Mar-20",
          "31-Mar-20",
          "31-Mar-20",
          "31-Mar-20",
          "31-Mar-20",
          "31-Mar-20",
          "31-Mar-20",
          "31-Mar-20"
         ],
         "xaxis": "x",
         "y": [
          0,
          2,
          0,
          2,
          0,
          2,
          4,
          0,
          0,
          3
         ],
         "yaxis": "y"
        },
        {
         "hovertemplate": "Date=%{x}<br>Recovered=%{y}<extra></extra>",
         "legendgroup": "31-May-20",
         "line": {
          "color": "#649d66",
          "dash": "solid"
         },
         "mode": "lines",
         "name": "31-May-20",
         "showlegend": true,
         "type": "scattergl",
         "x": [
          "31-May-20",
          "31-May-20",
          "31-May-20",
          "31-May-20",
          "31-May-20",
          "31-May-20",
          "31-May-20",
          "31-May-20",
          "31-May-20"
         ],
         "xaxis": "x",
         "y": [
          51,
          12,
          403,
          689,
          0,
          221,
          15,
          1248,
          76
         ],
         "yaxis": "y"
        },
        {
         "hovertemplate": "Date=%{x}<br>Recovered=%{y}<extra></extra>",
         "legendgroup": "28-Feb-21",
         "line": {
          "color": "#649d66",
          "dash": "solid"
         },
         "mode": "lines",
         "name": "28-Feb-21",
         "showlegend": true,
         "type": "scattergl",
         "x": [
          "28-Feb-21"
         ],
         "xaxis": "x",
         "y": [
          187
         ],
         "yaxis": "y"
        }
       ],
       "layout": {
        "legend": {
         "title": {
          "text": "Date"
         },
         "tracegroupgap": 0
        },
        "margin": {
         "t": 60
        },
        "template": {
         "data": {
          "bar": [
           {
            "error_x": {
             "color": "#2a3f5f"
            },
            "error_y": {
             "color": "#2a3f5f"
            },
            "marker": {
             "line": {
              "color": "#E5ECF6",
              "width": 0.5
             },
             "pattern": {
              "fillmode": "overlay",
              "size": 10,
              "solidity": 0.2
             }
            },
            "type": "bar"
           }
          ],
          "barpolar": [
           {
            "marker": {
             "line": {
              "color": "#E5ECF6",
              "width": 0.5
             },
             "pattern": {
              "fillmode": "overlay",
              "size": 10,
              "solidity": 0.2
             }
            },
            "type": "barpolar"
           }
          ],
          "carpet": [
           {
            "aaxis": {
             "endlinecolor": "#2a3f5f",
             "gridcolor": "white",
             "linecolor": "white",
             "minorgridcolor": "white",
             "startlinecolor": "#2a3f5f"
            },
            "baxis": {
             "endlinecolor": "#2a3f5f",
             "gridcolor": "white",
             "linecolor": "white",
             "minorgridcolor": "white",
             "startlinecolor": "#2a3f5f"
            },
            "type": "carpet"
           }
          ],
          "choropleth": [
           {
            "colorbar": {
             "outlinewidth": 0,
             "ticks": ""
            },
            "type": "choropleth"
           }
          ],
          "contour": [
           {
            "colorbar": {
             "outlinewidth": 0,
             "ticks": ""
            },
            "colorscale": [
             [
              0,
              "#0d0887"
             ],
             [
              0.1111111111111111,
              "#46039f"
             ],
             [
              0.2222222222222222,
              "#7201a8"
             ],
             [
              0.3333333333333333,
              "#9c179e"
             ],
             [
              0.4444444444444444,
              "#bd3786"
             ],
             [
              0.5555555555555556,
              "#d8576b"
             ],
             [
              0.6666666666666666,
              "#ed7953"
             ],
             [
              0.7777777777777778,
              "#fb9f3a"
             ],
             [
              0.8888888888888888,
              "#fdca26"
             ],
             [
              1,
              "#f0f921"
             ]
            ],
            "type": "contour"
           }
          ],
          "contourcarpet": [
           {
            "colorbar": {
             "outlinewidth": 0,
             "ticks": ""
            },
            "type": "contourcarpet"
           }
          ],
          "heatmap": [
           {
            "colorbar": {
             "outlinewidth": 0,
             "ticks": ""
            },
            "colorscale": [
             [
              0,
              "#0d0887"
             ],
             [
              0.1111111111111111,
              "#46039f"
             ],
             [
              0.2222222222222222,
              "#7201a8"
             ],
             [
              0.3333333333333333,
              "#9c179e"
             ],
             [
              0.4444444444444444,
              "#bd3786"
             ],
             [
              0.5555555555555556,
              "#d8576b"
             ],
             [
              0.6666666666666666,
              "#ed7953"
             ],
             [
              0.7777777777777778,
              "#fb9f3a"
             ],
             [
              0.8888888888888888,
              "#fdca26"
             ],
             [
              1,
              "#f0f921"
             ]
            ],
            "type": "heatmap"
           }
          ],
          "heatmapgl": [
           {
            "colorbar": {
             "outlinewidth": 0,
             "ticks": ""
            },
            "colorscale": [
             [
              0,
              "#0d0887"
             ],
             [
              0.1111111111111111,
              "#46039f"
             ],
             [
              0.2222222222222222,
              "#7201a8"
             ],
             [
              0.3333333333333333,
              "#9c179e"
             ],
             [
              0.4444444444444444,
              "#bd3786"
             ],
             [
              0.5555555555555556,
              "#d8576b"
             ],
             [
              0.6666666666666666,
              "#ed7953"
             ],
             [
              0.7777777777777778,
              "#fb9f3a"
             ],
             [
              0.8888888888888888,
              "#fdca26"
             ],
             [
              1,
              "#f0f921"
             ]
            ],
            "type": "heatmapgl"
           }
          ],
          "histogram": [
           {
            "marker": {
             "pattern": {
              "fillmode": "overlay",
              "size": 10,
              "solidity": 0.2
             }
            },
            "type": "histogram"
           }
          ],
          "histogram2d": [
           {
            "colorbar": {
             "outlinewidth": 0,
             "ticks": ""
            },
            "colorscale": [
             [
              0,
              "#0d0887"
             ],
             [
              0.1111111111111111,
              "#46039f"
             ],
             [
              0.2222222222222222,
              "#7201a8"
             ],
             [
              0.3333333333333333,
              "#9c179e"
             ],
             [
              0.4444444444444444,
              "#bd3786"
             ],
             [
              0.5555555555555556,
              "#d8576b"
             ],
             [
              0.6666666666666666,
              "#ed7953"
             ],
             [
              0.7777777777777778,
              "#fb9f3a"
             ],
             [
              0.8888888888888888,
              "#fdca26"
             ],
             [
              1,
              "#f0f921"
             ]
            ],
            "type": "histogram2d"
           }
          ],
          "histogram2dcontour": [
           {
            "colorbar": {
             "outlinewidth": 0,
             "ticks": ""
            },
            "colorscale": [
             [
              0,
              "#0d0887"
             ],
             [
              0.1111111111111111,
              "#46039f"
             ],
             [
              0.2222222222222222,
              "#7201a8"
             ],
             [
              0.3333333333333333,
              "#9c179e"
             ],
             [
              0.4444444444444444,
              "#bd3786"
             ],
             [
              0.5555555555555556,
              "#d8576b"
             ],
             [
              0.6666666666666666,
              "#ed7953"
             ],
             [
              0.7777777777777778,
              "#fb9f3a"
             ],
             [
              0.8888888888888888,
              "#fdca26"
             ],
             [
              1,
              "#f0f921"
             ]
            ],
            "type": "histogram2dcontour"
           }
          ],
          "mesh3d": [
           {
            "colorbar": {
             "outlinewidth": 0,
             "ticks": ""
            },
            "type": "mesh3d"
           }
          ],
          "parcoords": [
           {
            "line": {
             "colorbar": {
              "outlinewidth": 0,
              "ticks": ""
             }
            },
            "type": "parcoords"
           }
          ],
          "pie": [
           {
            "automargin": true,
            "type": "pie"
           }
          ],
          "scatter": [
           {
            "marker": {
             "colorbar": {
              "outlinewidth": 0,
              "ticks": ""
             }
            },
            "type": "scatter"
           }
          ],
          "scatter3d": [
           {
            "line": {
             "colorbar": {
              "outlinewidth": 0,
              "ticks": ""
             }
            },
            "marker": {
             "colorbar": {
              "outlinewidth": 0,
              "ticks": ""
             }
            },
            "type": "scatter3d"
           }
          ],
          "scattercarpet": [
           {
            "marker": {
             "colorbar": {
              "outlinewidth": 0,
              "ticks": ""
             }
            },
            "type": "scattercarpet"
           }
          ],
          "scattergeo": [
           {
            "marker": {
             "colorbar": {
              "outlinewidth": 0,
              "ticks": ""
             }
            },
            "type": "scattergeo"
           }
          ],
          "scattergl": [
           {
            "marker": {
             "colorbar": {
              "outlinewidth": 0,
              "ticks": ""
             }
            },
            "type": "scattergl"
           }
          ],
          "scattermapbox": [
           {
            "marker": {
             "colorbar": {
              "outlinewidth": 0,
              "ticks": ""
             }
            },
            "type": "scattermapbox"
           }
          ],
          "scatterpolar": [
           {
            "marker": {
             "colorbar": {
              "outlinewidth": 0,
              "ticks": ""
             }
            },
            "type": "scatterpolar"
           }
          ],
          "scatterpolargl": [
           {
            "marker": {
             "colorbar": {
              "outlinewidth": 0,
              "ticks": ""
             }
            },
            "type": "scatterpolargl"
           }
          ],
          "scatterternary": [
           {
            "marker": {
             "colorbar": {
              "outlinewidth": 0,
              "ticks": ""
             }
            },
            "type": "scatterternary"
           }
          ],
          "surface": [
           {
            "colorbar": {
             "outlinewidth": 0,
             "ticks": ""
            },
            "colorscale": [
             [
              0,
              "#0d0887"
             ],
             [
              0.1111111111111111,
              "#46039f"
             ],
             [
              0.2222222222222222,
              "#7201a8"
             ],
             [
              0.3333333333333333,
              "#9c179e"
             ],
             [
              0.4444444444444444,
              "#bd3786"
             ],
             [
              0.5555555555555556,
              "#d8576b"
             ],
             [
              0.6666666666666666,
              "#ed7953"
             ],
             [
              0.7777777777777778,
              "#fb9f3a"
             ],
             [
              0.8888888888888888,
              "#fdca26"
             ],
             [
              1,
              "#f0f921"
             ]
            ],
            "type": "surface"
           }
          ],
          "table": [
           {
            "cells": {
             "fill": {
              "color": "#EBF0F8"
             },
             "line": {
              "color": "white"
             }
            },
            "header": {
             "fill": {
              "color": "#C8D4E3"
             },
             "line": {
              "color": "white"
             }
            },
            "type": "table"
           }
          ]
         },
         "layout": {
          "annotationdefaults": {
           "arrowcolor": "#2a3f5f",
           "arrowhead": 0,
           "arrowwidth": 1
          },
          "autotypenumbers": "strict",
          "coloraxis": {
           "colorbar": {
            "outlinewidth": 0,
            "ticks": ""
           }
          },
          "colorscale": {
           "diverging": [
            [
             0,
             "#8e0152"
            ],
            [
             0.1,
             "#c51b7d"
            ],
            [
             0.2,
             "#de77ae"
            ],
            [
             0.3,
             "#f1b6da"
            ],
            [
             0.4,
             "#fde0ef"
            ],
            [
             0.5,
             "#f7f7f7"
            ],
            [
             0.6,
             "#e6f5d0"
            ],
            [
             0.7,
             "#b8e186"
            ],
            [
             0.8,
             "#7fbc41"
            ],
            [
             0.9,
             "#4d9221"
            ],
            [
             1,
             "#276419"
            ]
           ],
           "sequential": [
            [
             0,
             "#0d0887"
            ],
            [
             0.1111111111111111,
             "#46039f"
            ],
            [
             0.2222222222222222,
             "#7201a8"
            ],
            [
             0.3333333333333333,
             "#9c179e"
            ],
            [
             0.4444444444444444,
             "#bd3786"
            ],
            [
             0.5555555555555556,
             "#d8576b"
            ],
            [
             0.6666666666666666,
             "#ed7953"
            ],
            [
             0.7777777777777778,
             "#fb9f3a"
            ],
            [
             0.8888888888888888,
             "#fdca26"
            ],
            [
             1,
             "#f0f921"
            ]
           ],
           "sequentialminus": [
            [
             0,
             "#0d0887"
            ],
            [
             0.1111111111111111,
             "#46039f"
            ],
            [
             0.2222222222222222,
             "#7201a8"
            ],
            [
             0.3333333333333333,
             "#9c179e"
            ],
            [
             0.4444444444444444,
             "#bd3786"
            ],
            [
             0.5555555555555556,
             "#d8576b"
            ],
            [
             0.6666666666666666,
             "#ed7953"
            ],
            [
             0.7777777777777778,
             "#fb9f3a"
            ],
            [
             0.8888888888888888,
             "#fdca26"
            ],
            [
             1,
             "#f0f921"
            ]
           ]
          },
          "colorway": [
           "#636efa",
           "#EF553B",
           "#00cc96",
           "#ab63fa",
           "#FFA15A",
           "#19d3f3",
           "#FF6692",
           "#B6E880",
           "#FF97FF",
           "#FECB52"
          ],
          "font": {
           "color": "#2a3f5f"
          },
          "geo": {
           "bgcolor": "white",
           "lakecolor": "white",
           "landcolor": "#E5ECF6",
           "showlakes": true,
           "showland": true,
           "subunitcolor": "white"
          },
          "hoverlabel": {
           "align": "left"
          },
          "hovermode": "closest",
          "mapbox": {
           "style": "light"
          },
          "paper_bgcolor": "white",
          "plot_bgcolor": "#E5ECF6",
          "polar": {
           "angularaxis": {
            "gridcolor": "white",
            "linecolor": "white",
            "ticks": ""
           },
           "bgcolor": "#E5ECF6",
           "radialaxis": {
            "gridcolor": "white",
            "linecolor": "white",
            "ticks": ""
           }
          },
          "scene": {
           "xaxis": {
            "backgroundcolor": "#E5ECF6",
            "gridcolor": "white",
            "gridwidth": 2,
            "linecolor": "white",
            "showbackground": true,
            "ticks": "",
            "zerolinecolor": "white"
           },
           "yaxis": {
            "backgroundcolor": "#E5ECF6",
            "gridcolor": "white",
            "gridwidth": 2,
            "linecolor": "white",
            "showbackground": true,
            "ticks": "",
            "zerolinecolor": "white"
           },
           "zaxis": {
            "backgroundcolor": "#E5ECF6",
            "gridcolor": "white",
            "gridwidth": 2,
            "linecolor": "white",
            "showbackground": true,
            "ticks": "",
            "zerolinecolor": "white"
           }
          },
          "shapedefaults": {
           "line": {
            "color": "#2a3f5f"
           }
          },
          "ternary": {
           "aaxis": {
            "gridcolor": "white",
            "linecolor": "white",
            "ticks": ""
           },
           "baxis": {
            "gridcolor": "white",
            "linecolor": "white",
            "ticks": ""
           },
           "bgcolor": "#E5ECF6",
           "caxis": {
            "gridcolor": "white",
            "linecolor": "white",
            "ticks": ""
           }
          },
          "title": {
           "x": 0.05
          },
          "xaxis": {
           "automargin": true,
           "gridcolor": "white",
           "linecolor": "white",
           "ticks": "",
           "title": {
            "standoff": 15
           },
           "zerolinecolor": "white",
           "zerolinewidth": 2
          },
          "yaxis": {
           "automargin": true,
           "gridcolor": "white",
           "linecolor": "white",
           "ticks": "",
           "title": {
            "standoff": 15
           },
           "zerolinecolor": "white",
           "zerolinewidth": 2
          }
         }
        },
        "title": {
         "text": "Recovery COVID-19 cases in 12 months"
        },
        "xaxis": {
         "anchor": "y",
         "categoryarray": [
          "1-Apr-20",
          "1-Sep-20",
          "1-Oct-20",
          "1-Nov-20",
          "1-Aug-20",
          "1-Jul-20",
          "1-Jun-20",
          "1-May-20",
          "2-Apr-20",
          "2-Aug-20",
          "2-Jan-21",
          "2-Jun-21",
          "2-Mar-21",
          "2-Jul-20",
          "2-Jun-20",
          "2-May-20",
          "3-Apr-20",
          "3-Aug-20",
          "3-Jul-20",
          "3-Jun-20",
          "3-May-20",
          "4-Apr-20",
          "4-Aug-20",
          "4-Jul-20",
          "4-Jun-20",
          "4-May-20",
          "5-Apr-20",
          "5-Aug-20",
          "5-Jul-20",
          "5-Jun-20",
          "5-May-20",
          "6-Apr-20",
          "6-Aug-20",
          "6-Jul-20",
          "6-Jun-20",
          "6-May-20",
          "7-Apr-20",
          "7-Jul-20",
          "7-Jun-20",
          "7-May-20",
          "8-Apr-20",
          "8-Jul-20",
          "8-Jun-20",
          "8-May-20",
          "9-Apr-20",
          "9-Jul-20",
          "9-Jun-20",
          "9-May-21",
          "10-Apr-20",
          "10-Jul-20",
          "10-Jun-20",
          "10-May-20",
          "11-Apr-20",
          "11-Jul-20",
          "11-Jun-20",
          "11-May-20",
          "12-Apr-20",
          "12-Jul-20",
          "12-Jun-20",
          "12-May-20",
          "13-Apr-20",
          "13-Jul-20",
          "13-Jun-20",
          "13-May-20",
          "14-Apr-20",
          "14-Jul-20",
          "14-Jun-20",
          "14-Mar-20",
          "14-May-20",
          "15-Apr-20",
          "15-Jul-20",
          "15-Jun-20",
          "15-Mar-20",
          "15-May-20",
          "16-Apr-20",
          "16-Jul-20",
          "16-Jun-20",
          "16-Mar-20",
          "16-May-20",
          "17-Apr-20",
          "17-Jul-20",
          "17-Jun-20",
          "17-Mar-20",
          "17-May-20",
          "18-Apr-20",
          "18-Jul-20",
          "18-Jun-20",
          "18-Mar-20",
          "18-May-20",
          "19-Apr-20",
          "19-Jul-20",
          "19-Jun-20",
          "19-Mar-20",
          "19-May-20",
          "20-Apr-20",
          "20-Jul-20",
          "20-Jun-20",
          "20-Mar-20",
          "20-May-20",
          "21-Apr-20",
          "21-Jul-20",
          "21-Jun-20",
          "21-Mar-20",
          "21-May-20",
          "22-Apr-20",
          "22-Jul-20",
          "22-Jun-20",
          "22-Mar-20",
          "22-May-20",
          "23-Apr-20",
          "23-Jul-20",
          "23-Jun-20",
          "23-Mar-20",
          "23-May-20",
          "24-Apr-20",
          "24-Jul-20",
          "24-Jun-20",
          "24-Mar-20",
          "24-May-20",
          "25-Apr-20",
          "25-Jul-20",
          "25-Jun-20",
          "25-Mar-20",
          "25-May-20",
          "26-Apr-20",
          "26-Jul-20",
          "26-Jun-20",
          "26-Mar-20",
          "26-May-20",
          "27-Apr-20",
          "27-Jul-20",
          "27-Jun-20",
          "27-Mar-20",
          "27-May-20",
          "28-Apr-20",
          "28-Jul-20",
          "28-Jun-20",
          "28-Mar-20",
          "28-May-20",
          "29-Apr-20",
          "29-Jul-20",
          "29-Jun-20",
          "29-Mar-20",
          "29-May-20",
          "30-Apr-20",
          "30-Jul-20",
          "30-Jun-20",
          "30-Mar-20",
          "30-May-20",
          "31-Jul-20",
          "31-Mar-20",
          "31-May-20",
          "28-Feb-21"
         ],
         "categoryorder": "array",
         "domain": [
          0,
          1
         ],
         "title": {
          "text": "Date"
         }
        },
        "yaxis": {
         "anchor": "x",
         "domain": [
          0,
          1
         ],
         "title": {
          "text": "Recovered"
         }
        }
       }
      },
      "text/html": [
       "<div>                            <div id=\"ca99eb3d-ad95-4c2d-9e72-e6a1b7840d93\" class=\"plotly-graph-div\" style=\"height:525px; width:100%;\"></div>            <script type=\"text/javascript\">                require([\"plotly\"], function(Plotly) {                    window.PLOTLYENV=window.PLOTLYENV || {};                                    if (document.getElementById(\"ca99eb3d-ad95-4c2d-9e72-e6a1b7840d93\")) {                    Plotly.newPlot(                        \"ca99eb3d-ad95-4c2d-9e72-e6a1b7840d93\",                        [{\"hovertemplate\":\"Date=%{x}<br>Recovered=%{y}<extra></extra>\",\"legendgroup\":\"1-Apr-20\",\"line\":{\"color\":\"#649d66\",\"dash\":\"solid\"},\"mode\":\"lines\",\"name\":\"1-Apr-20\",\"showlegend\":true,\"type\":\"scattergl\",\"x\":[\"1-Apr-20\",\"1-Apr-20\",\"1-Apr-20\",\"1-Apr-20\",\"1-Apr-20\",\"1-Apr-20\",\"1-Apr-20\"],\"xaxis\":\"x\",\"y\":[1,0,0,1,0,1,0],\"yaxis\":\"y\"},{\"hovertemplate\":\"Date=%{x}<br>Recovered=%{y}<extra></extra>\",\"legendgroup\":\"1-Sep-20\",\"line\":{\"color\":\"#649d66\",\"dash\":\"solid\"},\"mode\":\"lines\",\"name\":\"1-Sep-20\",\"showlegend\":true,\"type\":\"scattergl\",\"x\":[\"1-Sep-20\"],\"xaxis\":\"x\",\"y\":[0],\"yaxis\":\"y\"},{\"hovertemplate\":\"Date=%{x}<br>Recovered=%{y}<extra></extra>\",\"legendgroup\":\"1-Oct-20\",\"line\":{\"color\":\"#649d66\",\"dash\":\"solid\"},\"mode\":\"lines\",\"name\":\"1-Oct-20\",\"showlegend\":true,\"type\":\"scattergl\",\"x\":[\"1-Oct-20\"],\"xaxis\":\"x\",\"y\":[0],\"yaxis\":\"y\"},{\"hovertemplate\":\"Date=%{x}<br>Recovered=%{y}<extra></extra>\",\"legendgroup\":\"1-Nov-20\",\"line\":{\"color\":\"#649d66\",\"dash\":\"solid\"},\"mode\":\"lines\",\"name\":\"1-Nov-20\",\"showlegend\":true,\"type\":\"scattergl\",\"x\":[\"1-Nov-20\"],\"xaxis\":\"x\",\"y\":[2],\"yaxis\":\"y\"},{\"hovertemplate\":\"Date=%{x}<br>Recovered=%{y}<extra></extra>\",\"legendgroup\":\"1-Aug-20\",\"line\":{\"color\":\"#649d66\",\"dash\":\"solid\"},\"mode\":\"lines\",\"name\":\"1-Aug-20\",\"showlegend\":true,\"type\":\"scattergl\",\"x\":[\"1-Aug-20\",\"1-Aug-20\",\"1-Aug-20\",\"1-Aug-20\",\"1-Aug-20\",\"1-Aug-20\",\"1-Aug-20\",\"1-Aug-20\",\"1-Aug-20\",\"1-Aug-20\"],\"xaxis\":\"x\",\"y\":[12750,380,1201,875,170,3860,752,10725,756,2143],\"yaxis\":\"y\"},{\"hovertemplate\":\"Date=%{x}<br>Recovered=%{y}<extra></extra>\",\"legendgroup\":\"1-Jul-20\",\"line\":{\"color\":\"#649d66\",\"dash\":\"solid\"},\"mode\":\"lines\",\"name\":\"1-Jul-20\",\"showlegend\":true,\"type\":\"scattergl\",\"x\":[\"1-Jul-20\",\"1-Jul-20\",\"1-Jul-20\",\"1-Jul-20\",\"1-Jul-20\",\"1-Jul-20\",\"1-Jul-20\",\"1-Jul-20\",\"1-Jul-20\",\"1-Jul-20\"],\"xaxis\":\"x\",\"y\":[477,53,1644,368,47,145,132,2243,164,398],\"yaxis\":\"y\"},{\"hovertemplate\":\"Date=%{x}<br>Recovered=%{y}<extra></extra>\",\"legendgroup\":\"1-Jun-20\",\"line\":{\"color\":\"#649d66\",\"dash\":\"solid\"},\"mode\":\"lines\",\"name\":\"1-Jun-20\",\"showlegend\":true,\"type\":\"scattergl\",\"x\":[\"1-Jun-20\",\"1-Jun-20\",\"1-Jun-20\",\"1-Jun-20\",\"1-Jun-20\",\"1-Jun-20\",\"1-Jun-20\",\"1-Jun-20\",\"1-Jun-20\",\"1-Jun-20\"],\"xaxis\":\"x\",\"y\":[34,7,268,861,40,100,18,779,119,149],\"yaxis\":\"y\"},{\"hovertemplate\":\"Date=%{x}<br>Recovered=%{y}<extra></extra>\",\"legendgroup\":\"1-May-20\",\"line\":{\"color\":\"#649d66\",\"dash\":\"solid\"},\"mode\":\"lines\",\"name\":\"1-May-20\",\"showlegend\":true,\"type\":\"scattergl\",\"x\":[\"1-May-20\",\"1-May-20\",\"1-May-20\",\"1-May-20\",\"1-May-20\",\"1-May-20\",\"1-May-20\",\"1-May-20\",\"1-May-20\",\"1-May-20\"],\"xaxis\":\"x\",\"y\":[82,0,73,123,2,22,9,106,14,15],\"yaxis\":\"y\"},{\"hovertemplate\":\"Date=%{x}<br>Recovered=%{y}<extra></extra>\",\"legendgroup\":\"2-Apr-20\",\"line\":{\"color\":\"#649d66\",\"dash\":\"solid\"},\"mode\":\"lines\",\"name\":\"2-Apr-20\",\"showlegend\":true,\"type\":\"scattergl\",\"x\":[\"2-Apr-20\",\"2-Apr-20\",\"2-Apr-20\",\"2-Apr-20\",\"2-Apr-20\",\"2-Apr-20\",\"2-Apr-20\",\"2-Apr-20\",\"2-Apr-20\",\"2-Apr-20\"],\"xaxis\":\"x\",\"y\":[0,1,2,5,0,2,2,3,0,0],\"yaxis\":\"y\"},{\"hovertemplate\":\"Date=%{x}<br>Recovered=%{y}<extra></extra>\",\"legendgroup\":\"2-Aug-20\",\"line\":{\"color\":\"#649d66\",\"dash\":\"solid\"},\"mode\":\"lines\",\"name\":\"2-Aug-20\",\"showlegend\":true,\"type\":\"scattergl\",\"x\":[\"2-Aug-20\",\"2-Aug-20\",\"2-Aug-20\",\"2-Aug-20\",\"2-Aug-20\",\"2-Aug-20\",\"2-Aug-20\"],\"xaxis\":\"x\",\"y\":[6272,381,805,4077,688,9926,681],\"yaxis\":\"y\"},{\"hovertemplate\":\"Date=%{x}<br>Recovered=%{y}<extra></extra>\",\"legendgroup\":\"2-Jan-21\",\"line\":{\"color\":\"#649d66\",\"dash\":\"solid\"},\"mode\":\"lines\",\"name\":\"2-Jan-21\",\"showlegend\":true,\"type\":\"scattergl\",\"x\":[\"2-Jan-21\"],\"xaxis\":\"x\",\"y\":[1186],\"yaxis\":\"y\"},{\"hovertemplate\":\"Date=%{x}<br>Recovered=%{y}<extra></extra>\",\"legendgroup\":\"2-Jun-21\",\"line\":{\"color\":\"#649d66\",\"dash\":\"solid\"},\"mode\":\"lines\",\"name\":\"2-Jun-21\",\"showlegend\":true,\"type\":\"scattergl\",\"x\":[\"2-Jun-21\"],\"xaxis\":\"x\",\"y\":[169],\"yaxis\":\"y\"},{\"hovertemplate\":\"Date=%{x}<br>Recovered=%{y}<extra></extra>\",\"legendgroup\":\"2-Mar-21\",\"line\":{\"color\":\"#649d66\",\"dash\":\"solid\"},\"mode\":\"lines\",\"name\":\"2-Mar-21\",\"showlegend\":true,\"type\":\"scattergl\",\"x\":[\"2-Mar-21\"],\"xaxis\":\"x\",\"y\":[2213],\"yaxis\":\"y\"},{\"hovertemplate\":\"Date=%{x}<br>Recovered=%{y}<extra></extra>\",\"legendgroup\":\"2-Jul-20\",\"line\":{\"color\":\"#649d66\",\"dash\":\"solid\"},\"mode\":\"lines\",\"name\":\"2-Jul-20\",\"showlegend\":true,\"type\":\"scattergl\",\"x\":[\"2-Jul-20\",\"2-Jul-20\",\"2-Jul-20\",\"2-Jul-20\",\"2-Jul-20\",\"2-Jul-20\",\"2-Jul-20\",\"2-Jul-20\",\"2-Jul-20\",\"2-Jul-20\"],\"xaxis\":\"x\",\"y\":[325,59,3015,563,57,271,202,8018,149,509],\"yaxis\":\"y\"},{\"hovertemplate\":\"Date=%{x}<br>Recovered=%{y}<extra></extra>\",\"legendgroup\":\"2-Jun-20\",\"line\":{\"color\":\"#649d66\",\"dash\":\"solid\"},\"mode\":\"lines\",\"name\":\"2-Jun-20\",\"showlegend\":true,\"type\":\"scattergl\",\"x\":[\"2-Jun-20\",\"2-Jun-20\",\"2-Jun-20\",\"2-Jun-20\",\"2-Jun-20\",\"2-Jun-20\",\"2-Jun-20\",\"2-Jun-20\",\"2-Jun-20\",\"2-Jun-20\"],\"xaxis\":\"x\",\"y\":[40,9,497,1114,0,75,19,1225,80,104],\"yaxis\":\"y\"},{\"hovertemplate\":\"Date=%{x}<br>Recovered=%{y}<extra></extra>\",\"legendgroup\":\"2-May-20\",\"line\":{\"color\":\"#649d66\",\"dash\":\"solid\"},\"mode\":\"lines\",\"name\":\"2-May-20\",\"showlegend\":true,\"type\":\"scattergl\",\"x\":[\"2-May-20\",\"2-May-20\",\"2-May-20\",\"2-May-20\",\"2-May-20\",\"2-May-20\",\"2-May-20\",\"2-May-20\",\"2-May-20\",\"2-May-20\"],\"xaxis\":\"x\",\"y\":[38,0,89,160,1,20,8,121,1,12],\"yaxis\":\"y\"},{\"hovertemplate\":\"Date=%{x}<br>Recovered=%{y}<extra></extra>\",\"legendgroup\":\"3-Apr-20\",\"line\":{\"color\":\"#649d66\",\"dash\":\"solid\"},\"mode\":\"lines\",\"name\":\"3-Apr-20\",\"showlegend\":true,\"type\":\"scattergl\",\"x\":[\"3-Apr-20\",\"3-Apr-20\",\"3-Apr-20\",\"3-Apr-20\",\"3-Apr-20\",\"3-Apr-20\",\"3-Apr-20\",\"3-Apr-20\",\"3-Apr-20\",\"3-Apr-20\"],\"xaxis\":\"x\",\"y\":[0,0,0,0,0,0,14,8,1,0],\"yaxis\":\"y\"},{\"hovertemplate\":\"Date=%{x}<br>Recovered=%{y}<extra></extra>\",\"legendgroup\":\"3-Aug-20\",\"line\":{\"color\":\"#649d66\",\"dash\":\"solid\"},\"mode\":\"lines\",\"name\":\"3-Aug-20\",\"showlegend\":true,\"type\":\"scattergl\",\"x\":[\"3-Aug-20\",\"3-Aug-20\",\"3-Aug-20\",\"3-Aug-20\",\"3-Aug-20\",\"3-Aug-20\",\"3-Aug-20\",\"3-Aug-20\",\"3-Aug-20\",\"3-Aug-20\"],\"xaxis\":\"x\",\"y\":[5786,265,937,974,112,4775,815,10221,1119,2088],\"yaxis\":\"y\"},{\"hovertemplate\":\"Date=%{x}<br>Recovered=%{y}<extra></extra>\",\"legendgroup\":\"3-Jul-20\",\"line\":{\"color\":\"#649d66\",\"dash\":\"solid\"},\"mode\":\"lines\",\"name\":\"3-Jul-20\",\"showlegend\":true,\"type\":\"scattergl\",\"x\":[\"3-Jul-20\",\"3-Jul-20\",\"3-Jul-20\",\"3-Jul-20\",\"3-Jul-20\",\"3-Jul-20\",\"3-Jul-20\",\"3-Jul-20\",\"3-Jul-20\",\"3-Jul-20\"],\"xaxis\":\"x\",\"y\":[319,52,2617,340,13,471,201,3515,203,534],\"yaxis\":\"y\"},{\"hovertemplate\":\"Date=%{x}<br>Recovered=%{y}<extra></extra>\",\"legendgroup\":\"3-Jun-20\",\"line\":{\"color\":\"#649d66\",\"dash\":\"solid\"},\"mode\":\"lines\",\"name\":\"3-Jun-20\",\"showlegend\":true,\"type\":\"scattergl\",\"x\":[\"3-Jun-20\",\"3-Jun-20\",\"3-Jun-20\",\"3-Jun-20\",\"3-Jun-20\",\"3-Jun-20\",\"3-Jun-20\",\"3-Jun-20\",\"3-Jun-20\",\"3-Jun-20\"],\"xaxis\":\"x\",\"y\":[50,40,299,318,1,111,24,996,91,170],\"yaxis\":\"y\"},{\"hovertemplate\":\"Date=%{x}<br>Recovered=%{y}<extra></extra>\",\"legendgroup\":\"3-May-20\",\"line\":{\"color\":\"#649d66\",\"dash\":\"solid\"},\"mode\":\"lines\",\"name\":\"3-May-20\",\"showlegend\":true,\"type\":\"scattergl\",\"x\":[\"3-May-20\",\"3-May-20\",\"3-May-20\",\"3-May-20\",\"3-May-20\",\"3-May-20\",\"3-May-20\",\"3-May-20\",\"3-May-20\",\"3-May-20\"],\"xaxis\":\"x\",\"y\":[47,0,106,146,5,22,1,115,4,-19],\"yaxis\":\"y\"},{\"hovertemplate\":\"Date=%{x}<br>Recovered=%{y}<extra></extra>\",\"legendgroup\":\"4-Apr-20\",\"line\":{\"color\":\"#649d66\",\"dash\":\"solid\"},\"mode\":\"lines\",\"name\":\"4-Apr-20\",\"showlegend\":true,\"type\":\"scattergl\",\"x\":[\"4-Apr-20\",\"4-Apr-20\",\"4-Apr-20\",\"4-Apr-20\",\"4-Apr-20\",\"4-Apr-20\",\"4-Apr-20\",\"4-Apr-20\",\"4-Apr-20\",\"4-Apr-20\"],\"xaxis\":\"x\",\"y\":[0,0,8,3,0,0,8,2,0,0],\"yaxis\":\"y\"},{\"hovertemplate\":\"Date=%{x}<br>Recovered=%{y}<extra></extra>\",\"legendgroup\":\"4-Aug-20\",\"line\":{\"color\":\"#649d66\",\"dash\":\"solid\"},\"mode\":\"lines\",\"name\":\"4-Aug-20\",\"showlegend\":true,\"type\":\"scattergl\",\"x\":[\"4-Aug-20\",\"4-Aug-20\",\"4-Aug-20\",\"4-Aug-20\",\"4-Aug-20\",\"4-Aug-20\",\"4-Aug-20\",\"4-Aug-20\",\"4-Aug-20\",\"4-Aug-20\"],\"xaxis\":\"x\",\"y\":[6953,357,972,898,405,6772,1021,12326,1409,2066],\"yaxis\":\"y\"},{\"hovertemplate\":\"Date=%{x}<br>Recovered=%{y}<extra></extra>\",\"legendgroup\":\"4-Jul-20\",\"line\":{\"color\":\"#649d66\",\"dash\":\"solid\"},\"mode\":\"lines\",\"name\":\"4-Jul-20\",\"showlegend\":true,\"type\":\"scattergl\",\"x\":[\"4-Jul-20\",\"4-Jul-20\",\"4-Jul-20\",\"4-Jul-20\",\"4-Jul-20\",\"4-Jul-20\",\"4-Jul-20\",\"4-Jul-20\",\"4-Jul-20\",\"4-Jul-20\"],\"xaxis\":\"x\",\"y\":[376,112,2632,473,34,439,209,3395,229,595],\"yaxis\":\"y\"},{\"hovertemplate\":\"Date=%{x}<br>Recovered=%{y}<extra></extra>\",\"legendgroup\":\"4-Jun-20\",\"line\":{\"color\":\"#649d66\",\"dash\":\"solid\"},\"mode\":\"lines\",\"name\":\"4-Jun-20\",\"showlegend\":true,\"type\":\"scattergl\",\"x\":[\"4-Jun-20\",\"4-Jun-20\",\"4-Jun-20\",\"4-Jun-20\",\"4-Jun-20\",\"4-Jun-20\",\"4-Jun-20\",\"4-Jun-20\",\"4-Jun-20\",\"4-Jun-20\"],\"xaxis\":\"x\",\"y\":[65,36,356,455,69,106,39,1352,65,188],\"yaxis\":\"y\"},{\"hovertemplate\":\"Date=%{x}<br>Recovered=%{y}<extra></extra>\",\"legendgroup\":\"4-May-20\",\"line\":{\"color\":\"#649d66\",\"dash\":\"solid\"},\"mode\":\"lines\",\"name\":\"4-May-20\",\"showlegend\":true,\"type\":\"scattergl\",\"x\":[\"4-May-20\",\"4-May-20\",\"4-May-20\",\"4-May-20\",\"4-May-20\",\"4-May-20\",\"4-May-20\",\"4-May-20\",\"4-May-20\",\"4-May-20\"],\"xaxis\":\"x\",\"y\":[36,0,69,153,0,28,61,350,0,86],\"yaxis\":\"y\"},{\"hovertemplate\":\"Date=%{x}<br>Recovered=%{y}<extra></extra>\",\"legendgroup\":\"5-Apr-20\",\"line\":{\"color\":\"#649d66\",\"dash\":\"solid\"},\"mode\":\"lines\",\"name\":\"5-Apr-20\",\"showlegend\":true,\"type\":\"scattergl\",\"x\":[\"5-Apr-20\",\"5-Apr-20\",\"5-Apr-20\",\"5-Apr-20\",\"5-Apr-20\",\"5-Apr-20\",\"5-Apr-20\",\"5-Apr-20\",\"5-Apr-20\",\"5-Apr-20\"],\"xaxis\":\"x\",\"y\":[3,5,0,8,0,1,6,4,0,7],\"yaxis\":\"y\"},{\"hovertemplate\":\"Date=%{x}<br>Recovered=%{y}<extra></extra>\",\"legendgroup\":\"5-Aug-20\",\"line\":{\"color\":\"#649d66\",\"dash\":\"solid\"},\"mode\":\"lines\",\"name\":\"5-Aug-20\",\"showlegend\":true,\"type\":\"scattergl\",\"x\":[\"5-Aug-20\",\"5-Aug-20\",\"5-Aug-20\",\"5-Aug-20\",\"5-Aug-20\",\"5-Aug-20\",\"5-Aug-20\",\"5-Aug-20\",\"5-Aug-20\",\"5-Aug-20\"],\"xaxis\":\"x\",\"y\":[8729,258,890,1046,627,5407,1234,6165,1255,2078],\"yaxis\":\"y\"},{\"hovertemplate\":\"Date=%{x}<br>Recovered=%{y}<extra></extra>\",\"legendgroup\":\"5-Jul-20\",\"line\":{\"color\":\"#649d66\",\"dash\":\"solid\"},\"mode\":\"lines\",\"name\":\"5-Jul-20\",\"showlegend\":true,\"type\":\"scattergl\",\"x\":[\"5-Jul-20\",\"5-Jul-20\",\"5-Jul-20\",\"5-Jul-20\",\"5-Jul-20\",\"5-Jul-20\",\"5-Jul-20\",\"5-Jul-20\",\"5-Jul-20\",\"5-Jul-20\"],\"xaxis\":\"x\",\"y\":[414,52,3083,486,10,603,126,3658,290,545],\"yaxis\":\"y\"},{\"hovertemplate\":\"Date=%{x}<br>Recovered=%{y}<extra></extra>\",\"legendgroup\":\"5-Jun-20\",\"line\":{\"color\":\"#649d66\",\"dash\":\"solid\"},\"mode\":\"lines\",\"name\":\"5-Jun-20\",\"showlegend\":true,\"type\":\"scattergl\",\"x\":[\"5-Jun-20\",\"5-Jun-20\",\"5-Jun-20\",\"5-Jun-20\",\"5-Jun-20\",\"5-Jun-20\",\"5-Jun-20\",\"5-Jun-20\",\"5-Jun-20\",\"5-Jun-20\"],\"xaxis\":\"x\",\"y\":[36,25,417,344,69,83,22,1466,123,144],\"yaxis\":\"y\"},{\"hovertemplate\":\"Date=%{x}<br>Recovered=%{y}<extra></extra>\",\"legendgroup\":\"5-May-20\",\"line\":{\"color\":\"#649d66\",\"dash\":\"solid\"},\"mode\":\"lines\",\"name\":\"5-May-20\",\"showlegend\":true,\"type\":\"scattergl\",\"x\":[\"5-May-20\",\"5-May-20\",\"5-May-20\",\"5-May-20\",\"5-May-20\",\"5-May-20\",\"5-May-20\",\"5-May-20\",\"5-May-20\",\"5-May-20\"],\"xaxis\":\"x\",\"y\":[65,0,37,186,6,10,0,354,0,46],\"yaxis\":\"y\"},{\"hovertemplate\":\"Date=%{x}<br>Recovered=%{y}<extra></extra>\",\"legendgroup\":\"6-Apr-20\",\"line\":{\"color\":\"#649d66\",\"dash\":\"solid\"},\"mode\":\"lines\",\"name\":\"6-Apr-20\",\"showlegend\":true,\"type\":\"scattergl\",\"x\":[\"6-Apr-20\",\"6-Apr-20\",\"6-Apr-20\",\"6-Apr-20\",\"6-Apr-20\",\"6-Apr-20\",\"6-Apr-20\",\"6-Apr-20\",\"6-Apr-20\",\"6-Apr-20\"],\"xaxis\":\"x\",\"y\":[0,0,0,1,0,8,3,14,0,0],\"yaxis\":\"y\"},{\"hovertemplate\":\"Date=%{x}<br>Recovered=%{y}<extra></extra>\",\"legendgroup\":\"6-Aug-20\",\"line\":{\"color\":\"#649d66\",\"dash\":\"solid\"},\"mode\":\"lines\",\"name\":\"6-Aug-20\",\"showlegend\":true,\"type\":\"scattergl\",\"x\":[\"6-Aug-20\",\"6-Aug-20\",\"6-Aug-20\",\"6-Aug-20\",\"6-Aug-20\",\"6-Aug-20\",\"6-Aug-20\",\"6-Aug-20\",\"6-Aug-20\",\"6-Aug-20\"],\"xaxis\":\"x\",\"y\":[8516,217,1008,917,768,5602,800,10854,1150,2061],\"yaxis\":\"y\"},{\"hovertemplate\":\"Date=%{x}<br>Recovered=%{y}<extra></extra>\",\"legendgroup\":\"6-Jul-20\",\"line\":{\"color\":\"#649d66\",\"dash\":\"solid\"},\"mode\":\"lines\",\"name\":\"6-Jul-20\",\"showlegend\":true,\"type\":\"scattergl\",\"x\":[\"6-Jul-20\",\"6-Jul-20\",\"6-Jul-20\",\"6-Jul-20\",\"6-Jul-20\",\"6-Jul-20\",\"6-Jul-20\",\"6-Jul-20\",\"6-Jul-20\",\"6-Jul-20\"],\"xaxis\":\"x\",\"y\":[498,66,749,423,23,680,167,3522,262,524],\"yaxis\":\"y\"},{\"hovertemplate\":\"Date=%{x}<br>Recovered=%{y}<extra></extra>\",\"legendgroup\":\"6-Jun-20\",\"line\":{\"color\":\"#649d66\",\"dash\":\"solid\"},\"mode\":\"lines\",\"name\":\"6-Jun-20\",\"showlegend\":true,\"type\":\"scattergl\",\"x\":[\"6-Jun-20\",\"6-Jun-20\",\"6-Jun-20\",\"6-Jun-20\",\"6-Jun-20\",\"6-Jun-20\",\"6-Jun-20\",\"6-Jun-20\",\"6-Jun-20\",\"6-Jun-20\"],\"xaxis\":\"x\",\"y\":[75,28,349,313,38,280,50,2243,112,207],\"yaxis\":\"y\"},{\"hovertemplate\":\"Date=%{x}<br>Recovered=%{y}<extra></extra>\",\"legendgroup\":\"6-May-20\",\"line\":{\"color\":\"#649d66\",\"dash\":\"solid\"},\"mode\":\"lines\",\"name\":\"6-May-20\",\"showlegend\":true,\"type\":\"scattergl\",\"x\":[\"6-May-20\",\"6-May-20\",\"6-May-20\",\"6-May-20\",\"6-May-20\",\"6-May-20\",\"6-May-20\",\"6-May-20\",\"6-May-20\",\"6-May-20\"],\"xaxis\":\"x\",\"y\":[140,0,74,119,4,23,7,275,1,1],\"yaxis\":\"y\"},{\"hovertemplate\":\"Date=%{x}<br>Recovered=%{y}<extra></extra>\",\"legendgroup\":\"7-Apr-20\",\"line\":{\"color\":\"#649d66\",\"dash\":\"solid\"},\"mode\":\"lines\",\"name\":\"7-Apr-20\",\"showlegend\":true,\"type\":\"scattergl\",\"x\":[\"7-Apr-20\",\"7-Apr-20\",\"7-Apr-20\",\"7-Apr-20\",\"7-Apr-20\",\"7-Apr-20\",\"7-Apr-20\",\"7-Apr-20\",\"7-Apr-20\",\"7-Apr-20\"],\"xaxis\":\"x\",\"y\":[0,1,4,3,0,5,12,9,0,3],\"yaxis\":\"y\"},{\"hovertemplate\":\"Date=%{x}<br>Recovered=%{y}<extra></extra>\",\"legendgroup\":\"7-Jul-20\",\"line\":{\"color\":\"#649d66\",\"dash\":\"solid\"},\"mode\":\"lines\",\"name\":\"7-Jul-20\",\"showlegend\":true,\"type\":\"scattergl\",\"x\":[\"7-Jul-20\",\"7-Jul-20\",\"7-Jul-20\",\"7-Jul-20\",\"7-Jul-20\",\"7-Jul-20\",\"7-Jul-20\",\"7-Jul-20\",\"7-Jul-20\",\"7-Jul-20\"],\"xaxis\":\"x\",\"y\":[825,84,2129,421,36,571,111,3296,217,555],\"yaxis\":\"y\"},{\"hovertemplate\":\"Date=%{x}<br>Recovered=%{y}<extra></extra>\",\"legendgroup\":\"7-Jun-20\",\"line\":{\"color\":\"#649d66\",\"dash\":\"solid\"},\"mode\":\"lines\",\"name\":\"7-Jun-20\",\"showlegend\":true,\"type\":\"scattergl\",\"x\":[\"7-Jun-20\",\"7-Jun-20\",\"7-Jun-20\",\"7-Jun-20\",\"7-Jun-20\",\"7-Jun-20\",\"7-Jun-20\",\"7-Jun-20\",\"7-Jun-20\",\"7-Jun-20\"],\"xaxis\":\"x\",\"y\":[29,7,335,319,17,159,41,1924,178,184],\"yaxis\":\"y\"},{\"hovertemplate\":\"Date=%{x}<br>Recovered=%{y}<extra></extra>\",\"legendgroup\":\"7-May-20\",\"line\":{\"color\":\"#649d66\",\"dash\":\"solid\"},\"mode\":\"lines\",\"name\":\"7-May-20\",\"showlegend\":true,\"type\":\"scattergl\",\"x\":[\"7-May-20\",\"7-May-20\",\"7-May-20\",\"7-May-20\",\"7-May-20\",\"7-May-20\",\"7-May-20\",\"7-May-20\",\"7-May-20\",\"7-May-20\"],\"xaxis\":\"x\",\"y\":[51,0,389,209,4,12,5,207,1,31],\"yaxis\":\"y\"},{\"hovertemplate\":\"Date=%{x}<br>Recovered=%{y}<extra></extra>\",\"legendgroup\":\"8-Apr-20\",\"line\":{\"color\":\"#649d66\",\"dash\":\"solid\"},\"mode\":\"lines\",\"name\":\"8-Apr-20\",\"showlegend\":true,\"type\":\"scattergl\",\"x\":[\"8-Apr-20\",\"8-Apr-20\",\"8-Apr-20\",\"8-Apr-20\",\"8-Apr-20\",\"8-Apr-20\",\"8-Apr-20\",\"8-Apr-20\",\"8-Apr-20\",\"8-Apr-20\"],\"xaxis\":\"x\",\"y\":[1,0,1,0,0,3,13,38,0,0],\"yaxis\":\"y\"},{\"hovertemplate\":\"Date=%{x}<br>Recovered=%{y}<extra></extra>\",\"legendgroup\":\"8-Jul-20\",\"line\":{\"color\":\"#649d66\",\"dash\":\"solid\"},\"mode\":\"lines\",\"name\":\"8-Jul-20\",\"showlegend\":true,\"type\":\"scattergl\",\"x\":[\"8-Jul-20\",\"8-Jul-20\",\"8-Jul-20\",\"8-Jul-20\",\"8-Jul-20\",\"8-Jul-20\",\"8-Jul-20\",\"8-Jul-20\",\"8-Jul-20\",\"8-Jul-20\"],\"xaxis\":\"x\",\"y\":[1356,107,3982,569,66,778,107,4634,303,501],\"yaxis\":\"y\"},{\"hovertemplate\":\"Date=%{x}<br>Recovered=%{y}<extra></extra>\",\"legendgroup\":\"8-Jun-20\",\"line\":{\"color\":\"#649d66\",\"dash\":\"solid\"},\"mode\":\"lines\",\"name\":\"8-Jun-20\",\"showlegend\":true,\"type\":\"scattergl\",\"x\":[\"8-Jun-20\",\"8-Jun-20\",\"8-Jun-20\",\"8-Jun-20\",\"8-Jun-20\",\"8-Jun-20\",\"8-Jun-20\",\"8-Jun-20\",\"8-Jun-20\",\"8-Jun-20\"],\"xaxis\":\"x\",\"y\":[42,69,358,321,29,309,11,1661,99,162],\"yaxis\":\"y\"},{\"hovertemplate\":\"Date=%{x}<br>Recovered=%{y}<extra></extra>\",\"legendgroup\":\"8-May-20\",\"line\":{\"color\":\"#649d66\",\"dash\":\"solid\"},\"mode\":\"lines\",\"name\":\"8-May-20\",\"showlegend\":true,\"type\":\"scattergl\",\"x\":[\"8-May-20\",\"8-May-20\",\"8-May-20\",\"8-May-20\",\"8-May-20\",\"8-May-20\",\"8-May-20\",\"8-May-20\",\"8-May-20\",\"8-May-20\"],\"xaxis\":\"x\",\"y\":[62,2,89,163,0,10,10,169,1,27],\"yaxis\":\"y\"},{\"hovertemplate\":\"Date=%{x}<br>Recovered=%{y}<extra></extra>\",\"legendgroup\":\"9-Apr-20\",\"line\":{\"color\":\"#649d66\",\"dash\":\"solid\"},\"mode\":\"lines\",\"name\":\"9-Apr-20\",\"showlegend\":true,\"type\":\"scattergl\",\"x\":[\"9-Apr-20\",\"9-Apr-20\",\"9-Apr-20\",\"9-Apr-20\",\"9-Apr-20\",\"9-Apr-20\",\"9-Apr-20\",\"9-Apr-20\",\"9-Apr-20\",\"9-Apr-20\"],\"xaxis\":\"x\",\"y\":[4,0,4,1,0,2,13,8,0,3],\"yaxis\":\"y\"},{\"hovertemplate\":\"Date=%{x}<br>Recovered=%{y}<extra></extra>\",\"legendgroup\":\"9-Jul-20\",\"line\":{\"color\":\"#649d66\",\"dash\":\"solid\"},\"mode\":\"lines\",\"name\":\"9-Jul-20\",\"showlegend\":true,\"type\":\"scattergl\",\"x\":[\"9-Jul-20\",\"9-Jul-20\",\"9-Jul-20\",\"9-Jul-20\",\"9-Jul-20\",\"9-Jul-20\",\"9-Jul-20\",\"9-Jul-20\",\"9-Jul-20\",\"9-Jul-20\"],\"xaxis\":\"x\",\"y\":[1053,68,4027,429,40,957,149,4067,401,535],\"yaxis\":\"y\"},{\"hovertemplate\":\"Date=%{x}<br>Recovered=%{y}<extra></extra>\",\"legendgroup\":\"9-Jun-20\",\"line\":{\"color\":\"#649d66\",\"dash\":\"solid\"},\"mode\":\"lines\",\"name\":\"9-Jun-20\",\"showlegend\":true,\"type\":\"scattergl\",\"x\":[\"9-Jun-20\",\"9-Jun-20\",\"9-Jun-20\",\"9-Jun-20\",\"9-Jun-20\",\"9-Jun-20\",\"9-Jun-20\",\"9-Jun-20\",\"9-Jun-20\",\"9-Jun-20\"],\"xaxis\":\"x\",\"y\":[48,12,504,409,40,164,34,1664,140,155],\"yaxis\":\"y\"},{\"hovertemplate\":\"Date=%{x}<br>Recovered=%{y}<extra></extra>\",\"legendgroup\":\"9-May-21\",\"line\":{\"color\":\"#649d66\",\"dash\":\"solid\"},\"mode\":\"lines\",\"name\":\"9-May-21\",\"showlegend\":true,\"type\":\"scattergl\",\"x\":[\"9-May-21\",\"9-May-21\",\"9-May-21\",\"9-May-21\",\"9-May-21\",\"9-May-21\",\"9-May-21\",\"9-May-21\",\"9-May-21\",\"9-May-21\"],\"xaxis\":\"x\",\"y\":[45,5,0,219,37,10,1,330,5,49],\"yaxis\":\"y\"},{\"hovertemplate\":\"Date=%{x}<br>Recovered=%{y}<extra></extra>\",\"legendgroup\":\"10-Apr-20\",\"line\":{\"color\":\"#649d66\",\"dash\":\"solid\"},\"mode\":\"lines\",\"name\":\"10-Apr-20\",\"showlegend\":true,\"type\":\"scattergl\",\"x\":[\"10-Apr-20\",\"10-Apr-20\",\"10-Apr-20\",\"10-Apr-20\",\"10-Apr-20\",\"10-Apr-20\",\"10-Apr-20\",\"10-Apr-20\",\"10-Apr-20\",\"10-Apr-20\"],\"xaxis\":\"x\",\"y\":[0,0,2,7,0,4,27,63,10,0],\"yaxis\":\"y\"},{\"hovertemplate\":\"Date=%{x}<br>Recovered=%{y}<extra></extra>\",\"legendgroup\":\"10-Jul-20\",\"line\":{\"color\":\"#649d66\",\"dash\":\"solid\"},\"mode\":\"lines\",\"name\":\"10-Jul-20\",\"showlegend\":true,\"type\":\"scattergl\",\"x\":[\"10-Jul-20\",\"10-Jul-20\",\"10-Jul-20\",\"10-Jul-20\",\"10-Jul-20\",\"10-Jul-20\",\"10-Jul-20\",\"10-Jul-20\",\"10-Jul-20\",\"10-Jul-20\"],\"xaxis\":\"x\",\"y\":[1040,125,2468,441,14,1003,112,5366,565,522],\"yaxis\":\"y\"},{\"hovertemplate\":\"Date=%{x}<br>Recovered=%{y}<extra></extra>\",\"legendgroup\":\"10-Jun-20\",\"line\":{\"color\":\"#649d66\",\"dash\":\"solid\"},\"mode\":\"lines\",\"name\":\"10-Jun-20\",\"showlegend\":true,\"type\":\"scattergl\",\"x\":[\"10-Jun-20\",\"10-Jun-20\",\"10-Jun-20\",\"10-Jun-20\",\"10-Jun-20\",\"10-Jun-20\",\"10-Jun-20\",\"10-Jun-20\",\"10-Jun-20\",\"10-Jun-20\"],\"xaxis\":\"x\",\"y\":[110,4,384,370,33,257,57,1877,149,159],\"yaxis\":\"y\"},{\"hovertemplate\":\"Date=%{x}<br>Recovered=%{y}<extra></extra>\",\"legendgroup\":\"10-May-20\",\"line\":{\"color\":\"#649d66\",\"dash\":\"solid\"},\"mode\":\"lines\",\"name\":\"10-May-20\",\"showlegend\":true,\"type\":\"scattergl\",\"x\":[\"10-May-20\",\"10-May-20\",\"10-May-20\",\"10-May-20\",\"10-May-20\",\"10-May-20\",\"10-May-20\",\"10-May-20\",\"10-May-20\",\"10-May-20\"],\"xaxis\":\"x\",\"y\":[38,6,49,454,0,36,4,399,0,45],\"yaxis\":\"y\"},{\"hovertemplate\":\"Date=%{x}<br>Recovered=%{y}<extra></extra>\",\"legendgroup\":\"11-Apr-20\",\"line\":{\"color\":\"#649d66\",\"dash\":\"solid\"},\"mode\":\"lines\",\"name\":\"11-Apr-20\",\"showlegend\":true,\"type\":\"scattergl\",\"x\":[\"11-Apr-20\",\"11-Apr-20\",\"11-Apr-20\",\"11-Apr-20\",\"11-Apr-20\",\"11-Apr-20\",\"11-Apr-20\",\"11-Apr-20\",\"11-Apr-20\",\"11-Apr-20\"],\"xaxis\":\"x\",\"y\":[0,0,0,11,0,5,19,20,0,0],\"yaxis\":\"y\"},{\"hovertemplate\":\"Date=%{x}<br>Recovered=%{y}<extra></extra>\",\"legendgroup\":\"11-Jul-20\",\"line\":{\"color\":\"#649d66\",\"dash\":\"solid\"},\"mode\":\"lines\",\"name\":\"11-Jul-20\",\"showlegend\":true,\"type\":\"scattergl\",\"x\":[\"11-Jul-20\",\"11-Jul-20\",\"11-Jul-20\",\"11-Jul-20\",\"11-Jul-20\",\"11-Jul-20\",\"11-Jul-20\",\"11-Jul-20\",\"11-Jul-20\",\"11-Jul-20\"],\"xaxis\":\"x\",\"y\":[1199,42,2998,502,32,880,143,4360,388,611],\"yaxis\":\"y\"},{\"hovertemplate\":\"Date=%{x}<br>Recovered=%{y}<extra></extra>\",\"legendgroup\":\"11-Jun-20\",\"line\":{\"color\":\"#649d66\",\"dash\":\"solid\"},\"mode\":\"lines\",\"name\":\"11-Jun-20\",\"showlegend\":true,\"type\":\"scattergl\",\"x\":[\"11-Jun-20\",\"11-Jun-20\",\"11-Jun-20\",\"11-Jun-20\",\"11-Jun-20\",\"11-Jun-20\",\"11-Jun-20\",\"11-Jun-20\",\"11-Jun-20\",\"11-Jun-20\"],\"xaxis\":\"x\",\"y\":[99,70,486,366,38,114,62,1562,72,209],\"yaxis\":\"y\"},{\"hovertemplate\":\"Date=%{x}<br>Recovered=%{y}<extra></extra>\",\"legendgroup\":\"11-May-20\",\"line\":{\"color\":\"#649d66\",\"dash\":\"solid\"},\"mode\":\"lines\",\"name\":\"11-May-20\",\"showlegend\":true,\"type\":\"scattergl\",\"x\":[\"11-May-20\",\"11-May-20\",\"11-May-20\",\"11-May-20\",\"11-May-20\",\"11-May-20\",\"11-May-20\",\"11-May-20\",\"11-May-20\",\"11-May-20\"],\"xaxis\":\"x\",\"y\":[73,4,60,235,0,4,0,587,17,82],\"yaxis\":\"y\"},{\"hovertemplate\":\"Date=%{x}<br>Recovered=%{y}<extra></extra>\",\"legendgroup\":\"12-Apr-20\",\"line\":{\"color\":\"#649d66\",\"dash\":\"solid\"},\"mode\":\"lines\",\"name\":\"12-Apr-20\",\"showlegend\":true,\"type\":\"scattergl\",\"x\":[\"12-Apr-20\",\"12-Apr-20\",\"12-Apr-20\",\"12-Apr-20\",\"12-Apr-20\",\"12-Apr-20\",\"12-Apr-20\",\"12-Apr-20\",\"12-Apr-20\",\"12-Apr-20\"],\"xaxis\":\"x\",\"y\":[2,1,1,0,0,15,36,9,0,3],\"yaxis\":\"y\"},{\"hovertemplate\":\"Date=%{x}<br>Recovered=%{y}<extra></extra>\",\"legendgroup\":\"12-Jul-20\",\"line\":{\"color\":\"#649d66\",\"dash\":\"solid\"},\"mode\":\"lines\",\"name\":\"12-Jul-20\",\"showlegend\":true,\"type\":\"scattergl\",\"x\":[\"12-Jul-20\",\"12-Jul-20\",\"12-Jul-20\",\"12-Jul-20\",\"12-Jul-20\",\"12-Jul-20\",\"12-Jul-20\",\"12-Jul-20\",\"12-Jul-20\",\"12-Jul-20\"],\"xaxis\":\"x\",\"y\":[1019,83,2276,513,52,693,132,3340,390,622],\"yaxis\":\"y\"},{\"hovertemplate\":\"Date=%{x}<br>Recovered=%{y}<extra></extra>\",\"legendgroup\":\"12-Jun-20\",\"line\":{\"color\":\"#649d66\",\"dash\":\"solid\"},\"mode\":\"lines\",\"name\":\"12-Jun-20\",\"showlegend\":true,\"type\":\"scattergl\",\"x\":[\"12-Jun-20\",\"12-Jun-20\",\"12-Jun-20\",\"12-Jun-20\",\"12-Jun-20\",\"12-Jun-20\",\"12-Jun-20\",\"12-Jun-20\",\"12-Jun-20\",\"12-Jun-20\"],\"xaxis\":\"x\",\"y\":[123,123,667,392,55,464,32,1718,120,218],\"yaxis\":\"y\"},{\"hovertemplate\":\"Date=%{x}<br>Recovered=%{y}<extra></extra>\",\"legendgroup\":\"12-May-20\",\"line\":{\"color\":\"#649d66\",\"dash\":\"solid\"},\"mode\":\"lines\",\"name\":\"12-May-20\",\"showlegend\":true,\"type\":\"scattergl\",\"x\":[\"12-May-20\",\"12-May-20\",\"12-May-20\",\"12-May-20\",\"12-May-20\",\"12-May-20\",\"12-May-20\",\"12-May-20\",\"12-May-20\",\"12-May-20\"],\"xaxis\":\"x\",\"y\":[58,1,383,466,1,7,0,339,31,113],\"yaxis\":\"y\"},{\"hovertemplate\":\"Date=%{x}<br>Recovered=%{y}<extra></extra>\",\"legendgroup\":\"13-Apr-20\",\"line\":{\"color\":\"#649d66\",\"dash\":\"solid\"},\"mode\":\"lines\",\"name\":\"13-Apr-20\",\"showlegend\":true,\"type\":\"scattergl\",\"x\":[\"13-Apr-20\",\"13-Apr-20\",\"13-Apr-20\",\"13-Apr-20\",\"13-Apr-20\",\"13-Apr-20\",\"13-Apr-20\",\"13-Apr-20\",\"13-Apr-20\",\"13-Apr-20\"],\"xaxis\":\"x\",\"y\":[0,0,3,10,0,6,19,12,6,10],\"yaxis\":\"y\"},{\"hovertemplate\":\"Date=%{x}<br>Recovered=%{y}<extra></extra>\",\"legendgroup\":\"13-Jul-20\",\"line\":{\"color\":\"#649d66\",\"dash\":\"solid\"},\"mode\":\"lines\",\"name\":\"13-Jul-20\",\"showlegend\":true,\"type\":\"scattergl\",\"x\":[\"13-Jul-20\",\"13-Jul-20\",\"13-Jul-20\",\"13-Jul-20\",\"13-Jul-20\",\"13-Jul-20\",\"13-Jul-20\",\"13-Jul-20\",\"13-Jul-20\",\"13-Jul-20\"],\"xaxis\":\"x\",\"y\":[1052,49,1344,608,43,838,162,4182,505,632],\"yaxis\":\"y\"},{\"hovertemplate\":\"Date=%{x}<br>Recovered=%{y}<extra></extra>\",\"legendgroup\":\"13-Jun-20\",\"line\":{\"color\":\"#649d66\",\"dash\":\"solid\"},\"mode\":\"lines\",\"name\":\"13-Jun-20\",\"showlegend\":true,\"type\":\"scattergl\",\"x\":[\"13-Jun-20\",\"13-Jun-20\",\"13-Jun-20\",\"13-Jun-20\",\"13-Jun-20\",\"13-Jun-20\",\"13-Jun-20\",\"13-Jun-20\",\"13-Jun-20\",\"13-Jun-20\"],\"xaxis\":\"x\",\"y\":[94,87,1547,390,131,208,46,1550,120,336],\"yaxis\":\"y\"},{\"hovertemplate\":\"Date=%{x}<br>Recovered=%{y}<extra></extra>\",\"legendgroup\":\"13-May-20\",\"line\":{\"color\":\"#649d66\",\"dash\":\"solid\"},\"mode\":\"lines\",\"name\":\"13-May-20\",\"showlegend\":true,\"type\":\"scattergl\",\"x\":[\"13-May-20\",\"13-May-20\",\"13-May-20\",\"13-May-20\",\"13-May-20\",\"13-May-20\",\"13-May-20\",\"13-May-20\",\"13-May-20\",\"13-May-20\"],\"xaxis\":\"x\",\"y\":[86,1,346,316,8,18,1,422,27,90],\"yaxis\":\"y\"},{\"hovertemplate\":\"Date=%{x}<br>Recovered=%{y}<extra></extra>\",\"legendgroup\":\"14-Apr-20\",\"line\":{\"color\":\"#649d66\",\"dash\":\"solid\"},\"mode\":\"lines\",\"name\":\"14-Apr-20\",\"showlegend\":true,\"type\":\"scattergl\",\"x\":[\"14-Apr-20\",\"14-Apr-20\",\"14-Apr-20\",\"14-Apr-20\",\"14-Apr-20\",\"14-Apr-20\",\"14-Apr-20\",\"14-Apr-20\",\"14-Apr-20\",\"14-Apr-20\"],\"xaxis\":\"x\",\"y\":[4,3,0,5,0,11,13,30,0,7],\"yaxis\":\"y\"},{\"hovertemplate\":\"Date=%{x}<br>Recovered=%{y}<extra></extra>\",\"legendgroup\":\"14-Jul-20\",\"line\":{\"color\":\"#649d66\",\"dash\":\"solid\"},\"mode\":\"lines\",\"name\":\"14-Jul-20\",\"showlegend\":true,\"type\":\"scattergl\",\"x\":[\"14-Jul-20\",\"14-Jul-20\",\"14-Jul-20\",\"14-Jul-20\",\"14-Jul-20\",\"14-Jul-20\",\"14-Jul-20\",\"14-Jul-20\",\"14-Jul-20\",\"14-Jul-20\"],\"xaxis\":\"x\",\"y\":[1003,73,1924,749,77,1142,181,4500,609,718],\"yaxis\":\"y\"},{\"hovertemplate\":\"Date=%{x}<br>Recovered=%{y}<extra></extra>\",\"legendgroup\":\"14-Jun-20\",\"line\":{\"color\":\"#649d66\",\"dash\":\"solid\"},\"mode\":\"lines\",\"name\":\"14-Jun-20\",\"showlegend\":true,\"type\":\"scattergl\",\"x\":[\"14-Jun-20\",\"14-Jun-20\",\"14-Jun-20\",\"14-Jun-20\",\"14-Jun-20\",\"14-Jun-20\",\"14-Jun-20\",\"14-Jun-20\",\"14-Jun-20\",\"14-Jun-20\"],\"xaxis\":\"x\",\"y\":[131,88,878,442,89,312,56,1632,114,518],\"yaxis\":\"y\"},{\"hovertemplate\":\"Date=%{x}<br>Recovered=%{y}<extra></extra>\",\"legendgroup\":\"14-Mar-20\",\"line\":{\"color\":\"#649d66\",\"dash\":\"solid\"},\"mode\":\"lines\",\"name\":\"14-Mar-20\",\"showlegend\":true,\"type\":\"scattergl\",\"x\":[\"14-Mar-20\",\"14-Mar-20\",\"14-Mar-20\",\"14-Mar-20\",\"14-Mar-20\",\"14-Mar-20\",\"14-Mar-20\",\"14-Mar-20\",\"14-Mar-20\",\"14-Mar-20\"],\"xaxis\":\"x\",\"y\":[0,0,1,0,0,0,3,0,0,0],\"yaxis\":\"y\"},{\"hovertemplate\":\"Date=%{x}<br>Recovered=%{y}<extra></extra>\",\"legendgroup\":\"14-May-20\",\"line\":{\"color\":\"#649d66\",\"dash\":\"solid\"},\"mode\":\"lines\",\"name\":\"14-May-20\",\"showlegend\":true,\"type\":\"scattergl\",\"x\":[\"14-May-20\",\"14-May-20\",\"14-May-20\",\"14-May-20\",\"14-May-20\",\"14-May-20\",\"14-May-20\",\"14-May-20\",\"14-May-20\",\"14-May-20\"],\"xaxis\":\"x\",\"y\":[50,1,187,191,0,9,3,542,15,66],\"yaxis\":\"y\"},{\"hovertemplate\":\"Date=%{x}<br>Recovered=%{y}<extra></extra>\",\"legendgroup\":\"15-Apr-20\",\"line\":{\"color\":\"#649d66\",\"dash\":\"solid\"},\"mode\":\"lines\",\"name\":\"15-Apr-20\",\"showlegend\":true,\"type\":\"scattergl\",\"x\":[\"15-Apr-20\",\"15-Apr-20\",\"15-Apr-20\",\"15-Apr-20\",\"15-Apr-20\",\"15-Apr-20\",\"15-Apr-20\",\"15-Apr-20\",\"15-Apr-20\",\"15-Apr-20\"],\"xaxis\":\"x\",\"y\":[4,4,10,5,0,9,7,36,1,1],\"yaxis\":\"y\"},{\"hovertemplate\":\"Date=%{x}<br>Recovered=%{y}<extra></extra>\",\"legendgroup\":\"15-Jul-20\",\"line\":{\"color\":\"#649d66\",\"dash\":\"solid\"},\"mode\":\"lines\",\"name\":\"15-Jul-20\",\"showlegend\":true,\"type\":\"scattergl\",\"x\":[\"15-Jul-20\",\"15-Jul-20\",\"15-Jul-20\",\"15-Jul-20\",\"15-Jul-20\",\"15-Jul-20\",\"15-Jul-20\",\"15-Jul-20\",\"15-Jul-20\",\"15-Jul-20\"],\"xaxis\":\"x\",\"y\":[911,49,2463,791,57,1076,196,3606,612,749],\"yaxis\":\"y\"},{\"hovertemplate\":\"Date=%{x}<br>Recovered=%{y}<extra></extra>\",\"legendgroup\":\"15-Jun-20\",\"line\":{\"color\":\"#649d66\",\"dash\":\"solid\"},\"mode\":\"lines\",\"name\":\"15-Jun-20\",\"showlegend\":true,\"type\":\"scattergl\",\"x\":[\"15-Jun-20\",\"15-Jun-20\",\"15-Jun-20\",\"15-Jun-20\",\"15-Jun-20\",\"15-Jun-20\",\"15-Jun-20\",\"15-Jun-20\",\"15-Jun-20\",\"15-Jun-20\"],\"xaxis\":\"x\",\"y\":[69,124,604,339,95,174,73,5071,146,434],\"yaxis\":\"y\"},{\"hovertemplate\":\"Date=%{x}<br>Recovered=%{y}<extra></extra>\",\"legendgroup\":\"15-Mar-20\",\"line\":{\"color\":\"#649d66\",\"dash\":\"solid\"},\"mode\":\"lines\",\"name\":\"15-Mar-20\",\"showlegend\":true,\"type\":\"scattergl\",\"x\":[\"15-Mar-20\",\"15-Mar-20\",\"15-Mar-20\",\"15-Mar-20\",\"15-Mar-20\",\"15-Mar-20\",\"15-Mar-20\",\"15-Mar-20\",\"15-Mar-20\",\"15-Mar-20\"],\"xaxis\":\"x\",\"y\":[0,0,1,0,0,0,0,0,0,0],\"yaxis\":\"y\"},{\"hovertemplate\":\"Date=%{x}<br>Recovered=%{y}<extra></extra>\",\"legendgroup\":\"15-May-20\",\"line\":{\"color\":\"#649d66\",\"dash\":\"solid\"},\"mode\":\"lines\",\"name\":\"15-May-20\",\"showlegend\":true,\"type\":\"scattergl\",\"x\":[\"15-May-20\",\"15-May-20\",\"15-May-20\",\"15-May-20\",\"15-May-20\",\"15-May-20\",\"15-May-20\",\"15-May-20\",\"15-May-20\",\"15-May-20\"],\"xaxis\":\"x\",\"y\":[60,0,473,282,10,20,0,475,8,61],\"yaxis\":\"y\"},{\"hovertemplate\":\"Date=%{x}<br>Recovered=%{y}<extra></extra>\",\"legendgroup\":\"16-Apr-20\",\"line\":{\"color\":\"#649d66\",\"dash\":\"solid\"},\"mode\":\"lines\",\"name\":\"16-Apr-20\",\"showlegend\":true,\"type\":\"scattergl\",\"x\":[\"16-Apr-20\",\"16-Apr-20\",\"16-Apr-20\",\"16-Apr-20\",\"16-Apr-20\",\"16-Apr-20\",\"16-Apr-20\",\"16-Apr-20\",\"16-Apr-20\",\"16-Apr-20\"],\"xaxis\":\"x\",\"y\":[0,6,11,9,0,2,27,5,0,5],\"yaxis\":\"y\"},{\"hovertemplate\":\"Date=%{x}<br>Recovered=%{y}<extra></extra>\",\"legendgroup\":\"16-Jul-20\",\"line\":{\"color\":\"#649d66\",\"dash\":\"solid\"},\"mode\":\"lines\",\"name\":\"16-Jul-20\",\"showlegend\":true,\"type\":\"scattergl\",\"x\":[\"16-Jul-20\",\"16-Jul-20\",\"16-Jul-20\",\"16-Jul-20\",\"16-Jul-20\",\"16-Jul-20\",\"16-Jul-20\",\"16-Jul-20\",\"16-Jul-20\",\"16-Jul-20\"],\"xaxis\":\"x\",\"y\":[1015,127,1994,828,28,1263,228,5527,401,735],\"yaxis\":\"y\"},{\"hovertemplate\":\"Date=%{x}<br>Recovered=%{y}<extra></extra>\",\"legendgroup\":\"16-Jun-20\",\"line\":{\"color\":\"#649d66\",\"dash\":\"solid\"},\"mode\":\"lines\",\"name\":\"16-Jun-20\",\"showlegend\":true,\"type\":\"scattergl\",\"x\":[\"16-Jun-20\",\"16-Jun-20\",\"16-Jun-20\",\"16-Jun-20\",\"16-Jun-20\",\"16-Jun-20\",\"16-Jun-20\",\"16-Jun-20\",\"16-Jun-20\",\"16-Jun-20\"],\"xaxis\":\"x\",\"y\":[128,91,73,418,121,322,60,1802,120,534],\"yaxis\":\"y\"},{\"hovertemplate\":\"Date=%{x}<br>Recovered=%{y}<extra></extra>\",\"legendgroup\":\"16-Mar-20\",\"line\":{\"color\":\"#649d66\",\"dash\":\"solid\"},\"mode\":\"lines\",\"name\":\"16-Mar-20\",\"showlegend\":true,\"type\":\"scattergl\",\"x\":[\"16-Mar-20\",\"16-Mar-20\",\"16-Mar-20\",\"16-Mar-20\",\"16-Mar-20\",\"16-Mar-20\",\"16-Mar-20\",\"16-Mar-20\",\"16-Mar-20\",\"16-Mar-20\"],\"xaxis\":\"x\",\"y\":[0,0,0,0,0,0,0,0,0,0],\"yaxis\":\"y\"},{\"hovertemplate\":\"Date=%{x}<br>Recovered=%{y}<extra></extra>\",\"legendgroup\":\"16-May-20\",\"line\":{\"color\":\"#649d66\",\"dash\":\"solid\"},\"mode\":\"lines\",\"name\":\"16-May-20\",\"showlegend\":true,\"type\":\"scattergl\",\"x\":[\"16-May-20\",\"16-May-20\",\"16-May-20\",\"16-May-20\",\"16-May-20\",\"16-May-20\",\"16-May-20\",\"16-May-20\",\"16-May-20\",\"16-May-20\"],\"xaxis\":\"x\",\"y\":[101,2,408,273,16,16,4,524,30,63],\"yaxis\":\"y\"},{\"hovertemplate\":\"Date=%{x}<br>Recovered=%{y}<extra></extra>\",\"legendgroup\":\"17-Apr-20\",\"line\":{\"color\":\"#649d66\",\"dash\":\"solid\"},\"mode\":\"lines\",\"name\":\"17-Apr-20\",\"showlegend\":true,\"type\":\"scattergl\",\"x\":[\"17-Apr-20\",\"17-Apr-20\",\"17-Apr-20\",\"17-Apr-20\",\"17-Apr-20\",\"17-Apr-20\",\"17-Apr-20\",\"17-Apr-20\",\"17-Apr-20\",\"17-Apr-20\"],\"xaxis\":\"x\",\"y\":[15,1,20,13,0,6,10,31,2,9],\"yaxis\":\"y\"},{\"hovertemplate\":\"Date=%{x}<br>Recovered=%{y}<extra></extra>\",\"legendgroup\":\"17-Jul-20\",\"line\":{\"color\":\"#649d66\",\"dash\":\"solid\"},\"mode\":\"lines\",\"name\":\"17-Jul-20\",\"showlegend\":true,\"type\":\"scattergl\",\"x\":[\"17-Jul-20\",\"17-Jul-20\",\"17-Jul-20\",\"17-Jul-20\",\"17-Jul-20\",\"17-Jul-20\",\"17-Jul-20\",\"17-Jul-20\",\"17-Jul-20\",\"17-Jul-20\"],\"xaxis\":\"x\",\"y\":[905,61,1608,770,64,1028,132,2217,453,838],\"yaxis\":\"y\"},{\"hovertemplate\":\"Date=%{x}<br>Recovered=%{y}<extra></extra>\",\"legendgroup\":\"17-Jun-20\",\"line\":{\"color\":\"#649d66\",\"dash\":\"solid\"},\"mode\":\"lines\",\"name\":\"17-Jun-20\",\"showlegend\":true,\"type\":\"scattergl\",\"x\":[\"17-Jun-20\",\"17-Jun-20\",\"17-Jun-20\",\"17-Jun-20\",\"17-Jun-20\",\"17-Jun-20\",\"17-Jun-20\",\"17-Jun-20\",\"17-Jun-20\",\"17-Jun-20\"],\"xaxis\":\"x\",\"y\":[128,165,957,348,30,348,90,1315,73,505],\"yaxis\":\"y\"},{\"hovertemplate\":\"Date=%{x}<br>Recovered=%{y}<extra></extra>\",\"legendgroup\":\"17-Mar-20\",\"line\":{\"color\":\"#649d66\",\"dash\":\"solid\"},\"mode\":\"lines\",\"name\":\"17-Mar-20\",\"showlegend\":true,\"type\":\"scattergl\",\"x\":[\"17-Mar-20\",\"17-Mar-20\",\"17-Mar-20\",\"17-Mar-20\",\"17-Mar-20\",\"17-Mar-20\",\"17-Mar-20\",\"17-Mar-20\",\"17-Mar-20\",\"17-Mar-20\"],\"xaxis\":\"x\",\"y\":[0,0,0,0,0,0,0,0,0,0],\"yaxis\":\"y\"},{\"hovertemplate\":\"Date=%{x}<br>Recovered=%{y}<extra></extra>\",\"legendgroup\":\"17-May-20\",\"line\":{\"color\":\"#649d66\",\"dash\":\"solid\"},\"mode\":\"lines\",\"name\":\"17-May-20\",\"showlegend\":true,\"type\":\"scattergl\",\"x\":[\"17-May-20\",\"17-May-20\",\"17-May-20\",\"17-May-20\",\"17-May-20\",\"17-May-20\",\"17-May-20\",\"17-May-20\",\"17-May-20\",\"17-May-20\"],\"xaxis\":\"x\",\"y\":[103,1,276,191,0,13,0,600,24,67],\"yaxis\":\"y\"},{\"hovertemplate\":\"Date=%{x}<br>Recovered=%{y}<extra></extra>\",\"legendgroup\":\"18-Apr-20\",\"line\":{\"color\":\"#649d66\",\"dash\":\"solid\"},\"mode\":\"lines\",\"name\":\"18-Apr-20\",\"showlegend\":true,\"type\":\"scattergl\",\"x\":[\"18-Apr-20\",\"18-Apr-20\",\"18-Apr-20\",\"18-Apr-20\",\"18-Apr-20\",\"18-Apr-20\",\"18-Apr-20\",\"18-Apr-20\",\"18-Apr-20\",\"18-Apr-20\"],\"xaxis\":\"x\",\"y\":[7,1,135,7,0,16,2,34,3,4],\"yaxis\":\"y\"},{\"hovertemplate\":\"Date=%{x}<br>Recovered=%{y}<extra></extra>\",\"legendgroup\":\"18-Jul-20\",\"line\":{\"color\":\"#649d66\",\"dash\":\"solid\"},\"mode\":\"lines\",\"name\":\"18-Jul-20\",\"showlegend\":true,\"type\":\"scattergl\",\"x\":[\"18-Jul-20\",\"18-Jul-20\",\"18-Jul-20\",\"18-Jul-20\",\"18-Jul-20\",\"18-Jul-20\",\"18-Jul-20\",\"18-Jul-20\",\"18-Jul-20\",\"18-Jul-20\"],\"xaxis\":\"x\",\"y\":[1465,146,1973,1062,79,1018,204,5306,607,1286],\"yaxis\":\"y\"},{\"hovertemplate\":\"Date=%{x}<br>Recovered=%{y}<extra></extra>\",\"legendgroup\":\"18-Jun-20\",\"line\":{\"color\":\"#649d66\",\"dash\":\"solid\"},\"mode\":\"lines\",\"name\":\"18-Jun-20\",\"showlegend\":true,\"type\":\"scattergl\",\"x\":[\"18-Jun-20\",\"18-Jun-20\",\"18-Jun-20\",\"18-Jun-20\",\"18-Jun-20\",\"18-Jun-20\",\"18-Jun-20\",\"18-Jun-20\",\"18-Jun-20\",\"18-Jun-20\"],\"xaxis\":\"x\",\"y\":[131,103,3884,389,47,176,89,1672,97,468],\"yaxis\":\"y\"},{\"hovertemplate\":\"Date=%{x}<br>Recovered=%{y}<extra></extra>\",\"legendgroup\":\"18-Mar-20\",\"line\":{\"color\":\"#649d66\",\"dash\":\"solid\"},\"mode\":\"lines\",\"name\":\"18-Mar-20\",\"showlegend\":true,\"type\":\"scattergl\",\"x\":[\"18-Mar-20\",\"18-Mar-20\",\"18-Mar-20\",\"18-Mar-20\",\"18-Mar-20\",\"18-Mar-20\",\"18-Mar-20\",\"18-Mar-20\",\"18-Mar-20\",\"18-Mar-20\"],\"xaxis\":\"x\",\"y\":[0,0,0,0,0,0,0,0,0,0],\"yaxis\":\"y\"},{\"hovertemplate\":\"Date=%{x}<br>Recovered=%{y}<extra></extra>\",\"legendgroup\":\"18-May-20\",\"line\":{\"color\":\"#649d66\",\"dash\":\"solid\"},\"mode\":\"lines\",\"name\":\"18-May-20\",\"showlegend\":true,\"type\":\"scattergl\",\"x\":[\"18-May-20\",\"18-May-20\",\"18-May-20\",\"18-May-20\",\"18-May-20\",\"18-May-20\",\"18-May-20\",\"18-May-20\",\"18-May-20\",\"18-May-20\"],\"xaxis\":\"x\",\"y\":[96,0,283,305,14,21,0,749,57,47],\"yaxis\":\"y\"},{\"hovertemplate\":\"Date=%{x}<br>Recovered=%{y}<extra></extra>\",\"legendgroup\":\"19-Apr-20\",\"line\":{\"color\":\"#649d66\",\"dash\":\"solid\"},\"mode\":\"lines\",\"name\":\"19-Apr-20\",\"showlegend\":true,\"type\":\"scattergl\",\"x\":[\"19-Apr-20\",\"19-Apr-20\",\"19-Apr-20\",\"19-Apr-20\",\"19-Apr-20\",\"19-Apr-20\",\"19-Apr-20\",\"19-Apr-20\",\"19-Apr-20\",\"19-Apr-20\"],\"xaxis\":\"x\",\"y\":[23,0,83,12,0,7,13,142,0,7],\"yaxis\":\"y\"},{\"hovertemplate\":\"Date=%{x}<br>Recovered=%{y}<extra></extra>\",\"legendgroup\":\"19-Jul-20\",\"line\":{\"color\":\"#649d66\",\"dash\":\"solid\"},\"mode\":\"lines\",\"name\":\"19-Jul-20\",\"showlegend\":true,\"type\":\"scattergl\",\"x\":[\"19-Jul-20\",\"19-Jul-20\",\"19-Jul-20\",\"19-Jul-20\",\"19-Jul-20\",\"19-Jul-20\",\"19-Jul-20\",\"19-Jul-20\",\"19-Jul-20\",\"19-Jul-20\"],\"xaxis\":\"x\",\"y\":[1127,117,1860,877,62,1290,172,3906,516,1344],\"yaxis\":\"y\"},{\"hovertemplate\":\"Date=%{x}<br>Recovered=%{y}<extra></extra>\",\"legendgroup\":\"19-Jun-20\",\"line\":{\"color\":\"#649d66\",\"dash\":\"solid\"},\"mode\":\"lines\",\"name\":\"19-Jun-20\",\"showlegend\":true,\"type\":\"scattergl\",\"x\":[\"19-Jun-20\",\"19-Jun-20\",\"19-Jun-20\",\"19-Jun-20\",\"19-Jun-20\",\"19-Jun-20\",\"19-Jun-20\",\"19-Jun-20\",\"19-Jun-20\",\"19-Jun-20\"],\"xaxis\":\"x\",\"y\":[133,103,2228,340,137,230,96,1935,153,302],\"yaxis\":\"y\"},{\"hovertemplate\":\"Date=%{x}<br>Recovered=%{y}<extra></extra>\",\"legendgroup\":\"19-Mar-20\",\"line\":{\"color\":\"#649d66\",\"dash\":\"solid\"},\"mode\":\"lines\",\"name\":\"19-Mar-20\",\"showlegend\":true,\"type\":\"scattergl\",\"x\":[\"19-Mar-20\",\"19-Mar-20\",\"19-Mar-20\",\"19-Mar-20\",\"19-Mar-20\",\"19-Mar-20\",\"19-Mar-20\",\"19-Mar-20\",\"19-Mar-20\",\"19-Mar-20\"],\"xaxis\":\"x\",\"y\":[0,0,1,0,0,0,0,0,0,0],\"yaxis\":\"y\"},{\"hovertemplate\":\"Date=%{x}<br>Recovered=%{y}<extra></extra>\",\"legendgroup\":\"19-May-20\",\"line\":{\"color\":\"#649d66\",\"dash\":\"solid\"},\"mode\":\"lines\",\"name\":\"19-May-20\",\"showlegend\":true,\"type\":\"scattergl\",\"x\":[\"19-May-20\",\"19-May-20\",\"19-May-20\",\"19-May-20\",\"19-May-20\",\"19-May-20\",\"19-May-20\",\"19-May-20\",\"19-May-20\",\"19-May-20\"],\"xaxis\":\"x\",\"y\":[69,0,265,239,0,13,0,1202,30,68],\"yaxis\":\"y\"},{\"hovertemplate\":\"Date=%{x}<br>Recovered=%{y}<extra></extra>\",\"legendgroup\":\"20-Apr-20\",\"line\":{\"color\":\"#649d66\",\"dash\":\"solid\"},\"mode\":\"lines\",\"name\":\"20-Apr-20\",\"showlegend\":true,\"type\":\"scattergl\",\"x\":[\"20-Apr-20\",\"20-Apr-20\",\"20-Apr-20\",\"20-Apr-20\",\"20-Apr-20\",\"20-Apr-20\",\"20-Apr-20\",\"20-Apr-20\",\"20-Apr-20\",\"20-Apr-20\"],\"xaxis\":\"x\",\"y\":[27,0,141,26,4,1,21,65,0,4],\"yaxis\":\"y\"},{\"hovertemplate\":\"Date=%{x}<br>Recovered=%{y}<extra></extra>\",\"legendgroup\":\"20-Jul-20\",\"line\":{\"color\":\"#649d66\",\"dash\":\"solid\"},\"mode\":\"lines\",\"name\":\"20-Jul-20\",\"showlegend\":true,\"type\":\"scattergl\",\"x\":[\"20-Jul-20\",\"20-Jul-20\",\"20-Jul-20\",\"20-Jul-20\",\"20-Jul-20\",\"20-Jul-20\",\"20-Jul-20\",\"20-Jul-20\",\"20-Jul-20\",\"20-Jul-20\"],\"xaxis\":\"x\",\"y\":[1338,169,1784,777,117,730,245,5460,457,1535],\"yaxis\":\"y\"},{\"hovertemplate\":\"Date=%{x}<br>Recovered=%{y}<extra></extra>\",\"legendgroup\":\"20-Jun-20\",\"line\":{\"color\":\"#649d66\",\"dash\":\"solid\"},\"mode\":\"lines\",\"name\":\"20-Jun-20\",\"showlegend\":true,\"type\":\"scattergl\",\"x\":[\"20-Jun-20\",\"20-Jun-20\",\"20-Jun-20\",\"20-Jun-20\",\"20-Jun-20\",\"20-Jun-20\",\"20-Jun-20\",\"20-Jun-20\",\"20-Jun-20\",\"20-Jun-20\"],\"xaxis\":\"x\",\"y\":[206,63,7725,535,69,183,57,1380,237,562],\"yaxis\":\"y\"},{\"hovertemplate\":\"Date=%{x}<br>Recovered=%{y}<extra></extra>\",\"legendgroup\":\"20-Mar-20\",\"line\":{\"color\":\"#649d66\",\"dash\":\"solid\"},\"mode\":\"lines\",\"name\":\"20-Mar-20\",\"showlegend\":true,\"type\":\"scattergl\",\"x\":[\"20-Mar-20\",\"20-Mar-20\",\"20-Mar-20\",\"20-Mar-20\",\"20-Mar-20\",\"20-Mar-20\",\"20-Mar-20\",\"20-Mar-20\",\"20-Mar-20\",\"20-Mar-20\"],\"xaxis\":\"x\",\"y\":[0,0,2,0,0,1,0,0,0,0],\"yaxis\":\"y\"},{\"hovertemplate\":\"Date=%{x}<br>Recovered=%{y}<extra></extra>\",\"legendgroup\":\"20-May-20\",\"line\":{\"color\":\"#649d66\",\"dash\":\"solid\"},\"mode\":\"lines\",\"name\":\"20-May-20\",\"showlegend\":true,\"type\":\"scattergl\",\"x\":[\"20-May-20\",\"20-May-20\",\"20-May-20\",\"20-May-20\",\"20-May-20\",\"20-May-20\",\"20-May-20\",\"20-May-20\",\"20-May-20\",\"20-May-20\"],\"xaxis\":\"x\",\"y\":[43,0,442,176,2,13,5,679,36,62],\"yaxis\":\"y\"},{\"hovertemplate\":\"Date=%{x}<br>Recovered=%{y}<extra></extra>\",\"legendgroup\":\"21-Apr-20\",\"line\":{\"color\":\"#649d66\",\"dash\":\"solid\"},\"mode\":\"lines\",\"name\":\"21-Apr-20\",\"showlegend\":true,\"type\":\"scattergl\",\"x\":[\"21-Apr-20\",\"21-Apr-20\",\"21-Apr-20\",\"21-Apr-20\",\"21-Apr-20\",\"21-Apr-20\",\"21-Apr-20\",\"21-Apr-20\",\"21-Apr-20\",\"21-Apr-20\"],\"xaxis\":\"x\",\"y\":[4,0,180,8,0,17,16,150,6,7],\"yaxis\":\"y\"},{\"hovertemplate\":\"Date=%{x}<br>Recovered=%{y}<extra></extra>\",\"legendgroup\":\"21-Jul-20\",\"line\":{\"color\":\"#649d66\",\"dash\":\"solid\"},\"mode\":\"lines\",\"name\":\"21-Jul-20\",\"showlegend\":true,\"type\":\"scattergl\",\"x\":[\"21-Jul-20\",\"21-Jul-20\",\"21-Jul-20\",\"21-Jul-20\",\"21-Jul-20\",\"21-Jul-20\",\"21-Jul-20\",\"21-Jul-20\",\"21-Jul-20\",\"21-Jul-20\"],\"xaxis\":\"x\",\"y\":[1346,170,1200,744,107,1664,274,7188,400,1617],\"yaxis\":\"y\"},{\"hovertemplate\":\"Date=%{x}<br>Recovered=%{y}<extra></extra>\",\"legendgroup\":\"21-Jun-20\",\"line\":{\"color\":\"#649d66\",\"dash\":\"solid\"},\"mode\":\"lines\",\"name\":\"21-Jun-20\",\"showlegend\":true,\"type\":\"scattergl\",\"x\":[\"21-Jun-20\",\"21-Jun-20\",\"21-Jun-20\",\"21-Jun-20\",\"21-Jun-20\",\"21-Jun-20\",\"21-Jun-20\",\"21-Jun-20\",\"21-Jun-20\",\"21-Jun-20\"],\"xaxis\":\"x\",\"y\":[196,53,1719,655,2,226,93,1591,186,432],\"yaxis\":\"y\"},{\"hovertemplate\":\"Date=%{x}<br>Recovered=%{y}<extra></extra>\",\"legendgroup\":\"21-Mar-20\",\"line\":{\"color\":\"#649d66\",\"dash\":\"solid\"},\"mode\":\"lines\",\"name\":\"21-Mar-20\",\"showlegend\":true,\"type\":\"scattergl\",\"x\":[\"21-Mar-20\",\"21-Mar-20\",\"21-Mar-20\",\"21-Mar-20\",\"21-Mar-20\",\"21-Mar-20\",\"21-Mar-20\",\"21-Mar-20\",\"21-Mar-20\",\"21-Mar-20\"],\"xaxis\":\"x\",\"y\":[0,0,0,0,0,0,0,0,0,0],\"yaxis\":\"y\"},{\"hovertemplate\":\"Date=%{x}<br>Recovered=%{y}<extra></extra>\",\"legendgroup\":\"21-May-20\",\"line\":{\"color\":\"#649d66\",\"dash\":\"solid\"},\"mode\":\"lines\",\"name\":\"21-May-20\",\"showlegend\":true,\"type\":\"scattergl\",\"x\":[\"21-May-20\",\"21-May-20\",\"21-May-20\",\"21-May-20\",\"21-May-20\",\"21-May-20\",\"21-May-20\",\"21-May-20\",\"21-May-20\",\"21-May-20\"],\"xaxis\":\"x\",\"y\":[41,0,375,269,7,15,8,1408,50,57],\"yaxis\":\"y\"},{\"hovertemplate\":\"Date=%{x}<br>Recovered=%{y}<extra></extra>\",\"legendgroup\":\"22-Apr-20\",\"line\":{\"color\":\"#649d66\",\"dash\":\"solid\"},\"mode\":\"lines\",\"name\":\"22-Apr-20\",\"showlegend\":true,\"type\":\"scattergl\",\"x\":[\"22-Apr-20\",\"22-Apr-20\",\"22-Apr-20\",\"22-Apr-20\",\"22-Apr-20\",\"22-Apr-20\",\"22-Apr-20\",\"22-Apr-20\",\"22-Apr-20\",\"22-Apr-20\"],\"xaxis\":\"x\",\"y\":[24,3,113,40,0,2,1,67,2,0],\"yaxis\":\"y\"},{\"hovertemplate\":\"Date=%{x}<br>Recovered=%{y}<extra></extra>\",\"legendgroup\":\"22-Jul-20\",\"line\":{\"color\":\"#649d66\",\"dash\":\"solid\"},\"mode\":\"lines\",\"name\":\"22-Jul-20\",\"showlegend\":true,\"type\":\"scattergl\",\"x\":[\"22-Jul-20\",\"22-Jul-20\",\"22-Jul-20\",\"22-Jul-20\",\"22-Jul-20\",\"22-Jul-20\",\"22-Jul-20\",\"22-Jul-20\",\"22-Jul-20\",\"22-Jul-20\"],\"xaxis\":\"x\",\"y\":[6553,116,1532,837,106,1780,272,5552,440,1615],\"yaxis\":\"y\"},{\"hovertemplate\":\"Date=%{x}<br>Recovered=%{y}<extra></extra>\",\"legendgroup\":\"22-Jun-20\",\"line\":{\"color\":\"#649d66\",\"dash\":\"solid\"},\"mode\":\"lines\",\"name\":\"22-Jun-20\",\"showlegend\":true,\"type\":\"scattergl\",\"x\":[\"22-Jun-20\",\"22-Jun-20\",\"22-Jun-20\",\"22-Jun-20\",\"22-Jun-20\",\"22-Jun-20\",\"22-Jun-20\",\"22-Jun-20\",\"22-Jun-20\",\"22-Jun-20\"],\"xaxis\":\"x\",\"y\":[128,66,3589,560,63,111,88,1962,143,390],\"yaxis\":\"y\"},{\"hovertemplate\":\"Date=%{x}<br>Recovered=%{y}<extra></extra>\",\"legendgroup\":\"22-Mar-20\",\"line\":{\"color\":\"#649d66\",\"dash\":\"solid\"},\"mode\":\"lines\",\"name\":\"22-Mar-20\",\"showlegend\":true,\"type\":\"scattergl\",\"x\":[\"22-Mar-20\",\"22-Mar-20\",\"22-Mar-20\",\"22-Mar-20\",\"22-Mar-20\",\"22-Mar-20\",\"22-Mar-20\",\"22-Mar-20\",\"22-Mar-20\",\"22-Mar-20\"],\"xaxis\":\"x\",\"y\":[0,0,0,0,0,0,0,0,0,0],\"yaxis\":\"y\"},{\"hovertemplate\":\"Date=%{x}<br>Recovered=%{y}<extra></extra>\",\"legendgroup\":\"22-May-20\",\"line\":{\"color\":\"#649d66\",\"dash\":\"solid\"},\"mode\":\"lines\",\"name\":\"22-May-20\",\"showlegend\":true,\"type\":\"scattergl\",\"x\":[\"22-May-20\",\"22-May-20\",\"22-May-20\",\"22-May-20\",\"22-May-20\",\"22-May-20\",\"22-May-20\",\"22-May-20\",\"22-May-20\",\"22-May-20\"],\"xaxis\":\"x\",\"y\":[26,3,330,392,0,26,2,857,43,28],\"yaxis\":\"y\"},{\"hovertemplate\":\"Date=%{x}<br>Recovered=%{y}<extra></extra>\",\"legendgroup\":\"23-Apr-20\",\"line\":{\"color\":\"#649d66\",\"dash\":\"solid\"},\"mode\":\"lines\",\"name\":\"23-Apr-20\",\"showlegend\":true,\"type\":\"scattergl\",\"x\":[\"23-Apr-20\",\"23-Apr-20\",\"23-Apr-20\",\"23-Apr-20\",\"23-Apr-20\",\"23-Apr-20\",\"23-Apr-20\",\"23-Apr-20\",\"23-Apr-20\",\"23-Apr-20\"],\"xaxis\":\"x\",\"y\":[21,2,84,79,4,14,8,51,1,6],\"yaxis\":\"y\"},{\"hovertemplate\":\"Date=%{x}<br>Recovered=%{y}<extra></extra>\",\"legendgroup\":\"23-Jul-20\",\"line\":{\"color\":\"#649d66\",\"dash\":\"solid\"},\"mode\":\"lines\",\"name\":\"23-Jul-20\",\"showlegend\":true,\"type\":\"scattergl\",\"x\":[\"23-Jul-20\",\"23-Jul-20\",\"23-Jul-20\",\"23-Jul-20\",\"23-Jul-20\",\"23-Jul-20\",\"23-Jul-20\",\"23-Jul-20\",\"23-Jul-20\",\"23-Jul-20\"],\"xaxis\":\"x\",\"y\":[5428,157,1415,718,206,2071,432,6484,643,2006],\"yaxis\":\"y\"},{\"hovertemplate\":\"Date=%{x}<br>Recovered=%{y}<extra></extra>\",\"legendgroup\":\"23-Jun-20\",\"line\":{\"color\":\"#649d66\",\"dash\":\"solid\"},\"mode\":\"lines\",\"name\":\"23-Jun-20\",\"showlegend\":true,\"type\":\"scattergl\",\"x\":[\"23-Jun-20\",\"23-Jun-20\",\"23-Jun-20\",\"23-Jun-20\",\"23-Jun-20\",\"23-Jun-20\",\"23-Jun-20\",\"23-Jun-20\",\"23-Jun-20\",\"23-Jun-20\"],\"xaxis\":\"x\",\"y\":[157,40,2711,604,51,274,60,1925,125,531],\"yaxis\":\"y\"},{\"hovertemplate\":\"Date=%{x}<br>Recovered=%{y}<extra></extra>\",\"legendgroup\":\"23-Mar-20\",\"line\":{\"color\":\"#649d66\",\"dash\":\"solid\"},\"mode\":\"lines\",\"name\":\"23-Mar-20\",\"showlegend\":true,\"type\":\"scattergl\",\"x\":[\"23-Mar-20\",\"23-Mar-20\",\"23-Mar-20\",\"23-Mar-20\",\"23-Mar-20\",\"23-Mar-20\",\"23-Mar-20\",\"23-Mar-20\",\"23-Mar-20\",\"23-Mar-20\"],\"xaxis\":\"x\",\"y\":[0,0,0,0,0,1,0,0,0,0],\"yaxis\":\"y\"},{\"hovertemplate\":\"Date=%{x}<br>Recovered=%{y}<extra></extra>\",\"legendgroup\":\"23-May-20\",\"line\":{\"color\":\"#649d66\",\"dash\":\"solid\"},\"mode\":\"lines\",\"name\":\"23-May-20\",\"showlegend\":true,\"type\":\"scattergl\",\"x\":[\"23-May-20\",\"23-May-20\",\"23-May-20\",\"23-May-20\",\"23-May-20\",\"23-May-20\",\"23-May-20\",\"23-May-20\",\"23-May-20\",\"23-May-20\"],\"xaxis\":\"x\",\"y\":[48,2,370,289,5,11,3,821,61,60],\"yaxis\":\"y\"},{\"hovertemplate\":\"Date=%{x}<br>Recovered=%{y}<extra></extra>\",\"legendgroup\":\"24-Apr-20\",\"line\":{\"color\":\"#649d66\",\"dash\":\"solid\"},\"mode\":\"lines\",\"name\":\"24-Apr-20\",\"showlegend\":true,\"type\":\"scattergl\",\"x\":[\"24-Apr-20\",\"24-Apr-20\",\"24-Apr-20\",\"24-Apr-20\",\"24-Apr-20\",\"24-Apr-20\",\"24-Apr-20\",\"24-Apr-20\",\"24-Apr-20\",\"24-Apr-20\"],\"xaxis\":\"x\",\"y\":[4,0,49,7,0,7,15,117,0,24],\"yaxis\":\"y\"},{\"hovertemplate\":\"Date=%{x}<br>Recovered=%{y}<extra></extra>\",\"legendgroup\":\"24-Jul-20\",\"line\":{\"color\":\"#649d66\",\"dash\":\"solid\"},\"mode\":\"lines\",\"name\":\"24-Jul-20\",\"showlegend\":true,\"type\":\"scattergl\",\"x\":[\"24-Jul-20\",\"24-Jul-20\",\"24-Jul-20\",\"24-Jul-20\",\"24-Jul-20\",\"24-Jul-20\",\"24-Jul-20\",\"24-Jul-20\",\"24-Jul-20\",\"24-Jul-20\"],\"xaxis\":\"x\",\"y\":[2380,180,1866,872,100,2037,968,5714,808,1873],\"yaxis\":\"y\"},{\"hovertemplate\":\"Date=%{x}<br>Recovered=%{y}<extra></extra>\",\"legendgroup\":\"24-Jun-20\",\"line\":{\"color\":\"#649d66\",\"dash\":\"solid\"},\"mode\":\"lines\",\"name\":\"24-Jun-20\",\"showlegend\":true,\"type\":\"scattergl\",\"x\":[\"24-Jun-20\",\"24-Jun-20\",\"24-Jun-20\",\"24-Jun-20\",\"24-Jun-20\",\"24-Jun-20\",\"24-Jun-20\",\"24-Jun-20\",\"24-Jun-20\",\"24-Jun-20\"],\"xaxis\":\"x\",\"y\":[187,74,2124,575,55,149,81,4161,135,484],\"yaxis\":\"y\"},{\"hovertemplate\":\"Date=%{x}<br>Recovered=%{y}<extra></extra>\",\"legendgroup\":\"24-Mar-20\",\"line\":{\"color\":\"#649d66\",\"dash\":\"solid\"},\"mode\":\"lines\",\"name\":\"24-Mar-20\",\"showlegend\":true,\"type\":\"scattergl\",\"x\":[\"24-Mar-20\",\"24-Mar-20\",\"24-Mar-20\",\"24-Mar-20\",\"24-Mar-20\",\"24-Mar-20\",\"24-Mar-20\",\"24-Mar-20\",\"24-Mar-20\",\"24-Mar-20\"],\"xaxis\":\"x\",\"y\":[0,0,1,0,0,1,1,0,0,0],\"yaxis\":\"y\"},{\"hovertemplate\":\"Date=%{x}<br>Recovered=%{y}<extra></extra>\",\"legendgroup\":\"24-May-20\",\"line\":{\"color\":\"#649d66\",\"dash\":\"solid\"},\"mode\":\"lines\",\"name\":\"24-May-20\",\"showlegend\":true,\"type\":\"scattergl\",\"x\":[\"24-May-20\",\"24-May-20\",\"24-May-20\",\"24-May-20\",\"24-May-20\",\"24-May-20\",\"24-May-20\",\"24-May-20\",\"24-May-20\",\"24-May-20\"],\"xaxis\":\"x\",\"y\":[62,0,273,243,7,46,5,1196,53,58],\"yaxis\":\"y\"},{\"hovertemplate\":\"Date=%{x}<br>Recovered=%{y}<extra></extra>\",\"legendgroup\":\"25-Apr-20\",\"line\":{\"color\":\"#649d66\",\"dash\":\"solid\"},\"mode\":\"lines\",\"name\":\"25-Apr-20\",\"showlegend\":true,\"type\":\"scattergl\",\"x\":[\"25-Apr-20\",\"25-Apr-20\",\"25-Apr-20\",\"25-Apr-20\",\"25-Apr-20\",\"25-Apr-20\",\"25-Apr-20\",\"25-Apr-20\",\"25-Apr-20\",\"25-Apr-20\"],\"xaxis\":\"x\",\"y\":[26,2,12,17,0,6,7,119,1,0],\"yaxis\":\"y\"},{\"hovertemplate\":\"Date=%{x}<br>Recovered=%{y}<extra></extra>\",\"legendgroup\":\"25-Jul-20\",\"line\":{\"color\":\"#649d66\",\"dash\":\"solid\"},\"mode\":\"lines\",\"name\":\"25-Jul-20\",\"showlegend\":true,\"type\":\"scattergl\",\"x\":[\"25-Jul-20\",\"25-Jul-20\",\"25-Jul-20\",\"25-Jul-20\",\"25-Jul-20\",\"25-Jul-20\",\"25-Jul-20\",\"25-Jul-20\",\"25-Jul-20\",\"25-Jul-20\"],\"xaxis\":\"x\",\"y\":[3320,116,2137,782,167,2403,1049,7227,728,2125],\"yaxis\":\"y\"},{\"hovertemplate\":\"Date=%{x}<br>Recovered=%{y}<extra></extra>\",\"legendgroup\":\"25-Jun-20\",\"line\":{\"color\":\"#649d66\",\"dash\":\"solid\"},\"mode\":\"lines\",\"name\":\"25-Jun-20\",\"showlegend\":true,\"type\":\"scattergl\",\"x\":[\"25-Jun-20\",\"25-Jun-20\",\"25-Jun-20\",\"25-Jun-20\",\"25-Jun-20\",\"25-Jun-20\",\"25-Jun-20\",\"25-Jun-20\",\"25-Jun-20\",\"25-Jun-20\"],\"xaxis\":\"x\",\"y\":[209,128,3328,410,30,519,53,3661,168,488],\"yaxis\":\"y\"},{\"hovertemplate\":\"Date=%{x}<br>Recovered=%{y}<extra></extra>\",\"legendgroup\":\"25-Mar-20\",\"line\":{\"color\":\"#649d66\",\"dash\":\"solid\"},\"mode\":\"lines\",\"name\":\"25-Mar-20\",\"showlegend\":true,\"type\":\"scattergl\",\"x\":[\"25-Mar-20\",\"25-Mar-20\",\"25-Mar-20\",\"25-Mar-20\",\"25-Mar-20\",\"25-Mar-20\",\"25-Mar-20\",\"25-Mar-20\",\"25-Mar-20\",\"25-Mar-20\"],\"xaxis\":\"x\",\"y\":[1,0,0,0,0,0,0,1,0,0],\"yaxis\":\"y\"},{\"hovertemplate\":\"Date=%{x}<br>Recovered=%{y}<extra></extra>\",\"legendgroup\":\"25-May-20\",\"line\":{\"color\":\"#649d66\",\"dash\":\"solid\"},\"mode\":\"lines\",\"name\":\"25-May-20\",\"showlegend\":true,\"type\":\"scattergl\",\"x\":[\"25-May-20\",\"25-May-20\",\"25-May-20\",\"25-May-20\",\"25-May-20\",\"25-May-20\",\"25-May-20\",\"25-May-20\",\"25-May-20\",\"25-May-20\"],\"xaxis\":\"x\",\"y\":[51,3,231,224,0,51,12,1186,99,75],\"yaxis\":\"y\"},{\"hovertemplate\":\"Date=%{x}<br>Recovered=%{y}<extra></extra>\",\"legendgroup\":\"26-Apr-20\",\"line\":{\"color\":\"#649d66\",\"dash\":\"solid\"},\"mode\":\"lines\",\"name\":\"26-Apr-20\",\"showlegend\":true,\"type\":\"scattergl\",\"x\":[\"26-Apr-20\",\"26-Apr-20\",\"26-Apr-20\",\"26-Apr-20\",\"26-Apr-20\",\"26-Apr-20\",\"26-Apr-20\",\"26-Apr-20\",\"26-Apr-20\",\"26-Apr-20\"],\"xaxis\":\"x\",\"y\":[60,0,8,31,5,24,4,112,1,2],\"yaxis\":\"y\"},{\"hovertemplate\":\"Date=%{x}<br>Recovered=%{y}<extra></extra>\",\"legendgroup\":\"26-Jul-20\",\"line\":{\"color\":\"#649d66\",\"dash\":\"solid\"},\"mode\":\"lines\",\"name\":\"26-Jul-20\",\"showlegend\":true,\"type\":\"scattergl\",\"x\":[\"26-Jul-20\",\"26-Jul-20\",\"26-Jul-20\",\"26-Jul-20\",\"26-Jul-20\",\"26-Jul-20\",\"26-Jul-20\",\"26-Jul-20\",\"26-Jul-20\",\"26-Jul-20\"],\"xaxis\":\"x\",\"y\":[3046,261,1807,753,183,2088,689,6044,864,2097],\"yaxis\":\"y\"},{\"hovertemplate\":\"Date=%{x}<br>Recovered=%{y}<extra></extra>\",\"legendgroup\":\"26-Jun-20\",\"line\":{\"color\":\"#649d66\",\"dash\":\"solid\"},\"mode\":\"lines\",\"name\":\"26-Jun-20\",\"showlegend\":true,\"type\":\"scattergl\",\"x\":[\"26-Jun-20\",\"26-Jun-20\",\"26-Jun-20\",\"26-Jun-20\",\"26-Jun-20\",\"26-Jun-20\",\"26-Jun-20\",\"26-Jun-20\",\"26-Jun-20\",\"26-Jun-20\"],\"xaxis\":\"x\",\"y\":[208,156,2326,532,42,246,65,2362,131,345],\"yaxis\":\"y\"},{\"hovertemplate\":\"Date=%{x}<br>Recovered=%{y}<extra></extra>\",\"legendgroup\":\"26-Mar-20\",\"line\":{\"color\":\"#649d66\",\"dash\":\"solid\"},\"mode\":\"lines\",\"name\":\"26-Mar-20\",\"showlegend\":true,\"type\":\"scattergl\",\"x\":[\"26-Mar-20\",\"26-Mar-20\",\"26-Mar-20\",\"26-Mar-20\",\"26-Mar-20\",\"26-Mar-20\",\"26-Mar-20\",\"26-Mar-20\",\"26-Mar-20\",\"26-Mar-20\"],\"xaxis\":\"x\",\"y\":[0,0,0,0,0,0,7,0,0,0],\"yaxis\":\"y\"},{\"hovertemplate\":\"Date=%{x}<br>Recovered=%{y}<extra></extra>\",\"legendgroup\":\"26-May-20\",\"line\":{\"color\":\"#649d66\",\"dash\":\"solid\"},\"mode\":\"lines\",\"name\":\"26-May-20\",\"showlegend\":true,\"type\":\"scattergl\",\"x\":[\"26-May-20\",\"26-May-20\",\"26-May-20\",\"26-May-20\",\"26-May-20\",\"26-May-20\",\"26-May-20\",\"26-May-20\",\"26-May-20\",\"26-May-20\"],\"xaxis\":\"x\",\"y\":[125,12,183,501,5,59,10,1168,84,72],\"yaxis\":\"y\"},{\"hovertemplate\":\"Date=%{x}<br>Recovered=%{y}<extra></extra>\",\"legendgroup\":\"27-Apr-20\",\"line\":{\"color\":\"#649d66\",\"dash\":\"solid\"},\"mode\":\"lines\",\"name\":\"27-Apr-20\",\"showlegend\":true,\"type\":\"scattergl\",\"x\":[\"27-Apr-20\",\"27-Apr-20\",\"27-Apr-20\",\"27-Apr-20\",\"27-Apr-20\",\"27-Apr-20\",\"27-Apr-20\",\"27-Apr-20\",\"27-Apr-20\",\"27-Apr-20\"],\"xaxis\":\"x\",\"y\":[4,0,0,81,4,11,13,94,2,0],\"yaxis\":\"y\"},{\"hovertemplate\":\"Date=%{x}<br>Recovered=%{y}<extra></extra>\",\"legendgroup\":\"27-Jul-20\",\"line\":{\"color\":\"#649d66\",\"dash\":\"solid\"},\"mode\":\"lines\",\"name\":\"27-Jul-20\",\"showlegend\":true,\"type\":\"scattergl\",\"x\":[\"27-Jul-20\",\"27-Jul-20\",\"27-Jul-20\",\"27-Jul-20\",\"27-Jul-20\",\"27-Jul-20\",\"27-Jul-20\",\"27-Jul-20\",\"27-Jul-20\",\"27-Jul-20\"],\"xaxis\":\"x\",\"y\":[3257,228,1497,1015,101,1847,745,8706,581,2166],\"yaxis\":\"y\"},{\"hovertemplate\":\"Date=%{x}<br>Recovered=%{y}<extra></extra>\",\"legendgroup\":\"27-Jun-20\",\"line\":{\"color\":\"#649d66\",\"dash\":\"solid\"},\"mode\":\"lines\",\"name\":\"27-Jun-20\",\"showlegend\":true,\"type\":\"scattergl\",\"x\":[\"27-Jun-20\",\"27-Jun-20\",\"27-Jun-20\",\"27-Jun-20\",\"27-Jun-20\",\"27-Jun-20\",\"27-Jun-20\",\"27-Jun-20\",\"27-Jun-20\",\"27-Jun-20\"],\"xaxis\":\"x\",\"y\":[284,52,2210,379,77,371,102,4430,184,254],\"yaxis\":\"y\"},{\"hovertemplate\":\"Date=%{x}<br>Recovered=%{y}<extra></extra>\",\"legendgroup\":\"27-Mar-20\",\"line\":{\"color\":\"#649d66\",\"dash\":\"solid\"},\"mode\":\"lines\",\"name\":\"27-Mar-20\",\"showlegend\":true,\"type\":\"scattergl\",\"x\":[\"27-Mar-20\",\"27-Mar-20\",\"27-Mar-20\",\"27-Mar-20\",\"27-Mar-20\",\"27-Mar-20\",\"27-Mar-20\",\"27-Mar-20\",\"27-Mar-20\",\"27-Mar-20\"],\"xaxis\":\"x\",\"y\":[0,0,0,0,0,2,0,18,0,0],\"yaxis\":\"y\"},{\"hovertemplate\":\"Date=%{x}<br>Recovered=%{y}<extra></extra>\",\"legendgroup\":\"27-May-20\",\"line\":{\"color\":\"#649d66\",\"dash\":\"solid\"},\"mode\":\"lines\",\"name\":\"27-May-20\",\"showlegend\":true,\"type\":\"scattergl\",\"x\":[\"27-May-20\",\"27-May-20\",\"27-May-20\",\"27-May-20\",\"27-May-20\",\"27-May-20\",\"27-May-20\",\"27-May-20\",\"27-May-20\",\"27-May-20\"],\"xaxis\":\"x\",\"y\":[48,4,310,410,0,17,10,964,79,92],\"yaxis\":\"y\"},{\"hovertemplate\":\"Date=%{x}<br>Recovered=%{y}<extra></extra>\",\"legendgroup\":\"28-Apr-20\",\"line\":{\"color\":\"#649d66\",\"dash\":\"solid\"},\"mode\":\"lines\",\"name\":\"28-Apr-20\",\"showlegend\":true,\"type\":\"scattergl\",\"x\":[\"28-Apr-20\",\"28-Apr-20\",\"28-Apr-20\",\"28-Apr-20\",\"28-Apr-20\",\"28-Apr-20\",\"28-Apr-20\",\"28-Apr-20\",\"28-Apr-20\",\"28-Apr-20\"],\"xaxis\":\"x\",\"y\":[23,2,201,40,2,14,4,106,1,4],\"yaxis\":\"y\"},{\"hovertemplate\":\"Date=%{x}<br>Recovered=%{y}<extra></extra>\",\"legendgroup\":\"28-Jul-20\",\"line\":{\"color\":\"#649d66\",\"dash\":\"solid\"},\"mode\":\"lines\",\"name\":\"28-Jul-20\",\"showlegend\":true,\"type\":\"scattergl\",\"x\":[\"28-Jul-20\",\"28-Jul-20\",\"28-Jul-20\",\"28-Jul-20\",\"28-Jul-20\",\"28-Jul-20\",\"28-Jul-20\",\"28-Jul-20\",\"28-Jul-20\",\"28-Jul-20\"],\"xaxis\":\"x\",\"y\":[3064,267,1135,1032,179,2819,679,10333,687,2105],\"yaxis\":\"y\"},{\"hovertemplate\":\"Date=%{x}<br>Recovered=%{y}<extra></extra>\",\"legendgroup\":\"28-Jun-20\",\"line\":{\"color\":\"#649d66\",\"dash\":\"solid\"},\"mode\":\"lines\",\"name\":\"28-Jun-20\",\"showlegend\":true,\"type\":\"scattergl\",\"x\":[\"28-Jun-20\",\"28-Jun-20\",\"28-Jun-20\",\"28-Jun-20\",\"28-Jun-20\",\"28-Jun-20\",\"28-Jun-20\",\"28-Jun-20\",\"28-Jun-20\",\"28-Jun-20\"],\"xaxis\":\"x\",\"y\":[428,125,3306,391,69,220,42,2330,137,404],\"yaxis\":\"y\"},{\"hovertemplate\":\"Date=%{x}<br>Recovered=%{y}<extra></extra>\",\"legendgroup\":\"28-Mar-20\",\"line\":{\"color\":\"#649d66\",\"dash\":\"solid\"},\"mode\":\"lines\",\"name\":\"28-Mar-20\",\"showlegend\":true,\"type\":\"scattergl\",\"x\":[\"28-Mar-20\",\"28-Mar-20\",\"28-Mar-20\",\"28-Mar-20\",\"28-Mar-20\",\"28-Mar-20\",\"28-Mar-20\",\"28-Mar-20\",\"28-Mar-20\",\"28-Mar-20\"],\"xaxis\":\"x\",\"y\":[0,0,0,0,0,0,1,6,0,0],\"yaxis\":\"y\"},{\"hovertemplate\":\"Date=%{x}<br>Recovered=%{y}<extra></extra>\",\"legendgroup\":\"28-May-20\",\"line\":{\"color\":\"#649d66\",\"dash\":\"solid\"},\"mode\":\"lines\",\"name\":\"28-May-20\",\"showlegend\":true,\"type\":\"scattergl\",\"x\":[\"28-May-20\",\"28-May-20\",\"28-May-20\",\"28-May-20\",\"28-May-20\",\"28-May-20\",\"28-May-20\",\"28-May-20\",\"28-May-20\",\"28-May-20\"],\"xaxis\":\"x\",\"y\":[68,0,231,454,0,53,3,698,75,90],\"yaxis\":\"y\"},{\"hovertemplate\":\"Date=%{x}<br>Recovered=%{y}<extra></extra>\",\"legendgroup\":\"29-Apr-20\",\"line\":{\"color\":\"#649d66\",\"dash\":\"solid\"},\"mode\":\"lines\",\"name\":\"29-Apr-20\",\"showlegend\":true,\"type\":\"scattergl\",\"x\":[\"29-Apr-20\",\"29-Apr-20\",\"29-Apr-20\",\"29-Apr-20\",\"29-Apr-20\",\"29-Apr-20\",\"29-Apr-20\",\"29-Apr-20\",\"29-Apr-20\",\"29-Apr-20\"],\"xaxis\":\"x\",\"y\":[29,0,14,93,0,9,10,205,1,10],\"yaxis\":\"y\"},{\"hovertemplate\":\"Date=%{x}<br>Recovered=%{y}<extra></extra>\",\"legendgroup\":\"29-Jul-20\",\"line\":{\"color\":\"#649d66\",\"dash\":\"solid\"},\"mode\":\"lines\",\"name\":\"29-Jul-20\",\"showlegend\":true,\"type\":\"scattergl\",\"x\":[\"29-Jul-20\",\"29-Jul-20\",\"29-Jul-20\",\"29-Jul-20\",\"29-Jul-20\",\"29-Jul-20\",\"29-Jul-20\",\"29-Jul-20\",\"29-Jul-20\",\"29-Jul-20\"],\"xaxis\":\"x\",\"y\":[2784,197,1126,783,77,2397,641,7478,878,2094],\"yaxis\":\"y\"},{\"hovertemplate\":\"Date=%{x}<br>Recovered=%{y}<extra></extra>\",\"legendgroup\":\"29-Jun-20\",\"line\":{\"color\":\"#649d66\",\"dash\":\"solid\"},\"mode\":\"lines\",\"name\":\"29-Jun-20\",\"showlegend\":true,\"type\":\"scattergl\",\"x\":[\"29-Jun-20\",\"29-Jun-20\",\"29-Jun-20\",\"29-Jun-20\",\"29-Jun-20\",\"29-Jun-20\",\"29-Jun-20\",\"29-Jun-20\",\"29-Jun-20\",\"29-Jun-20\"],\"xaxis\":\"x\",\"y\":[324,88,3628,440,56,176,79,2385,203,526],\"yaxis\":\"y\"},{\"hovertemplate\":\"Date=%{x}<br>Recovered=%{y}<extra></extra>\",\"legendgroup\":\"29-Mar-20\",\"line\":{\"color\":\"#649d66\",\"dash\":\"solid\"},\"mode\":\"lines\",\"name\":\"29-Mar-20\",\"showlegend\":true,\"type\":\"scattergl\",\"x\":[\"29-Mar-20\",\"29-Mar-20\",\"29-Mar-20\",\"29-Mar-20\",\"29-Mar-20\",\"29-Mar-20\",\"29-Mar-20\",\"29-Mar-20\",\"29-Mar-20\",\"29-Mar-20\"],\"xaxis\":\"x\",\"y\":[0,0,0,1,0,0,4,0,0,0],\"yaxis\":\"y\"},{\"hovertemplate\":\"Date=%{x}<br>Recovered=%{y}<extra></extra>\",\"legendgroup\":\"29-May-20\",\"line\":{\"color\":\"#649d66\",\"dash\":\"solid\"},\"mode\":\"lines\",\"name\":\"29-May-20\",\"showlegend\":true,\"type\":\"scattergl\",\"x\":[\"29-May-20\",\"29-May-20\",\"29-May-20\",\"29-May-20\",\"29-May-20\",\"29-May-20\",\"29-May-20\",\"29-May-20\",\"29-May-20\",\"29-May-20\"],\"xaxis\":\"x\",\"y\":[101,17,351,608,63,60,10,8381,90,107],\"yaxis\":\"y\"},{\"hovertemplate\":\"Date=%{x}<br>Recovered=%{y}<extra></extra>\",\"legendgroup\":\"30-Apr-20\",\"line\":{\"color\":\"#649d66\",\"dash\":\"solid\"},\"mode\":\"lines\",\"name\":\"30-Apr-20\",\"showlegend\":true,\"type\":\"scattergl\",\"x\":[\"30-Apr-20\",\"30-Apr-20\",\"30-Apr-20\",\"30-Apr-20\",\"30-Apr-20\",\"30-Apr-20\",\"30-Apr-20\",\"30-Apr-20\",\"30-Apr-20\",\"30-Apr-20\"],\"xaxis\":\"x\",\"y\":[34,2,2,86,0,13,14,180,2,5],\"yaxis\":\"y\"},{\"hovertemplate\":\"Date=%{x}<br>Recovered=%{y}<extra></extra>\",\"legendgroup\":\"30-Jul-20\",\"line\":{\"color\":\"#649d66\",\"dash\":\"solid\"},\"mode\":\"lines\",\"name\":\"30-Jul-20\",\"showlegend\":true,\"type\":\"scattergl\",\"x\":[\"30-Jul-20\",\"30-Jul-20\",\"30-Jul-20\",\"30-Jul-20\",\"30-Jul-20\",\"30-Jul-20\",\"30-Jul-20\",\"30-Jul-20\",\"30-Jul-20\",\"30-Jul-20\"],\"xaxis\":\"x\",\"y\":[4618,285,1091,879,115,3793,794,8860,807,2140],\"yaxis\":\"y\"},{\"hovertemplate\":\"Date=%{x}<br>Recovered=%{y}<extra></extra>\",\"legendgroup\":\"30-Jun-20\",\"line\":{\"color\":\"#649d66\",\"dash\":\"solid\"},\"mode\":\"lines\",\"name\":\"30-Jun-20\",\"showlegend\":true,\"type\":\"scattergl\",\"x\":[\"30-Jun-20\",\"30-Jun-20\",\"30-Jun-20\",\"30-Jun-20\",\"30-Jun-20\",\"30-Jun-20\",\"30-Jun-20\",\"30-Jun-20\",\"30-Jun-20\",\"30-Jun-20\"],\"xaxis\":\"x\",\"y\":[279,100,2113,422,35,235,75,1951,243,411],\"yaxis\":\"y\"},{\"hovertemplate\":\"Date=%{x}<br>Recovered=%{y}<extra></extra>\",\"legendgroup\":\"30-Mar-20\",\"line\":{\"color\":\"#649d66\",\"dash\":\"solid\"},\"mode\":\"lines\",\"name\":\"30-Mar-20\",\"showlegend\":true,\"type\":\"scattergl\",\"x\":[\"30-Mar-20\",\"30-Mar-20\",\"30-Mar-20\",\"30-Mar-20\",\"30-Mar-20\",\"30-Mar-20\",\"30-Mar-20\",\"30-Mar-20\",\"30-Mar-20\",\"30-Mar-20\"],\"xaxis\":\"x\",\"y\":[0,0,0,2,0,1,4,14,0,0],\"yaxis\":\"y\"},{\"hovertemplate\":\"Date=%{x}<br>Recovered=%{y}<extra></extra>\",\"legendgroup\":\"30-May-20\",\"line\":{\"color\":\"#649d66\",\"dash\":\"solid\"},\"mode\":\"lines\",\"name\":\"30-May-20\",\"showlegend\":true,\"type\":\"scattergl\",\"x\":[\"30-May-20\",\"30-May-20\",\"30-May-20\",\"30-May-20\",\"30-May-20\",\"30-May-20\",\"30-May-20\",\"30-May-20\",\"30-May-20\",\"30-May-20\"],\"xaxis\":\"x\",\"y\":[55,2,229,621,40,103,10,1084,73,195],\"yaxis\":\"y\"},{\"hovertemplate\":\"Date=%{x}<br>Recovered=%{y}<extra></extra>\",\"legendgroup\":\"31-Jul-20\",\"line\":{\"color\":\"#649d66\",\"dash\":\"solid\"},\"mode\":\"lines\",\"name\":\"31-Jul-20\",\"showlegend\":true,\"type\":\"scattergl\",\"x\":[\"31-Jul-20\",\"31-Jul-20\",\"31-Jul-20\",\"31-Jul-20\",\"31-Jul-20\",\"31-Jul-20\",\"31-Jul-20\",\"31-Jul-20\",\"31-Jul-20\",\"31-Jul-20\"],\"xaxis\":\"x\",\"y\":[3840,309,1206,833,167,3094,864,7543,772,2118],\"yaxis\":\"y\"},{\"hovertemplate\":\"Date=%{x}<br>Recovered=%{y}<extra></extra>\",\"legendgroup\":\"31-Mar-20\",\"line\":{\"color\":\"#649d66\",\"dash\":\"solid\"},\"mode\":\"lines\",\"name\":\"31-Mar-20\",\"showlegend\":true,\"type\":\"scattergl\",\"x\":[\"31-Mar-20\",\"31-Mar-20\",\"31-Mar-20\",\"31-Mar-20\",\"31-Mar-20\",\"31-Mar-20\",\"31-Mar-20\",\"31-Mar-20\",\"31-Mar-20\",\"31-Mar-20\"],\"xaxis\":\"x\",\"y\":[0,2,0,2,0,2,4,0,0,3],\"yaxis\":\"y\"},{\"hovertemplate\":\"Date=%{x}<br>Recovered=%{y}<extra></extra>\",\"legendgroup\":\"31-May-20\",\"line\":{\"color\":\"#649d66\",\"dash\":\"solid\"},\"mode\":\"lines\",\"name\":\"31-May-20\",\"showlegend\":true,\"type\":\"scattergl\",\"x\":[\"31-May-20\",\"31-May-20\",\"31-May-20\",\"31-May-20\",\"31-May-20\",\"31-May-20\",\"31-May-20\",\"31-May-20\",\"31-May-20\"],\"xaxis\":\"x\",\"y\":[51,12,403,689,0,221,15,1248,76],\"yaxis\":\"y\"},{\"hovertemplate\":\"Date=%{x}<br>Recovered=%{y}<extra></extra>\",\"legendgroup\":\"28-Feb-21\",\"line\":{\"color\":\"#649d66\",\"dash\":\"solid\"},\"mode\":\"lines\",\"name\":\"28-Feb-21\",\"showlegend\":true,\"type\":\"scattergl\",\"x\":[\"28-Feb-21\"],\"xaxis\":\"x\",\"y\":[187],\"yaxis\":\"y\"}],                        {\"legend\":{\"title\":{\"text\":\"Date\"},\"tracegroupgap\":0},\"margin\":{\"t\":60},\"template\":{\"data\":{\"bar\":[{\"error_x\":{\"color\":\"#2a3f5f\"},\"error_y\":{\"color\":\"#2a3f5f\"},\"marker\":{\"line\":{\"color\":\"#E5ECF6\",\"width\":0.5},\"pattern\":{\"fillmode\":\"overlay\",\"size\":10,\"solidity\":0.2}},\"type\":\"bar\"}],\"barpolar\":[{\"marker\":{\"line\":{\"color\":\"#E5ECF6\",\"width\":0.5},\"pattern\":{\"fillmode\":\"overlay\",\"size\":10,\"solidity\":0.2}},\"type\":\"barpolar\"}],\"carpet\":[{\"aaxis\":{\"endlinecolor\":\"#2a3f5f\",\"gridcolor\":\"white\",\"linecolor\":\"white\",\"minorgridcolor\":\"white\",\"startlinecolor\":\"#2a3f5f\"},\"baxis\":{\"endlinecolor\":\"#2a3f5f\",\"gridcolor\":\"white\",\"linecolor\":\"white\",\"minorgridcolor\":\"white\",\"startlinecolor\":\"#2a3f5f\"},\"type\":\"carpet\"}],\"choropleth\":[{\"colorbar\":{\"outlinewidth\":0,\"ticks\":\"\"},\"type\":\"choropleth\"}],\"contour\":[{\"colorbar\":{\"outlinewidth\":0,\"ticks\":\"\"},\"colorscale\":[[0.0,\"#0d0887\"],[0.1111111111111111,\"#46039f\"],[0.2222222222222222,\"#7201a8\"],[0.3333333333333333,\"#9c179e\"],[0.4444444444444444,\"#bd3786\"],[0.5555555555555556,\"#d8576b\"],[0.6666666666666666,\"#ed7953\"],[0.7777777777777778,\"#fb9f3a\"],[0.8888888888888888,\"#fdca26\"],[1.0,\"#f0f921\"]],\"type\":\"contour\"}],\"contourcarpet\":[{\"colorbar\":{\"outlinewidth\":0,\"ticks\":\"\"},\"type\":\"contourcarpet\"}],\"heatmap\":[{\"colorbar\":{\"outlinewidth\":0,\"ticks\":\"\"},\"colorscale\":[[0.0,\"#0d0887\"],[0.1111111111111111,\"#46039f\"],[0.2222222222222222,\"#7201a8\"],[0.3333333333333333,\"#9c179e\"],[0.4444444444444444,\"#bd3786\"],[0.5555555555555556,\"#d8576b\"],[0.6666666666666666,\"#ed7953\"],[0.7777777777777778,\"#fb9f3a\"],[0.8888888888888888,\"#fdca26\"],[1.0,\"#f0f921\"]],\"type\":\"heatmap\"}],\"heatmapgl\":[{\"colorbar\":{\"outlinewidth\":0,\"ticks\":\"\"},\"colorscale\":[[0.0,\"#0d0887\"],[0.1111111111111111,\"#46039f\"],[0.2222222222222222,\"#7201a8\"],[0.3333333333333333,\"#9c179e\"],[0.4444444444444444,\"#bd3786\"],[0.5555555555555556,\"#d8576b\"],[0.6666666666666666,\"#ed7953\"],[0.7777777777777778,\"#fb9f3a\"],[0.8888888888888888,\"#fdca26\"],[1.0,\"#f0f921\"]],\"type\":\"heatmapgl\"}],\"histogram\":[{\"marker\":{\"pattern\":{\"fillmode\":\"overlay\",\"size\":10,\"solidity\":0.2}},\"type\":\"histogram\"}],\"histogram2d\":[{\"colorbar\":{\"outlinewidth\":0,\"ticks\":\"\"},\"colorscale\":[[0.0,\"#0d0887\"],[0.1111111111111111,\"#46039f\"],[0.2222222222222222,\"#7201a8\"],[0.3333333333333333,\"#9c179e\"],[0.4444444444444444,\"#bd3786\"],[0.5555555555555556,\"#d8576b\"],[0.6666666666666666,\"#ed7953\"],[0.7777777777777778,\"#fb9f3a\"],[0.8888888888888888,\"#fdca26\"],[1.0,\"#f0f921\"]],\"type\":\"histogram2d\"}],\"histogram2dcontour\":[{\"colorbar\":{\"outlinewidth\":0,\"ticks\":\"\"},\"colorscale\":[[0.0,\"#0d0887\"],[0.1111111111111111,\"#46039f\"],[0.2222222222222222,\"#7201a8\"],[0.3333333333333333,\"#9c179e\"],[0.4444444444444444,\"#bd3786\"],[0.5555555555555556,\"#d8576b\"],[0.6666666666666666,\"#ed7953\"],[0.7777777777777778,\"#fb9f3a\"],[0.8888888888888888,\"#fdca26\"],[1.0,\"#f0f921\"]],\"type\":\"histogram2dcontour\"}],\"mesh3d\":[{\"colorbar\":{\"outlinewidth\":0,\"ticks\":\"\"},\"type\":\"mesh3d\"}],\"parcoords\":[{\"line\":{\"colorbar\":{\"outlinewidth\":0,\"ticks\":\"\"}},\"type\":\"parcoords\"}],\"pie\":[{\"automargin\":true,\"type\":\"pie\"}],\"scatter\":[{\"marker\":{\"colorbar\":{\"outlinewidth\":0,\"ticks\":\"\"}},\"type\":\"scatter\"}],\"scatter3d\":[{\"line\":{\"colorbar\":{\"outlinewidth\":0,\"ticks\":\"\"}},\"marker\":{\"colorbar\":{\"outlinewidth\":0,\"ticks\":\"\"}},\"type\":\"scatter3d\"}],\"scattercarpet\":[{\"marker\":{\"colorbar\":{\"outlinewidth\":0,\"ticks\":\"\"}},\"type\":\"scattercarpet\"}],\"scattergeo\":[{\"marker\":{\"colorbar\":{\"outlinewidth\":0,\"ticks\":\"\"}},\"type\":\"scattergeo\"}],\"scattergl\":[{\"marker\":{\"colorbar\":{\"outlinewidth\":0,\"ticks\":\"\"}},\"type\":\"scattergl\"}],\"scattermapbox\":[{\"marker\":{\"colorbar\":{\"outlinewidth\":0,\"ticks\":\"\"}},\"type\":\"scattermapbox\"}],\"scatterpolar\":[{\"marker\":{\"colorbar\":{\"outlinewidth\":0,\"ticks\":\"\"}},\"type\":\"scatterpolar\"}],\"scatterpolargl\":[{\"marker\":{\"colorbar\":{\"outlinewidth\":0,\"ticks\":\"\"}},\"type\":\"scatterpolargl\"}],\"scatterternary\":[{\"marker\":{\"colorbar\":{\"outlinewidth\":0,\"ticks\":\"\"}},\"type\":\"scatterternary\"}],\"surface\":[{\"colorbar\":{\"outlinewidth\":0,\"ticks\":\"\"},\"colorscale\":[[0.0,\"#0d0887\"],[0.1111111111111111,\"#46039f\"],[0.2222222222222222,\"#7201a8\"],[0.3333333333333333,\"#9c179e\"],[0.4444444444444444,\"#bd3786\"],[0.5555555555555556,\"#d8576b\"],[0.6666666666666666,\"#ed7953\"],[0.7777777777777778,\"#fb9f3a\"],[0.8888888888888888,\"#fdca26\"],[1.0,\"#f0f921\"]],\"type\":\"surface\"}],\"table\":[{\"cells\":{\"fill\":{\"color\":\"#EBF0F8\"},\"line\":{\"color\":\"white\"}},\"header\":{\"fill\":{\"color\":\"#C8D4E3\"},\"line\":{\"color\":\"white\"}},\"type\":\"table\"}]},\"layout\":{\"annotationdefaults\":{\"arrowcolor\":\"#2a3f5f\",\"arrowhead\":0,\"arrowwidth\":1},\"autotypenumbers\":\"strict\",\"coloraxis\":{\"colorbar\":{\"outlinewidth\":0,\"ticks\":\"\"}},\"colorscale\":{\"diverging\":[[0,\"#8e0152\"],[0.1,\"#c51b7d\"],[0.2,\"#de77ae\"],[0.3,\"#f1b6da\"],[0.4,\"#fde0ef\"],[0.5,\"#f7f7f7\"],[0.6,\"#e6f5d0\"],[0.7,\"#b8e186\"],[0.8,\"#7fbc41\"],[0.9,\"#4d9221\"],[1,\"#276419\"]],\"sequential\":[[0.0,\"#0d0887\"],[0.1111111111111111,\"#46039f\"],[0.2222222222222222,\"#7201a8\"],[0.3333333333333333,\"#9c179e\"],[0.4444444444444444,\"#bd3786\"],[0.5555555555555556,\"#d8576b\"],[0.6666666666666666,\"#ed7953\"],[0.7777777777777778,\"#fb9f3a\"],[0.8888888888888888,\"#fdca26\"],[1.0,\"#f0f921\"]],\"sequentialminus\":[[0.0,\"#0d0887\"],[0.1111111111111111,\"#46039f\"],[0.2222222222222222,\"#7201a8\"],[0.3333333333333333,\"#9c179e\"],[0.4444444444444444,\"#bd3786\"],[0.5555555555555556,\"#d8576b\"],[0.6666666666666666,\"#ed7953\"],[0.7777777777777778,\"#fb9f3a\"],[0.8888888888888888,\"#fdca26\"],[1.0,\"#f0f921\"]]},\"colorway\":[\"#636efa\",\"#EF553B\",\"#00cc96\",\"#ab63fa\",\"#FFA15A\",\"#19d3f3\",\"#FF6692\",\"#B6E880\",\"#FF97FF\",\"#FECB52\"],\"font\":{\"color\":\"#2a3f5f\"},\"geo\":{\"bgcolor\":\"white\",\"lakecolor\":\"white\",\"landcolor\":\"#E5ECF6\",\"showlakes\":true,\"showland\":true,\"subunitcolor\":\"white\"},\"hoverlabel\":{\"align\":\"left\"},\"hovermode\":\"closest\",\"mapbox\":{\"style\":\"light\"},\"paper_bgcolor\":\"white\",\"plot_bgcolor\":\"#E5ECF6\",\"polar\":{\"angularaxis\":{\"gridcolor\":\"white\",\"linecolor\":\"white\",\"ticks\":\"\"},\"bgcolor\":\"#E5ECF6\",\"radialaxis\":{\"gridcolor\":\"white\",\"linecolor\":\"white\",\"ticks\":\"\"}},\"scene\":{\"xaxis\":{\"backgroundcolor\":\"#E5ECF6\",\"gridcolor\":\"white\",\"gridwidth\":2,\"linecolor\":\"white\",\"showbackground\":true,\"ticks\":\"\",\"zerolinecolor\":\"white\"},\"yaxis\":{\"backgroundcolor\":\"#E5ECF6\",\"gridcolor\":\"white\",\"gridwidth\":2,\"linecolor\":\"white\",\"showbackground\":true,\"ticks\":\"\",\"zerolinecolor\":\"white\"},\"zaxis\":{\"backgroundcolor\":\"#E5ECF6\",\"gridcolor\":\"white\",\"gridwidth\":2,\"linecolor\":\"white\",\"showbackground\":true,\"ticks\":\"\",\"zerolinecolor\":\"white\"}},\"shapedefaults\":{\"line\":{\"color\":\"#2a3f5f\"}},\"ternary\":{\"aaxis\":{\"gridcolor\":\"white\",\"linecolor\":\"white\",\"ticks\":\"\"},\"baxis\":{\"gridcolor\":\"white\",\"linecolor\":\"white\",\"ticks\":\"\"},\"bgcolor\":\"#E5ECF6\",\"caxis\":{\"gridcolor\":\"white\",\"linecolor\":\"white\",\"ticks\":\"\"}},\"title\":{\"x\":0.05},\"xaxis\":{\"automargin\":true,\"gridcolor\":\"white\",\"linecolor\":\"white\",\"ticks\":\"\",\"title\":{\"standoff\":15},\"zerolinecolor\":\"white\",\"zerolinewidth\":2},\"yaxis\":{\"automargin\":true,\"gridcolor\":\"white\",\"linecolor\":\"white\",\"ticks\":\"\",\"title\":{\"standoff\":15},\"zerolinecolor\":\"white\",\"zerolinewidth\":2}}},\"title\":{\"text\":\"Recovery COVID-19 cases in 12 months\"},\"xaxis\":{\"anchor\":\"y\",\"categoryarray\":[\"1-Apr-20\",\"1-Sep-20\",\"1-Oct-20\",\"1-Nov-20\",\"1-Aug-20\",\"1-Jul-20\",\"1-Jun-20\",\"1-May-20\",\"2-Apr-20\",\"2-Aug-20\",\"2-Jan-21\",\"2-Jun-21\",\"2-Mar-21\",\"2-Jul-20\",\"2-Jun-20\",\"2-May-20\",\"3-Apr-20\",\"3-Aug-20\",\"3-Jul-20\",\"3-Jun-20\",\"3-May-20\",\"4-Apr-20\",\"4-Aug-20\",\"4-Jul-20\",\"4-Jun-20\",\"4-May-20\",\"5-Apr-20\",\"5-Aug-20\",\"5-Jul-20\",\"5-Jun-20\",\"5-May-20\",\"6-Apr-20\",\"6-Aug-20\",\"6-Jul-20\",\"6-Jun-20\",\"6-May-20\",\"7-Apr-20\",\"7-Jul-20\",\"7-Jun-20\",\"7-May-20\",\"8-Apr-20\",\"8-Jul-20\",\"8-Jun-20\",\"8-May-20\",\"9-Apr-20\",\"9-Jul-20\",\"9-Jun-20\",\"9-May-21\",\"10-Apr-20\",\"10-Jul-20\",\"10-Jun-20\",\"10-May-20\",\"11-Apr-20\",\"11-Jul-20\",\"11-Jun-20\",\"11-May-20\",\"12-Apr-20\",\"12-Jul-20\",\"12-Jun-20\",\"12-May-20\",\"13-Apr-20\",\"13-Jul-20\",\"13-Jun-20\",\"13-May-20\",\"14-Apr-20\",\"14-Jul-20\",\"14-Jun-20\",\"14-Mar-20\",\"14-May-20\",\"15-Apr-20\",\"15-Jul-20\",\"15-Jun-20\",\"15-Mar-20\",\"15-May-20\",\"16-Apr-20\",\"16-Jul-20\",\"16-Jun-20\",\"16-Mar-20\",\"16-May-20\",\"17-Apr-20\",\"17-Jul-20\",\"17-Jun-20\",\"17-Mar-20\",\"17-May-20\",\"18-Apr-20\",\"18-Jul-20\",\"18-Jun-20\",\"18-Mar-20\",\"18-May-20\",\"19-Apr-20\",\"19-Jul-20\",\"19-Jun-20\",\"19-Mar-20\",\"19-May-20\",\"20-Apr-20\",\"20-Jul-20\",\"20-Jun-20\",\"20-Mar-20\",\"20-May-20\",\"21-Apr-20\",\"21-Jul-20\",\"21-Jun-20\",\"21-Mar-20\",\"21-May-20\",\"22-Apr-20\",\"22-Jul-20\",\"22-Jun-20\",\"22-Mar-20\",\"22-May-20\",\"23-Apr-20\",\"23-Jul-20\",\"23-Jun-20\",\"23-Mar-20\",\"23-May-20\",\"24-Apr-20\",\"24-Jul-20\",\"24-Jun-20\",\"24-Mar-20\",\"24-May-20\",\"25-Apr-20\",\"25-Jul-20\",\"25-Jun-20\",\"25-Mar-20\",\"25-May-20\",\"26-Apr-20\",\"26-Jul-20\",\"26-Jun-20\",\"26-Mar-20\",\"26-May-20\",\"27-Apr-20\",\"27-Jul-20\",\"27-Jun-20\",\"27-Mar-20\",\"27-May-20\",\"28-Apr-20\",\"28-Jul-20\",\"28-Jun-20\",\"28-Mar-20\",\"28-May-20\",\"29-Apr-20\",\"29-Jul-20\",\"29-Jun-20\",\"29-Mar-20\",\"29-May-20\",\"30-Apr-20\",\"30-Jul-20\",\"30-Jun-20\",\"30-Mar-20\",\"30-May-20\",\"31-Jul-20\",\"31-Mar-20\",\"31-May-20\",\"28-Feb-21\"],\"categoryorder\":\"array\",\"domain\":[0.0,1.0],\"title\":{\"text\":\"Date\"}},\"yaxis\":{\"anchor\":\"x\",\"domain\":[0.0,1.0],\"title\":{\"text\":\"Recovered\"}}},                        {\"responsive\": true}                    ).then(function(){\n",
       "                            \n",
       "var gd = document.getElementById('ca99eb3d-ad95-4c2d-9e72-e6a1b7840d93');\n",
       "var x = new MutationObserver(function (mutations, observer) {{\n",
       "        var display = window.getComputedStyle(gd).display;\n",
       "        if (!display || display === 'none') {{\n",
       "            console.log([gd, 'removed!']);\n",
       "            Plotly.purge(gd);\n",
       "            observer.disconnect();\n",
       "        }}\n",
       "}});\n",
       "\n",
       "// Listen for the removal of the full notebook cells\n",
       "var notebookContainer = gd.closest('#notebook-container');\n",
       "if (notebookContainer) {{\n",
       "    x.observe(notebookContainer, {childList: true});\n",
       "}}\n",
       "\n",
       "// Listen for the clearing of the current output cell\n",
       "var outputEl = gd.closest('.output');\n",
       "if (outputEl) {{\n",
       "    x.observe(outputEl, {childList: true});\n",
       "}}\n",
       "\n",
       "                        })                };                });            </script>        </div>"
      ]
     },
     "metadata": {},
     "output_type": "display_data"
    }
   ],
   "source": [
    "fig = px.line(covid_df1, x='Date', y='Recovered', \n",
    "             color=\"Date\", color_discrete_sequence=['#649d66'])\n",
    "fig.update_layout(title_text='Recovery COVID-19 cases in 12 months')\n",
    "fig.show()"
   ]
  }
 ],
 "metadata": {
  "kernelspec": {
   "display_name": "Python 3",
   "language": "python",
   "name": "python3"
  },
  "language_info": {
   "codemirror_mode": {
    "name": "ipython",
    "version": 3
   },
   "file_extension": ".py",
   "mimetype": "text/x-python",
   "name": "python",
   "nbconvert_exporter": "python",
   "pygments_lexer": "ipython3",
   "version": "3.8.5"
  }
 },
 "nbformat": 4,
 "nbformat_minor": 4
}
