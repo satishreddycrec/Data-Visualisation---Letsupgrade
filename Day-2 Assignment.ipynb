{
 "cells": [
  {
   "cell_type": "markdown",
   "metadata": {},
   "source": [
    "### Day-2 Assignment"
   ]
  },
  {
   "cell_type": "markdown",
   "metadata": {},
   "source": [
    "##### Q) Create a Dataframe with 10 rows on random numbers and 4 columns, (columns labelled as a,b,c,d) and plot a Bar chart"
   ]
  },
  {
   "cell_type": "code",
   "execution_count": 5,
   "metadata": {},
   "outputs": [],
   "source": [
    "# Import Libraries\n",
    "import numpy as np\n",
    "from numpy.random import randn, randint, uniform, sample\n",
    "\n",
    "import pandas as pd\n",
    "import seaborn as sns\n",
    "\n",
    "import matplotlib as mpl\n",
    "import matplotlib.pyplot as plt\n",
    "%matplotlib inline"
   ]
  },
  {
   "cell_type": "code",
   "execution_count": 7,
   "metadata": {},
   "outputs": [
    {
     "data": {
      "text/html": [
       "<div>\n",
       "<style scoped>\n",
       "    .dataframe tbody tr th:only-of-type {\n",
       "        vertical-align: middle;\n",
       "    }\n",
       "\n",
       "    .dataframe tbody tr th {\n",
       "        vertical-align: top;\n",
       "    }\n",
       "\n",
       "    .dataframe thead th {\n",
       "        text-align: right;\n",
       "    }\n",
       "</style>\n",
       "<table border=\"1\" class=\"dataframe\">\n",
       "  <thead>\n",
       "    <tr style=\"text-align: right;\">\n",
       "      <th></th>\n",
       "      <th>a</th>\n",
       "      <th>b</th>\n",
       "      <th>c</th>\n",
       "      <th>d</th>\n",
       "    </tr>\n",
       "  </thead>\n",
       "  <tbody>\n",
       "    <tr>\n",
       "      <th>0</th>\n",
       "      <td>-0.070485</td>\n",
       "      <td>2.353768</td>\n",
       "      <td>0.232784</td>\n",
       "      <td>0.860584</td>\n",
       "    </tr>\n",
       "    <tr>\n",
       "      <th>1</th>\n",
       "      <td>-0.747919</td>\n",
       "      <td>-0.198369</td>\n",
       "      <td>-0.921740</td>\n",
       "      <td>-0.623633</td>\n",
       "    </tr>\n",
       "    <tr>\n",
       "      <th>2</th>\n",
       "      <td>0.095514</td>\n",
       "      <td>0.047092</td>\n",
       "      <td>-0.951532</td>\n",
       "      <td>1.929534</td>\n",
       "    </tr>\n",
       "    <tr>\n",
       "      <th>3</th>\n",
       "      <td>1.324389</td>\n",
       "      <td>0.048331</td>\n",
       "      <td>0.750468</td>\n",
       "      <td>-1.100566</td>\n",
       "    </tr>\n",
       "    <tr>\n",
       "      <th>4</th>\n",
       "      <td>-2.274208</td>\n",
       "      <td>0.080885</td>\n",
       "      <td>-1.344246</td>\n",
       "      <td>0.792218</td>\n",
       "    </tr>\n",
       "    <tr>\n",
       "      <th>5</th>\n",
       "      <td>1.398670</td>\n",
       "      <td>1.258823</td>\n",
       "      <td>-1.659462</td>\n",
       "      <td>-0.508955</td>\n",
       "    </tr>\n",
       "    <tr>\n",
       "      <th>6</th>\n",
       "      <td>0.010488</td>\n",
       "      <td>2.396586</td>\n",
       "      <td>0.716072</td>\n",
       "      <td>0.695599</td>\n",
       "    </tr>\n",
       "    <tr>\n",
       "      <th>7</th>\n",
       "      <td>2.019935</td>\n",
       "      <td>0.989976</td>\n",
       "      <td>0.986282</td>\n",
       "      <td>0.918386</td>\n",
       "    </tr>\n",
       "    <tr>\n",
       "      <th>8</th>\n",
       "      <td>0.033258</td>\n",
       "      <td>-0.224609</td>\n",
       "      <td>-1.843376</td>\n",
       "      <td>-0.787833</td>\n",
       "    </tr>\n",
       "    <tr>\n",
       "      <th>9</th>\n",
       "      <td>0.079664</td>\n",
       "      <td>1.117223</td>\n",
       "      <td>2.090111</td>\n",
       "      <td>-1.386531</td>\n",
       "    </tr>\n",
       "  </tbody>\n",
       "</table>\n",
       "</div>"
      ],
      "text/plain": [
       "          a         b         c         d\n",
       "0 -0.070485  2.353768  0.232784  0.860584\n",
       "1 -0.747919 -0.198369 -0.921740 -0.623633\n",
       "2  0.095514  0.047092 -0.951532  1.929534\n",
       "3  1.324389  0.048331  0.750468 -1.100566\n",
       "4 -2.274208  0.080885 -1.344246  0.792218\n",
       "5  1.398670  1.258823 -1.659462 -0.508955\n",
       "6  0.010488  2.396586  0.716072  0.695599\n",
       "7  2.019935  0.989976  0.986282  0.918386\n",
       "8  0.033258 -0.224609 -1.843376 -0.787833\n",
       "9  0.079664  1.117223  2.090111 -1.386531"
      ]
     },
     "execution_count": 7,
     "metadata": {},
     "output_type": "execute_result"
    }
   ],
   "source": [
    "df=pd.DataFrame(randn(10,4),columns=['a','b','c','d'])\n",
    "df"
   ]
  },
  {
   "cell_type": "code",
   "execution_count": 13,
   "metadata": {},
   "outputs": [
    {
     "data": {
      "image/png": "[encoded data removed]",
      "text/plain": [
       "<Figure size 864x720 with 1 Axes>"
      ]
     },
     "metadata": {
      "needs_background": "light"
     },
     "output_type": "display_data"
    }
   ],
   "source": [
    "df.plot(kind = 'bar', figsize = (12,10), width =3)\n",
    "plt.title('My Bar Graph')\n",
    "plt.show()"
   ]
  }
 ],
 "metadata": {
  "kernelspec": {
   "display_name": "Python 3",
   "language": "python",
   "name": "python3"
  },
  "language_info": {
   "codemirror_mode": {
    "name": "ipython",
    "version": 3
   },
   "file_extension": ".py",
   "mimetype": "text/x-python",
   "name": "python",
   "nbconvert_exporter": "python",
   "pygments_lexer": "ipython3",
   "version": "3.8.5"
  }
 },
 "nbformat": 4,
 "nbformat_minor": 4
}
